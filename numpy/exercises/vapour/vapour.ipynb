{
 "cells": [
  {
   "cell_type": "markdown",
   "metadata": {},
   "source": [
    "# Vapour Pressure and Density\n",
    "The pressure and density of saturated water vapour as a function of temperature is listed in *Formulae, Tables, Concept* (p 192)."
   ]
  },
  {
   "cell_type": "code",
   "execution_count": null,
   "metadata": {},
   "outputs": [],
   "source": [
    "import numpy as np\n",
    "\n",
    "# read tabulated values\n",
    "# temperature in °C, pressure in kPa, density in kg/m^3\n",
    "temperature, pressure, density = np.loadtxt('vapour.txt', delimiter=',', skiprows=1, unpack=True)"
   ]
  },
  {
   "cell_type": "markdown",
   "metadata": {},
   "source": [
    "#### Interpolating values\n",
    "Find the interpolated value for\n",
    "- the vapour pressure at 115°C.\n",
    "- the vapour saturation density at 37°C.\n",
    "- the temperature for a vapour pressure of 0.8 bar.\n",
    "- the vapour pressure at a saturation density of 250 g/cm^3"
   ]
  },
  {
   "cell_type": "code",
   "execution_count": null,
   "metadata": {},
   "outputs": [],
   "source": []
  },
  {
   "cell_type": "markdown",
   "metadata": {},
   "source": [
    "#### Relative humidity\n",
    "The relative humidity is the ratio of the current density of water vapour in air to the saturation density at the current temperature. Define a function that calculates the relative humidity for given vapour density and temperature."
   ]
  },
  {
   "cell_type": "code",
   "execution_count": null,
   "metadata": {},
   "outputs": [],
   "source": []
  },
  {
   "cell_type": "markdown",
   "metadata": {},
   "source": [
    "As an example, calculate the relative humidity in a room with volume 75 m^3 containing 530 g of water vapour at a temperature of 21°C."
   ]
  },
  {
   "cell_type": "code",
   "execution_count": null,
   "metadata": {},
   "outputs": [],
   "source": []
  },
  {
   "cell_type": "code",
   "execution_count": null,
   "metadata": {},
   "outputs": [],
   "source": []
  }
 ],
 "metadata": {
  "language_info": {
   "name": "python",
   "pygments_lexer": "ipython3"
  }
 },
 "nbformat": 4,
 "nbformat_minor": 2
}
