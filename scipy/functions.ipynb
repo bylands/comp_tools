{
 "cells": [
  {
   "cell_type": "markdown",
   "id": "119c06dd-0f00-4a3e-9716-d82658753776",
   "metadata": {},
   "source": [
    "# Functions\n",
    "*SciPy* ([scipy.org](https://scipy.org/)) provides methods to efficiently calculate zeros or extrema of functions (numerically). It also knows about a large number of special function used in various areas of mathematics and physics."
   ]
  },
  {
   "cell_type": "markdown",
   "id": "fcabe657-c06c-41ab-af72-653182da6578",
   "metadata": {},
   "source": [
    "## Finding root of function\n",
    "Many equations cannot be solved analytically, e.g. if trigonometric functions are involved. It is still possible to calculate a numerical solution using an appropriate algorithm.\n",
    "\n",
    "As an example, we are going to find the nontrivial solution for the equation\n",
    "\n",
    "$\\sin(x) = \\frac{1}{2} x$\n",
    "\n",
    "This is equivalent to finding a *root* (i.e. zero) of the function\n",
    "$f(x) = \\sin(x) - \\frac{1}{2}$\n",
    "\n",
    "In addition to the function, an initial guess for the root has to be provided (e.g. found from a sketch)."
   ]
  },
  {
   "cell_type": "code",
   "execution_count": null,
   "id": "527e911f-2120-4c22-8d4e-8d43e7b63bfc",
   "metadata": {},
   "outputs": [],
   "source": [
    "import matplotlib.pyplot as plt\n",
    "\n",
    "import numpy as np\n",
    "from scipy.optimize import root_scalar\n",
    "\n",
    "\n",
    "# define function\n",
    "def f(x):\n",
    "    return np.sin(x) - x/2\n",
    "\n",
    "sol = root_scalar(f, x0=2) # find root with initial guess x=2\n",
    "\n",
    "solx = sol.root\n",
    "soly = solx/2\n",
    "\n",
    "x = np.linspace(0, np.pi, 100)\n",
    "y = np.sin(x)\n",
    "\n",
    "plt.plot(x, y, label=r'$f(x)=\\sin(x)$')\n",
    "plt.plot(x, x/2, label=r'$g(x)=\\frac{x}{2}$')\n",
    "plt.scatter(solx, soly, c='red')\n",
    "plt.legend()\n",
    "plt.grid()\n",
    "plt.show()"
   ]
  },
  {
   "cell_type": "markdown",
   "id": "591eb39b",
   "metadata": {},
   "source": [
    "## Finding minimum or maximum\n",
    "The method *scipy.fmin()* numerically calculates the (local) minimum of a function near an initial guess. The same method can be used to find a maximum if applied to *-f(x)* instead of *f(x)*."
   ]
  },
  {
   "cell_type": "code",
   "execution_count": null,
   "id": "8e93e1c5",
   "metadata": {},
   "outputs": [],
   "source": [
    "from scipy.optimize import fmin\n",
    "\n",
    "# define function\n",
    "def g(x):\n",
    "    return np.sin(x**2) * np.exp(-x/3)\n",
    "\n",
    "sol = fmin(g, x0=2, disp=False) # find minimum with initial guess x=2\n",
    "\n",
    "x_min = sol[0]\n",
    "y_min = g(x_min)\n",
    "\n",
    "x = np.linspace(0, 2*np.pi, 500)\n",
    "print(f'minimum at x={x_min:.3f}, g(x)={y_min:.3f}')\n",
    "\n",
    "sol2 = fmin(lambda x: -g(x), x0=1, disp=False) # find maximum with initial guess x=1\n",
    "\n",
    "x_max = sol2[0]\n",
    "y_max = g(x_max)\n",
    "\n",
    "print(f'maximum at x={x_max:.3f}, g(x)={y_max:.3f}')\n",
    "\n",
    "plt.plot(x, g(x), label=r'$g(x)$')\n",
    "plt.scatter(x_min, y_min, c='green', label='minimum')\n",
    "plt.scatter(x_max, y_max, c='red', label='maximum')\n",
    "plt.legend()\n",
    "plt.grid\n",
    "plt.show()"
   ]
  },
  {
   "cell_type": "markdown",
   "id": "12ee6d25-2aeb-4182-8edf-d520348bf738",
   "metadata": {},
   "source": [
    "## Special functions\n",
    "There are a lot of special functions used in science whose values cannot be calculated easily, e.g. Elliptic functions, Bessel functions, etc.\n",
    "\n",
    "As an example we use a special function in SciPy to calculate the area under the Gaussian function (normal distribution):\n",
    "\n",
    "$P(x) = \\frac{1}{\\sqrt{2\\pi}} \\int_{-\\infty}^x \\exp(-t^2/2) dt$"
   ]
  },
  {
   "cell_type": "code",
   "execution_count": null,
   "id": "25b0566c-4c04-484c-adec-b379b9ff7c04",
   "metadata": {},
   "outputs": [],
   "source": [
    "from scipy.special import ndtr\n",
    "\n",
    "print(f'A(0.5) = {ndtr(-0.2)}')\n",
    "\n",
    "A = ndtr(1) - ndtr(-1) # area between x1 = -1 and x2 = +1\n",
    "print(f'area between -1 and 1: A = {A}') # (corresponds to ± 1 standard deviation)"
   ]
  }
 ],
 "metadata": {
  "language_info": {
   "name": "python",
   "pygments_lexer": "ipython3"
  }
 },
 "nbformat": 4,
 "nbformat_minor": 5
}
