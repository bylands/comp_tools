{
 "cells": [
  {
   "cell_type": "markdown",
   "id": "18c944aa-4e53-49fa-9a33-c98e3e6cc5e0",
   "metadata": {},
   "source": [
    "# Exercises: Data Analysis with Python"
   ]
  },
  {
   "cell_type": "code",
   "execution_count": null,
   "id": "88ba68e1-11e0-46e8-a01f-3a6820967d15",
   "metadata": {},
   "outputs": [],
   "source": [
    "import numpy as np\n",
    "import polars as pl\n",
    "import matplotlib.pyplot as plt"
   ]
  },
  {
   "cell_type": "markdown",
   "id": "d0426f63-14f2-43a4-94b8-bb97e5d5922d",
   "metadata": {},
   "source": [
    "# Minor Planets\n",
    "You are going to analyse the orbital data for some 1.5 million minor planets in our solar system using polars ([pola.rs](https://pola.rs/)), a fast and efficient library to work with large datasets."
   ]
  },
  {
   "cell_type": "markdown",
   "id": "dd2a9223-c4d2-4c37-9b69-520b938d5f53",
   "metadata": {},
   "source": [
    "#### Reading data\n",
    "The code segment below reads the data from a text file. The format of the data in the text file is described in https://minorplanetcenter.net/iau/info/MPOrbitFormat.html. We are only interested in two columns, the eccentricity and the semi-major axis."
   ]
  },
  {
   "cell_type": "code",
   "execution_count": null,
   "id": "efdc29c1-5d55-4979-9ed0-bf15fc0f538d",
   "metadata": {},
   "outputs": [],
   "source": [
    "mp = pl.read_csv(\n",
    "    \"data/mpcorb.txt\",\n",
    "    has_header = False,\n",
    "    skip_rows = 45,\n",
    "    new_columns = ['full_str']\n",
    ")\n",
    "\n",
    "column_names = [ 'ecc', 'a' ] # major semi axis\n",
    "\n",
    "slice_tuples = [(71, 9), (93, 11)]\n",
    "\n",
    "data = mp.with_columns(\n",
    "    [\n",
    "        pl.col('full_str').str.slice(slice_tuple[0], slice_tuple[1]).str.strip_chars().cast(pl.Float32).alias(col)\n",
    "        for slice_tuple, col in zip(slice_tuples, column_names)\n",
    "    ]\n",
    ").drop('full_str')"
   ]
  },
  {
   "cell_type": "markdown",
   "id": "9537e324-7e31-422b-844f-ea8fa1d92823",
   "metadata": {},
   "source": [
    "#### Histograms\n",
    "Make a histogram of the minor planets with a distance of up to 6 astronomical units from the sun. Add vertical lines at the positions of the first six planets (Mercury to Jupiter)."
   ]
  },
  {
   "cell_type": "code",
   "execution_count": null,
   "id": "ca1c5ade-81cc-42fe-b64e-1438b6da27ef",
   "metadata": {},
   "outputs": [],
   "source": [
    "planets = np.array([0.3871, 0.7233, 1.000, 1.5273, 5.2028, 9.5388])\n",
    "\n",
    "lower = 0\n",
    "upper = 6\n",
    "plot_data = data.filter(pl.col('a') < upper).filter(pl.col('a') > lower)\n",
    "\n",
    "nbins = 1000\n",
    "plt.hist(plot_data.select('a'), bins=nbins, label='minor planets (histogram)')\n",
    "plt.xlabel('semi-major axis (au)')\n",
    "plt.ylabel('frequency')\n",
    "plt.vlines(planets, 0, 1000, color='red', label='position of planets')\n",
    "plt.legend()\n",
    "plt.show()"
   ]
  },
  {
   "cell_type": "markdown",
   "id": "aa8c1bdb-f667-48d7-9917-0a66a9092a3d",
   "metadata": {},
   "source": [
    "Make a histogram for the eccentricities of the minor planets."
   ]
  },
  {
   "cell_type": "code",
   "execution_count": null,
   "id": "86f65ff9-9190-4bd5-9b46-f32967a2f9b7",
   "metadata": {},
   "outputs": [],
   "source": [
    "nbins = 1000\n",
    "plt.hist(data.select('ecc'), bins=nbins)\n",
    "plt.xlabel('eccentricity')\n",
    "plt.ylabel('frequency')\n",
    "plt.show()"
   ]
  },
  {
   "cell_type": "markdown",
   "id": "ea35c6fd-af2a-4e9a-8498-27da97499ca0",
   "metadata": {},
   "source": [
    "Graph the eccentricity vs the semi-major axis for the minor planets."
   ]
  },
  {
   "cell_type": "code",
   "execution_count": null,
   "id": "05355818-7a07-4006-8639-09a8581427ab",
   "metadata": {},
   "outputs": [],
   "source": [
    "lower = 0\n",
    "upper = 6\n",
    "plot_data = data.filter(pl.col('a') < upper).filter(pl.col('a') > lower)\n",
    "\n",
    "plt.scatter(plot_data.select('a'), plot_data.select('ecc'), marker='.')\n",
    "plt.xlabel('major semi-axis (au)')\n",
    "plt.ylabel('eccentricity')\n",
    "plt.show()"
   ]
  },
  {
   "cell_type": "code",
   "execution_count": null,
   "id": "1a587146-2182-4614-8831-add101e0ceb0",
   "metadata": {},
   "outputs": [],
   "source": []
  }
 ],
 "metadata": {
  "language_info": {
   "name": "python",
   "pygments_lexer": "ipython3"
  }
 },
 "nbformat": 4,
 "nbformat_minor": 5
}
