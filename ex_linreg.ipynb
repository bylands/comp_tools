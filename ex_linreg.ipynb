{
 "cells": [
  {
   "cell_type": "markdown",
   "id": "f908e83f-c74d-4df7-bf20-e322c278f67f",
   "metadata": {},
   "source": [
    "# Exercises: Data Analysis with Python"
   ]
  },
  {
   "cell_type": "code",
   "execution_count": null,
   "id": "35652243-4b25-485c-8cfa-ef147037e78a",
   "metadata": {},
   "outputs": [],
   "source": [
    "import numpy as np\n",
    "import matplotlib.pyplot as plt"
   ]
  },
  {
   "cell_type": "markdown",
   "id": "609a54aa-c88a-40e5-9f32-ff10645eef75",
   "metadata": {},
   "source": [
    "## Linear Fit with Trial & Error\n",
    "In this exercise we simulate a simple linear fit algorithm. The idea is to vary the slope and find the value that corresponds to the _least square_."
   ]
  },
  {
   "cell_type": "markdown",
   "id": "d260180d-2132-46a6-8b18-bab235eb2a34",
   "metadata": {},
   "source": [
    "First, we create some fictional data. The y-values linearly depend on x, but with a random perturbation."
   ]
  },
  {
   "cell_type": "code",
   "execution_count": null,
   "id": "624e75ec-bb4f-4c75-b9a0-b80434e7f794",
   "metadata": {},
   "outputs": [],
   "source": [
    "n_points = 10\n",
    "slope = 2\n",
    "noise = 1\n",
    "\n",
    "x = np.arange(n_points)\n",
    "y = slope * x + noise * np.random.rand(n_points)"
   ]
  },
  {
   "cell_type": "markdown",
   "id": "8cc1b517-096f-4f7f-ae39-92c0495a8964",
   "metadata": {},
   "source": [
    "Make a graph of y vs. x."
   ]
  },
  {
   "cell_type": "code",
   "execution_count": null,
   "id": "73fc652e-e920-4acf-b885-027cf21a8817",
   "metadata": {},
   "outputs": [],
   "source": [
    "plt.plot(x, y, '.')\n",
    "plt.xlabel('x')\n",
    "plt.ylabel('y')"
   ]
  },
  {
   "cell_type": "markdown",
   "id": "3bb590d4-0165-4e88-a39b-793e8d672373",
   "metadata": {},
   "source": [
    "Now we assume that we do not know the \"exact\" slope, but we can estimate it to be between 1 and 2."
   ]
  },
  {
   "cell_type": "code",
   "execution_count": null,
   "id": "fb7c3960-8dd5-47e3-ab81-3d3f345cb8ca",
   "metadata": {},
   "outputs": [],
   "source": [
    "def sq_dev(x, y, m):\n",
    "    diff = y - m * x\n",
    "    sq = diff ** 2\n",
    "    return np.sum(sq)\n",
    "\n",
    "m_min = 1\n",
    "m_max = 3\n",
    "\n",
    "step = 0.001\n",
    "trials = np.arange(m_min, m_max, step)\n",
    "\n",
    "lsq = sq_dev(x, y, 0)\n",
    "\n",
    "for t in trials:\n",
    "    if (s:=sq_dev(x, y, t)) < lsq:\n",
    "        lsq = s\n",
    "        opt = t\n",
    "\n",
    "print(f'The best fit is achieved for m = {opt:.3f}')"
   ]
  },
  {
   "cell_type": "markdown",
   "id": "b030a0c6-f637-4a30-ae4d-49f23a92b733",
   "metadata": {},
   "source": [
    "Compare the result to the values obtained with a built-in fit function."
   ]
  },
  {
   "cell_type": "code",
   "execution_count": null,
   "id": "c6aa18f8-c005-468c-be1d-d462de40e6e2",
   "metadata": {},
   "outputs": [],
   "source": [
    "from scipy.optimize import curve_fit\n",
    "\n",
    "def f(x, m):\n",
    "    return m * x\n",
    "    \n",
    "coeff, pcov = curve_fit(f, x, y)\n",
    "m = coeff[0]\n",
    "\n",
    "print(f'Best slope according to scipy.curve_fit: m = {m:.3f}')"
   ]
  },
  {
   "cell_type": "markdown",
   "id": "eec44068-822b-4032-8046-0344739d8a11",
   "metadata": {},
   "source": [
    "As long as the steps for the guess are small enough, the result of the (more efficient) curve_fit can be reproduced."
   ]
  }
 ],
 "metadata": {
  "language_info": {
   "name": "python",
   "pygments_lexer": "ipython3"
  }
 },
 "nbformat": 4,
 "nbformat_minor": 5
}
