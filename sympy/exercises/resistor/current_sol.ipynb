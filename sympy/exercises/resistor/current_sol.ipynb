{
 "cells": [
  {
   "cell_type": "markdown",
   "id": "119c06dd-0f00-4a3e-9716-d82658753776",
   "metadata": {},
   "source": [
    "# Current in a Capacitor Circuit\n",
    "When a capacitor (see later) is charged on a voltage $V_0$ through a resistor $R$, the charge stored in the capacitor is given by\n",
    "$$ Q(t) = C \\cdot V_0 \\cdot \\left(1 - e^{-\\frac{t}{\\tau}} \\right) $$ \n",
    "\n",
    "where $C$ is the *capacitance* ([$C$] = C/V = F (Farad)), and $\\tau=RC$ is called the *time constant*.\n",
    "\n",
    "Using SymPy to derive the charge with respect to time, find the expression for the current flowing during the charging process. Verify that the expression has the correct units."
   ]
  },
  {
   "cell_type": "markdown",
   "id": "c2996c2a-7ed4-4269-9eac-0dc4fbf9c78b",
   "metadata": {},
   "source": [
    "#### Maximum voltage and current\n",
    "Find formal expressions for the voltage and current as functions of the resistance and the power dissipated in the resistor."
   ]
  },
  {
   "cell_type": "code",
   "execution_count": null,
   "id": "b3289969-6562-4e81-8481-7514db34d607",
   "metadata": {},
   "outputs": [],
   "source": [
    "import sympy as sp\n",
    "\n",
    "V0, C, R, t, tau = sp.symbols('V_0 C  R t tau')\n",
    "\n",
    "Q = C * V0 * (1 - sp.exp(-t/tau.subs(tau, R*C)))\n",
    "\n",
    "I = sp.diff(Q, t)\n",
    "display(I)"
   ]
  },
  {
   "cell_type": "markdown",
   "id": "d271fa5d",
   "metadata": {},
   "source": [
    "Since $V_0/R$ is a current, the expression has the correct unit if $RC$ has the unit of a time. This can easily be verified, e.g. using Pint."
   ]
  },
  {
   "cell_type": "code",
   "execution_count": null,
   "id": "bce39850-8609-411b-9899-51143619a051",
   "metadata": {},
   "outputs": [],
   "source": [
    "from pint import UnitRegistry\n",
    "\n",
    "ureg = UnitRegistry()\n",
    "\n",
    "unit_tau = ureg('ohm')*ureg('C/V')\n",
    "print(unit_tau.to_base_units())"
   ]
  },
  {
   "cell_type": "markdown",
   "id": "7cfb704d",
   "metadata": {},
   "source": [
    "### Graph charge and current\n",
    "Graph the charge and current vs time for the following values: $V_0$ = 12 V, $R$ = 1.5 kOhm, $C$ = 330 microF."
   ]
  },
  {
   "cell_type": "code",
   "execution_count": null,
   "id": "d2e96309",
   "metadata": {},
   "outputs": [],
   "source": [
    "import matplotlib.pyplot as plt\n",
    "import numpy as np\n",
    "\n",
    "vals = {V0: 12, R: 1.5e3, C: 330e-6}\n",
    "\n",
    "t_range = np.linspace(0, 2, 500)\n",
    "\n",
    "# turn symbolic expressions into functions of t\n",
    "Q_function = sp.utilities.lambdify(t, Q.subs(vals), 'numpy')\n",
    "Q_range = Q_function(t_range)\n",
    "\n",
    "I_function = sp.utilities.lambdify(t, I.subs(vals), 'numpy')\n",
    "I_range = I_function(t_range)\n",
    "\n",
    "fig, ax = plt.subplots()\n",
    "ax.plot(t_range, Q_range, label=r'$Q(t)$ (C)')\n",
    "ax.plot(t_range, I_range, label=r'$I(t)$ (A)')\n",
    "ax.set_title('Charge and Current')\n",
    "ax.set_xlabel('time (s)')\n",
    "ax.legend()\n",
    "ax.grid(True)\n",
    "plt.show()"
   ]
  },
  {
   "cell_type": "code",
   "execution_count": null,
   "id": "8df18914",
   "metadata": {},
   "outputs": [],
   "source": []
  }
 ],
 "metadata": {
  "language_info": {
   "name": "python",
   "pygments_lexer": "ipython3"
  }
 },
 "nbformat": 4,
 "nbformat_minor": 5
}
