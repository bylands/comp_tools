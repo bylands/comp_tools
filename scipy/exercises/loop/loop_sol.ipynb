{
 "cells": [
  {
   "cell_type": "markdown",
   "id": "609a54aa-c88a-40e5-9f32-ff10645eef75",
   "metadata": {},
   "source": [
    "## Magnetic Field of a Current Loop\n",
    "The magnetic field along the axis perpendicular to the centre of a circular current loop is given by\n",
    "\n",
    "$B(z) = \\frac{\\mu_0 N I}{2} \\frac{r^2}{\\left(r^2 + z^2\\right)^{3/2}}$\n",
    "\n",
    "where $r$ is the radius of the loop, $I$ the current through the loop, and $z$ the distance of a point on the axis from the centre of the loop.\n",
    "\n",
    "The data below was measured with a Hall sensor for a coil with $N = 10$ turns, radius $r$ = (10.0 ± 0.2) cm and a current $I$ = (9.50 ± 0.02) A."
   ]
  },
  {
   "cell_type": "code",
   "execution_count": null,
   "id": "624e75ec-bb4f-4c75-b9a0-b80434e7f794",
   "metadata": {},
   "outputs": [],
   "source": [
    "import numpy as np\n",
    "\n",
    "# distance to centre in m, \n",
    "z = np.array([0, 20, 40, 60, 80, 100, 120, 160, 200]) * 1e-3\n",
    "dz = 5e-3 # uncertainty for z\n",
    "\n",
    "# magnetic field in T\n",
    "B = np.array([5.8, 5.3, 4.7, 3.6, 2.8, 2.0, 1.3, 0.8, 0.5]) * 1e-4\n",
    "dB = 10e-6 # uncertainty for B"
   ]
  },
  {
   "cell_type": "markdown",
   "id": "38898631-fa81-4da3-94c0-eb2e826748a3",
   "metadata": {},
   "source": [
    "Verify the theoretical expression with the measured data. Derive the best fit value for the magnetic permeability $\\mu_0$."
   ]
  },
  {
   "cell_type": "code",
   "execution_count": null,
   "id": "1c97be44-3a76-416b-b8b9-4cb40e4d03da",
   "metadata": {},
   "outputs": [],
   "source": [
    "import matplotlib.pyplot as plt\n",
    "from scipy.constants import mu_0\n",
    "from scipy.optimize import curve_fit\n",
    "\n",
    "\n",
    "# define the fit function\n",
    "def f(z, k):\n",
    "    return k * r**2/(r**2 + z**2)**(3/2)\n",
    "\n",
    "\n",
    "N = 10\n",
    "r = 0.1 # radius in m\n",
    "dr = 0.2 # uncertainty in cm\n",
    "I = 9.50 # current in A\n",
    "dI = 0.02 # uncertainty in A\n",
    "\n",
    "k0 = mu_0 * N * I / 2\n",
    "\n",
    "coeff, pcov = curve_fit(f, z, B, p0=k0)\n",
    "k = coeff[0]\n",
    "dk = np.sqrt(pcov[0, 0])\n",
    "\n",
    "z_range = np.linspace(0, max(z), 100)\n",
    "B_fit = f(z_range, k)\n",
    "B_th = k0 * r**2/(r**2 + z_range**2)**(3/2)\n",
    "\n",
    "fig, ax = plt.subplots()\n",
    "ax.errorbar(z, B, xerr=dz, yerr=dB, fmt='.', capsize=2, label='measured data')\n",
    "ax.plot(z_range, B_fit, label='fit function')\n",
    "ax.set_xlabel('z (m)')\n",
    "ax.set_ylabel('B (T)')\n",
    "ax.grid(True)\n",
    "ax.legend()\n",
    "plt.show()"
   ]
  },
  {
   "cell_type": "code",
   "execution_count": null,
   "id": "920cadd6-d79f-440c-ada8-0b8b0bb3176e",
   "metadata": {},
   "outputs": [],
   "source": [
    "print(f'The fit parameter is ({k:.7f} ± {dk:.7f}) T m = ({k*1e6:.1f} ± {dk*1e6:.1f}) µT m')"
   ]
  },
  {
   "cell_type": "markdown",
   "id": "0cc4df6d-ae74-449d-b5f6-b54fe7c532e3",
   "metadata": {},
   "source": [
    "The fit parameter is $k = \\frac{\\mu_0 N I }{2}$. It follows for the magnetic permeability\n",
    "\n",
    "$\\mu_0 = \\frac{2 k}{N I}$"
   ]
  },
  {
   "cell_type": "code",
   "execution_count": null,
   "id": "36976b94-aea8-4996-b334-416157853f0f",
   "metadata": {},
   "outputs": [],
   "source": [
    "mu0 = 2 * k / (N * I)\n",
    "dmu0 = 2 * (k+dk) / (N * (I-dI)) - mu0\n",
    "\n",
    "print(f'best fit for mu0: ({mu0*1e6:.2f} ± {dmu0*1e6:.2f})·10^-6 Vs/Am')\n",
    "print(f'accepted value: {mu_0}')"
   ]
  },
  {
   "cell_type": "markdown",
   "id": "b131654a-0ab9-4adb-9d68-00870e617a47",
   "metadata": {},
   "source": [
    "#### Residual plot\n",
    "Add a residual plot to verify the quality of the fit."
   ]
  },
  {
   "cell_type": "code",
   "execution_count": null,
   "id": "a3bf7e33-c5da-488d-a441-667372b6268c",
   "metadata": {},
   "outputs": [],
   "source": [
    "res = B - f(z, k)\n",
    "\n",
    "fig, ax = plt.subplots()\n",
    "ax.errorbar(range(len(z)), res, xerr=dz, yerr=dB, fmt='.', capsize=2)\n",
    "ax.set_xlabel('# data point')\n",
    "ax.set_ylabel('res (T)')\n",
    "ax.grid()\n",
    "plt.show()"
   ]
  },
  {
   "cell_type": "code",
   "execution_count": null,
   "id": "7719a0c6",
   "metadata": {},
   "outputs": [],
   "source": []
  }
 ],
 "metadata": {
  "language_info": {
   "name": "python",
   "pygments_lexer": "ipython3"
  }
 },
 "nbformat": 4,
 "nbformat_minor": 5
}
