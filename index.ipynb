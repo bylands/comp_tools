{
 "cells": [
  {
   "cell_type": "markdown",
   "id": "a29d8744",
   "metadata": {},
   "source": [
    "# Computational Tools for Physics\n",
    "\n",
    "This tutorial contains an overview of helpful computational tools used in physics. It is not meant to be read from start to finish, but rather as a reference to look up specific tools when needed. The section *Exercises* contains exercises to practice the tools presented in the tutorial."
   ]
  },
  {
   "cell_type": "markdown",
   "id": "e74f1b5c",
   "metadata": {},
   "source": []
  }
 ],
 "metadata": {
  "language_info": {
   "name": "python",
   "pygments_lexer": "ipython3"
  }
 },
 "nbformat": 4,
 "nbformat_minor": 5
}
