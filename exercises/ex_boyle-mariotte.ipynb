{
 "cells": [
  {
   "cell_type": "markdown",
   "id": "f908e83f-c74d-4df7-bf20-e322c278f67f",
   "metadata": {},
   "source": [
    "# Exercises: Data Analysis with Python"
   ]
  },
  {
   "cell_type": "code",
   "execution_count": null,
   "id": "35652243-4b25-485c-8cfa-ef147037e78a",
   "metadata": {},
   "outputs": [],
   "source": [
    "import numpy as np\n",
    "import matplotlib.pyplot as plt"
   ]
  },
  {
   "cell_type": "markdown",
   "id": "609a54aa-c88a-40e5-9f32-ff10645eef75",
   "metadata": {},
   "source": [
    "## Boyle-Mariotte\n",
    "Air is enclosed in a cylinder whose circular base has a radius of 2.5 cm. The length of the air volume can be adjusted with a movable piston. The pressure in the cylinder is measured for different positions of the piston."
   ]
  },
  {
   "cell_type": "code",
   "execution_count": null,
   "id": "624e75ec-bb4f-4c75-b9a0-b80434e7f794",
   "metadata": {},
   "outputs": [],
   "source": [
    "# length of air volume in cm\n",
    "L = np.array([20.0, 19.0, 18.0, 17.0, 16.0, 15.0, 14.0, 13.0, 12.0, 11.0, 10.0, 9.0, 8.0, 7.0, 6.5, 6.0, 5.5, 5.0])\n",
    "\n",
    "# pressure in bar\n",
    "p = np.array([1.00, 1.05, 1.10, 1.20, 1.25, 1.35, 1.45, 1.55, 1.70, 1.80, 2.00, 2.20, 2.45, 2.80, 3.00, 3.20, 3.50, 3.80])"
   ]
  },
  {
   "cell_type": "markdown",
   "id": "8cc1b517-096f-4f7f-ae39-92c0495a8964",
   "metadata": {},
   "source": [
    "Calculate the air volumes."
   ]
  },
  {
   "cell_type": "code",
   "execution_count": null,
   "id": "5f9379f2-5efd-48ee-b28c-3285e8bbc6c2",
   "metadata": {},
   "outputs": [],
   "source": [
    "r = 2.5 # radius in cm\n",
    "\n",
    "# volume = length x base = length x r^2 x π\n",
    "V = L * r**2 * np.pi"
   ]
  },
  {
   "cell_type": "markdown",
   "id": "76dc66bf-32cb-49eb-ad0e-85a0aa9d008c",
   "metadata": {},
   "source": [
    "Graph the pressure vs. volume diagram."
   ]
  },
  {
   "cell_type": "code",
   "execution_count": null,
   "id": "73fc652e-e920-4acf-b885-027cf21a8817",
   "metadata": {},
   "outputs": [],
   "source": [
    "plt.plot(V, p, '.')\n",
    "plt.xlabel(r'volume (cm$^3$)')\n",
    "plt.ylabel('pressure (bar)')\n",
    "plt.show()"
   ]
  },
  {
   "cell_type": "markdown",
   "id": "3bb590d4-0165-4e88-a39b-793e8d672373",
   "metadata": {},
   "source": [
    "The theory (Boyle-Mariotte law) predicts an inverse proportionality between pressure and volume:\n",
    "\n",
    "<p style=\"text-align: center;\">$p = \\frac{n R T}{V}$</p>\n",
    "\n",
    "Visually verify the model with an appropriate fit function."
   ]
  },
  {
   "cell_type": "code",
   "execution_count": null,
   "id": "fb7c3960-8dd5-47e3-ab81-3d3f345cb8ca",
   "metadata": {},
   "outputs": [],
   "source": [
    "from scipy.optimize import curve_fit\n",
    "\n",
    "def f(V, const):\n",
    "    return const/V\n",
    "\n",
    "coeff, pcov = curve_fit(f, V, p)\n",
    "const = coeff[0]\n",
    "\n",
    "Vrange = np.linspace(min(V), max(V), 100) # V-values to evaluate fit function\n",
    "\n",
    "p_fit = f(Vrange, const)\n",
    "\n",
    "plt.plot(V, p, '.', label='measured data')\n",
    "plt.plot(Vrange, p_fit, label='best fit')\n",
    "plt.xlabel(r'volume (cm$^3$)')\n",
    "plt.ylabel('pressure (bar)')\n",
    "plt.grid()\n",
    "plt.legend()\n",
    "plt.show()"
   ]
  },
  {
   "cell_type": "markdown",
   "id": "150e29e4-843e-4e7c-b0c9-ee85ae3f53dc",
   "metadata": {},
   "source": [
    "The accuracies for the measurements are 0.05 cm for the radius, 0.05 cm for the lengths, and 0.05 bar for the pressure. Calculate the accuracies for the volumes and add error bars to the graph."
   ]
  },
  {
   "cell_type": "code",
   "execution_count": null,
   "id": "a23d4594-3859-4133-b877-f2a48fc40ef8",
   "metadata": {},
   "outputs": [],
   "source": [
    "dr = 0.05 # accuracy for radius in cm\n",
    "dL = 0.05 # accuracy for lengths in cm\n",
    "dp = 0.05 # accuracy for pressure in bar\n",
    "\n",
    "rmax = r + dr\n",
    "Lmax = L + dL\n",
    "Vmax = Lmax * rmax**2 * np.pi\n",
    "\n",
    "dV = Vmax - V\n",
    "fit_label = f'best fit (const = {const:.0f} ' + r'bar cm$^3$)'\n",
    "plt.errorbar(V, p, xerr=dV, yerr=dp, fmt='.', capsize=2, label='measured data')\n",
    "plt.plot(Vrange, p_fit, label=fit_label)\n",
    "plt.xlabel(r'volume (cm$^3$)')\n",
    "plt.ylabel('pressure (bar)')\n",
    "plt.grid()\n",
    "plt.legend()\n",
    "plt.show()"
   ]
  },
  {
   "cell_type": "markdown",
   "id": "b4485ec6-7fd7-4fce-b029-4ae2a2bcd993",
   "metadata": {},
   "source": [
    "Make a residual plot to inspect the quality of the fit function."
   ]
  },
  {
   "cell_type": "code",
   "execution_count": null,
   "id": "6a72758d-9e28-40e7-adc4-174adda74a89",
   "metadata": {},
   "outputs": [],
   "source": [
    "res = p - f(V, const)\n",
    "n_datapoint = range(1, len(res)+1)\n",
    "\n",
    "plt.errorbar(n_datapoint, res, yerr=dp, capsize=2, fmt='.')\n",
    "plt.xlabel('number of data point')\n",
    "plt.ylabel('residual (bar)')\n",
    "plt.xticks(np.arange(0, len(res)+1, 2))\n",
    "plt.grid()\n",
    "plt.show()"
   ]
  },
  {
   "cell_type": "markdown",
   "id": "82c21c82-da44-4619-bdad-ef0464341be5",
   "metadata": {},
   "source": [
    "The analysis can also be done by graphing the pressure vs. the reciprocal value of the volume. Verify if the fit parameters for the two methods are compatible."
   ]
  },
  {
   "cell_type": "code",
   "execution_count": null,
   "id": "93dce154-faff-45a4-9c83-435ff9255b2b",
   "metadata": {},
   "outputs": [],
   "source": [
    "Vr = 1/V # reciprocal values of volume\n",
    "Vrmin = 1/Vmax # minimal values within error range\n",
    "dVr = Vr - Vrmin # accuracy for reciprocal value\n",
    "\n",
    "def g(V, const):\n",
    "    return const * V\n",
    "\n",
    "coeffr, pcovr = curve_fit(g, Vr, p)\n",
    "constr = coeffr[0]\n",
    "\n",
    "Vrrange = np.linspace(min(Vr), max(Vr), 100) # Vr-values to evaluate fit function\n",
    "p_fit = g(Vrrange, constr)\n",
    "fit_label = f'best fit (const = {constr:.0f} ' + r'bar cm$^3$)'\n",
    "\n",
    "plt.errorbar(Vr, p, xerr=dVr, yerr=dp, capsize=2, fmt='.', label='measured data')\n",
    "plt.plot(Vrrange, p_fit, label=fit_label)\n",
    "plt.xlabel(r'volume$^{-1}$ (cm$^{-3}$)')\n",
    "plt.ylabel('pressure (bar)')\n",
    "plt.legend()\n",
    "plt.grid()\n",
    "plt.show()"
   ]
  },
  {
   "cell_type": "code",
   "execution_count": null,
   "id": "11b03e9c-8c43-4425-915d-fb210f256090",
   "metadata": {},
   "outputs": [],
   "source": [
    "resr = p - g(Vr, constr)\n",
    "n_datapoint = range(1, len(res)+1)\n",
    "\n",
    "plt.errorbar(n_datapoint, resr, yerr=dp, capsize=2, fmt='.')\n",
    "plt.xlabel('number of data point')\n",
    "plt.ylabel('residual (bar)')\n",
    "plt.xticks(np.arange(0, len(res)+1, 2))\n",
    "plt.grid()\n",
    "plt.show()"
   ]
  },
  {
   "cell_type": "code",
   "execution_count": null,
   "id": "9a90bdf4-dfc4-4384-8ce5-9b280770c6cf",
   "metadata": {},
   "outputs": [],
   "source": [
    "dc = np.sqrt(pcov[0, 0])\n",
    "dcr = np.sqrt(pcovr[0, 0])\n",
    "\n",
    "print(f'fit parameter for first method:  const = ({const:.0f} ± {dc:.0f}) bar cm^3')\n",
    "print(f'fit parameter for second method: const = ({constr:.0f} ± {dcr:.0f}) bar cm^3')"
   ]
  },
  {
   "cell_type": "markdown",
   "id": "1e2eaf67-70be-459a-ad3a-ab13a1901dd1",
   "metadata": {},
   "source": [
    "Not so surprisingly, the two methods yield the same result for the fit parameter."
   ]
  },
  {
   "cell_type": "code",
   "execution_count": null,
   "id": "056e093f-0ffb-476a-9202-ef6a237e0574",
   "metadata": {},
   "outputs": [],
   "source": []
  }
 ],
 "metadata": {
  "language_info": {
   "name": "python",
   "pygments_lexer": "ipython3"
  }
 },
 "nbformat": 4,
 "nbformat_minor": 5
}
