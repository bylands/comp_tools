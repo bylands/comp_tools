{
 "cells": [
  {
   "cell_type": "markdown",
   "id": "609a54aa-c88a-40e5-9f32-ff10645eef75",
   "metadata": {},
   "source": [
    "## Sunspots\n",
    "The number of sunspots (darker regions on the surface of the sun that are colder than the surrounding area) varies over time with a roughly 11-year solar cycle."
   ]
  },
  {
   "cell_type": "markdown",
   "id": "28fcbd74-4b4b-4fdf-a50f-7d3c51bbdcc8",
   "metadata": {},
   "source": [
    "#### Import Data\n",
    "The file *sunspot_data.csv* contains data going back to 1818. For days without a reported number, the column *Number of Sunspots* contains the value -1.\n",
    "\n",
    "Make yourself familiar with the structure of the dataframe find the number of sunspots on your birthday and the maximum number of sunspots in the dataset."
   ]
  },
  {
   "cell_type": "code",
   "execution_count": null,
   "id": "624e75ec-bb4f-4c75-b9a0-b80434e7f794",
   "metadata": {},
   "outputs": [],
   "source": [
    "import polars as pl\n",
    "\n",
    "path = 'data/sunspot_data.csv'\n",
    "\n",
    "df = pl.read_csv(path)"
   ]
  },
  {
   "cell_type": "code",
   "execution_count": null,
   "id": "94efce4c",
   "metadata": {},
   "outputs": [],
   "source": []
  },
  {
   "cell_type": "markdown",
   "id": "38898631-fa81-4da3-94c0-eb2e826748a3",
   "metadata": {},
   "source": [
    "#### Solar Cycle\n",
    "To verify the solar cycle, make a diagram showing the average number of sunspots per month. Ignore days with no observation."
   ]
  },
  {
   "cell_type": "markdown",
   "id": "c8082129-de6e-4a3e-b016-bfa1d970bd3c",
   "metadata": {},
   "source": [
    "#### Method 1\n",
    "Create a column 'Year/Month' combining the year and month. You have to format single digit months with a leading zero. Create the graph."
   ]
  },
  {
   "cell_type": "code",
   "execution_count": null,
   "id": "1c97be44-3a76-416b-b8b9-4cb40e4d03da",
   "metadata": {},
   "outputs": [],
   "source": []
  },
  {
   "cell_type": "markdown",
   "id": "18518185-0e78-466e-8f86-02a24df15eb4",
   "metadata": {},
   "source": [
    "As can be seen, there are 18 maxima between 1825 and 2025, which corresponds to a cycle of about 11 years."
   ]
  },
  {
   "cell_type": "markdown",
   "id": "e4d24ae8-4f1d-426d-9d85-9bfb6a0b0137",
   "metadata": {},
   "source": [
    "#### Method 2\n",
    "Use a built-in method pl.date to convert the date to a date dtype. Use the method group_by_dynamic to downsample the data to monthly intervals."
   ]
  },
  {
   "cell_type": "code",
   "execution_count": null,
   "id": "b29bd1c8-648c-4fdd-befc-60d3f9d8a772",
   "metadata": {},
   "outputs": [],
   "source": []
  },
  {
   "cell_type": "markdown",
   "id": "1e0e3015-b100-47c7-8bb2-f0df8feebc12",
   "metadata": {},
   "source": [
    "Method 2 has the advantage, that the interval can easily be adjusted, e.g. to 3 months."
   ]
  }
 ],
 "metadata": {
  "language_info": {
   "name": "python",
   "pygments_lexer": "ipython3"
  }
 },
 "nbformat": 4,
 "nbformat_minor": 5
}
