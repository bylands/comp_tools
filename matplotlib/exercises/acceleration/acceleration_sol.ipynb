{
 "cells": [
  {
   "cell_type": "markdown",
   "id": "f14e2481",
   "metadata": {},
   "source": [
    "# Acceleration\n",
    "For a steel ball rolling down an inclined track, the distance it has travelled and the velocity are measured at different times. Visualise the motion with a distance vs time and a velocity vs time graph."
   ]
  },
  {
   "cell_type": "code",
   "execution_count": null,
   "id": "4d2e5239",
   "metadata": {},
   "outputs": [],
   "source": [
    "import numpy as np\n",
    "import matplotlib.pyplot as plt\n",
    "\n",
    "time = np.array([1.775, 2.007, 2.372, 2.856, 3.416, 3.974]) # time in s\n",
    "distance = np.array([0.20, 0.25, 0.35, 0.50, 0.70, 0.95]) # distance in m\n",
    "velocity = np.array([0.208, 0.238, 0.288, 0.351, 0.421, 0.488]) # velocity in m/s"
   ]
  },
  {
   "cell_type": "markdown",
   "id": "01691b71",
   "metadata": {},
   "source": [
    "### Distance vs time"
   ]
  },
  {
   "cell_type": "code",
   "execution_count": null,
   "id": "90bf7931",
   "metadata": {},
   "outputs": [],
   "source": [
    "fig, ax = plt.subplots()\n",
    "ax.scatter(time, distance, marker='.', c='r')\n",
    "ax.set_title('Distance vs Time')\n",
    "ax.set_xlabel('Time (s)')\n",
    "ax.set_ylabel('Distance (m)')\n",
    "ax.grid(True)\n",
    "plt.show()"
   ]
  },
  {
   "cell_type": "markdown",
   "id": "de9a0693",
   "metadata": {},
   "source": [
    "### Velocity vs time"
   ]
  },
  {
   "cell_type": "code",
   "execution_count": null,
   "id": "e30441c3",
   "metadata": {},
   "outputs": [],
   "source": [
    "fig, ax = plt.subplots()\n",
    "ax.scatter(time, velocity, marker='.', c='b')\n",
    "ax.set_title('Velocity vs Time')\n",
    "ax.set_xlabel('Time (s)')\n",
    "ax.set_ylabel('Velocity (m)')\n",
    "ax.grid(True)\n",
    "plt.show()"
   ]
  },
  {
   "cell_type": "markdown",
   "id": "d7add041",
   "metadata": {},
   "source": [
    "### Polynomial fits\n",
    "The data points in the velocity vs time graph seem to lie on a straight line, which can be expected for a *constant acceleration*. Using the NumPy *polynomial* package, you can fit a polynomial of degree 2 to the distance data, and a polynomial of degree 1 to the velocity data."
   ]
  },
  {
   "cell_type": "code",
   "execution_count": null,
   "id": "db5368d5",
   "metadata": {},
   "outputs": [],
   "source": [
    "from numpy.polynomial import Polynomial\n",
    "\n",
    "fit_dist = Polynomial.fit(time, distance, 2)\n",
    "fit_velo = Polynomial.fit(time, velocity, 1)"
   ]
  },
  {
   "cell_type": "markdown",
   "id": "d12ef4d0",
   "metadata": {},
   "source": [
    "Verify if the functions fit_dist and fit_velo are in good agreement with the measured data."
   ]
  },
  {
   "cell_type": "code",
   "execution_count": null,
   "id": "a0f3f92c",
   "metadata": {},
   "outputs": [],
   "source": [
    "t_range = np.linspace(0, np.max(time), 200)\n",
    "\n",
    "fig, (ax1, ax2) = plt.subplots(figsize=(5, 6), nrows=2, ncols=1, sharex=True)\n",
    "\n",
    "plt.suptitle('Distance and Velocity vs Time') # Title\n",
    "plt.xlabel('Time (s)') # label for (common) x axis\n",
    "\n",
    "# diagram 1\n",
    "ax1.scatter(time, distance, s=10, c='r', label='distance data')\n",
    "ax1.plot(t_range, fit_dist(t_range), 'r', label='parabolic fit')\n",
    "ax1.set_ylabel('Distance (m)')\n",
    "ax1.grid(True)\n",
    "ax1.legend()\n",
    "\n",
    "# diagram 2\n",
    "ax2.scatter(time, velocity, s=10, c='b', label='velocity data')\n",
    "ax2.plot(t_range, fit_velo(t_range), 'b', label='linear fit')\n",
    "ax2.set_ylabel('Velocity (m/s)')\n",
    "ax2.grid(True)\n",
    "ax2.legend()\n",
    "\n",
    "plt.show()"
   ]
  }
 ],
 "metadata": {
  "language_info": {
   "name": "python",
   "pygments_lexer": "ipython3"
  }
 },
 "nbformat": 4,
 "nbformat_minor": 5
}
