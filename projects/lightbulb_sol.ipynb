{
 "cells": [
  {
   "cell_type": "markdown",
   "id": "2f0c5a05-2a6f-4790-987a-2633cd97a7c5",
   "metadata": {},
   "source": [
    "# Switching on a Light Bulb\n",
    "When a light bulb is switched on, the current through the filament leads to a temperature increase. After a short time there will be an equlibrium between the power delivered by the voltage supply and the power lost to radiation.\n",
    "\n",
    "Derive a model for the temperature increase as a function of time and apply it to realistic values for a typical light bulb."
   ]
  },
  {
   "cell_type": "markdown",
   "id": "d70029c8-b597-4009-96c5-fad45e61d25c",
   "metadata": {},
   "source": [
    "### Deriving the model"
   ]
  },
  {
   "cell_type": "markdown",
   "id": "0cfac106-f4fc-403c-b2bf-9297712509e6",
   "metadata": {},
   "source": [
    "The energy delivered by the voltage supply is\n",
    "\n",
    "$\\textrm{d}E_{el} = P \\textrm{d}t = \\frac{\\Delta V^2}{R(T)} \\textrm{d}t = \\frac{\\Delta V^2}{R_{20}(1+\\alpha_{20} (T-T_{20}))}\\textrm{d}t = \\frac{\\Delta V^2}{\\rho_{20}\\frac{L}{\\pi (d/2)^2}(1+\\alpha_{20} (T-T_{20}))}\\textrm{d}t$\n",
    "\n",
    "where $\\Delta V$ is the source voltage, $R_{20}$ the resistance at ambient temperature ($T_{20}$), $\\alpha_{20}$ the temperature coefficient, and $T$ the current temperature.\n",
    "\n",
    "The radiation energy is\n",
    "\n",
    "$\\textrm{d}E_{rad} = I(T) A \\textrm{d}t = \\varepsilon \\sigma (T^4-T_{20}^4) \\pi d L \\textrm{d}t$ \n",
    "\n",
    "where $\\varepsilon$ is the emissivity of the filament, $\\sigma$ the Stefan-Boltzmann constant, and $d$ and $L$ the diameter and length of the filament. The term containing the ambient temperature $T_{20}$ takes into account the energy absorbed from the environment.\n",
    "\n",
    "The net energy leads to a temperature increase $\\textrm{d}T$ according to\n",
    "\n",
    "$\\textrm{d}E_{net} = \\textrm{d}E_{el} - \\textrm{d}E_{rad} = c m \\textrm{d}T = c \\rho V \\textrm{d}T = c \\rho \\pi (d/2)^2 L \\textrm{d}T$\n",
    "\n",
    "where $c$ is the specific heat, and $\\rho$ the density of the filament.\n",
    "\n",
    "Solving for the rate of change of the temperature, we find\n",
    "\n",
    "$\\frac{\\textrm{d}T}{\\textrm{d}t} = \\frac{1}{c \\rho \\pi (d/2)^2 L)} \\left( \\frac{\\Delta V^2 \\pi (d/2)^2}{\\rho_{20} L (1+\\alpha_{20} (T-T_{20}))} - \\varepsilon \\sigma (T^4-T_{20}^4) \\pi d L \\right)$\n",
    "\n",
    "This is a *differential equation* for the temperature $T$ as a function of time $t$. It can be solved numerically usingt the function *solve_ivp* in SciPy."
   ]
  },
  {
   "cell_type": "markdown",
   "id": "ed61a378-1838-4fbe-8ce6-d76c6e9ee894",
   "metadata": {},
   "source": [
    "### Implementing the model"
   ]
  },
  {
   "cell_type": "markdown",
   "id": "82ebb48e-ad9e-4a1d-821c-df4de648a023",
   "metadata": {},
   "source": [
    "#### Imports"
   ]
  },
  {
   "cell_type": "code",
   "execution_count": null,
   "id": "2b7e358b-d4f0-45ce-9be1-8b3eb55a782a",
   "metadata": {},
   "outputs": [],
   "source": [
    "import numpy as np\n",
    "import matplotlib.pyplot as plt\n",
    "\n",
    "from scipy.integrate import solve_ivp\n",
    "from scipy.constants import sigma, pi"
   ]
  },
  {
   "cell_type": "markdown",
   "id": "1a8b6f67-8e49-4b75-a4b3-9ea6a15889e0",
   "metadata": {},
   "source": [
    "#### Define constants"
   ]
  },
  {
   "cell_type": "code",
   "execution_count": null,
   "id": "c428b4db-9c18-4707-8898-be171e2af18b",
   "metadata": {},
   "outputs": [],
   "source": [
    "c = 134 # specific heat of tungsten (J/(kg K))\n",
    "rh = 19.3e3 # density of tungsten (kg/m^3)\n",
    "rel = 5.5e-8 # resistivity of tungsten at 20°C (Ω m)\n",
    "al = 4.6e-3 # temperature coefficient for tungsten (1/K)\n",
    "eps = 0.44 # emissivity of tungsten\n",
    "\n",
    "d = 40e-6 # diameter of filament (m)\n",
    "L = 1.15 # length of filament (m)\n",
    "T20 = 293 # ambient temperature (K)\n",
    "V = 230 # source voltage (V)\n",
    "\n",
    "k1 = c * rh * pi * (d/2)**2 * L\n",
    "k2 = V**2 * pi * (d/2)**2 / (rel * L)\n",
    "k3 = eps * sigma * pi * d * L"
   ]
  },
  {
   "cell_type": "markdown",
   "id": "4193d28a-1ce1-41d2-8c76-d8c720b42e1a",
   "metadata": {},
   "source": [
    "#### Define RHS of differential equation"
   ]
  },
  {
   "cell_type": "code",
   "execution_count": null,
   "id": "60b70367-aa00-49ae-8a43-6c496af03392",
   "metadata": {},
   "outputs": [],
   "source": [
    "def dTdt(t, T):\n",
    "    return 1/k1 * (k2 / (1 + al * (T - T20)) - k3 * (T**4 - T20**4))"
   ]
  },
  {
   "cell_type": "markdown",
   "id": "825df476-4861-4044-8a35-9a5923b7b0c6",
   "metadata": {},
   "source": [
    "### Solution and analysis"
   ]
  },
  {
   "cell_type": "markdown",
   "id": "0c010aa8-1a00-4ccf-93b5-cb225fb7c721",
   "metadata": {},
   "source": [
    "#### Solve differential equation"
   ]
  },
  {
   "cell_type": "code",
   "execution_count": null,
   "id": "25e2a7d4-f41e-4957-b7e4-1018c84bf043",
   "metadata": {},
   "outputs": [],
   "source": [
    "tmax = 0.12 # upper limit of time interval\n",
    "t_range = [0, tmax] # time interval (s)\n",
    "init = [T20] # initial temperature (K)\n",
    "\n",
    "t = np.linspace(0, tmax, 100) # times used for plot\n",
    "\n",
    "sol = solve_ivp(dTdt, t_range, init, dense_output=True) # solve DE\n",
    "\n",
    "T = sol.sol(t)[0] # evaluate solution at given times"
   ]
  },
  {
   "cell_type": "code",
   "execution_count": null,
   "id": "f250388f-9467-4ca0-bbe7-215e71ec628c",
   "metadata": {},
   "outputs": [],
   "source": [
    "plt.plot(t, T)\n",
    "plt.xlabel('Time (s)')\n",
    "plt.ylabel('Temperature (K)')\n",
    "plt.title('Temperatur vs Time')\n",
    "plt.grid()\n",
    "plt.show()\n",
    "\n",
    "print(f'equilibrium temperature: {T[-1]:.0f} K')"
   ]
  },
  {
   "cell_type": "markdown",
   "id": "46d1e14c-ba61-4fc4-8ffd-c68b9ab02fea",
   "metadata": {},
   "source": [
    "The filament heats up to 2300 K within about 0.1 s. Both the equilibrium temperature and the time look realistic."
   ]
  },
  {
   "cell_type": "markdown",
   "id": "d5a24b38-4c47-4c41-aa57-f7a910cc32de",
   "metadata": {},
   "source": [
    "#### Analysis"
   ]
  },
  {
   "cell_type": "code",
   "execution_count": null,
   "id": "c646b9bd-85af-4fd8-b9f7-5712f089d855",
   "metadata": {},
   "outputs": [],
   "source": [
    "# define function for input power\n",
    "def Pel(T):\n",
    "    return k2 / (1 + al * (T - T20))\n",
    "\n",
    "\n",
    "# define function for radiation power\n",
    "def Prad(T):\n",
    "    return k3 * (T**4 - T20**4)"
   ]
  },
  {
   "cell_type": "code",
   "execution_count": null,
   "id": "7ef04c1f-598b-4ffa-93ab-ebe1d4f7f5bf",
   "metadata": {},
   "outputs": [],
   "source": [
    "plt.plot(t, Pel(T), label='electric power')\n",
    "plt.plot(t, Prad(T), label='radiation power')\n",
    "plt.xlabel('Time (s)')\n",
    "plt.ylabel('Power (W)')\n",
    "plt.ylim(0, 200)\n",
    "plt.title('Electric and Radiation Power')\n",
    "plt.legend()\n",
    "plt.grid()\n",
    "plt.show()\n",
    "\n",
    "print(f'initial electric power: {Pel(T20):.0f} W')\n",
    "print(f'final electric power: {Pel(T[-1]):.0f} W')"
   ]
  },
  {
   "cell_type": "markdown",
   "id": "b429b3d6-5048-4d76-99e1-0238ff3ea722",
   "metadata": {},
   "source": [
    "The initial electric power is very high, but quickly drops to 100 W. The radiation starts from 0 and quickly increases to 100 W."
   ]
  },
  {
   "cell_type": "code",
   "execution_count": null,
   "id": "4995c47c-660c-437b-9a1a-2829d878a7c8",
   "metadata": {},
   "outputs": [],
   "source": [
    "# define function for resistance\n",
    "def R(T):\n",
    "    return rel * L / (pi * (d/2)**2) * (1 + al * (T - T20))"
   ]
  },
  {
   "cell_type": "code",
   "execution_count": null,
   "id": "aa4987a6-6bcf-4eae-8e19-93a32aa9dc61",
   "metadata": {},
   "outputs": [],
   "source": [
    "plt.plot(t, R(T), label='Resistance')\n",
    "plt.xlabel('Time (s)')\n",
    "plt.ylabel('Resistance (Ω)')\n",
    "plt.title('Resistance vs Time')\n",
    "plt.grid()\n",
    "plt.show()\n",
    "\n",
    "print(f'initial resistance: {R(T20):.0f} Ω')\n",
    "print(f'final resistance: {R(T[-1]):.0f} Ω')"
   ]
  },
  {
   "cell_type": "markdown",
   "id": "85406d3e-f4f9-48e6-b598-51849f37419d",
   "metadata": {},
   "source": [
    "The resistance increases from 62 Ω at ambient temperature to about 500 Ω when the filament is hot."
   ]
  },
  {
   "cell_type": "markdown",
   "id": "eebb8644-4365-402d-9587-d34912b6c767",
   "metadata": {},
   "source": [
    "### Refining the model\n",
    "So far we have assumed a linear relation between resistivity and temperature. An improved model should include a more realistic relation based on measured data."
   ]
  },
  {
   "cell_type": "markdown",
   "id": "459085fe-db0d-4f04-a33d-5f3a88582dd3",
   "metadata": {},
   "source": [
    "#### Resistivity\n",
    "We use data from *Formulae, Tables, Concepts* to interpolate the resistivity at higher temperatures."
   ]
  },
  {
   "cell_type": "code",
   "execution_count": null,
   "id": "fb16845d-7055-4dd6-afc3-0628b92d1f67",
   "metadata": {},
   "outputs": [],
   "source": [
    "temperature = np.array([20, 727, 1727, 2727, 3227]) + 273 # temperatures (K)\n",
    "resistivity = np.array([5.5, 24.3, 55.7, 90.4, 108.5]) * 1e-8 # resistivity (Ωm)\n",
    "\n",
    "plt.plot(temperature, resistivity, label='measured values')\n",
    "plt.plot(T, rel * (1 + al * (T - T20)), label='linear approximation')\n",
    "plt.legend()\n",
    "plt.grid()\n",
    "plt.xlabel('Temperature (K)')\n",
    "plt.ylabel('Resistivity (Ωm)')\n",
    "plt.show()"
   ]
  },
  {
   "cell_type": "code",
   "execution_count": null,
   "id": "3add7edc-e4eb-4d78-b6dc-e8ffea536a90",
   "metadata": {},
   "outputs": [],
   "source": [
    "# define function returning interpolated values for resistivity\n",
    "def rel_int(T):\n",
    "    return np.interp(T, temperature, resistivity)"
   ]
  },
  {
   "cell_type": "code",
   "execution_count": null,
   "id": "3ca2cc7b-76b2-4676-b195-e22d8275f2ca",
   "metadata": {},
   "outputs": [],
   "source": [
    "# define improved differential equation\n",
    "def dTdt2(t, T):\n",
    "        return 1/k1 * (k2 * rel / rel_int(T) - k3 * (T**4 - T20**4))"
   ]
  },
  {
   "cell_type": "code",
   "execution_count": null,
   "id": "08e25417-6201-4270-b369-845766c62f9c",
   "metadata": {},
   "outputs": [],
   "source": [
    "tmax = 0.12 # upper limit of time interval\n",
    "t_range = [0, tmax] # time interval (s)\n",
    "init = [T20] # initial temperature (K)\n",
    "\n",
    "t = np.linspace(0, tmax, 100) # times used for plot\n",
    "\n",
    "sol2 = solve_ivp(dTdt2, t_range, init, dense_output=True) # solve DE\n",
    "\n",
    "T2 = sol2.sol(t)[0] # evaluate solution at given times"
   ]
  },
  {
   "cell_type": "code",
   "execution_count": null,
   "id": "2cd69dd2-74f5-4ebe-8945-70c262dd4063",
   "metadata": {},
   "outputs": [],
   "source": [
    "plt.plot(t, T2, label='improved model')\n",
    "plt.plot(t, T, label='linear model')\n",
    "plt.xlabel('Time (s)')\n",
    "plt.ylabel('Temperature (K)')\n",
    "plt.title('Temperatur vs Time')\n",
    "plt.legend()\n",
    "plt.grid()\n",
    "plt.show()"
   ]
  },
  {
   "cell_type": "markdown",
   "id": "12724c12-bfb7-4f26-8fc8-d2b73df27c4c",
   "metadata": {},
   "source": [
    "As expected, the equilibrium temperature is slightly lower due to the nonlinear increase of resisitivity."
   ]
  },
  {
   "cell_type": "code",
   "execution_count": null,
   "id": "ee06dcdf-f9bb-4a66-aadc-69d4e5fa091b",
   "metadata": {},
   "outputs": [],
   "source": [
    "# define function for resistance according to improved model\n",
    "def R2(T):\n",
    "    return rel_int(T) * L / (pi * (d/2)**2)\n",
    "\n",
    "plt.plot(t, R2(T2), label='Resistance (improved model)')\n",
    "plt.plot(t, R(T), label='Resistance (linear model)')\n",
    "plt.xlabel('Time (s)')\n",
    "plt.ylabel('Resistance (Ω)')\n",
    "plt.title('Resistance vs Time')\n",
    "plt.legend()\n",
    "plt.grid()\n",
    "plt.show()"
   ]
  },
  {
   "cell_type": "markdown",
   "id": "342addcb-498a-4458-99f1-286bdee8677f",
   "metadata": {},
   "source": [
    "The resistance at the operational temperature is significantly higher than predicted by the linear model."
   ]
  },
  {
   "cell_type": "code",
   "execution_count": null,
   "id": "7fdc1506-ffad-4d51-828d-b8192ea796bc",
   "metadata": {},
   "outputs": [],
   "source": [
    "# define function for input power according to improved model\n",
    "def Pel2(T):\n",
    "    return k2 * rel / rel_int(T)\n",
    "\n",
    "plt.plot(t, Pel2(T2), label='electric power (improved model)')\n",
    "plt.plot(t, Pel(T), label='electric power (linear model)')\n",
    "plt.plot(t, Prad(T2), label='radiation power (improved model)')\n",
    "plt.plot(t, Prad(T), label='radiation power (linear model)')\n",
    "plt.xlabel('Time (s)')\n",
    "plt.ylabel('Power (W)')\n",
    "plt.ylim(0, 200)\n",
    "plt.title('Electric and Radiation Power')\n",
    "plt.legend()\n",
    "plt.grid()\n",
    "plt.show()"
   ]
  },
  {
   "cell_type": "markdown",
   "id": "da973c2a-e16a-465f-a525-fb17a5e8f75a",
   "metadata": {},
   "source": [
    "The equilibrium power is slightly lower than predicted by the linear model."
   ]
  }
 ],
 "metadata": {
  "language_info": {
   "name": "python",
   "pygments_lexer": "ipython3"
  }
 },
 "nbformat": 4,
 "nbformat_minor": 5
}
