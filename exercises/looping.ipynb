{
 "cells": [
  {
   "cell_type": "markdown",
   "id": "a5206cc1-0493-4c96-a525-ef81ecdc1d7a",
   "metadata": {},
   "source": [
    "# Looping\n",
    "We consider the work done on an object moving in a looping (i.e. in a vertical circle). In a uniform gravitational field, the gravitational force always points vertically downwards while the direction of motion changes continuously.\n",
    "\n",
    "The idea of this exercise is to approximate the circle as a polygon, and to calculate the work for each of the edges of the polygon."
   ]
  },
  {
   "cell_type": "code",
   "execution_count": null,
   "id": "433f321c-9f88-46b2-8f81-8403c475e639",
   "metadata": {},
   "outputs": [],
   "source": [
    "import matplotlib.pyplot as plt\n",
    "\n",
    "import numpy as np\n"
   ]
  },
  {
   "cell_type": "markdown",
   "id": "e8e6dfe1-9ff2-4872-bdce-95c13f31f371",
   "metadata": {},
   "source": [
    "#### Define work function\n",
    "Define a function that calculates the work for a given force vector F and displacement vector ds."
   ]
  },
  {
   "cell_type": "code",
   "execution_count": null,
   "id": "be8d350a-8843-403e-8bd1-f6f37567b951",
   "metadata": {},
   "outputs": [],
   "source": [
    "def work(F, ds):\n",
    "    '''\n",
    "    Calculate the work done by force F over displacement ds.\n",
    "\n",
    "    The work corresponds to the dot product of F and ds.\n",
    "    '''  # noqa: D300\n",
    "    return np.dot(F, ds)"
   ]
  },
  {
   "cell_type": "markdown",
   "id": "f4e9e596-0e32-4e1d-ba88-0520302d0810",
   "metadata": {},
   "source": [
    "#### Verify work function\n",
    "To verify if the work function works as expected, we apply it to the following situations where a force of 2 N acts on an object displaced by 3 m:\n",
    "- Both the force and the displacement in the positive $x$ direction.\n",
    "- The force acts in the positive $y$ direction, and the object is displaced in the negative $y$ direction.\n",
    "- The force acts in the positive $x$ direction, and the object is displaced in the positive $y$ direction.\n",
    "- The force acts in the positive $x$ direction, and the object is displaced along the angle bisector between the $x$ and $y$ axis."
   ]
  },
  {
   "cell_type": "code",
   "execution_count": null,
   "id": "0355880c-721b-4a44-ac2e-95f7576bad83",
   "metadata": {},
   "outputs": [],
   "source": [
    "# Case 1 (expected: 6 N)\n",
    "F = np.array([2, 0]) # force along positive x axis\n",
    "ds = np.array([3, 0]) # displacement along positive x axis\n",
    "print(f'Case 1: W = {work(F, ds)} N')\n",
    "\n",
    "# Case 2 (expected: -6 N)\n",
    "F = np.array([0, 2]) # force along positive y axis\n",
    "ds = np.array([0, -3]) # displacement along negative y axis\n",
    "print(f'Case 2: W = {work(F, ds)} N')\n",
    "\n",
    "# Case 3 (expected: 0 N))\n",
    "F = np.array([2, 0]) # force along positive x axis\n",
    "ds = np.array([0, 3]) # displacement along positive y axis\n",
    "print(f'Case 3: W = {work(F, ds)} N')\n",
    "\n",
    "# Case 4 (expected: 4.24 N)\n",
    "F = np.array([2, 0]) # force along positive x axis\n",
    "ds = np.array([3, 3])/np.sqrt(2) # displacement along angle bisector\n",
    "print(f'Case 3: W = {work(F, ds):.2f} N')"
   ]
  },
  {
   "cell_type": "markdown",
   "id": "853a3b3c-e293-43a4-9ce0-817e1dc03e82",
   "metadata": {},
   "source": [
    "#### Define points on circle\n",
    "For a semiircle (radius 5 m) going from the lowest to the highest point of the looping, choose $n$ points at regular intervals."
   ]
  },
  {
   "cell_type": "code",
   "execution_count": null,
   "id": "672aef45-7144-4ce8-9bdd-0e0f65ab3405",
   "metadata": {},
   "outputs": [],
   "source": [
    "n = 10 # number of points per semicircle\n",
    "r = 5 # radius of circle\n",
    "\n",
    "# calculate n + 1 angles in range [0, π]\n",
    "angles = [np.pi / n * i for i in range(n + 1)]\n",
    "\n",
    "# calculate x and y coordinates\n",
    "x = r * np.sin(angles)\n",
    "y = - r * np.cos(angles)\n",
    "\n",
    "# plot y vs x\n",
    "plt.figure()\n",
    "plt.plot(x, y)\n",
    "plt.gca().set_aspect('equal')\n",
    "plt.show()\n",
    "\n",
    "# combine x and y to an array of 2d vectors\n",
    "points = np.stack([x, y], axis=1)\n",
    "\n",
    "# calculate displacements\n",
    "ds = np.diff(points, axis=0)"
   ]
  },
  {
   "cell_type": "markdown",
   "id": "9f517927-f6fb-4d84-ba12-40cccc3b6632",
   "metadata": {},
   "source": [
    "#### Define force and calculate work\n",
    "We assume a force of 750 N (gravitation acting on person with mass 75 kg) pointing downwards (negative $y$ axis)."
   ]
  },
  {
   "cell_type": "code",
   "execution_count": null,
   "id": "b1ecde6f-03e9-4cda-9bd7-ff995d18b5be",
   "metadata": {},
   "outputs": [],
   "source": [
    "F = np.array([0, -750.])\n",
    "\n",
    "dW = np.sum(np.multiply(F, ds), axis=1)\n",
    "W = np.sum(dW)\n",
    "\n",
    "print(f'work on way up:   W  = {W:.0f} J')"
   ]
  },
  {
   "cell_type": "markdown",
   "id": "e5817e3a-6f14-4d04-ac2d-babd68d5237a",
   "metadata": {},
   "source": [
    "#### Interpretation\n",
    "It is clear that the work on the way up has the same magnitude as the work on the way down. The former has a negative sign since gravitation acts against the displacement. We can also say that work has to be done against the gravitational force. The latter has a positive sign, i.e. the gravitational force does work on the object.\n",
    "\n",
    "It should also be evident that the result is just the product of the force and the height of the circle, i.e. 750 N · 10 m. The path from the lowest to the highest point does not affect the work done by the gravitational force. This is a characteristic property of so-called *conservative fields*."
   ]
  },
  {
   "cell_type": "markdown",
   "id": "3d507baa-2824-4a8d-95f9-fb7af563e89c",
   "metadata": {},
   "source": [
    "### Inhomogeneous field\n",
    "For an inhomogeneous field, the work for a segment can be approximated by using the force acting at the beginning of the segment. As an example we consider a looping on a small planet with mass 2 · 10^10 kg and radius 100 m.\n",
    "\n",
    "We assume that the centre of the looping is on the surface of the planet."
   ]
  },
  {
   "cell_type": "markdown",
   "id": "eaefdd14-3ec4-4c15-8828-ad40a1fac7c0",
   "metadata": {},
   "source": [
    "#### Define adapted work function"
   ]
  },
  {
   "cell_type": "code",
   "execution_count": null,
   "id": "b85bbdd3-693a-4c49-8e31-efd4820fd680",
   "metadata": {},
   "outputs": [],
   "source": [
    "def work_inh(F, ds):\n",
    "    '''\n",
    "    Calculate the work done by a force F in an inhomogeneous field.\n",
    "    The force is given for each start of the segments in ds.\n",
    "    F and ds have the same dimensions (n, 2).\n",
    "    '''\n",
    "\n",
    "    return np.sum(F * ds, axis=1)"
   ]
  },
  {
   "cell_type": "markdown",
   "id": "133c6c53-9e5f-4167-8666-ff7bd0f2032f",
   "metadata": {},
   "source": [
    "#### Forces"
   ]
  },
  {
   "cell_type": "code",
   "execution_count": null,
   "id": "e7b28fe2-eb51-44b4-8217-715007ef42f3",
   "metadata": {},
   "outputs": [],
   "source": [
    "# distances between points on circle and centre of planet\n",
    "rP = np.array([0, -100]) # vector from centre of looping to centre of planet\n",
    "d_up = points_up[:-1] - rP # distances to points on right/left semicircle\n",
    "d_down = points_down[:-1] - rP\n",
    "\n",
    "d_up_mag = np.linalg.norm(d_up, axis=1)\n",
    "d_up_mag = np.stack([d_up_mag, d_up_mag], axis=1)\n",
    "d_down_mag = np.linalg.norm(d_down, axis=1)\n",
    "d_down_mag = np.stack([d_down_mag, d_down_mag], axis=1)\n",
    "\n",
    "m_object = 75 # object's mass in kg\n",
    "m_planet = 2e10 # planet's mass in kg\n",
    "G = 6.67e-11 # gravitational constant\n",
    "\n",
    "F_up = -G * m_object * m_planet * d_up / d_up_mag**3\n",
    "F_down = -G * m_object * m_planet * d_down / d_down_mag**3"
   ]
  },
  {
   "cell_type": "markdown",
   "id": "5b587163-6b5f-49ee-88a7-0aabfbd322fd",
   "metadata": {},
   "source": [
    "#### Work"
   ]
  },
  {
   "cell_type": "code",
   "execution_count": null,
   "id": "26ed7235-bea4-404c-8e23-d8c7ee962495",
   "metadata": {},
   "outputs": [],
   "source": [
    "# right semicircle\n",
    "dW_up = work_inh(F_up, ds_up) \n",
    "W_up = np.sum(dW_up)\n",
    "\n",
    "# left semicircle\n",
    "dW_down = work_inh(F_down, ds_down) \n",
    "W_down = np.sum(dW_down)\n",
    "\n",
    "print(f'work on way up:   W_up   = {W_up:.4f} J')\n",
    "print(f'work on way down: W_down =  {W_down:.4f} J')"
   ]
  },
  {
   "cell_type": "markdown",
   "id": "63bb5fbc-cffc-464b-a176-073b1663ca8e",
   "metadata": {},
   "source": [
    "#### Theoretical result\n",
    "The theoretical result is given by the expression\n",
    "\n",
    "$W = -G m_\\textrm{object} m_\\textrm{planet} \\left( \\frac{1}{r_A} - \\frac{1}{r_B} \\right)$\n",
    "\n",
    "where $r_A$ and $r_B$ are the distances to the centre of the planet for the start and end point, respectively.\n",
    "\n",
    "With $r_A$ = 95 m and $r_B$ = 105 m we can verify that the approximate solution is correct. By increasing the number of points on the circle, the accuracy of the approximation can be further improved."
   ]
  },
  {
   "cell_type": "code",
   "execution_count": null,
   "id": "34b3af87-e3c0-4b38-a3ad-ea0704bfdcce",
   "metadata": {},
   "outputs": [],
   "source": []
  }
 ],
 "metadata": {
  "language_info": {
   "name": "python",
   "pygments_lexer": "ipython3"
  }
 },
 "nbformat": 4,
 "nbformat_minor": 5
}
