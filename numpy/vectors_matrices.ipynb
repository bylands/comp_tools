{
 "cells": [
  {
   "cell_type": "markdown",
   "id": "119c06dd-0f00-4a3e-9716-d82658753776",
   "metadata": {},
   "source": [
    "# Vectors and Matrices in NumPy\n"
   ]
  },
  {
   "cell_type": "markdown",
   "id": "6ac485ba-79e3-4ecd-be61-de252bc29b4c",
   "metadata": {},
   "source": [
    "#### Vectors\n",
    "Vectors can be implemented as arrays with 2 (2D vectors) or 3 (3D vectors) elements. Typical vector operations can easily be calculated."
   ]
  },
  {
   "cell_type": "code",
   "execution_count": null,
   "id": "a635feca-591a-4a77-97f1-648c80b45e26",
   "metadata": {},
   "outputs": [],
   "source": [
    "import numpy as np\n",
    "\n",
    "u = np.array([1, 3, 2]) # vector u\n",
    "v = np.array([3, 2, 4]) # vector v\n",
    "\n",
    "print(f'sum: u + v = {u+v}')\n",
    "print(f'difference: u - v = {u-v}')\n",
    "print(f'scalar multiplication: 3 u = {3*u}')\n",
    "print(f'dot product: u · v = {np.dot(u, v)}')\n",
    "print(f'cross product: u x v = {np.cross(u, v)}')"
   ]
  },
  {
   "cell_type": "markdown",
   "id": "759158e0-9dcc-4bb0-ba42-22719e9cb52e",
   "metadata": {},
   "source": [
    "A two-dimensional array (array of vectors) can be used to perform calculations on several vectors at once."
   ]
  },
  {
   "cell_type": "code",
   "execution_count": null,
   "id": "c30592d1-8f9f-43b5-b1df-b57cf36ef0a2",
   "metadata": {},
   "outputs": [],
   "source": [
    "v_list = np.array([[1, 0, 0], [0, 2, 1], [1, 0, 3], [0, 2, 3]])\n",
    "\n",
    "print(f'sum of vectors: {np.sum(v_list, axis=0)}')"
   ]
  },
  {
   "cell_type": "markdown",
   "id": "73f31132-f894-43d5-94ec-fd5d108fa934",
   "metadata": {},
   "source": [
    "The keyword argument *axis* defines the level within the array that is used for the summation. With *axis=1* the summation acts on each of the four vectors:"
   ]
  },
  {
   "cell_type": "code",
   "execution_count": null,
   "id": "bdc9e85e-19a2-4557-bf49-5dc3d721c1bd",
   "metadata": {},
   "outputs": [],
   "source": [
    "print(f'sum of components within each vector: {np.sum(v_list, axis=1)}')"
   ]
  },
  {
   "cell_type": "markdown",
   "id": "e19f92dd-e305-408a-8483-3e30456c9c74",
   "metadata": {},
   "source": [
    "If *axis* is not defined, the values are added independently of their level."
   ]
  },
  {
   "cell_type": "code",
   "execution_count": null,
   "id": "c3108a39-6d9d-4765-b794-d208be503353",
   "metadata": {},
   "outputs": [],
   "source": [
    "print(f'sum of all components: {np.sum(v_list)}')"
   ]
  },
  {
   "cell_type": "markdown",
   "id": "9e1f3da6-0d89-47cf-b6b4-bc2aa348ed59",
   "metadata": {},
   "source": [
    "#### Matrices\n",
    "A two-dimensional array (i.e. a nested array) can also be interpreted as a matrix."
   ]
  },
  {
   "cell_type": "code",
   "execution_count": null,
   "id": "8b36e9ec-eadd-464a-96f0-12e8884c493e",
   "metadata": {},
   "outputs": [],
   "source": [
    "A = np.array([[0, 1, 9], [2, 0, 3], [6, 2, 3]])\n",
    "B = np.array([[0, 1, 3], [1, 0, 1], [3, 2, 1]])\n",
    "print(A)\n",
    "print()\n",
    "print(B)"
   ]
  },
  {
   "cell_type": "markdown",
   "id": "e8348cc8-759d-467a-9144-317057332e1a",
   "metadata": {},
   "source": [
    "Elements of the matrix can easily be accessed. Bear in mind that indices are zero-based."
   ]
  },
  {
   "cell_type": "code",
   "execution_count": null,
   "id": "d553ee65-c027-45dc-be27-f56257fe672f",
   "metadata": {},
   "outputs": [],
   "source": [
    "print(f'Element A(1, 2): {A[0, 1]}') # element in first row, second column"
   ]
  },
  {
   "cell_type": "code",
   "execution_count": null,
   "id": "cccaee65-c1c2-43dd-a5e2-6e07f4f8228a",
   "metadata": {},
   "outputs": [],
   "source": [
    "print(f'second row: {A[1, :]}')"
   ]
  },
  {
   "cell_type": "code",
   "execution_count": null,
   "id": "81eb09e3-15d2-4daa-b18a-6d36bdd44eb5",
   "metadata": {},
   "outputs": [],
   "source": [
    "print(f'third column: {A[:, 2]}')"
   ]
  },
  {
   "cell_type": "markdown",
   "id": "7672c8d0-01e7-4278-a6cb-94c98cc49a71",
   "metadata": {},
   "source": [
    "#### Matrix multiplication\n",
    "The symbol @ is used for matrix multiplication:"
   ]
  },
  {
   "cell_type": "code",
   "execution_count": null,
   "id": "916244fc-f148-4d1e-83fb-4dfa18db957d",
   "metadata": {},
   "outputs": [],
   "source": [
    "print(A @ B) # product of A and B\n",
    "print()\n",
    "print(A @ u) # A applied to vector u"
   ]
  },
  {
   "cell_type": "markdown",
   "id": "aaafdab5-0d27-4a53-84c6-aa9ce2ef08cf",
   "metadata": {},
   "source": [
    "The sub-library numpy.linalg contains additional methods to work with matrices."
   ]
  },
  {
   "cell_type": "code",
   "execution_count": null,
   "id": "d9d91656-d952-41bf-8876-7ba797ed886a",
   "metadata": {},
   "outputs": [],
   "source": [
    "from numpy.linalg import inv, eig"
   ]
  },
  {
   "cell_type": "markdown",
   "id": "da2bcf1e-5a9d-4644-a561-e8741efb6387",
   "metadata": {},
   "source": [
    "#### Inverted matrix"
   ]
  },
  {
   "cell_type": "code",
   "execution_count": null,
   "id": "2cc8be1f-e3e0-43e2-b70d-a5db630945b4",
   "metadata": {},
   "outputs": [],
   "source": [
    "print(inv(A)) # inverse of matrix A\n",
    "print()\n",
    "print(A @ inv(A)) # should be identity matrix; deviations are due to numerical errors\n",
    "print()\n",
    "print(np.round(A @ inv(A), decimals=5))"
   ]
  },
  {
   "cell_type": "markdown",
   "id": "01284235-5a02-4b5d-9e49-ab34b263eedd",
   "metadata": {},
   "source": [
    "#### Eigenvalues and eigenvectors"
   ]
  },
  {
   "cell_type": "code",
   "execution_count": null,
   "id": "a5cb9432-897c-461e-91ca-d624ab17e596",
   "metadata": {},
   "outputs": [],
   "source": [
    "values, matrix = eig(A)\n",
    "\n",
    "print(values) # eigenvalues of A\n",
    "print()\n",
    "print(matrix) # eigenvectors of A as a matrix, columns are eigenvectors"
   ]
  },
  {
   "cell_type": "code",
   "execution_count": null,
   "id": "8ebc579a-15fa-4f5d-9d78-a85d06422a74",
   "metadata": {},
   "outputs": [],
   "source": [
    "vectors = matrix.T # eigenvectors correspond to rows of transposed matrix\n",
    "\n",
    "for i in range(0, 3):\n",
    "    print(np.round(A @ vectors[i] - values[i] * vectors[i], decimals=5)) # verify if A v = \\lambda v"
   ]
  },
  {
   "cell_type": "markdown",
   "id": "0143d8c5-241f-4449-a5bc-fe9dcdaf1c26",
   "metadata": {},
   "source": [
    "#### Example: Solve system of linear equations\n",
    "Solve the following system of linear equations:\n",
    "\n",
    "$x + 2y + 3z = 13$ \\\n",
    "$y - z = -2$ \\\n",
    "$2x - y + z = 6$"
   ]
  },
  {
   "cell_type": "markdown",
   "id": "ea52d610-0ed2-4564-9624-88beab1c0c09",
   "metadata": {},
   "source": [
    "The system can be written as\n",
    "\n",
    "$M \\begin{pmatrix} x \\\\ y \\\\ z \\end{pmatrix} = \\vec{b}$\n",
    "\n",
    "with $M = \\begin{pmatrix} 1 & 2 & 3 \\\\ 0 & 1 & -1 \\\\ 2 & -1 & 1 \\end{pmatrix} \\quad$ and $\\quad \\vec{b} = \\begin{pmatrix} 13 \\\\ -2 \\\\ 6 \\end{pmatrix}$\n",
    "\n",
    "The solution is then $\\begin{pmatrix} x \\\\ y \\\\ z \\end{pmatrix} = M^{-1}\\, \\vec{b}$"
   ]
  },
  {
   "cell_type": "code",
   "execution_count": null,
   "id": "3a077041-f4d4-46ab-b876-36c93f4e0698",
   "metadata": {},
   "outputs": [],
   "source": [
    "M = np.array([[1, 2, 3], [0, 1, -1], [2, -1, 1]])\n",
    "b = np.array([13, -2, 6])\n",
    "\n",
    "x, y, z = inv(M) @ b\n",
    "\n",
    "print(f'The solution is {x=:.1f}, {y=:.1f}, {z=:.1f}')"
   ]
  }
 ],
 "metadata": {
  "language_info": {
   "name": "python",
   "pygments_lexer": "ipython3"
  }
 },
 "nbformat": 4,
 "nbformat_minor": 5
}
