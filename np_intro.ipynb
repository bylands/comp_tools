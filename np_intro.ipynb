{
 "cells": [
  {
   "cell_type": "markdown",
   "id": "119c06dd-0f00-4a3e-9716-d82658753776",
   "metadata": {},
   "source": [
    "# Introduction to NumPy for Analysis of Lab Data"
   ]
  },
  {
   "cell_type": "markdown",
   "id": "0bb68247-ef0c-4249-9cbb-638988df0a45",
   "metadata": {},
   "source": [
    "### Import Libraries"
   ]
  },
  {
   "cell_type": "code",
   "execution_count": null,
   "id": "d43296ab-1375-48ee-a2d4-7fa69f4ab8f0",
   "metadata": {},
   "outputs": [],
   "source": [
    "import numpy as np\n",
    "import matplotlib.pyplot as plt"
   ]
  },
  {
   "cell_type": "markdown",
   "id": "aa8cb6d3-e365-4e40-b2cc-017c8962c46c",
   "metadata": {},
   "source": [
    "## Example: Measuring density\n",
    "Six students measure mass and side of the same brass cube. They end up with slightly different values. The measured data is listed below. How can we efficiently calculate the densities resulting from this data?"
   ]
  },
  {
   "cell_type": "markdown",
   "id": "294f5e65-d2bc-4826-a721-385631285a17",
   "metadata": {},
   "source": [
    "#### Define arrays for measured data"
   ]
  },
  {
   "cell_type": "code",
   "execution_count": null,
   "id": "c3b89083-fe08-4b61-bccc-c37cdd1d8d30",
   "metadata": {},
   "outputs": [],
   "source": [
    "m = np.array([69.3, 69.1, 69.0, 69.0, 69.2, 69.2]) # mass in g\n",
    "a = np.array([2.05, 2.00, 2.05, 1.95, 2.00, 2.00]) # side in cm"
   ]
  },
  {
   "cell_type": "markdown",
   "id": "bbf89c94-cc9e-4194-93c9-fe2f5e8a3990",
   "metadata": {},
   "source": [
    "#### Find some characteristic values"
   ]
  },
  {
   "cell_type": "code",
   "execution_count": null,
   "id": "fd570a23-e817-49fb-854c-2cc9aa5d4641",
   "metadata": {},
   "outputs": [],
   "source": [
    "m_max = np.max(m)\n",
    "m_min = np.min(m)\n",
    "m_mean = np.mean(m)\n",
    "print(f'max: {m_max} g, min: {m_min} g, mean: {m_mean:.2f} g')"
   ]
  },
  {
   "cell_type": "markdown",
   "id": "2526a1a5-397e-49f4-8a0d-ad305f39a354",
   "metadata": {},
   "source": [
    "Many more funcitons can be found in the documentation for NumPy. In particular, most standard functions can be applied to the elements of an array."
   ]
  },
  {
   "cell_type": "markdown",
   "id": "8d95b5c1-415d-4223-b0f5-2e44226dea3a",
   "metadata": {},
   "source": [
    "#### Calculate volumes and densities"
   ]
  },
  {
   "cell_type": "code",
   "execution_count": null,
   "id": "025036f5-1ff8-47da-91ad-0d662bf5e11f",
   "metadata": {},
   "outputs": [],
   "source": [
    "V = a**3\n",
    "rh = m/V\n",
    "print(f'densities: {rh}')"
   ]
  },
  {
   "cell_type": "markdown",
   "id": "fe440856-a2f1-44c3-99ff-a96e947e82cc",
   "metadata": {},
   "source": [
    "#### Mean value and deviations"
   ]
  },
  {
   "cell_type": "code",
   "execution_count": null,
   "id": "22bba13f-7162-4224-82aa-d211854f4b5c",
   "metadata": {},
   "outputs": [],
   "source": [
    "rh_mean = np.mean(rh)\n",
    "rh_dev_max = np.max(rh)-rh_mean\n",
    "rh_dev_min = rh_mean-np.min(rh)\n",
    "print(f'mean density: {rh_mean:.1f} g/cm^3')\n",
    "print(f'deviation max-mean: {rh_dev_max:.1f} g/cm^3')\n",
    "print(f'deviation min-mean: {rh_dev_min:.1f} g/cm^3')"
   ]
  },
  {
   "cell_type": "code",
   "execution_count": null,
   "id": "cba49c8a-d096-459b-8a73-2cec534d31dc",
   "metadata": {},
   "outputs": [],
   "source": []
  }
 ],
 "metadata": {
  "language_info": {
   "name": "python",
   "pygments_lexer": "ipython3"
  }
 },
 "nbformat": 4,
 "nbformat_minor": 5
}
