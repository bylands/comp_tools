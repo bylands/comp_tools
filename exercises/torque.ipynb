{
 "cells": [
  {
   "cell_type": "markdown",
   "id": "a5206cc1-0493-4c96-a525-ef81ecdc1d7a",
   "metadata": {},
   "source": [
    "# Unbalanced Wheel\n",
    "For an ideal wheel rotating about its symmetry axis, there is no torque caused by gravitation. The goal of this exercise is to calculate the torque acting on an unbalanced wheel. We assume that a mass $m$ is attached to a point of the otherwise perfectly symmetrical wheel."
   ]
  },
  {
   "cell_type": "code",
   "execution_count": 1,
   "id": "433f321c-9f88-46b2-8f81-8403c475e639",
   "metadata": {},
   "outputs": [],
   "source": [
    "import numpy as np\n",
    "import matplotlib.pyplot as plt"
   ]
  },
  {
   "cell_type": "markdown",
   "id": "5b6bd718-81cc-48c7-834f-2adf544d32aa",
   "metadata": {},
   "source": [
    "#### Define torque"
   ]
  },
  {
   "cell_type": "code",
   "execution_count": 17,
   "id": "52e466a6-1883-40d2-8235-f1ee2b2477eb",
   "metadata": {},
   "outputs": [],
   "source": [
    "def torque(r, F):\n",
    "    return np.cross(r, F)"
   ]
  },
  {
   "cell_type": "markdown",
   "id": "f4e9e596-0e32-4e1d-ba88-0520302d0810",
   "metadata": {},
   "source": [
    "#### Verify torque for some special points\n",
    "To verify if the torque is calculated correctly, we verify the results for a few special cases. We assume that the wheel has a radius of 25 cm, and that the weight of the additional mass is 1.5 N (vertically downwards).\n",
    "- Torque if the additional mass is at the top or bottom of the wheel.\n",
    "- Torque if the additional mass is to the left or right of the centre of the wheel."
   ]
  },
  {
   "cell_type": "code",
   "execution_count": 21,
   "id": "0355880c-721b-4a44-ac2e-95f7576bad83",
   "metadata": {},
   "outputs": [
    {
     "name": "stdout",
     "output_type": "stream",
     "text": [
      "top of wheel: M = [ 0.  0. -0.] Nm\n",
      "bottom of wheel: M = [0. 0. 0.] Nm\n",
      "right of wheel: M = [ 0.     0.    -0.375] Nm\n",
      "left of wheel: M = [0.    0.    0.375] Nm\n"
     ]
    }
   ],
   "source": [
    "r = 0.25 # radius in m\n",
    "F = np.array([0, -1.5, 0]) # force as a 3d vector\n",
    "\n",
    "# Top of wheel\n",
    "r_vec = np.array([0, r, 0])\n",
    "print(f'top of wheel: M = {torque(r_vec, F)} Nm')\n",
    "\n",
    "# Bottom of wheel\n",
    "r_vec = np.array([0, -r, 0])\n",
    "print(f'bottom of wheel: M = {torque(r_vec, F)} Nm')\n",
    "\n",
    "# Right of wheel\n",
    "r_vec = np.array([r, 0, 0])\n",
    "print(f'right of wheel: M = {torque(r_vec, F)} Nm')\n",
    "\n",
    "# Left of wheel\n",
    "r_vec = np.array([-r, 0, 0])\n",
    "print(f'left of wheel: M = {torque(r_vec, F)} Nm')\n"
   ]
  },
  {
   "cell_type": "markdown",
   "id": "4e81451f-5496-4968-8d6c-b0c69a1db2ed",
   "metadata": {},
   "source": [
    "When the force acts on a point either on top or below the rotational axis, the torque is zero. When it acts on a point to the right of the rotational axis, the torque point in the negativ $z$ direction. This correcponds to a torque acting clockwise around the rotational axis of the wheel. The last case can be interpreted analogously."
   ]
  },
  {
   "cell_type": "markdown",
   "id": "e1e31f36-aff0-478e-b0ed-eb4ae649ffd6",
   "metadata": {},
   "source": [
    "### Average torque\n",
    "To calculate the average torque during half a revolution of the wheel, we divide the rotation into small steps and calculate the torque for each step. We assume that the wheel rotates at a constant angular velocity."
   ]
  },
  {
   "cell_type": "markdown",
   "id": "853a3b3c-e293-43a4-9ce0-817e1dc03e82",
   "metadata": {},
   "source": [
    "#### Define points on wheel\n",
    "We choose $n$ points on the wheel."
   ]
  },
  {
   "cell_type": "code",
   "execution_count": 63,
   "id": "672aef45-7144-4ce8-9bdd-0e0f65ab3405",
   "metadata": {},
   "outputs": [],
   "source": [
    "n = 100 # number of points per semicircle\n",
    "\n",
    "# calculate n angles in range [0, π]\n",
    "angles = [np.pi / n * i for i in range(n)]\n",
    "\n",
    "# calculate x, y and z coordinates\n",
    "x = r * np.sin(angles)\n",
    "y = r * np.cos(angles)\n",
    "z = np.zeros(n)\n",
    "\n",
    "r_vec = np.stack([x, y, z], axis=1)"
   ]
  },
  {
   "cell_type": "markdown",
   "id": "9f517927-f6fb-4d84-ba12-40cccc3b6632",
   "metadata": {},
   "source": [
    "#### Calculate torques and average torque"
   ]
  },
  {
   "cell_type": "code",
   "execution_count": 64,
   "id": "b1ecde6f-03e9-4cda-9bd7-ff995d18b5be",
   "metadata": {},
   "outputs": [
    {
     "name": "stdout",
     "output_type": "stream",
     "text": [
      "Average torque for first halve revolution:\n",
      "-0.239 Nm = 0.637 M_max\n"
     ]
    }
   ],
   "source": [
    "torques = torque(r_vec, F)\n",
    "torque_av = torques.mean(axis=0)[2]\n",
    "torque_max = torques.min(axis=0)[2]\n",
    "\n",
    "print(f'Average torque for first halve revolution:')\n",
    "print(f'{torque_av:.3f} Nm = {torque_av/torque_max:.3f} M_max')"
   ]
  },
  {
   "cell_type": "code",
   "execution_count": null,
   "id": "34b3af87-e3c0-4b38-a3ad-ea0704bfdcce",
   "metadata": {},
   "outputs": [],
   "source": []
  }
 ],
 "metadata": {
  "kernelspec": {
   "display_name": "Python 3 (ipykernel)",
   "language": "python",
   "name": "python3"
  },
  "language_info": {
   "codemirror_mode": {
    "name": "ipython",
    "version": 3
   },
   "file_extension": ".py",
   "mimetype": "text/x-python",
   "name": "python",
   "nbconvert_exporter": "python",
   "pygments_lexer": "ipython3",
   "version": "3.13.5"
  }
 },
 "nbformat": 4,
 "nbformat_minor": 5
}
