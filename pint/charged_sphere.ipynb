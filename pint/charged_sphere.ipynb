{
 "cells": [
  {
   "cell_type": "markdown",
   "id": "05417d10",
   "metadata": {},
   "source": [
    "# Charged Sphere"
   ]
  },
  {
   "cell_type": "code",
   "execution_count": 5,
   "id": "8fef3ae2",
   "metadata": {},
   "outputs": [],
   "source": [
    "from pint import UnitRegistry\n",
    "from scipy.constants import electron_mass, elementary_charge"
   ]
  },
  {
   "cell_type": "code",
   "execution_count": 20,
   "id": "96f09e85",
   "metadata": {},
   "outputs": [
    {
     "name": "stdout",
     "output_type": "stream",
     "text": [
      "number of electrons: 4.56×10¹¹\n",
      "mass transfer: 4.15×10⁻¹⁹ kg\n"
     ]
    }
   ],
   "source": [
    "ureg = UnitRegistry()\n",
    "\n",
    "Q = ureg('-73 nC')\n",
    "e = elementary_charge * ureg('C')\n",
    "me = electron_mass * ureg('kg')\n",
    "\n",
    "Ne = Q/(-e)\n",
    "dm = Ne * me\n",
    "\n",
    "print(f'number of electrons: {Ne.to_base_units():.2e~P}')\n",
    "print(f'mass transfer: {dm.to_base_units():.2e~P}')"
   ]
  }
 ],
 "metadata": {
  "kernelspec": {
   "display_name": "da-lab",
   "language": "python",
   "name": "python3"
  },
  "language_info": {
   "codemirror_mode": {
    "name": "ipython",
    "version": 3
   },
   "file_extension": ".py",
   "mimetype": "text/x-python",
   "name": "python",
   "nbconvert_exporter": "python",
   "pygments_lexer": "ipython3",
   "version": "3.13.7"
  }
 },
 "nbformat": 4,
 "nbformat_minor": 5
}
