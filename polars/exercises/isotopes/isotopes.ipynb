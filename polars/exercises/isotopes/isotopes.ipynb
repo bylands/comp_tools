{
 "cells": [
  {
   "cell_type": "markdown",
   "id": "d0426f63-14f2-43a4-94b8-bb97e5d5922d",
   "metadata": {},
   "source": [
    "# Isotope Masses\n",
    "You are going to analyse the masses of the known isotopes."
   ]
  },
  {
   "cell_type": "markdown",
   "id": "dd2a9223-c4d2-4c37-9b69-520b938d5f53",
   "metadata": {},
   "source": [
    "#### Reading data\n",
    "The data is read from a *parquet* file. This file format contains the datatypes (e.g. int or float) in addition to the actual values."
   ]
  },
  {
   "cell_type": "code",
   "execution_count": null,
   "id": "efdc29c1-5d55-4979-9ed0-bf15fc0f538d",
   "metadata": {},
   "outputs": [],
   "source": [
    "import polars as pl\n",
    "\n",
    "isotopes = pl.read_parquet('isotopes.parquet')"
   ]
  },
  {
   "cell_type": "markdown",
   "id": "27998418-d02c-44fd-b825-4c26fff90958",
   "metadata": {},
   "source": [
    "#### Browsing the data\n",
    "Have first look at the dataframe and find out about the different columns, the number of isotopes, etc."
   ]
  },
  {
   "cell_type": "code",
   "execution_count": null,
   "id": "a714bc80-f2af-4627-8745-ef50b9882d6b",
   "metadata": {},
   "outputs": [],
   "source": []
  },
  {
   "cell_type": "markdown",
   "id": "a18aaa79-dfdd-499a-8f6c-1488bdeda3d6",
   "metadata": {},
   "source": [
    "#### Some search tasks\n",
    "Answer the following questions:\n",
    "- Which isotope has the greates atomic mass?\n",
    "- How many oxygen isotopes are known?\n",
    "- Which element has the greatest number of isotopes?\n",
    "- Which lead (Pb) isotopes have a non-negligible abundance (column *Isotopic Composition*) and do their abundances add up to 100 %?"
   ]
  },
  {
   "cell_type": "code",
   "execution_count": null,
   "id": "78ecd982-d3d3-4dca-bf8e-2ded330ca732",
   "metadata": {},
   "outputs": [],
   "source": []
  },
  {
   "cell_type": "code",
   "execution_count": null,
   "id": "31dcc464-a850-4b58-8d54-239e9f3b6350",
   "metadata": {},
   "outputs": [],
   "source": []
  },
  {
   "cell_type": "code",
   "execution_count": null,
   "id": "bf411a3c-0e07-49eb-bd3e-b99a897de6ac",
   "metadata": {},
   "outputs": [],
   "source": []
  },
  {
   "cell_type": "code",
   "execution_count": null,
   "id": "06ad8d7c-efb7-4ced-b9e2-9488e470a810",
   "metadata": {},
   "outputs": [],
   "source": []
  }
 ],
 "metadata": {
  "language_info": {
   "name": "python",
   "pygments_lexer": "ipython3"
  }
 },
 "nbformat": 4,
 "nbformat_minor": 5
}
