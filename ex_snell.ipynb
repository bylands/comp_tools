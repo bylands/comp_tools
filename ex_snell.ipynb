{
 "cells": [
  {
   "cell_type": "markdown",
   "id": "f908e83f-c74d-4df7-bf20-e322c278f67f",
   "metadata": {},
   "source": [
    "# Exercises: Data Analysis with Python"
   ]
  },
  {
   "cell_type": "code",
   "execution_count": null,
   "id": "35652243-4b25-485c-8cfa-ef147037e78a",
   "metadata": {},
   "outputs": [],
   "source": [
    "import numpy as np\n",
    "import matplotlib.pyplot as plt"
   ]
  },
  {
   "cell_type": "markdown",
   "id": "609a54aa-c88a-40e5-9f32-ff10645eef75",
   "metadata": {},
   "source": [
    "## Snell's law\n",
    "The following data was measured by two students for the refraction of light going from air to acrylic glass. The first array contains the angles for the incoming lightrays, the second array the corresponding angles for the refracted rays. All angles were measured in degrees."
   ]
  },
  {
   "cell_type": "code",
   "execution_count": null,
   "id": "624e75ec-bb4f-4c75-b9a0-b80434e7f794",
   "metadata": {},
   "outputs": [],
   "source": [
    "al = np.arange(6, 90, 6)\n",
    "be = np.array([3, 8, 11, 16, 20, 23, 26.5, 30, 33, 35.5, 38, 40, 41, 42])"
   ]
  },
  {
   "cell_type": "markdown",
   "id": "8cc1b517-096f-4f7f-ae39-92c0495a8964",
   "metadata": {},
   "source": [
    "Convert the angles to radians and add arrays for the sine of the angles. Assuming a measurement error of 0.5°, determine the errors of the sine values."
   ]
  },
  {
   "cell_type": "code",
   "execution_count": null,
   "id": "73fc652e-e920-4acf-b885-027cf21a8817",
   "metadata": {},
   "outputs": [],
   "source": [
    "al_rad = np.radians(al)\n",
    "be_rad = np.radians(be)\n",
    "d = np.radians(0.5)\n",
    "\n",
    "sin_al = np.sin(al_rad)\n",
    "sin_be = np.sin(be_rad)\n",
    "\n",
    "d_sin_al = np.sin(al_rad+d) - np.sin(al_rad)\n",
    "d_sin_be = np.sin(be_rad+d) - np.sin(be_rad)"
   ]
  },
  {
   "cell_type": "markdown",
   "id": "3bb590d4-0165-4e88-a39b-793e8d672373",
   "metadata": {},
   "source": [
    "Graph the sine of the incoming angle vs. the sine of the refractive angle (with error bars). Fit a straight line through the origin to the data and determine its slope (including statistical error), which corresponds to the refractive index."
   ]
  },
  {
   "cell_type": "code",
   "execution_count": null,
   "id": "fb7c3960-8dd5-47e3-ab81-3d3f345cb8ca",
   "metadata": {},
   "outputs": [],
   "source": [
    "from scipy.optimize import curve_fit\n",
    "def f(x, n):\n",
    "    return n * x\n",
    "\n",
    "coeff1, pcov1 = curve_fit(f, sin_be, sin_al)\n",
    "n1 = coeff1[0]\n",
    "\n",
    "x = np.linspace(0, sin_be[-1], 100)\n",
    "y = f(x, n1)\n",
    "\n",
    "plt.xlabel(r'$\\sin(\\beta)$')\n",
    "plt.ylabel(r'$\\sin(\\alpha)$')\n",
    "plt.errorbar(sin_be, sin_al, xerr=d_sin_be, yerr=d_sin_al, fmt='.', label='data')\n",
    "plt.plot(x, y, color='red', label='linear fit')\n",
    "plt.legend()"
   ]
  },
  {
   "cell_type": "code",
   "execution_count": null,
   "id": "a7c0f899-8bfd-4dea-8a6f-840336ab5d17",
   "metadata": {},
   "outputs": [],
   "source": [
    "dn1 = np.sqrt(pcov1[0, 0])\n",
    "print(f'The refractive index is n = {n1:.3f} ± {dn1:.3f}')"
   ]
  },
  {
   "cell_type": "markdown",
   "id": "010c3635-c94f-4cca-9f34-f3ff75999345",
   "metadata": {},
   "source": [
    "This value is compatible with typical values for acrylic glass."
   ]
  },
  {
   "cell_type": "markdown",
   "id": "994594e9-9d4c-4e0b-a68a-77a453e1dec4",
   "metadata": {},
   "source": [
    "Alternatively, the value for the refractive index can be determined by graphing the angles directly and then fitting a more complicated function: \\\n",
    "$\\sin(\\alpha) = n \\sin(\\beta) \\Longrightarrow \\alpha = \\arcsin\\left(n \\sin(\\beta)\\right)$"
   ]
  },
  {
   "cell_type": "code",
   "execution_count": null,
   "id": "68b588fe-48a0-404a-8e8e-13c5e6de8aa4",
   "metadata": {},
   "outputs": [],
   "source": [
    "def g(x, n):\n",
    "    return np.arcsin(n * np.sin(x))\n",
    "\n",
    "coeff2, pcov2 = curve_fit(g, be_rad, al_rad)\n",
    "n2 = coeff2[0]\n",
    "\n",
    "u = np.linspace(0, be_rad[-1], 100)\n",
    "v = g(u, n2)\n",
    "\n",
    "plt.xlabel(r'$\\beta$ (rad)')\n",
    "plt.ylabel(r'$\\alpha$ (rad)')\n",
    "plt.errorbar(be_rad, al_rad, xerr=d, yerr=d, fmt='.', label='data')\n",
    "plt.plot(u, v, color='red', label=\"fit (Snell's law)\")\n",
    "plt.legend()"
   ]
  },
  {
   "cell_type": "code",
   "execution_count": null,
   "id": "c6aa18f8-c005-468c-be1d-d462de40e6e2",
   "metadata": {},
   "outputs": [],
   "source": [
    "dn2 = np.sqrt(pcov2[0, 0])\n",
    "print(f'The refractive index is n = {n2:.3f} ± {dn2:.3f}')"
   ]
  },
  {
   "cell_type": "markdown",
   "id": "f4733e81-69c5-493a-a4a7-1dbb0deebf80",
   "metadata": {},
   "source": [
    "The results of the two approaches are compatible."
   ]
  },
  {
   "cell_type": "markdown",
   "id": "37780d1a-3041-4afc-b0fa-30f4f4f9f05b",
   "metadata": {},
   "source": [
    "Create the residual plots for both curve fits."
   ]
  },
  {
   "cell_type": "code",
   "execution_count": null,
   "id": "ca548e31-6778-409c-97d3-b33bb7649785",
   "metadata": {},
   "outputs": [],
   "source": [
    "n_datapoint = range(1, len(al)+1)\n",
    "\n",
    "res1 = sin_al - f(sin_be, n1)\n",
    "\n",
    "plt.xlabel('number of data point')\n",
    "plt.ylabel('residuals')\n",
    "plt.errorbar(n_datapoint, res1, yerr=d_sin_al, fmt='.', capsize=2)\n",
    "plt.grid()"
   ]
  },
  {
   "cell_type": "code",
   "execution_count": null,
   "id": "0cf7e86f-ee6e-46f8-9864-0992e8cd7a5e",
   "metadata": {},
   "outputs": [],
   "source": [
    "res2 = al_rad - g(be_rad, n1)\n",
    "\n",
    "plt.xlabel('number of data point')\n",
    "plt.ylabel('residuals (rad)')\n",
    "plt.errorbar(n_datapoint, res2, yerr=d, fmt='.', capsize=2)\n",
    "plt.grid()"
   ]
  },
  {
   "cell_type": "markdown",
   "id": "5f30199c-2ed9-42d1-a3c7-71900dd5cf22",
   "metadata": {},
   "source": [
    "Both residual plots look similar. For five of the 14 data points the deviation from the theoretical model is greater than the error range. This is probably due to an over-optimistic error estimate."
   ]
  }
 ],
 "metadata": {
  "language_info": {
   "name": "python",
   "pygments_lexer": "ipython3"
  }
 },
 "nbformat": 4,
 "nbformat_minor": 5
}
