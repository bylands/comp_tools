{
 "cells": [
  {
   "cell_type": "markdown",
   "id": "f908e83f-c74d-4df7-bf20-e322c278f67f",
   "metadata": {},
   "source": [
    "# Exercises: Data Analysis with Python"
   ]
  },
  {
   "cell_type": "code",
   "execution_count": null,
   "id": "35652243-4b25-485c-8cfa-ef147037e78a",
   "metadata": {},
   "outputs": [],
   "source": [
    "import numpy as np\n",
    "import matplotlib.pyplot as plt"
   ]
  },
  {
   "cell_type": "markdown",
   "id": "609a54aa-c88a-40e5-9f32-ff10645eef75",
   "metadata": {},
   "source": [
    "## Decay Numbers\n",
    "In order to investigate the random fluctuation of decay numbers for a radioactive source, the events measured within 5 s are recorded 2500 times. The data is stored in a csv file (counts.csv)."
   ]
  },
  {
   "cell_type": "code",
   "execution_count": null,
   "id": "624e75ec-bb4f-4c75-b9a0-b80434e7f794",
   "metadata": {},
   "outputs": [],
   "source": [
    "counts = np.genfromtxt('counts.csv', delimiter='c')\n",
    "n = counts.size\n",
    "print(n) # print number of entries"
   ]
  },
  {
   "cell_type": "markdown",
   "id": "8cc1b517-096f-4f7f-ae39-92c0495a8964",
   "metadata": {},
   "source": [
    "Calculate the mean value and the standard deviation."
   ]
  },
  {
   "cell_type": "code",
   "execution_count": null,
   "id": "73fc652e-e920-4acf-b885-027cf21a8817",
   "metadata": {},
   "outputs": [],
   "source": [
    "counts_mean = np.mean(counts)\n",
    "counts_std = np.std(counts)\n",
    "\n",
    "print(f'mean: {counts_mean:.2f}, standard deviation: {counts_std:.2f}')"
   ]
  },
  {
   "cell_type": "markdown",
   "id": "3bb590d4-0165-4e88-a39b-793e8d672373",
   "metadata": {},
   "source": [
    "Calculate the fraction of measurements where the number of counts is within one standard deviation from the mean. What is the fraction within two or three standard deviations?"
   ]
  },
  {
   "cell_type": "code",
   "execution_count": null,
   "id": "fb7c3960-8dd5-47e3-ab81-3d3f345cb8ca",
   "metadata": {},
   "outputs": [],
   "source": [
    "def n_sigma(n):\n",
    "    lower = counts_mean - n * counts_std\n",
    "    upper = counts_mean + n * counts_std\n",
    "    return np.sum((counts > lower) & (counts < upper))\n",
    "\n",
    "for i in range(3):\n",
    "    print(f'fraction within {i} std dev: {n_sigma(i+1)/n*100:.1f} %')"
   ]
  },
  {
   "cell_type": "markdown",
   "id": "5f38bdcd-6be5-4db9-8b75-8101cd51029e",
   "metadata": {},
   "source": [
    "Make a histogram for the number of counts."
   ]
  },
  {
   "cell_type": "code",
   "execution_count": null,
   "id": "68b588fe-48a0-404a-8e8e-13c5e6de8aa4",
   "metadata": {},
   "outputs": [],
   "source": [
    "counts_max = int(max(counts))\n",
    "counts_min = int(min(counts))\n",
    "bins = range(counts_min, counts_max+2) # bins: [0, 1), [1, 2), ...\n",
    "plt.xlabel('# of counts')\n",
    "plt.ylabel('frequency')\n",
    "plt.hist(counts, bins=bins, align='left')\n",
    "plt.xticks(range(counts_max+1))\n",
    "plt.show()"
   ]
  },
  {
   "cell_type": "markdown",
   "id": "2fb2d614-373d-4693-829e-51d25d707aa3",
   "metadata": {},
   "source": [
    "Compare the measured distribution to a normal distribution: $f(c) = f_0 e^{-\\frac{(c-c_0)^2}{2\\sigma^2}}$ \\\n",
    "Are the fit parameters as expected?"
   ]
  },
  {
   "cell_type": "code",
   "execution_count": null,
   "id": "c6aa18f8-c005-468c-be1d-d462de40e6e2",
   "metadata": {},
   "outputs": [],
   "source": [
    "from scipy.optimize import curve_fit\n",
    "\n",
    "def f(c, f0, c0, si):\n",
    "    return f0 * np.exp(-(c-c0)**2/(2*si**2))\n",
    "\n",
    "hist, bin_edges = np.histogram(counts, bins)\n",
    "coeff, pcov = curve_fit(f, bin_edges[:-1], hist, p0=[120, 12, 3])\n",
    "f0, c0, si = coeff\n",
    "hist_peak = np.max(hist)\n",
    "hist_peak_at = bin_edges[(np.where(hist == hist_peak)[0][0])]\n",
    "\n",
    "print(f'peak value: data -> {hist_peak}, normal distribution -> {f0:.1f}')\n",
    "print(f'peak position: data -> {hist_peak_at}, normal distribution -> {c0:.1f}')\n",
    "print(f'standard deviation: data -> {counts_std:.2f}, normal distribution -> {si:.2f}')"
   ]
  },
  {
   "cell_type": "code",
   "execution_count": null,
   "id": "d0c24a78-8cb9-4bb3-b345-8d4cfdef420b",
   "metadata": {},
   "outputs": [],
   "source": [
    "f0, c0, si = coeff\n",
    "x = np.linspace(0, counts_max, 100)\n",
    "normal = f(x, f0, c0, si)\n",
    "\n",
    "counts_max = int(max(counts))\n",
    "counts_min = int(min(counts))\n",
    "bins = range(counts_min, counts_max+2) # bins: [0, 1), [1, 2), ...\n",
    "plt.xlabel('# of counts')\n",
    "plt.ylabel('frequency')\n",
    "plt.hist(counts, bins=bins, align='left', label='data')\n",
    "plt.plot(x, normal, color='red', label='normal distribution')\n",
    "plt.xticks(range(counts_max+1))\n",
    "plt.legend()\n",
    "plt.show()"
   ]
  }
 ],
 "metadata": {
  "kernelspec": {
   "display_name": "Python 3 (ipykernel)",
   "language": "python",
   "name": "python3"
  },
  "language_info": {
   "codemirror_mode": {
    "name": "ipython",
    "version": 3
   },
   "file_extension": ".py",
   "mimetype": "text/x-python",
   "name": "python",
   "nbconvert_exporter": "python",
   "pygments_lexer": "ipython3",
   "version": "3.13.3"
  }
 },
 "nbformat": 4,
 "nbformat_minor": 5
}
