{
 "cells": [
  {
   "cell_type": "code",
   "execution_count": null,
   "id": "4287cb6e-d3b0-4d12-aa1e-1a83ec0fa5e0",
   "metadata": {},
   "outputs": [],
   "source": [
    "import polars as pl"
   ]
  },
  {
   "cell_type": "code",
   "execution_count": null,
   "id": "39b59c7e-b4e2-43e8-a8a0-55caf5071a33",
   "metadata": {},
   "outputs": [],
   "source": []
  }
 ],
 "metadata": {
  "language_info": {
   "name": "python",
   "pygments_lexer": "ipython3"
  }
 },
 "nbformat": 4,
 "nbformat_minor": 5
}
