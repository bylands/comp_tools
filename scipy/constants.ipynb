{
 "cells": [
  {
   "cell_type": "markdown",
   "id": "119c06dd-0f00-4a3e-9716-d82658753776",
   "metadata": {},
   "source": [
    "# Physical Constants\n",
    "The Python library *SciPy* (https://scipy.org/) contains a collection of important physical constants and units."
   ]
  },
  {
   "cell_type": "markdown",
   "id": "1d6414d3-49c1-4679-8710-4f7a25be7591",
   "metadata": {},
   "source": [
    "### Import constants"
   ]
  },
  {
   "cell_type": "code",
   "execution_count": null,
   "id": "1352184e-7357-442d-b648-9de0c89b35bf",
   "metadata": {},
   "outputs": [],
   "source": [
    "from scipy import constants"
   ]
  },
  {
   "cell_type": "markdown",
   "id": "c2996c2a-7ed4-4269-9eac-0dc4fbf9c78b",
   "metadata": {},
   "source": [
    "#### Show list of constants\n",
    "A list of the constants and units in scipy.constants can be found on https://docs.scipy.org/doc/scipy/reference/constants.html."
   ]
  },
  {
   "cell_type": "code",
   "execution_count": null,
   "id": "b3289969-6562-4e81-8481-7514db34d607",
   "metadata": {},
   "outputs": [],
   "source": [
    "for c in dir(constants):\n",
    "    print(c)"
   ]
  },
  {
   "cell_type": "markdown",
   "id": "3d0a39b1-7aac-4525-a914-bf5b24089195",
   "metadata": {},
   "source": [
    "#### Using constants"
   ]
  },
  {
   "cell_type": "code",
   "execution_count": null,
   "id": "7d0bcfbe-814f-4b05-969d-2d404e558124",
   "metadata": {},
   "outputs": [],
   "source": [
    "print(f'elementary charge: e = {constants.elementary_charge} C')\n",
    "print(f'electron mass: me = {constants.electron_mass} kg')"
   ]
  },
  {
   "cell_type": "code",
   "execution_count": null,
   "id": "6a54565c-0a73-4c59-b8c8-30961586d0c8",
   "metadata": {},
   "outputs": [],
   "source": [
    "# convert proton mass to MeV\n",
    "mp = constants.m_p # proton mass in kg\n",
    "c = constants.speed_of_light # speed of light\n",
    "MeV = 1e6 * constants.electron_volt # conversion factor J -> MeV\n",
    "\n",
    "mp_MeV = mp * c**2 / MeV # convert from kg to MeV/c^2\n",
    "\n",
    "print(f'proton mass: mp = {mp_MeV} MeV/c^2')"
   ]
  },
  {
   "cell_type": "markdown",
   "id": "4c56d57b-b6a8-4791-9c4b-99077589f568",
   "metadata": {},
   "source": [
    "#### Additional Constants\n",
    "The dictionary *physical_constants* contains the recommended values (including uncertainties) of a large number of physical constants, as listed in the CODATA database. The return value is a dictionary containing the value, unit, and uncertainty."
   ]
  },
  {
   "cell_type": "code",
   "execution_count": null,
   "id": "6ac03b72-f612-4af4-ab6e-9244bdfdf7bd",
   "metadata": {},
   "outputs": [],
   "source": [
    "m_al, unit, uncertainty = constants.physical_constants['alpha particle mass']\n",
    "print(f'mass of alpha particle: {m_al} {unit} (± {uncertainty} {unit})')"
   ]
  },
  {
   "cell_type": "code",
   "execution_count": null,
   "id": "9bf76cec-0b7d-4a92-b537-3a5c3a960c9a",
   "metadata": {},
   "outputs": [],
   "source": [
    "# The speed of light is an exact value in the SI system, so it has no uncertainty.\n",
    "c, unit, uncertainty = constants.physical_constants['speed of light in vacuum']\n",
    "print(f'speed of light: {c:.0f} {unit} (± {uncertainty} {unit})')"
   ]
  }
 ],
 "metadata": {
  "language_info": {
   "name": "python",
   "pygments_lexer": "ipython3"
  }
 },
 "nbformat": 4,
 "nbformat_minor": 5
}
