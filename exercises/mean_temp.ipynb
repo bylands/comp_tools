{
 "cells": [
  {
   "cell_type": "markdown",
   "id": "f908e83f-c74d-4df7-bf20-e322c278f67f",
   "metadata": {},
   "source": [
    "# Exercises: Data Analysis with Python"
   ]
  },
  {
   "cell_type": "code",
   "execution_count": 1,
   "id": "35652243-4b25-485c-8cfa-ef147037e78a",
   "metadata": {},
   "outputs": [],
   "source": [
    "import polars as pl"
   ]
  },
  {
   "cell_type": "markdown",
   "id": "609a54aa-c88a-40e5-9f32-ff10645eef75",
   "metadata": {},
   "source": [
    "## Mean Temperature in Zurich\n",
    "The weather station in Zurich Fluntern has been recording temperature data since 1864."
   ]
  },
  {
   "cell_type": "markdown",
   "id": "28fcbd74-4b4b-4fdf-a50f-7d3c51bbdcc8",
   "metadata": {},
   "source": [
    "#### Import Data\n",
    "The file *sma_zrh_historical.csv* contains daily mean temperatures."
   ]
  },
  {
   "cell_type": "code",
   "execution_count": 30,
   "id": "624e75ec-bb4f-4c75-b9a0-b80434e7f794",
   "metadata": {},
   "outputs": [
    {
     "data": {
      "text/html": [
       "<div><style>\n",
       ".dataframe > thead > tr,\n",
       ".dataframe > tbody > tr {\n",
       "  text-align: right;\n",
       "  white-space: pre-wrap;\n",
       "}\n",
       "</style>\n",
       "<small>shape: (58_805, 38)</small><table border=\"1\" class=\"dataframe\"><thead><tr><th>station_abbr</th><th>reference_timestamp</th><th>tre200d0</th><th>tre200dx</th><th>tre200dn</th><th>tre005d0</th><th>tre005dx</th><th>tre005dn</th><th>ure200d0</th><th>pva200d0</th><th>prestad0</th><th>pp0qffd0</th><th>ppz850d0</th><th>ppz700d0</th><th>pp0qnhd0</th><th>fkl010d0</th><th>fkl010d1</th><th>fu3010d0</th><th>fu3010d1</th><th>fkl010d3</th><th>fu3010d3</th><th>wcc006d0</th><th>rre150d0</th><th>rka150d0</th><th>htoautd0</th><th>gre000d0</th><th>oli000d0</th><th>olo000d0</th><th>osr000d0</th><th>ods000d0</th><th>sre000d0</th><th>sremaxdv</th><th>erefaod0</th><th>xcd000d0</th><th>dkl010d0</th><th>xno000d0</th><th>xno012d0</th><th>rreetsd0</th></tr><tr><td>str</td><td>str</td><td>f64</td><td>str</td><td>str</td><td>str</td><td>str</td><td>str</td><td>f64</td><td>f64</td><td>f64</td><td>str</td><td>str</td><td>str</td><td>str</td><td>f64</td><td>str</td><td>f64</td><td>str</td><td>str</td><td>str</td><td>str</td><td>f64</td><td>str</td><td>str</td><td>str</td><td>str</td><td>str</td><td>str</td><td>str</td><td>str</td><td>str</td><td>str</td><td>str</td><td>str</td><td>str</td><td>str</td><td>str</td></tr></thead><tbody><tr><td>&quot;SMA&quot;</td><td>&quot;01.01.1864 00:00&quot;</td><td>-0.8</td><td>null</td><td>null</td><td>null</td><td>null</td><td>null</td><td>94.3</td><td>5.5</td><td>951.1</td><td>null</td><td>null</td><td>null</td><td>null</td><td>2.4</td><td>null</td><td>8.6</td><td>null</td><td>null</td><td>null</td><td>null</td><td>6.3</td><td>null</td><td>null</td><td>null</td><td>null</td><td>null</td><td>null</td><td>null</td><td>null</td><td>null</td><td>null</td><td>null</td><td>null</td><td>null</td><td>null</td><td>null</td></tr><tr><td>&quot;SMA&quot;</td><td>&quot;02.01.1864 00:00&quot;</td><td>-8.0</td><td>null</td><td>null</td><td>null</td><td>null</td><td>null</td><td>91.7</td><td>3.1</td><td>962.4</td><td>null</td><td>null</td><td>null</td><td>null</td><td>3.5</td><td>null</td><td>12.6</td><td>null</td><td>null</td><td>null</td><td>null</td><td>4.5</td><td>null</td><td>null</td><td>null</td><td>null</td><td>null</td><td>null</td><td>null</td><td>null</td><td>null</td><td>null</td><td>null</td><td>null</td><td>null</td><td>null</td><td>null</td></tr><tr><td>&quot;SMA&quot;</td><td>&quot;03.01.1864 00:00&quot;</td><td>-11.1</td><td>null</td><td>null</td><td>null</td><td>null</td><td>null</td><td>92.7</td><td>2.5</td><td>965.0</td><td>null</td><td>null</td><td>null</td><td>null</td><td>8.3</td><td>null</td><td>29.9</td><td>null</td><td>null</td><td>null</td><td>null</td><td>0.1</td><td>null</td><td>null</td><td>null</td><td>null</td><td>null</td><td>null</td><td>null</td><td>null</td><td>null</td><td>null</td><td>null</td><td>null</td><td>null</td><td>null</td><td>null</td></tr><tr><td>&quot;SMA&quot;</td><td>&quot;04.01.1864 00:00&quot;</td><td>-10.2</td><td>null</td><td>null</td><td>null</td><td>null</td><td>null</td><td>97.3</td><td>2.7</td><td>965.5</td><td>null</td><td>null</td><td>null</td><td>null</td><td>1.4</td><td>null</td><td>5.0</td><td>null</td><td>null</td><td>null</td><td>null</td><td>0.2</td><td>null</td><td>null</td><td>null</td><td>null</td><td>null</td><td>null</td><td>null</td><td>null</td><td>null</td><td>null</td><td>null</td><td>null</td><td>null</td><td>null</td><td>null</td></tr><tr><td>&quot;SMA&quot;</td><td>&quot;05.01.1864 00:00&quot;</td><td>-11.3</td><td>null</td><td>null</td><td>null</td><td>null</td><td>null</td><td>95.0</td><td>2.6</td><td>966.9</td><td>null</td><td>null</td><td>null</td><td>null</td><td>0.4</td><td>null</td><td>1.4</td><td>null</td><td>null</td><td>null</td><td>null</td><td>0.0</td><td>null</td><td>null</td><td>null</td><td>null</td><td>null</td><td>null</td><td>null</td><td>null</td><td>null</td><td>null</td><td>null</td><td>null</td><td>null</td><td>null</td><td>null</td></tr><tr><td>&hellip;</td><td>&hellip;</td><td>&hellip;</td><td>&hellip;</td><td>&hellip;</td><td>&hellip;</td><td>&hellip;</td><td>&hellip;</td><td>&hellip;</td><td>&hellip;</td><td>&hellip;</td><td>&hellip;</td><td>&hellip;</td><td>&hellip;</td><td>&hellip;</td><td>&hellip;</td><td>&hellip;</td><td>&hellip;</td><td>&hellip;</td><td>&hellip;</td><td>&hellip;</td><td>&hellip;</td><td>&hellip;</td><td>&hellip;</td><td>&hellip;</td><td>&hellip;</td><td>&hellip;</td><td>&hellip;</td><td>&hellip;</td><td>&hellip;</td><td>&hellip;</td><td>&hellip;</td><td>&hellip;</td><td>&hellip;</td><td>&hellip;</td><td>&hellip;</td><td>&hellip;</td><td>&hellip;</td></tr><tr><td>&quot;SMA&quot;</td><td>&quot;27.12.2024 00:00&quot;</td><td>-1.8</td><td>&quot;-1.1&quot;</td><td>&quot;-2.5&quot;</td><td>&quot;-1.3&quot;</td><td>&quot;0&quot;</td><td>&quot;-2.4&quot;</td><td>95.5</td><td>5.1</td><td>966.5</td><td>&quot;1036.1&quot;</td><td>null</td><td>null</td><td>&quot;1032.7&quot;</td><td>0.9</td><td>&quot;3.2&quot;</td><td>3.2</td><td>&quot;11.5&quot;</td><td>&quot;3.1&quot;</td><td>&quot;11.2&quot;</td><td>&quot;0&quot;</td><td>0.0</td><td>&quot;0&quot;</td><td>&quot;0&quot;</td><td>&quot;17&quot;</td><td>&quot;304&quot;</td><td>null</td><td>null</td><td>null</td><td>&quot;0&quot;</td><td>&quot;0&quot;</td><td>&quot;0.2&quot;</td><td>&quot;0&quot;</td><td>&quot;191&quot;</td><td>&quot;21.8&quot;</td><td>&quot;13.8&quot;</td><td>&quot;0&quot;</td></tr><tr><td>&quot;SMA&quot;</td><td>&quot;28.12.2024 00:00&quot;</td><td>-1.5</td><td>&quot;-0.6&quot;</td><td>&quot;-2.2&quot;</td><td>&quot;-0.8&quot;</td><td>&quot;0.8&quot;</td><td>&quot;-1.6&quot;</td><td>98.8</td><td>5.4</td><td>964.4</td><td>&quot;1033.7&quot;</td><td>null</td><td>null</td><td>&quot;1030.4&quot;</td><td>0.7</td><td>&quot;2.6&quot;</td><td>2.5</td><td>&quot;9.4&quot;</td><td>&quot;2.5&quot;</td><td>&quot;9&quot;</td><td>&quot;0&quot;</td><td>0.0</td><td>&quot;0&quot;</td><td>&quot;0&quot;</td><td>&quot;21&quot;</td><td>&quot;306&quot;</td><td>null</td><td>null</td><td>null</td><td>&quot;0&quot;</td><td>&quot;0&quot;</td><td>&quot;0.2&quot;</td><td>&quot;0&quot;</td><td>&quot;225&quot;</td><td>&quot;21.5&quot;</td><td>&quot;13.5&quot;</td><td>&quot;0&quot;</td></tr><tr><td>&quot;SMA&quot;</td><td>&quot;29.12.2024 00:00&quot;</td><td>-1.7</td><td>&quot;-0.5&quot;</td><td>&quot;-3.3&quot;</td><td>&quot;-0.9&quot;</td><td>&quot;1.2&quot;</td><td>&quot;-2.7&quot;</td><td>99.3</td><td>5.3</td><td>963.9</td><td>&quot;1033.3&quot;</td><td>null</td><td>null</td><td>&quot;1030&quot;</td><td>0.8</td><td>&quot;2.6&quot;</td><td>2.9</td><td>&quot;9.4&quot;</td><td>&quot;2.6&quot;</td><td>&quot;9.4&quot;</td><td>&quot;0&quot;</td><td>0.0</td><td>&quot;0&quot;</td><td>&quot;0&quot;</td><td>&quot;24&quot;</td><td>&quot;304&quot;</td><td>null</td><td>null</td><td>null</td><td>&quot;0&quot;</td><td>&quot;0&quot;</td><td>&quot;0.2&quot;</td><td>&quot;0&quot;</td><td>&quot;219&quot;</td><td>&quot;21.7&quot;</td><td>&quot;13.7&quot;</td><td>&quot;0&quot;</td></tr><tr><td>&quot;SMA&quot;</td><td>&quot;30.12.2024 00:00&quot;</td><td>-2.3</td><td>&quot;-1.3&quot;</td><td>&quot;-3.3&quot;</td><td>&quot;-1.6&quot;</td><td>&quot;-0.3&quot;</td><td>&quot;-2.7&quot;</td><td>98.0</td><td>5.1</td><td>964.7</td><td>&quot;1034.3&quot;</td><td>null</td><td>null</td><td>&quot;1030.8&quot;</td><td>0.7</td><td>&quot;3.3&quot;</td><td>2.5</td><td>&quot;11.9&quot;</td><td>&quot;3.2&quot;</td><td>&quot;11.5&quot;</td><td>&quot;0&quot;</td><td>0.0</td><td>&quot;0&quot;</td><td>&quot;0&quot;</td><td>&quot;19&quot;</td><td>&quot;303&quot;</td><td>null</td><td>null</td><td>null</td><td>&quot;0&quot;</td><td>&quot;0&quot;</td><td>&quot;0.2&quot;</td><td>&quot;0&quot;</td><td>&quot;198&quot;</td><td>&quot;22.3&quot;</td><td>&quot;14.3&quot;</td><td>&quot;0&quot;</td></tr><tr><td>&quot;SMA&quot;</td><td>&quot;31.12.2024 00:00&quot;</td><td>-2.5</td><td>&quot;-1.1&quot;</td><td>&quot;-3.2&quot;</td><td>&quot;-1.8&quot;</td><td>&quot;0.8&quot;</td><td>&quot;-3.6&quot;</td><td>99.1</td><td>5.0</td><td>964.2</td><td>&quot;1033.8&quot;</td><td>null</td><td>null</td><td>&quot;1030.2&quot;</td><td>0.6</td><td>&quot;2.7&quot;</td><td>2.2</td><td>&quot;9.7&quot;</td><td>&quot;2.6&quot;</td><td>&quot;9.4&quot;</td><td>&quot;0&quot;</td><td>0.0</td><td>&quot;0&quot;</td><td>&quot;0&quot;</td><td>&quot;30&quot;</td><td>&quot;288&quot;</td><td>null</td><td>null</td><td>null</td><td>&quot;0&quot;</td><td>&quot;0&quot;</td><td>&quot;0.2&quot;</td><td>&quot;0&quot;</td><td>&quot;207&quot;</td><td>&quot;22.5&quot;</td><td>&quot;14.5&quot;</td><td>&quot;0&quot;</td></tr></tbody></table></div>"
      ],
      "text/plain": [
       "shape: (58_805, 38)\n",
       "┌──────────────┬─────────────┬──────────┬──────────┬───┬──────────┬──────────┬──────────┬──────────┐\n",
       "│ station_abbr ┆ reference_t ┆ tre200d0 ┆ tre200dx ┆ … ┆ dkl010d0 ┆ xno000d0 ┆ xno012d0 ┆ rreetsd0 │\n",
       "│ ---          ┆ imestamp    ┆ ---      ┆ ---      ┆   ┆ ---      ┆ ---      ┆ ---      ┆ ---      │\n",
       "│ str          ┆ ---         ┆ f64      ┆ str      ┆   ┆ str      ┆ str      ┆ str      ┆ str      │\n",
       "│              ┆ str         ┆          ┆          ┆   ┆          ┆          ┆          ┆          │\n",
       "╞══════════════╪═════════════╪══════════╪══════════╪═══╪══════════╪══════════╪══════════╪══════════╡\n",
       "│ SMA          ┆ 01.01.1864  ┆ -0.8     ┆ null     ┆ … ┆ null     ┆ null     ┆ null     ┆ null     │\n",
       "│              ┆ 00:00       ┆          ┆          ┆   ┆          ┆          ┆          ┆          │\n",
       "│ SMA          ┆ 02.01.1864  ┆ -8.0     ┆ null     ┆ … ┆ null     ┆ null     ┆ null     ┆ null     │\n",
       "│              ┆ 00:00       ┆          ┆          ┆   ┆          ┆          ┆          ┆          │\n",
       "│ SMA          ┆ 03.01.1864  ┆ -11.1    ┆ null     ┆ … ┆ null     ┆ null     ┆ null     ┆ null     │\n",
       "│              ┆ 00:00       ┆          ┆          ┆   ┆          ┆          ┆          ┆          │\n",
       "│ SMA          ┆ 04.01.1864  ┆ -10.2    ┆ null     ┆ … ┆ null     ┆ null     ┆ null     ┆ null     │\n",
       "│              ┆ 00:00       ┆          ┆          ┆   ┆          ┆          ┆          ┆          │\n",
       "│ SMA          ┆ 05.01.1864  ┆ -11.3    ┆ null     ┆ … ┆ null     ┆ null     ┆ null     ┆ null     │\n",
       "│              ┆ 00:00       ┆          ┆          ┆   ┆          ┆          ┆          ┆          │\n",
       "│ …            ┆ …           ┆ …        ┆ …        ┆ … ┆ …        ┆ …        ┆ …        ┆ …        │\n",
       "│ SMA          ┆ 27.12.2024  ┆ -1.8     ┆ -1.1     ┆ … ┆ 191      ┆ 21.8     ┆ 13.8     ┆ 0        │\n",
       "│              ┆ 00:00       ┆          ┆          ┆   ┆          ┆          ┆          ┆          │\n",
       "│ SMA          ┆ 28.12.2024  ┆ -1.5     ┆ -0.6     ┆ … ┆ 225      ┆ 21.5     ┆ 13.5     ┆ 0        │\n",
       "│              ┆ 00:00       ┆          ┆          ┆   ┆          ┆          ┆          ┆          │\n",
       "│ SMA          ┆ 29.12.2024  ┆ -1.7     ┆ -0.5     ┆ … ┆ 219      ┆ 21.7     ┆ 13.7     ┆ 0        │\n",
       "│              ┆ 00:00       ┆          ┆          ┆   ┆          ┆          ┆          ┆          │\n",
       "│ SMA          ┆ 30.12.2024  ┆ -2.3     ┆ -1.3     ┆ … ┆ 198      ┆ 22.3     ┆ 14.3     ┆ 0        │\n",
       "│              ┆ 00:00       ┆          ┆          ┆   ┆          ┆          ┆          ┆          │\n",
       "│ SMA          ┆ 31.12.2024  ┆ -2.5     ┆ -1.1     ┆ … ┆ 207      ┆ 22.5     ┆ 14.5     ┆ 0        │\n",
       "│              ┆ 00:00       ┆          ┆          ┆   ┆          ┆          ┆          ┆          │\n",
       "└──────────────┴─────────────┴──────────┴──────────┴───┴──────────┴──────────┴──────────┴──────────┘"
      ]
     },
     "execution_count": 30,
     "metadata": {},
     "output_type": "execute_result"
    }
   ],
   "source": [
    "df = pl.read_csv('data/sma_zrh_historical.csv', separator=';')\n",
    "df"
   ]
  },
  {
   "cell_type": "markdown",
   "id": "b13ad06e-357e-4f0a-92db-df6dac05abe5",
   "metadata": {},
   "source": [
    "#### Preparing the data\n",
    "We are only interested in the date (column 'reference_timestamp') and the daily mean temperature ('tre200d0'). Create a dataframe with only these two columns, and at the same time change the datatype of the date column and change the column names to something more meaningful."
   ]
  },
  {
   "cell_type": "code",
   "execution_count": 13,
   "id": "1c97be44-3a76-416b-b8b9-4cb40e4d03da",
   "metadata": {},
   "outputs": [
    {
     "data": {
      "text/html": [
       "<div><style>\n",
       ".dataframe > thead > tr,\n",
       ".dataframe > tbody > tr {\n",
       "  text-align: right;\n",
       "  white-space: pre-wrap;\n",
       "}\n",
       "</style>\n",
       "<small>shape: (58_805, 2)</small><table border=\"1\" class=\"dataframe\"><thead><tr><th>Date</th><th>Temperature</th></tr><tr><td>date</td><td>f64</td></tr></thead><tbody><tr><td>1864-01-01</td><td>-0.8</td></tr><tr><td>1864-01-02</td><td>-8.0</td></tr><tr><td>1864-01-03</td><td>-11.1</td></tr><tr><td>1864-01-04</td><td>-10.2</td></tr><tr><td>1864-01-05</td><td>-11.3</td></tr><tr><td>&hellip;</td><td>&hellip;</td></tr><tr><td>2024-12-27</td><td>-1.8</td></tr><tr><td>2024-12-28</td><td>-1.5</td></tr><tr><td>2024-12-29</td><td>-1.7</td></tr><tr><td>2024-12-30</td><td>-2.3</td></tr><tr><td>2024-12-31</td><td>-2.5</td></tr></tbody></table></div>"
      ],
      "text/plain": [
       "shape: (58_805, 2)\n",
       "┌────────────┬─────────────┐\n",
       "│ Date       ┆ Temperature │\n",
       "│ ---        ┆ ---         │\n",
       "│ date       ┆ f64         │\n",
       "╞════════════╪═════════════╡\n",
       "│ 1864-01-01 ┆ -0.8        │\n",
       "│ 1864-01-02 ┆ -8.0        │\n",
       "│ 1864-01-03 ┆ -11.1       │\n",
       "│ 1864-01-04 ┆ -10.2       │\n",
       "│ 1864-01-05 ┆ -11.3       │\n",
       "│ …          ┆ …           │\n",
       "│ 2024-12-27 ┆ -1.8        │\n",
       "│ 2024-12-28 ┆ -1.5        │\n",
       "│ 2024-12-29 ┆ -1.7        │\n",
       "│ 2024-12-30 ┆ -2.3        │\n",
       "│ 2024-12-31 ┆ -2.5        │\n",
       "└────────────┴─────────────┘"
      ]
     },
     "execution_count": 13,
     "metadata": {},
     "output_type": "execute_result"
    }
   ],
   "source": [
    "temperature = (df\n",
    "    .select(\n",
    "        pl.col('reference_timestamp')\n",
    "            .str.to_date(format='%d.%m.%Y %H:%M')\n",
    "            .alias('Date'), \n",
    "        pl.col('tre200d0')\n",
    "            .alias('Temperature')\n",
    "    )\n",
    "     )\n",
    "\n",
    "temperature"
   ]
  },
  {
   "cell_type": "markdown",
   "id": "e4d24ae8-4f1d-426d-9d85-9bfb6a0b0137",
   "metadata": {},
   "source": [
    "#### Calculate yearly means and graph data\n",
    "Calculate the yearly means using Polars' *group_by_dynamic* method. Graph the yearly mean as a function of time."
   ]
  },
  {
   "cell_type": "code",
   "execution_count": 32,
   "id": "b29bd1c8-648c-4fdd-befc-60d3f9d8a772",
   "metadata": {},
   "outputs": [
    {
     "data": {
      "text/html": [
       "\n",
       "<style>\n",
       "  #altair-viz-40ec5fd6d81440ae8a2bdeb493a29391.vega-embed {\n",
       "    width: 100%;\n",
       "    display: flex;\n",
       "  }\n",
       "\n",
       "  #altair-viz-40ec5fd6d81440ae8a2bdeb493a29391.vega-embed details,\n",
       "  #altair-viz-40ec5fd6d81440ae8a2bdeb493a29391.vega-embed details summary {\n",
       "    position: relative;\n",
       "  }\n",
       "</style>\n",
       "<div id=\"altair-viz-40ec5fd6d81440ae8a2bdeb493a29391\"></div>\n",
       "<script type=\"text/javascript\">\n",
       "  var VEGA_DEBUG = (typeof VEGA_DEBUG == \"undefined\") ? {} : VEGA_DEBUG;\n",
       "  (function(spec, embedOpt){\n",
       "    let outputDiv = document.currentScript.previousElementSibling;\n",
       "    if (outputDiv.id !== \"altair-viz-40ec5fd6d81440ae8a2bdeb493a29391\") {\n",
       "      outputDiv = document.getElementById(\"altair-viz-40ec5fd6d81440ae8a2bdeb493a29391\");\n",
       "    }\n",
       "\n",
       "    const paths = {\n",
       "      \"vega\": \"https://cdn.jsdelivr.net/npm/vega@5?noext\",\n",
       "      \"vega-lib\": \"https://cdn.jsdelivr.net/npm/vega-lib?noext\",\n",
       "      \"vega-lite\": \"https://cdn.jsdelivr.net/npm/vega-lite@5.20.1?noext\",\n",
       "      \"vega-embed\": \"https://cdn.jsdelivr.net/npm/vega-embed@6?noext\",\n",
       "    };\n",
       "\n",
       "    function maybeLoadScript(lib, version) {\n",
       "      var key = `${lib.replace(\"-\", \"\")}_version`;\n",
       "      return (VEGA_DEBUG[key] == version) ?\n",
       "        Promise.resolve(paths[lib]) :\n",
       "        new Promise(function(resolve, reject) {\n",
       "          var s = document.createElement('script');\n",
       "          document.getElementsByTagName(\"head\")[0].appendChild(s);\n",
       "          s.async = true;\n",
       "          s.onload = () => {\n",
       "            VEGA_DEBUG[key] = version;\n",
       "            return resolve(paths[lib]);\n",
       "          };\n",
       "          s.onerror = () => reject(`Error loading script: ${paths[lib]}`);\n",
       "          s.src = paths[lib];\n",
       "        });\n",
       "    }\n",
       "\n",
       "    function showError(err) {\n",
       "      outputDiv.innerHTML = `<div class=\"error\" style=\"color:red;\">${err}</div>`;\n",
       "      throw err;\n",
       "    }\n",
       "\n",
       "    function displayChart(vegaEmbed) {\n",
       "      vegaEmbed(outputDiv, spec, embedOpt)\n",
       "        .catch(err => showError(`Javascript Error: ${err.message}<br>This usually means there's a typo in your chart specification. See the javascript console for the full traceback.`));\n",
       "    }\n",
       "\n",
       "    if(typeof define === \"function\" && define.amd) {\n",
       "      requirejs.config({paths});\n",
       "      let deps = [\"vega-embed\"];\n",
       "      require(deps, displayChart, err => showError(`Error loading script: ${err.message}`));\n",
       "    } else {\n",
       "      maybeLoadScript(\"vega\", \"5\")\n",
       "        .then(() => maybeLoadScript(\"vega-lite\", \"5.20.1\"))\n",
       "        .then(() => maybeLoadScript(\"vega-embed\", \"6\"))\n",
       "        .catch(showError)\n",
       "        .then(() => displayChart(vegaEmbed));\n",
       "    }\n",
       "  })({\"config\": {\"view\": {\"continuousWidth\": 300, \"continuousHeight\": 300}}, \"data\": {\"name\": \"data-4882be80656a59329539ff07a364d7f4\"}, \"mark\": {\"type\": \"line\", \"tooltip\": true}, \"encoding\": {\"x\": {\"field\": \"Date\", \"type\": \"temporal\"}, \"y\": {\"field\": \"Temperature\", \"type\": \"quantitative\"}}, \"params\": [{\"name\": \"param_10\", \"select\": {\"type\": \"interval\", \"encodings\": [\"x\", \"y\"]}, \"bind\": \"scales\"}], \"$schema\": \"https://vega.github.io/schema/vega-lite/v5.20.1.json\", \"datasets\": {\"data-4882be80656a59329539ff07a364d7f4\": [{\"Date\": \"1864-01-01T00:00:00\", \"Temperature\": 7.724043715846996}, {\"Date\": \"1865-01-01T00:00:00\", \"Temperature\": 9.465205479452056}, {\"Date\": \"1866-01-01T00:00:00\", \"Temperature\": 9.815342465753423}, {\"Date\": \"1867-01-01T00:00:00\", \"Temperature\": 9.107945205479453}, {\"Date\": \"1868-01-01T00:00:00\", \"Temperature\": 10.241803278688526}, {\"Date\": \"1869-01-01T00:00:00\", \"Temperature\": 9.225753424657533}, {\"Date\": \"1870-01-01T00:00:00\", \"Temperature\": 8.465753424657533}, {\"Date\": \"1871-01-01T00:00:00\", \"Temperature\": 7.917260273972602}, {\"Date\": \"1872-01-01T00:00:00\", \"Temperature\": 9.847540983606558}, {\"Date\": \"1873-01-01T00:00:00\", \"Temperature\": 9.524109589041096}, {\"Date\": \"1874-01-01T00:00:00\", \"Temperature\": 8.613972602739729}, {\"Date\": \"1875-01-01T00:00:00\", \"Temperature\": 8.743013698630138}, {\"Date\": \"1876-01-01T00:00:00\", \"Temperature\": 9.032786885245901}, {\"Date\": \"1877-01-01T00:00:00\", \"Temperature\": 9.142191780821916}, {\"Date\": \"1878-01-01T00:00:00\", \"Temperature\": 8.330684931506848}, {\"Date\": \"1879-01-01T00:00:00\", \"Temperature\": 7.176712328767122}, {\"Date\": \"1880-01-01T00:00:00\", \"Temperature\": 9.089344262295082}, {\"Date\": \"1881-01-01T00:00:00\", \"Temperature\": 8.584383561643836}, {\"Date\": \"1882-01-01T00:00:00\", \"Temperature\": 8.872876712328768}, {\"Date\": \"1883-01-01T00:00:00\", \"Temperature\": 8.26054794520548}, {\"Date\": \"1884-01-01T00:00:00\", \"Temperature\": 8.88688524590164}, {\"Date\": \"1885-01-01T00:00:00\", \"Temperature\": 8.492328767123288}, {\"Date\": \"1886-01-01T00:00:00\", \"Temperature\": 8.635890410958904}, {\"Date\": \"1887-01-01T00:00:00\", \"Temperature\": 7.238904109589041}, {\"Date\": \"1888-01-01T00:00:00\", \"Temperature\": 7.534699453551912}, {\"Date\": \"1889-01-01T00:00:00\", \"Temperature\": 7.624931506849315}, {\"Date\": \"1890-01-01T00:00:00\", \"Temperature\": 7.391232876712329}, {\"Date\": \"1891-01-01T00:00:00\", \"Temperature\": 7.777534246575342}, {\"Date\": \"1892-01-01T00:00:00\", \"Temperature\": 8.768852459016394}, {\"Date\": \"1893-01-01T00:00:00\", \"Temperature\": 9.035616438356165}, {\"Date\": \"1894-01-01T00:00:00\", \"Temperature\": 8.783013698630137}, {\"Date\": \"1895-01-01T00:00:00\", \"Temperature\": 8.32876712328767}, {\"Date\": \"1896-01-01T00:00:00\", \"Temperature\": 7.958196721311476}, {\"Date\": \"1897-01-01T00:00:00\", \"Temperature\": 8.947123287671234}, {\"Date\": \"1898-01-01T00:00:00\", \"Temperature\": 9.27890410958904}, {\"Date\": \"1899-01-01T00:00:00\", \"Temperature\": 9.216986301369865}, {\"Date\": \"1900-01-01T00:00:00\", \"Temperature\": 9.24054794520548}, {\"Date\": \"1901-01-01T00:00:00\", \"Temperature\": 8.186849315068493}, {\"Date\": \"1902-01-01T00:00:00\", \"Temperature\": 8.351780821917806}, {\"Date\": \"1903-01-01T00:00:00\", \"Temperature\": 8.62054794520548}, {\"Date\": \"1904-01-01T00:00:00\", \"Temperature\": 9.250546448087432}, {\"Date\": \"1905-01-01T00:00:00\", \"Temperature\": 8.500547945205481}, {\"Date\": \"1906-01-01T00:00:00\", \"Temperature\": 8.836986301369864}, {\"Date\": \"1907-01-01T00:00:00\", \"Temperature\": 8.60958904109589}, {\"Date\": \"1908-01-01T00:00:00\", \"Temperature\": 8.114754098360656}, {\"Date\": \"1909-01-01T00:00:00\", \"Temperature\": 8.048219178082192}, {\"Date\": \"1910-01-01T00:00:00\", \"Temperature\": 8.673972602739726}, {\"Date\": \"1911-01-01T00:00:00\", \"Temperature\": 9.661369863013698}, {\"Date\": \"1912-01-01T00:00:00\", \"Temperature\": 8.419945355191258}, {\"Date\": \"1913-01-01T00:00:00\", \"Temperature\": 8.98958904109589}, {\"Date\": \"1914-01-01T00:00:00\", \"Temperature\": 8.485753424657535}, {\"Date\": \"1915-01-01T00:00:00\", \"Temperature\": 8.607397260273974}, {\"Date\": \"1916-01-01T00:00:00\", \"Temperature\": 9.024043715846995}, {\"Date\": \"1917-01-01T00:00:00\", \"Temperature\": 8.057534246575342}, {\"Date\": \"1918-01-01T00:00:00\", \"Temperature\": 8.803561643835616}, {\"Date\": \"1919-01-01T00:00:00\", \"Temperature\": 8.306301369863013}, {\"Date\": \"1920-01-01T00:00:00\", \"Temperature\": 9.294262295081968}, {\"Date\": \"1921-01-01T00:00:00\", \"Temperature\": 9.706301369863015}, {\"Date\": \"1922-01-01T00:00:00\", \"Temperature\": 8.26027397260274}, {\"Date\": \"1923-01-01T00:00:00\", \"Temperature\": 9.173424657534246}, {\"Date\": \"1924-01-01T00:00:00\", \"Temperature\": 8.220491803278689}, {\"Date\": \"1925-01-01T00:00:00\", \"Temperature\": 8.74}, {\"Date\": \"1926-01-01T00:00:00\", \"Temperature\": 9.28054794520548}, {\"Date\": \"1927-01-01T00:00:00\", \"Temperature\": 8.938904109589041}, {\"Date\": \"1928-01-01T00:00:00\", \"Temperature\": 9.634426229508197}, {\"Date\": \"1929-01-01T00:00:00\", \"Temperature\": 8.595616438356164}, {\"Date\": \"1930-01-01T00:00:00\", \"Temperature\": 9.644931506849316}, {\"Date\": \"1931-01-01T00:00:00\", \"Temperature\": 8.345753424657534}, {\"Date\": \"1932-01-01T00:00:00\", \"Temperature\": 8.728415300546448}, {\"Date\": \"1933-01-01T00:00:00\", \"Temperature\": 8.492328767123288}, {\"Date\": \"1934-01-01T00:00:00\", \"Temperature\": 9.818082191780821}, {\"Date\": \"1935-01-01T00:00:00\", \"Temperature\": 9.063835616438357}, {\"Date\": \"1936-01-01T00:00:00\", \"Temperature\": 9.319125683060108}, {\"Date\": \"1937-01-01T00:00:00\", \"Temperature\": 9.516986301369862}, {\"Date\": \"1938-01-01T00:00:00\", \"Temperature\": 9.15013698630137}, {\"Date\": \"1939-01-01T00:00:00\", \"Temperature\": 8.78054794520548}, {\"Date\": \"1940-01-01T00:00:00\", \"Temperature\": 7.96639344262295}, {\"Date\": \"1941-01-01T00:00:00\", \"Temperature\": 8.343013698630136}, {\"Date\": \"1942-01-01T00:00:00\", \"Temperature\": 8.823835616438357}, {\"Date\": \"1943-01-01T00:00:00\", \"Temperature\": 10.07972602739726}, {\"Date\": \"1944-01-01T00:00:00\", \"Temperature\": 9.042349726775956}, {\"Date\": \"1945-01-01T00:00:00\", \"Temperature\": 9.855890410958905}, {\"Date\": \"1946-01-01T00:00:00\", \"Temperature\": 9.44821917808219}, {\"Date\": \"1947-01-01T00:00:00\", \"Temperature\": 10.3613698630137}, {\"Date\": \"1948-01-01T00:00:00\", \"Temperature\": 9.819672131147541}, {\"Date\": \"1949-01-01T00:00:00\", \"Temperature\": 10.167123287671233}, {\"Date\": \"1950-01-01T00:00:00\", \"Temperature\": 9.267671232876712}, {\"Date\": \"1951-01-01T00:00:00\", \"Temperature\": 8.93013698630137}, {\"Date\": \"1952-01-01T00:00:00\", \"Temperature\": 8.867759562841531}, {\"Date\": \"1953-01-01T00:00:00\", \"Temperature\": 8.811780821917809}, {\"Date\": \"1954-01-01T00:00:00\", \"Temperature\": 8.306849315068494}, {\"Date\": \"1955-01-01T00:00:00\", \"Temperature\": 8.348767123287672}, {\"Date\": \"1956-01-01T00:00:00\", \"Temperature\": 7.395355191256831}, {\"Date\": \"1957-01-01T00:00:00\", \"Temperature\": 8.820273972602738}, {\"Date\": \"1958-01-01T00:00:00\", \"Temperature\": 8.842465753424657}, {\"Date\": \"1959-01-01T00:00:00\", \"Temperature\": 9.52027397260274}, {\"Date\": \"1960-01-01T00:00:00\", \"Temperature\": 8.909016393442624}, {\"Date\": \"1961-01-01T00:00:00\", \"Temperature\": 9.732602739726028}, {\"Date\": \"1962-01-01T00:00:00\", \"Temperature\": 7.909041095890411}, {\"Date\": \"1963-01-01T00:00:00\", \"Temperature\": 7.70082191780822}, {\"Date\": \"1964-01-01T00:00:00\", \"Temperature\": 8.710655737704919}, {\"Date\": \"1965-01-01T00:00:00\", \"Temperature\": 7.868767123287671}, {\"Date\": \"1966-01-01T00:00:00\", \"Temperature\": 9.008767123287672}, {\"Date\": \"1967-01-01T00:00:00\", \"Temperature\": 8.97835616438356}, {\"Date\": \"1968-01-01T00:00:00\", \"Temperature\": 8.466666666666667}, {\"Date\": \"1969-01-01T00:00:00\", \"Temperature\": 8.26}, {\"Date\": \"1970-01-01T00:00:00\", \"Temperature\": 8.210958904109587}, {\"Date\": \"1971-01-01T00:00:00\", \"Temperature\": 8.566301369863012}, {\"Date\": \"1972-01-01T00:00:00\", \"Temperature\": 8.158469945355192}, {\"Date\": \"1973-01-01T00:00:00\", \"Temperature\": 8.346849315068495}, {\"Date\": \"1974-01-01T00:00:00\", \"Temperature\": 9.17068493150685}, {\"Date\": \"1975-01-01T00:00:00\", \"Temperature\": 8.928219178082193}, {\"Date\": \"1976-01-01T00:00:00\", \"Temperature\": 8.894262295081967}, {\"Date\": \"1977-01-01T00:00:00\", \"Temperature\": 9.163013698630138}, {\"Date\": \"1978-01-01T00:00:00\", \"Temperature\": 8.024109589041096}, {\"Date\": \"1979-01-01T00:00:00\", \"Temperature\": 8.586027397260272}, {\"Date\": \"1980-01-01T00:00:00\", \"Temperature\": 8.014207650273224}, {\"Date\": \"1981-01-01T00:00:00\", \"Temperature\": 8.74904109589041}, {\"Date\": \"1982-01-01T00:00:00\", \"Temperature\": 9.365205479452055}, {\"Date\": \"1983-01-01T00:00:00\", \"Temperature\": 9.421917808219177}, {\"Date\": \"1984-01-01T00:00:00\", \"Temperature\": 8.504098360655737}, {\"Date\": \"1985-01-01T00:00:00\", \"Temperature\": 8.30931506849315}, {\"Date\": \"1986-01-01T00:00:00\", \"Temperature\": 8.475068493150685}, {\"Date\": \"1987-01-01T00:00:00\", \"Temperature\": 8.353150684931506}, {\"Date\": \"1988-01-01T00:00:00\", \"Temperature\": 9.4448087431694}, {\"Date\": \"1989-01-01T00:00:00\", \"Temperature\": 9.635890410958906}, {\"Date\": \"1990-01-01T00:00:00\", \"Temperature\": 9.934246575342465}, {\"Date\": \"1991-01-01T00:00:00\", \"Temperature\": 8.929315068493151}, {\"Date\": \"1992-01-01T00:00:00\", \"Temperature\": 9.526229508196721}, {\"Date\": \"1993-01-01T00:00:00\", \"Temperature\": 9.178356164383562}, {\"Date\": \"1994-01-01T00:00:00\", \"Temperature\": 10.52}, {\"Date\": \"1995-01-01T00:00:00\", \"Temperature\": 9.272054794520548}, {\"Date\": \"1996-01-01T00:00:00\", \"Temperature\": 8.250819672131149}, {\"Date\": \"1997-01-01T00:00:00\", \"Temperature\": 9.557808219178082}, {\"Date\": \"1998-01-01T00:00:00\", \"Temperature\": 9.636438356164383}, {\"Date\": \"1999-01-01T00:00:00\", \"Temperature\": 9.542739726027397}, {\"Date\": \"2000-01-01T00:00:00\", \"Temperature\": 10.384426229508197}, {\"Date\": \"2001-01-01T00:00:00\", \"Temperature\": 9.7}, {\"Date\": \"2002-01-01T00:00:00\", \"Temperature\": 10.413698630136988}, {\"Date\": \"2003-01-01T00:00:00\", \"Temperature\": 10.293972602739725}, {\"Date\": \"2004-01-01T00:00:00\", \"Temperature\": 9.46639344262295}, {\"Date\": \"2005-01-01T00:00:00\", \"Temperature\": 9.306301369863014}, {\"Date\": \"2006-01-01T00:00:00\", \"Temperature\": 9.796438356164384}, {\"Date\": \"2007-01-01T00:00:00\", \"Temperature\": 10.124109589041096}, {\"Date\": \"2008-01-01T00:00:00\", \"Temperature\": 9.641256830601096}, {\"Date\": \"2009-01-01T00:00:00\", \"Temperature\": 9.915068493150685}, {\"Date\": \"2010-01-01T00:00:00\", \"Temperature\": 8.838082191780822}, {\"Date\": \"2011-01-01T00:00:00\", \"Temperature\": 10.503013698630136}, {\"Date\": \"2012-01-01T00:00:00\", \"Temperature\": 9.752185792349726}, {\"Date\": \"2013-01-01T00:00:00\", \"Temperature\": 9.136438356164383}, {\"Date\": \"2014-01-01T00:00:00\", \"Temperature\": 10.643287671232876}, {\"Date\": \"2015-01-01T00:00:00\", \"Temperature\": 10.624109589041096}, {\"Date\": \"2016-01-01T00:00:00\", \"Temperature\": 9.919125683060109}, {\"Date\": \"2017-01-01T00:00:00\", \"Temperature\": 10.196164383561644}, {\"Date\": \"2018-01-01T00:00:00\", \"Temperature\": 11.140821917808218}, {\"Date\": \"2019-01-01T00:00:00\", \"Temperature\": 10.565753424657535}, {\"Date\": \"2020-01-01T00:00:00\", \"Temperature\": 10.9}, {\"Date\": \"2021-01-01T00:00:00\", \"Temperature\": 9.605205479452055}, {\"Date\": \"2022-01-01T00:00:00\", \"Temperature\": 11.514246575342465}, {\"Date\": \"2023-01-01T00:00:00\", \"Temperature\": 11.44082191780822}, {\"Date\": \"2024-01-01T00:00:00\", \"Temperature\": 11.04289617486339}]}}, {\"mode\": \"vega-lite\"});\n",
       "</script>"
      ],
      "text/plain": [
       "alt.Chart(...)"
      ]
     },
     "execution_count": 32,
     "metadata": {},
     "output_type": "execute_result"
    }
   ],
   "source": [
    "yearly_means = (temperature\n",
    "                .group_by_dynamic('Date', every='1y')\n",
    "                .agg(pl.col('Temperature').mean())\n",
    "               )\n",
    "\n",
    "yearly_means.plot.line(\n",
    "    x='Date',\n",
    "    y='Temperature'\n",
    ")"
   ]
  },
  {
   "cell_type": "markdown",
   "id": "5afd1757-b6d0-4b4e-a4a0-36cb69a9878b",
   "metadata": {},
   "source": [
    "#### Rolling Average\n",
    "To reduce the effect of yearly fluctuations, we can use a *rolling average*. Polars provides the methode *rolling* to calculate the rolling average over a given window."
   ]
  },
  {
   "cell_type": "code",
   "execution_count": 27,
   "id": "057e2698-1379-49a7-81d1-daf8173a800b",
   "metadata": {},
   "outputs": [
    {
     "data": {
      "text/html": [
       "\n",
       "<style>\n",
       "  #altair-viz-b6ef77e43782487d8fb6f59e49686ac9.vega-embed {\n",
       "    width: 100%;\n",
       "    display: flex;\n",
       "  }\n",
       "\n",
       "  #altair-viz-b6ef77e43782487d8fb6f59e49686ac9.vega-embed details,\n",
       "  #altair-viz-b6ef77e43782487d8fb6f59e49686ac9.vega-embed details summary {\n",
       "    position: relative;\n",
       "  }\n",
       "</style>\n",
       "<div id=\"altair-viz-b6ef77e43782487d8fb6f59e49686ac9\"></div>\n",
       "<script type=\"text/javascript\">\n",
       "  var VEGA_DEBUG = (typeof VEGA_DEBUG == \"undefined\") ? {} : VEGA_DEBUG;\n",
       "  (function(spec, embedOpt){\n",
       "    let outputDiv = document.currentScript.previousElementSibling;\n",
       "    if (outputDiv.id !== \"altair-viz-b6ef77e43782487d8fb6f59e49686ac9\") {\n",
       "      outputDiv = document.getElementById(\"altair-viz-b6ef77e43782487d8fb6f59e49686ac9\");\n",
       "    }\n",
       "\n",
       "    const paths = {\n",
       "      \"vega\": \"https://cdn.jsdelivr.net/npm/vega@5?noext\",\n",
       "      \"vega-lib\": \"https://cdn.jsdelivr.net/npm/vega-lib?noext\",\n",
       "      \"vega-lite\": \"https://cdn.jsdelivr.net/npm/vega-lite@5.20.1?noext\",\n",
       "      \"vega-embed\": \"https://cdn.jsdelivr.net/npm/vega-embed@6?noext\",\n",
       "    };\n",
       "\n",
       "    function maybeLoadScript(lib, version) {\n",
       "      var key = `${lib.replace(\"-\", \"\")}_version`;\n",
       "      return (VEGA_DEBUG[key] == version) ?\n",
       "        Promise.resolve(paths[lib]) :\n",
       "        new Promise(function(resolve, reject) {\n",
       "          var s = document.createElement('script');\n",
       "          document.getElementsByTagName(\"head\")[0].appendChild(s);\n",
       "          s.async = true;\n",
       "          s.onload = () => {\n",
       "            VEGA_DEBUG[key] = version;\n",
       "            return resolve(paths[lib]);\n",
       "          };\n",
       "          s.onerror = () => reject(`Error loading script: ${paths[lib]}`);\n",
       "          s.src = paths[lib];\n",
       "        });\n",
       "    }\n",
       "\n",
       "    function showError(err) {\n",
       "      outputDiv.innerHTML = `<div class=\"error\" style=\"color:red;\">${err}</div>`;\n",
       "      throw err;\n",
       "    }\n",
       "\n",
       "    function displayChart(vegaEmbed) {\n",
       "      vegaEmbed(outputDiv, spec, embedOpt)\n",
       "        .catch(err => showError(`Javascript Error: ${err.message}<br>This usually means there's a typo in your chart specification. See the javascript console for the full traceback.`));\n",
       "    }\n",
       "\n",
       "    if(typeof define === \"function\" && define.amd) {\n",
       "      requirejs.config({paths});\n",
       "      let deps = [\"vega-embed\"];\n",
       "      require(deps, displayChart, err => showError(`Error loading script: ${err.message}`));\n",
       "    } else {\n",
       "      maybeLoadScript(\"vega\", \"5\")\n",
       "        .then(() => maybeLoadScript(\"vega-lite\", \"5.20.1\"))\n",
       "        .then(() => maybeLoadScript(\"vega-embed\", \"6\"))\n",
       "        .catch(showError)\n",
       "        .then(() => displayChart(vegaEmbed));\n",
       "    }\n",
       "  })({\"config\": {\"view\": {\"continuousWidth\": 300, \"continuousHeight\": 300}}, \"data\": {\"name\": \"data-47217bab25e0270385b715f8b351861a\"}, \"mark\": {\"type\": \"line\", \"tooltip\": true}, \"encoding\": {\"x\": {\"field\": \"Date\", \"type\": \"temporal\"}, \"y\": {\"field\": \"Temperature\", \"type\": \"quantitative\"}}, \"params\": [{\"name\": \"param_8\", \"select\": {\"type\": \"interval\", \"encodings\": [\"x\", \"y\"]}, \"bind\": \"scales\"}], \"$schema\": \"https://vega.github.io/schema/vega-lite/v5.20.1.json\", \"datasets\": {\"data-47217bab25e0270385b715f8b351861a\": [{\"Date\": \"1864-01-01T00:00:00\", \"Temperature\": 7.724043715846996}, {\"Date\": \"1865-01-01T00:00:00\", \"Temperature\": 8.594624597649526}, {\"Date\": \"1866-01-01T00:00:00\", \"Temperature\": 9.001530553684157}, {\"Date\": \"1867-01-01T00:00:00\", \"Temperature\": 9.028134216632981}, {\"Date\": \"1868-01-01T00:00:00\", \"Temperature\": 9.270868029044092}, {\"Date\": \"1869-01-01T00:00:00\", \"Temperature\": 9.263348928312999}, {\"Date\": \"1870-01-01T00:00:00\", \"Temperature\": 9.149406713505075}, {\"Date\": \"1871-01-01T00:00:00\", \"Temperature\": 8.995388408563516}, {\"Date\": \"1872-01-01T00:00:00\", \"Temperature\": 9.090072028012742}, {\"Date\": \"1873-01-01T00:00:00\", \"Temperature\": 9.133475784115578}, {\"Date\": \"1874-01-01T00:00:00\", \"Temperature\": 9.222468672804851}, {\"Date\": \"1875-01-01T00:00:00\", \"Temperature\": 9.15024949472266}, {\"Date\": \"1876-01-01T00:00:00\", \"Temperature\": 9.071993936671907}, {\"Date\": \"1877-01-01T00:00:00\", \"Temperature\": 9.075418594206152}, {\"Date\": \"1878-01-01T00:00:00\", \"Temperature\": 8.884306759487986}, {\"Date\": \"1879-01-01T00:00:00\", \"Temperature\": 8.679402649898943}, {\"Date\": \"1880-01-01T00:00:00\", \"Temperature\": 8.741761733662699}, {\"Date\": \"1881-01-01T00:00:00\", \"Temperature\": 8.808474062429823}, {\"Date\": \"1882-01-01T00:00:00\", \"Temperature\": 8.711007635302042}, {\"Date\": \"1883-01-01T00:00:00\", \"Temperature\": 8.584651470918482}, {\"Date\": \"1884-01-01T00:00:00\", \"Temperature\": 8.611942735234674}, {\"Date\": \"1885-01-01T00:00:00\", \"Temperature\": 8.586874242083988}, {\"Date\": \"1886-01-01T00:00:00\", \"Temperature\": 8.547184594655288}, {\"Date\": \"1887-01-01T00:00:00\", \"Temperature\": 8.356855827532002}, {\"Date\": \"1888-01-01T00:00:00\", \"Temperature\": 8.277257279736506}, {\"Date\": \"1889-01-01T00:00:00\", \"Temperature\": 8.322079197544728}, {\"Date\": \"1890-01-01T00:00:00\", \"Temperature\": 8.152268058986452}, {\"Date\": \"1891-01-01T00:00:00\", \"Temperature\": 8.071583127479602}, {\"Date\": \"1892-01-01T00:00:00\", \"Temperature\": 8.061180702148365}, {\"Date\": \"1893-01-01T00:00:00\", \"Temperature\": 8.138687551463432}, {\"Date\": \"1894-01-01T00:00:00\", \"Temperature\": 8.128300396736282}, {\"Date\": \"1895-01-01T00:00:00\", \"Temperature\": 8.111944232352721}, {\"Date\": \"1896-01-01T00:00:00\", \"Temperature\": 8.044174863387978}, {\"Date\": \"1897-01-01T00:00:00\", \"Temperature\": 8.214996781196197}, {\"Date\": \"1898-01-01T00:00:00\", \"Temperature\": 8.38941724679991}, {\"Date\": \"1899-01-01T00:00:00\", \"Temperature\": 8.548622726251965}, {\"Date\": \"1900-01-01T00:00:00\", \"Temperature\": 8.73355423310128}, {\"Date\": \"1901-01-01T00:00:00\", \"Temperature\": 8.774485739950595}, {\"Date\": \"1902-01-01T00:00:00\", \"Temperature\": 8.732778576240737}, {\"Date\": \"1903-01-01T00:00:00\", \"Temperature\": 8.691271726925669}, {\"Date\": \"1904-01-01T00:00:00\", \"Temperature\": 8.738025001871398}, {\"Date\": \"1905-01-01T00:00:00\", \"Temperature\": 8.75520308406318}, {\"Date\": \"1906-01-01T00:00:00\", \"Temperature\": 8.843082042069017}, {\"Date\": \"1907-01-01T00:00:00\", \"Temperature\": 8.809328617411484}, {\"Date\": \"1908-01-01T00:00:00\", \"Temperature\": 8.692913616288646}, {\"Date\": \"1909-01-01T00:00:00\", \"Temperature\": 8.576036903959878}, {\"Date\": \"1910-01-01T00:00:00\", \"Temperature\": 8.519379369713302}, {\"Date\": \"1911-01-01T00:00:00\", \"Temperature\": 8.666831424507823}, {\"Date\": \"1912-01-01T00:00:00\", \"Temperature\": 8.673647877835169}, {\"Date\": \"1913-01-01T00:00:00\", \"Temperature\": 8.710551987424209}, {\"Date\": \"1914-01-01T00:00:00\", \"Temperature\": 8.634072685081218}, {\"Date\": \"1915-01-01T00:00:00\", \"Temperature\": 8.64475761658807}, {\"Date\": \"1916-01-01T00:00:00\", \"Temperature\": 8.66346335803578}, {\"Date\": \"1917-01-01T00:00:00\", \"Temperature\": 8.608257878583727}, {\"Date\": \"1918-01-01T00:00:00\", \"Temperature\": 8.677138633131223}, {\"Date\": \"1919-01-01T00:00:00\", \"Temperature\": 8.702946852309305}, {\"Date\": \"1920-01-01T00:00:00\", \"Temperature\": 8.764975821543528}, {\"Date\": \"1921-01-01T00:00:00\", \"Temperature\": 8.769468972228461}, {\"Date\": \"1922-01-01T00:00:00\", \"Temperature\": 8.753501833969608}, {\"Date\": \"1923-01-01T00:00:00\", \"Temperature\": 8.771885395613443}, {\"Date\": \"1924-01-01T00:00:00\", \"Temperature\": 8.74535923347556}, {\"Date\": \"1925-01-01T00:00:00\", \"Temperature\": 8.758619507448163}, {\"Date\": \"1926-01-01T00:00:00\", \"Temperature\": 8.78426993038401}, {\"Date\": \"1927-01-01T00:00:00\", \"Temperature\": 8.872406916685382}, {\"Date\": \"1928-01-01T00:00:00\", \"Temperature\": 8.955493375252638}, {\"Date\": \"1929-01-01T00:00:00\", \"Temperature\": 8.984424882101953}, {\"Date\": \"1930-01-01T00:00:00\", \"Temperature\": 9.019491803278688}, {\"Date\": \"1931-01-01T00:00:00\", \"Temperature\": 8.88343700875814}, {\"Date\": \"1932-01-01T00:00:00\", \"Temperature\": 8.930251141552512}, {\"Date\": \"1933-01-01T00:00:00\", \"Temperature\": 8.862141552511416}, {\"Date\": \"1934-01-01T00:00:00\", \"Temperature\": 9.021900591361629}, {\"Date\": \"1935-01-01T00:00:00\", \"Temperature\": 9.054284153005465}, {\"Date\": \"1936-01-01T00:00:00\", \"Temperature\": 9.058141926790928}, {\"Date\": \"1937-01-01T00:00:00\", \"Temperature\": 9.115950145969009}, {\"Date\": \"1938-01-01T00:00:00\", \"Temperature\": 9.067521221648326}, {\"Date\": \"1939-01-01T00:00:00\", \"Temperature\": 9.086014372333258}, {\"Date\": \"1940-01-01T00:00:00\", \"Temperature\": 8.918160565910622}, {\"Date\": \"1941-01-01T00:00:00\", \"Temperature\": 8.917886593307882}, {\"Date\": \"1942-01-01T00:00:00\", \"Temperature\": 8.927428624897072}, {\"Date\": \"1943-01-01T00:00:00\", \"Temperature\": 9.08616835092447}, {\"Date\": \"1944-01-01T00:00:00\", \"Temperature\": 9.008595104423984}, {\"Date\": \"1945-01-01T00:00:00\", \"Temperature\": 9.087800583876039}, {\"Date\": \"1946-01-01T00:00:00\", \"Temperature\": 9.100709933378246}, {\"Date\": \"1947-01-01T00:00:00\", \"Temperature\": 9.18514828954263}, {\"Date\": \"1948-01-01T00:00:00\", \"Temperature\": 9.252101804027248}, {\"Date\": \"1949-01-01T00:00:00\", \"Temperature\": 9.390759338273822}, {\"Date\": \"1950-01-01T00:00:00\", \"Temperature\": 9.5208871172992}, {\"Date\": \"1951-01-01T00:00:00\", \"Temperature\": 9.579599446066322}, {\"Date\": \"1952-01-01T00:00:00\", \"Temperature\": 9.58399184070664}, {\"Date\": \"1953-01-01T00:00:00\", \"Temperature\": 9.457197320158695}, {\"Date\": \"1954-01-01T00:00:00\", \"Temperature\": 9.383647278987947}, {\"Date\": \"1955-01-01T00:00:00\", \"Temperature\": 9.232934950220827}, {\"Date\": \"1956-01-01T00:00:00\", \"Temperature\": 9.027648551538288}, {\"Date\": \"1957-01-01T00:00:00\", \"Temperature\": 8.873538962497193}, {\"Date\": \"1958-01-01T00:00:00\", \"Temperature\": 8.775818324724906}, {\"Date\": \"1959-01-01T00:00:00\", \"Temperature\": 8.711133393218056}, {\"Date\": \"1960-01-01T00:00:00\", \"Temperature\": 8.675267909274647}, {\"Date\": \"1961-01-01T00:00:00\", \"Temperature\": 8.755514484617112}, {\"Date\": \"1962-01-01T00:00:00\", \"Temperature\": 8.659642637922001}, {\"Date\": \"1963-01-01T00:00:00\", \"Temperature\": 8.548546747511041}, {\"Date\": \"1964-01-01T00:00:00\", \"Temperature\": 8.588927389774685}, {\"Date\": \"1965-01-01T00:00:00\", \"Temperature\": 8.540927389774684}, {\"Date\": \"1966-01-01T00:00:00\", \"Temperature\": 8.70226858297777}, {\"Date\": \"1967-01-01T00:00:00\", \"Temperature\": 8.718076802155851}, {\"Date\": \"1968-01-01T00:00:00\", \"Temperature\": 8.68049689348005}, {\"Date\": \"1969-01-01T00:00:00\", \"Temperature\": 8.554469496219777}, {\"Date\": \"1970-01-01T00:00:00\", \"Temperature\": 8.484663747286472}, {\"Date\": \"1971-01-01T00:00:00\", \"Temperature\": 8.368033610300172}, {\"Date\": \"1972-01-01T00:00:00\", \"Temperature\": 8.39297649524665}, {\"Date\": \"1973-01-01T00:00:00\", \"Temperature\": 8.457579234972677}, {\"Date\": \"1974-01-01T00:00:00\", \"Temperature\": 8.50358215435287}, {\"Date\": \"1975-01-01T00:00:00\", \"Temperature\": 8.609527359832324}, {\"Date\": \"1976-01-01T00:00:00\", \"Temperature\": 8.598076877011753}, {\"Date\": \"1977-01-01T00:00:00\", \"Temperature\": 8.61654263043641}, {\"Date\": \"1978-01-01T00:00:00\", \"Temperature\": 8.572286922673852}, {\"Date\": \"1979-01-01T00:00:00\", \"Temperature\": 8.60488966239988}, {\"Date\": \"1980-01-01T00:00:00\", \"Temperature\": 8.585214537016245}, {\"Date\": \"1981-01-01T00:00:00\", \"Temperature\": 8.603488509618984}, {\"Date\": \"1982-01-01T00:00:00\", \"Temperature\": 8.72416206302867}, {\"Date\": \"1983-01-01T00:00:00\", \"Temperature\": 8.831668912343739}, {\"Date\": \"1984-01-01T00:00:00\", \"Temperature\": 8.765010255258627}, {\"Date\": \"1985-01-01T00:00:00\", \"Temperature\": 8.703119844299723}, {\"Date\": \"1986-01-01T00:00:00\", \"Temperature\": 8.661200464106596}, {\"Date\": \"1987-01-01T00:00:00\", \"Temperature\": 8.580214162736732}, {\"Date\": \"1988-01-01T00:00:00\", \"Temperature\": 8.722284078149562}, {\"Date\": \"1989-01-01T00:00:00\", \"Temperature\": 8.827270379519424}, {\"Date\": \"1990-01-01T00:00:00\", \"Temperature\": 9.01927427202635}, {\"Date\": \"1991-01-01T00:00:00\", \"Temperature\": 9.037301669286624}, {\"Date\": \"1992-01-01T00:00:00\", \"Temperature\": 9.05340407216109}, {\"Date\": \"1993-01-01T00:00:00\", \"Temperature\": 9.029047907777528}, {\"Date\": \"1994-01-01T00:00:00\", \"Temperature\": 9.230638071711954}, {\"Date\": \"1995-01-01T00:00:00\", \"Temperature\": 9.326912044314694}, {\"Date\": \"1996-01-01T00:00:00\", \"Temperature\": 9.304487162212741}, {\"Date\": \"1997-01-01T00:00:00\", \"Temperature\": 9.424952915637398}, {\"Date\": \"1998-01-01T00:00:00\", \"Temperature\": 9.444115876936896}, {\"Date\": \"1999-01-01T00:00:00\", \"Temperature\": 9.434800808443745}, {\"Date\": \"2000-01-01T00:00:00\", \"Temperature\": 9.47981877386032}, {\"Date\": \"2001-01-01T00:00:00\", \"Temperature\": 9.556887267011003}, {\"Date\": \"2002-01-01T00:00:00\", \"Temperature\": 9.64563417920503}, {\"Date\": \"2003-01-01T00:00:00\", \"Temperature\": 9.757195823040647}, {\"Date\": \"2004-01-01T00:00:00\", \"Temperature\": 9.651835167302941}, {\"Date\": \"2005-01-01T00:00:00\", \"Temperature\": 9.655259824837188}, {\"Date\": \"2006-01-01T00:00:00\", \"Temperature\": 9.809821693240512}, {\"Date\": \"2007-01-01T00:00:00\", \"Temperature\": 9.866451830226813}, {\"Date\": \"2008-01-01T00:00:00\", \"Temperature\": 9.866933677670485}, {\"Date\": \"2009-01-01T00:00:00\", \"Temperature\": 9.904166554382813}, {\"Date\": \"2010-01-01T00:00:00\", \"Temperature\": 9.749532150610076}, {\"Date\": \"2011-01-01T00:00:00\", \"Temperature\": 9.82983352047309}, {\"Date\": \"2012-01-01T00:00:00\", \"Temperature\": 9.763682236694363}, {\"Date\": \"2013-01-01T00:00:00\", \"Temperature\": 9.64792881203683}, {\"Date\": \"2014-01-01T00:00:00\", \"Temperature\": 9.765618234897822}, {\"Date\": \"2015-01-01T00:00:00\", \"Temperature\": 9.89739905681563}, {\"Date\": \"2016-01-01T00:00:00\", \"Temperature\": 9.909667789505203}, {\"Date\": \"2017-01-01T00:00:00\", \"Temperature\": 9.916873268957257}, {\"Date\": \"2018-01-01T00:00:00\", \"Temperature\": 10.06682977767797}, {\"Date\": \"2019-01-01T00:00:00\", \"Temperature\": 10.131898270828653}, {\"Date\": \"2020-01-01T00:00:00\", \"Temperature\": 10.338090051650571}, {\"Date\": \"2021-01-01T00:00:00\", \"Temperature\": 10.248309229732765}, {\"Date\": \"2022-01-01T00:00:00\", \"Temperature\": 10.424515308032039}, {\"Date\": \"2023-01-01T00:00:00\", \"Temperature\": 10.654953664196423}, {\"Date\": \"2024-01-01T00:00:00\", \"Temperature\": 10.694914514559473}]}}, {\"mode\": \"vega-lite\"});\n",
       "</script>"
      ],
      "text/plain": [
       "alt.Chart(...)"
      ]
     },
     "execution_count": 27,
     "metadata": {},
     "output_type": "execute_result"
    }
   ],
   "source": [
    "rolling_av = (yearly_means\n",
    "              .rolling(index_column='Date', period='10y')\n",
    "              .agg(pl.col('Temperature').mean())\n",
    "             )\n",
    "\n",
    "rolling_av.plot.line(\n",
    "    x='Date',\n",
    "    y='Temperature'\n",
    ")\n",
    "              "
   ]
  },
  {
   "cell_type": "markdown",
   "id": "144b3e2a-fbee-46c9-a0cf-6f209bca6f51",
   "metadata": {},
   "source": [
    "## Rainfall in Zurich\n",
    "As an additional we can analyse it precipitation (column 'rre150d0') has also changed over the years."
   ]
  },
  {
   "cell_type": "code",
   "execution_count": 39,
   "id": "9f2f7eaf-8930-43d1-9cec-873a623eb260",
   "metadata": {},
   "outputs": [
    {
     "data": {
      "text/html": [
       "<div><style>\n",
       ".dataframe > thead > tr,\n",
       ".dataframe > tbody > tr {\n",
       "  text-align: right;\n",
       "  white-space: pre-wrap;\n",
       "}\n",
       "</style>\n",
       "<small>shape: (58_805, 2)</small><table border=\"1\" class=\"dataframe\"><thead><tr><th>Date</th><th>Precipitation</th></tr><tr><td>date</td><td>f64</td></tr></thead><tbody><tr><td>1864-01-01</td><td>6.3</td></tr><tr><td>1864-01-02</td><td>4.5</td></tr><tr><td>1864-01-03</td><td>0.1</td></tr><tr><td>1864-01-04</td><td>0.2</td></tr><tr><td>1864-01-05</td><td>0.0</td></tr><tr><td>&hellip;</td><td>&hellip;</td></tr><tr><td>2024-12-27</td><td>0.0</td></tr><tr><td>2024-12-28</td><td>0.0</td></tr><tr><td>2024-12-29</td><td>0.0</td></tr><tr><td>2024-12-30</td><td>0.0</td></tr><tr><td>2024-12-31</td><td>0.0</td></tr></tbody></table></div>"
      ],
      "text/plain": [
       "shape: (58_805, 2)\n",
       "┌────────────┬───────────────┐\n",
       "│ Date       ┆ Precipitation │\n",
       "│ ---        ┆ ---           │\n",
       "│ date       ┆ f64           │\n",
       "╞════════════╪═══════════════╡\n",
       "│ 1864-01-01 ┆ 6.3           │\n",
       "│ 1864-01-02 ┆ 4.5           │\n",
       "│ 1864-01-03 ┆ 0.1           │\n",
       "│ 1864-01-04 ┆ 0.2           │\n",
       "│ 1864-01-05 ┆ 0.0           │\n",
       "│ …          ┆ …             │\n",
       "│ 2024-12-27 ┆ 0.0           │\n",
       "│ 2024-12-28 ┆ 0.0           │\n",
       "│ 2024-12-29 ┆ 0.0           │\n",
       "│ 2024-12-30 ┆ 0.0           │\n",
       "│ 2024-12-31 ┆ 0.0           │\n",
       "└────────────┴───────────────┘"
      ]
     },
     "execution_count": 39,
     "metadata": {},
     "output_type": "execute_result"
    }
   ],
   "source": [
    "precipitation = (df\n",
    "    .select(\n",
    "        pl.col('reference_timestamp')\n",
    "            .str.to_date(format='%d.%m.%Y %H:%M')\n",
    "            .alias('Date'), \n",
    "        pl.col('rre150d0')\n",
    "            .alias('Precipitation')\n",
    "    )\n",
    "     )\n",
    "\n",
    "precipitation"
   ]
  },
  {
   "cell_type": "code",
   "execution_count": 41,
   "id": "76c91184-1736-4bfa-8eb7-259aeed8b48a",
   "metadata": {},
   "outputs": [
    {
     "data": {
      "text/html": [
       "\n",
       "<style>\n",
       "  #altair-viz-a503d44699394db09dc972c233e918fe.vega-embed {\n",
       "    width: 100%;\n",
       "    display: flex;\n",
       "  }\n",
       "\n",
       "  #altair-viz-a503d44699394db09dc972c233e918fe.vega-embed details,\n",
       "  #altair-viz-a503d44699394db09dc972c233e918fe.vega-embed details summary {\n",
       "    position: relative;\n",
       "  }\n",
       "</style>\n",
       "<div id=\"altair-viz-a503d44699394db09dc972c233e918fe\"></div>\n",
       "<script type=\"text/javascript\">\n",
       "  var VEGA_DEBUG = (typeof VEGA_DEBUG == \"undefined\") ? {} : VEGA_DEBUG;\n",
       "  (function(spec, embedOpt){\n",
       "    let outputDiv = document.currentScript.previousElementSibling;\n",
       "    if (outputDiv.id !== \"altair-viz-a503d44699394db09dc972c233e918fe\") {\n",
       "      outputDiv = document.getElementById(\"altair-viz-a503d44699394db09dc972c233e918fe\");\n",
       "    }\n",
       "\n",
       "    const paths = {\n",
       "      \"vega\": \"https://cdn.jsdelivr.net/npm/vega@5?noext\",\n",
       "      \"vega-lib\": \"https://cdn.jsdelivr.net/npm/vega-lib?noext\",\n",
       "      \"vega-lite\": \"https://cdn.jsdelivr.net/npm/vega-lite@5.20.1?noext\",\n",
       "      \"vega-embed\": \"https://cdn.jsdelivr.net/npm/vega-embed@6?noext\",\n",
       "    };\n",
       "\n",
       "    function maybeLoadScript(lib, version) {\n",
       "      var key = `${lib.replace(\"-\", \"\")}_version`;\n",
       "      return (VEGA_DEBUG[key] == version) ?\n",
       "        Promise.resolve(paths[lib]) :\n",
       "        new Promise(function(resolve, reject) {\n",
       "          var s = document.createElement('script');\n",
       "          document.getElementsByTagName(\"head\")[0].appendChild(s);\n",
       "          s.async = true;\n",
       "          s.onload = () => {\n",
       "            VEGA_DEBUG[key] = version;\n",
       "            return resolve(paths[lib]);\n",
       "          };\n",
       "          s.onerror = () => reject(`Error loading script: ${paths[lib]}`);\n",
       "          s.src = paths[lib];\n",
       "        });\n",
       "    }\n",
       "\n",
       "    function showError(err) {\n",
       "      outputDiv.innerHTML = `<div class=\"error\" style=\"color:red;\">${err}</div>`;\n",
       "      throw err;\n",
       "    }\n",
       "\n",
       "    function displayChart(vegaEmbed) {\n",
       "      vegaEmbed(outputDiv, spec, embedOpt)\n",
       "        .catch(err => showError(`Javascript Error: ${err.message}<br>This usually means there's a typo in your chart specification. See the javascript console for the full traceback.`));\n",
       "    }\n",
       "\n",
       "    if(typeof define === \"function\" && define.amd) {\n",
       "      requirejs.config({paths});\n",
       "      let deps = [\"vega-embed\"];\n",
       "      require(deps, displayChart, err => showError(`Error loading script: ${err.message}`));\n",
       "    } else {\n",
       "      maybeLoadScript(\"vega\", \"5\")\n",
       "        .then(() => maybeLoadScript(\"vega-lite\", \"5.20.1\"))\n",
       "        .then(() => maybeLoadScript(\"vega-embed\", \"6\"))\n",
       "        .catch(showError)\n",
       "        .then(() => displayChart(vegaEmbed));\n",
       "    }\n",
       "  })({\"config\": {\"view\": {\"continuousWidth\": 300, \"continuousHeight\": 300}}, \"data\": {\"name\": \"data-4564141a07358f49f32dacad12ccda2c\"}, \"mark\": {\"type\": \"line\", \"tooltip\": true}, \"encoding\": {\"x\": {\"field\": \"Date\", \"type\": \"temporal\"}, \"y\": {\"field\": \"Precipitation\", \"type\": \"quantitative\"}}, \"params\": [{\"name\": \"param_13\", \"select\": {\"type\": \"interval\", \"encodings\": [\"x\", \"y\"]}, \"bind\": \"scales\"}], \"$schema\": \"https://vega.github.io/schema/vega-lite/v5.20.1.json\", \"datasets\": {\"data-4564141a07358f49f32dacad12ccda2c\": [{\"Date\": \"1864-01-01T00:00:00\", \"Precipitation\": 1.9991803278688522}, {\"Date\": \"1865-01-01T00:00:00\", \"Precipitation\": 2.0091792050303163}, {\"Date\": \"1866-01-01T00:00:00\", \"Precipitation\": 2.5335167302941834}, {\"Date\": \"1867-01-01T00:00:00\", \"Precipitation\": 2.8983567258028295}, {\"Date\": \"1868-01-01T00:00:00\", \"Precipitation\": 2.837920353319859}, {\"Date\": \"1869-01-01T00:00:00\", \"Precipitation\": 2.87397472365696}, {\"Date\": \"1870-01-01T00:00:00\", \"Precipitation\": 2.8196887063830696}, {\"Date\": \"1871-01-01T00:00:00\", \"Precipitation\": 2.767227618085186}, {\"Date\": \"1872-01-01T00:00:00\", \"Precipitation\": 2.893273365438198}, {\"Date\": \"1873-01-01T00:00:00\", \"Precipitation\": 2.956000823414926}, {\"Date\": \"1874-01-01T00:00:00\", \"Precipitation\": 3.0516444344636575}, {\"Date\": \"1875-01-01T00:00:00\", \"Precipitation\": 3.2116992289842052}, {\"Date\": \"1876-01-01T00:00:00\", \"Precipitation\": 3.396567482596003}, {\"Date\": \"1877-01-01T00:00:00\", \"Precipitation\": 3.3123483045138107}, {\"Date\": \"1878-01-01T00:00:00\", \"Precipitation\": 3.442648626394191}, {\"Date\": \"1879-01-01T00:00:00\", \"Precipitation\": 3.4747308181750127}, {\"Date\": \"1880-01-01T00:00:00\", \"Precipitation\": 3.548448311999401}, {\"Date\": \"1881-01-01T00:00:00\", \"Precipitation\": 3.6259551613144696}, {\"Date\": \"1882-01-01T00:00:00\", \"Precipitation\": 3.6180925967512536}, {\"Date\": \"1883-01-01T00:00:00\", \"Precipitation\": 3.5732706789430346}, {\"Date\": \"1884-01-01T00:00:00\", \"Precipitation\": 3.5485560296429375}, {\"Date\": \"1885-01-01T00:00:00\", \"Precipitation\": 3.5324464406018414}, {\"Date\": \"1886-01-01T00:00:00\", \"Precipitation\": 3.3524548993188112}, {\"Date\": \"1887-01-01T00:00:00\", \"Precipitation\": 3.326016543154428}, {\"Date\": \"1888-01-01T00:00:00\", \"Precipitation\": 3.34713698630137}, {\"Date\": \"1889-01-01T00:00:00\", \"Precipitation\": 3.332260273972603}, {\"Date\": \"1890-01-01T00:00:00\", \"Precipitation\": 3.31947428699753}, {\"Date\": \"1891-01-01T00:00:00\", \"Precipitation\": 3.330542780148215}, {\"Date\": \"1892-01-01T00:00:00\", \"Precipitation\": 3.2239244703944907}, {\"Date\": \"1893-01-01T00:00:00\", \"Precipitation\": 3.136499812860244}, {\"Date\": \"1894-01-01T00:00:00\", \"Precipitation\": 3.132748708735684}, {\"Date\": \"1895-01-01T00:00:00\", \"Precipitation\": 3.0307761059959577}, {\"Date\": \"1896-01-01T00:00:00\", \"Precipitation\": 2.971368740175163}, {\"Date\": \"1897-01-01T00:00:00\", \"Precipitation\": 2.989341342914889}, {\"Date\": \"1898-01-01T00:00:00\", \"Precipitation\": 2.8602756942884944}, {\"Date\": \"1899-01-01T00:00:00\", \"Precipitation\": 2.7759195299049333}, {\"Date\": \"1900-01-01T00:00:00\", \"Precipitation\": 2.751974324425481}, {\"Date\": \"1901-01-01T00:00:00\", \"Precipitation\": 2.6991798038775356}, {\"Date\": \"1902-01-01T00:00:00\", \"Precipitation\": 2.736400853357287}, {\"Date\": \"1903-01-01T00:00:00\", \"Precipitation\": 2.7879624971929036}, {\"Date\": \"1904-01-01T00:00:00\", \"Precipitation\": 2.7790360056890484}, {\"Date\": \"1905-01-01T00:00:00\", \"Precipitation\": 2.8801318961000075}, {\"Date\": \"1906-01-01T00:00:00\", \"Precipitation\": 2.8308817276742273}, {\"Date\": \"1907-01-01T00:00:00\", \"Precipitation\": 2.7847173441125834}, {\"Date\": \"1908-01-01T00:00:00\", \"Precipitation\": 2.771323976345535}, {\"Date\": \"1909-01-01T00:00:00\", \"Precipitation\": 2.8130226064825212}, {\"Date\": \"1910-01-01T00:00:00\", \"Precipitation\": 2.9268856201811513}, {\"Date\": \"1911-01-01T00:00:00\", \"Precipitation\": 2.8525842503181376}, {\"Date\": \"1912-01-01T00:00:00\", \"Precipitation\": 2.854898719964069}, {\"Date\": \"1913-01-01T00:00:00\", \"Precipitation\": 2.8536110487311923}, {\"Date\": \"1914-01-01T00:00:00\", \"Precipitation\": 2.905825211467924}, {\"Date\": \"1915-01-01T00:00:00\", \"Precipitation\": 2.8574142525638146}, {\"Date\": \"1916-01-01T00:00:00\", \"Precipitation\": 2.938167153230032}, {\"Date\": \"1917-01-01T00:00:00\", \"Precipitation\": 2.97208496144921}, {\"Date\": \"1918-01-01T00:00:00\", \"Precipitation\": 2.980629014147765}, {\"Date\": \"1919-01-01T00:00:00\", \"Precipitation\": 2.987615315517629}, {\"Date\": \"1920-01-01T00:00:00\", \"Precipitation\": 2.788079122688824}, {\"Date\": \"1921-01-01T00:00:00\", \"Precipitation\": 2.782764054195673}, {\"Date\": \"1922-01-01T00:00:00\", \"Precipitation\": 2.8396824612620706}, {\"Date\": \"1923-01-01T00:00:00\", \"Precipitation\": 2.853216707837413}, {\"Date\": \"1924-01-01T00:00:00\", \"Precipitation\": 2.811467025974998}, {\"Date\": \"1925-01-01T00:00:00\", \"Precipitation\": 2.788508121865409}, {\"Date\": \"1926-01-01T00:00:00\", \"Precipitation\": 2.7192072759937123}, {\"Date\": \"1927-01-01T00:00:00\", \"Precipitation\": 2.7510976869526163}, {\"Date\": \"1928-01-01T00:00:00\", \"Precipitation\": 2.739192978516356}, {\"Date\": \"1929-01-01T00:00:00\", \"Precipitation\": 2.704343663447863}, {\"Date\": \"1930-01-01T00:00:00\", \"Precipitation\": 2.863194924769818}, {\"Date\": \"1931-01-01T00:00:00\", \"Precipitation\": 3.0066195823040647}, {\"Date\": \"1932-01-01T00:00:00\", \"Precipitation\": 2.9054115577513286}, {\"Date\": \"1933-01-01T00:00:00\", \"Precipitation\": 2.9045348454225617}, {\"Date\": \"1934-01-01T00:00:00\", \"Precipitation\": 2.9013804176959352}, {\"Date\": \"1935-01-01T00:00:00\", \"Precipitation\": 2.9585037053671686}, {\"Date\": \"1936-01-01T00:00:00\", \"Precipitation\": 3.035400179654166}, {\"Date\": \"1937-01-01T00:00:00\", \"Precipitation\": 3.004359083763755}, {\"Date\": \"1938-01-01T00:00:00\", \"Precipitation\": 3.02719529904933}, {\"Date\": \"1939-01-01T00:00:00\", \"Precipitation\": 3.1478528332959055}, {\"Date\": \"1940-01-01T00:00:00\", \"Precipitation\": 3.165258402575043}, {\"Date\": \"1941-01-01T00:00:00\", \"Precipitation\": 3.1031762107942216}, {\"Date\": \"1942-01-01T00:00:00\", \"Precipitation\": 3.088000673703122}, {\"Date\": \"1943-01-01T00:00:00\", \"Precipitation\": 3.0160828654839436}, {\"Date\": \"1944-01-01T00:00:00\", \"Precipitation\": 3.050166254959204}, {\"Date\": \"1945-01-01T00:00:00\", \"Precipitation\": 2.99972789879482}, {\"Date\": \"1946-01-01T00:00:00\", \"Precipitation\": 2.957461561494124}, {\"Date\": \"1947-01-01T00:00:00\", \"Precipitation\": 2.9061464930009735}, {\"Date\": \"1948-01-01T00:00:00\", \"Precipitation\": 2.86281847443671}, {\"Date\": \"1949-01-01T00:00:00\", \"Precipitation\": 2.6747636799161616}, {\"Date\": \"1950-01-01T00:00:00\", \"Precipitation\": 2.60360468597949}, {\"Date\": \"1951-01-01T00:00:00\", \"Precipitation\": 2.6396320832397633}, {\"Date\": \"1952-01-01T00:00:00\", \"Precipitation\": 2.7497256531177485}, {\"Date\": \"1953-01-01T00:00:00\", \"Precipitation\": 2.7828489407889814}, {\"Date\": \"1954-01-01T00:00:00\", \"Precipitation\": 2.8078888389849537}, {\"Date\": \"1955-01-01T00:00:00\", \"Precipitation\": 2.8450943184370088}, {\"Date\": \"1956-01-01T00:00:00\", \"Precipitation\": 2.8725792349726778}, {\"Date\": \"1957-01-01T00:00:00\", \"Precipitation\": 2.9155929336028144}, {\"Date\": \"1958-01-01T00:00:00\", \"Precipitation\": 3.062975746687626}, {\"Date\": \"1959-01-01T00:00:00\", \"Precipitation\": 3.1344551987424207}, {\"Date\": \"1960-01-01T00:00:00\", \"Precipitation\": 3.182362826558874}, {\"Date\": \"1961-01-01T00:00:00\", \"Precipitation\": 3.131513511490381}, {\"Date\": \"1962-01-01T00:00:00\", \"Precipitation\": 3.039365147091848}, {\"Date\": \"1963-01-01T00:00:00\", \"Precipitation\": 3.0781048731192455}, {\"Date\": \"1964-01-01T00:00:00\", \"Precipitation\": 3.0196769967811963}, {\"Date\": \"1965-01-01T00:00:00\", \"Precipitation\": 3.1248550789729768}, {\"Date\": \"1966-01-01T00:00:00\", \"Precipitation\": 3.1561646829852537}, {\"Date\": \"1967-01-01T00:00:00\", \"Precipitation\": 3.1680824912044314}, {\"Date\": \"1968-01-01T00:00:00\", \"Precipitation\": 3.0920384759338275}, {\"Date\": \"1969-01-01T00:00:00\", \"Precipitation\": 3.096641215659855}, {\"Date\": \"1970-01-01T00:00:00\", \"Precipitation\": 3.1321034508571004}, {\"Date\": \"1971-01-01T00:00:00\", \"Precipitation\": 3.131171944007785}, {\"Date\": \"1972-01-01T00:00:00\", \"Precipitation\": 3.1317629313571373}, {\"Date\": \"1973-01-01T00:00:00\", \"Precipitation\": 3.153187588891384}, {\"Date\": \"1974-01-01T00:00:00\", \"Precipitation\": 3.2026017665992965}, {\"Date\": \"1975-01-01T00:00:00\", \"Precipitation\": 3.1132866981061458}, {\"Date\": \"1976-01-01T00:00:00\", \"Precipitation\": 3.016867804476383}, {\"Date\": \"1977-01-01T00:00:00\", \"Precipitation\": 3.0386760236544648}, {\"Date\": \"1978-01-01T00:00:00\", \"Precipitation\": 3.0526378471442475}, {\"Date\": \"1979-01-01T00:00:00\", \"Precipitation\": 3.1162816827606856}, {\"Date\": \"1980-01-01T00:00:00\", \"Precipitation\": 3.0077866606781942}, {\"Date\": \"1981-01-01T00:00:00\", \"Precipitation\": 3.099348304513811}, {\"Date\": \"1982-01-01T00:00:00\", \"Precipitation\": 3.146127180178157}, {\"Date\": \"1983-01-01T00:00:00\", \"Precipitation\": 3.081990193876787}, {\"Date\": \"1984-01-01T00:00:00\", \"Precipitation\": 3.0379585298300773}, {\"Date\": \"1985-01-01T00:00:00\", \"Precipitation\": 2.967492776405419}, {\"Date\": \"1986-01-01T00:00:00\", \"Precipitation\": 3.0345418070214834}, {\"Date\": \"1987-01-01T00:00:00\", \"Precipitation\": 3.0468431768844972}, {\"Date\": \"1988-01-01T00:00:00\", \"Precipitation\": 3.1033185118646602}, {\"Date\": \"1989-01-01T00:00:00\", \"Precipitation\": 3.039181525563291}, {\"Date\": \"1990-01-01T00:00:00\", \"Precipitation\": 3.0840327120293436}, {\"Date\": \"1991-01-01T00:00:00\", \"Precipitation\": 2.9838957257279737}, {\"Date\": \"1992-01-01T00:00:00\", \"Precipitation\": 2.9574993637248297}, {\"Date\": \"1993-01-01T00:00:00\", \"Precipitation\": 3.039061007560446}, {\"Date\": \"1994-01-01T00:00:00\", \"Precipitation\": 3.0885721236619506}, {\"Date\": \"1995-01-01T00:00:00\", \"Precipitation\": 3.188215959278389}, {\"Date\": \"1996-01-01T00:00:00\", \"Precipitation\": 3.132505726476533}, {\"Date\": \"1997-01-01T00:00:00\", \"Precipitation\": 3.0696838086683136}, {\"Date\": \"1998-01-01T00:00:00\", \"Precipitation\": 2.9691536791676025}, {\"Date\": \"1999-01-01T00:00:00\", \"Precipitation\": 3.1332358709484245}, {\"Date\": \"2000-01-01T00:00:00\", \"Precipitation\": 3.123739875739202}, {\"Date\": \"2001-01-01T00:00:00\", \"Precipitation\": 3.2768357661501613}, {\"Date\": \"2002-01-01T00:00:00\", \"Precipitation\": 3.331697881577962}, {\"Date\": \"2003-01-01T00:00:00\", \"Precipitation\": 3.2455608952765926}, {\"Date\": \"2004-01-01T00:00:00\", \"Precipitation\": 3.21711535294558}, {\"Date\": \"2005-01-01T00:00:00\", \"Precipitation\": 3.140019462534621}, {\"Date\": \"2006-01-01T00:00:00\", \"Precipitation\": 3.1766064076652443}, {\"Date\": \"2007-01-01T00:00:00\", \"Precipitation\": 3.222359832322779}, {\"Date\": \"2008-01-01T00:00:00\", \"Precipitation\": 3.2677260273972606}, {\"Date\": \"2009-01-01T00:00:00\", \"Precipitation\": 3.1442465753424655}, {\"Date\": \"2010-01-01T00:00:00\", \"Precipitation\": 3.102591885620181}, {\"Date\": \"2011-01-01T00:00:00\", \"Precipitation\": 2.9465918856201814}, {\"Date\": \"2012-01-01T00:00:00\", \"Precipitation\": 2.9499811363125983}, {\"Date\": \"2013-01-01T00:00:00\", \"Precipitation\": 3.014255108915338}, {\"Date\": \"2014-01-01T00:00:00\", \"Precipitation\": 3.016536267684707}, {\"Date\": \"2015-01-01T00:00:00\", \"Precipitation\": 2.9825910622052545}, {\"Date\": \"2016-01-01T00:00:00\", \"Precipitation\": 3.026086084287746}, {\"Date\": \"2017-01-01T00:00:00\", \"Precipitation\": 3.0134011527808964}, {\"Date\": \"2018-01-01T00:00:00\", \"Precipitation\": 2.927897971405045}, {\"Date\": \"2019-01-01T00:00:00\", \"Precipitation\": 2.912254135788607}, {\"Date\": \"2020-01-01T00:00:00\", \"Precipitation\": 2.8727066397185417}, {\"Date\": \"2021-01-01T00:00:00\", \"Precipitation\": 2.9310902013623776}, {\"Date\": \"2022-01-01T00:00:00\", \"Precipitation\": 2.817043416423385}, {\"Date\": \"2023-01-01T00:00:00\", \"Precipitation\": 2.8350708136836587}, {\"Date\": \"2024-01-01T00:00:00\", \"Precipitation\": 2.8901120592858747}]}}, {\"mode\": \"vega-lite\"});\n",
       "</script>"
      ],
      "text/plain": [
       "alt.Chart(...)"
      ]
     },
     "execution_count": 41,
     "metadata": {},
     "output_type": "execute_result"
    }
   ],
   "source": [
    "prec_roll = (precipitation\n",
    "    .group_by_dynamic('Date', every='1y')\n",
    "    .agg(pl.col('Precipitation').mean())\n",
    "    .rolling(index_column='Date', period='10y')\n",
    "    .agg(pl.col('Precipitation').mean())\n",
    "            )\n",
    "\n",
    "prec_roll.plot.line(\n",
    "    x='Date',\n",
    "    y='Precipitation'\n",
    ")"
   ]
  },
  {
   "cell_type": "code",
   "execution_count": null,
   "id": "da93c12f-15c9-4c41-89c0-8b6a97a953b1",
   "metadata": {},
   "outputs": [],
   "source": []
  }
 ],
 "metadata": {
  "kernelspec": {
   "display_name": "Python 3 (ipykernel)",
   "language": "python",
   "name": "python3"
  },
  "language_info": {
   "codemirror_mode": {
    "name": "ipython",
    "version": 3
   },
   "file_extension": ".py",
   "mimetype": "text/x-python",
   "name": "python",
   "nbconvert_exporter": "python",
   "pygments_lexer": "ipython3",
   "version": "3.13.3"
  }
 },
 "nbformat": 4,
 "nbformat_minor": 5
}
