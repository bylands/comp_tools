{
 "cells": [
  {
   "cell_type": "markdown",
   "id": "55f1f6b2",
   "metadata": {},
   "source": [
    "# Biased Die\n",
    "You have to verify if a die is biased. The data in the file *eyes.csv* contains the outcomes for a large number of rolls of the die. Use a $\\chi^2$ test to challenge the hypothesis that the die is unbiased."
   ]
  },
  {
   "cell_type": "code",
   "execution_count": null,
   "id": "d50001e7",
   "metadata": {},
   "outputs": [],
   "source": [
    "import numpy as np\n",
    "from scipy.stats import chisquare\n",
    "\n",
    "eyes = np.loadtxt('eyes.csv')"
   ]
  },
  {
   "cell_type": "markdown",
   "id": "284ab871",
   "metadata": {},
   "source": [
    "### Calculate expected and observed counts\n",
    "Calculate the expected counts (for a fair die) and the observed counts (based on the data)."
   ]
  },
  {
   "cell_type": "code",
   "execution_count": null,
   "id": "7180cb5c",
   "metadata": {},
   "outputs": [],
   "source": []
  },
  {
   "cell_type": "markdown",
   "id": "c1178cb1",
   "metadata": {},
   "source": [
    "### Hypothesis test\n",
    "Using the method *chisquared* in scipy.stats, perform a $\\chi^2$ test on the data and decide whether the die can be assumed to be fair."
   ]
  },
  {
   "cell_type": "code",
   "execution_count": null,
   "id": "e4119a2e",
   "metadata": {},
   "outputs": [],
   "source": []
  },
  {
   "cell_type": "markdown",
   "id": "eec56349",
   "metadata": {},
   "source": [
    "For $p<0.05$ it is very unlikely that the hypothesis is true. We have to assume that the die is biased."
   ]
  },
  {
   "cell_type": "markdown",
   "id": "1cd49043",
   "metadata": {},
   "source": [
    "*** Graphical representation\n",
    "Make a graph for the observed counts vs the number of eyes including the statistical errors and show that one outcome is significantly higher than the expected value."
   ]
  },
  {
   "cell_type": "code",
   "execution_count": null,
   "id": "9ec43e08",
   "metadata": {},
   "outputs": [],
   "source": []
  },
  {
   "cell_type": "markdown",
   "id": "e01cf568",
   "metadata": {},
   "source": [
    "It is evident from the histogram that the outcome *1 eye* occurs significantly too often. The average without the first outcome is lower than the expected value and seems to be compatible with equal probability for the other five faces of the die."
   ]
  }
 ],
 "metadata": {
  "language_info": {
   "name": "python",
   "pygments_lexer": "ipython3"
  }
 },
 "nbformat": 4,
 "nbformat_minor": 5
}
