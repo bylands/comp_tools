{
 "cells": [
  {
   "cell_type": "markdown",
   "id": "119c06dd-0f00-4a3e-9716-d82658753776",
   "metadata": {},
   "source": [
    "# Introduction to NumPy\n",
    "NumPy is the de facto standard for numerical calculations in Python. It can efficiently perform calculations with large data series, matrices, vectors, etc."
   ]
  },
  {
   "cell_type": "markdown",
   "id": "0bb68247-ef0c-4249-9cbb-638988df0a45",
   "metadata": {},
   "source": [
    "#### Import NumPy"
   ]
  },
  {
   "cell_type": "code",
   "execution_count": 2,
   "id": "d43296ab-1375-48ee-a2d4-7fa69f4ab8f0",
   "metadata": {},
   "outputs": [],
   "source": [
    "import numpy as np"
   ]
  },
  {
   "cell_type": "markdown",
   "id": "1d6414d3-49c1-4679-8710-4f7a25be7591",
   "metadata": {},
   "source": [
    "### Working with NumPy Arrays"
   ]
  },
  {
   "cell_type": "markdown",
   "id": "082c7b97-a893-4649-be22-dff3c3629ee9",
   "metadata": {},
   "source": [
    "#### Create numpy arrays"
   ]
  },
  {
   "cell_type": "code",
   "execution_count": 34,
   "id": "1352184e-7357-442d-b648-9de0c89b35bf",
   "metadata": {},
   "outputs": [
    {
     "name": "stdout",
     "output_type": "stream",
     "text": [
      "a = array([1, 2, 3, 4, 5])\n",
      "e = array([0., 0., 0., 0., 0., 0., 0., 0., 0., 0.])\n",
      "r = array([10. , 10.5, 11. , 11.5, 12. , 12.5, 13. , 13.5, 14. , 14.5, 15. ])\n",
      "x = array([100., 110., 120., 130., 140., 150., 160., 170., 180., 190., 200.])\n"
     ]
    }
   ],
   "source": [
    "# create array from list\n",
    "a_list = [1, 2, 3, 4, 5]\n",
    "a = np.array(a_list)\n",
    "print(f'{a = }')\n",
    "\n",
    "# create empty array\n",
    "e = np.zeros(10)\n",
    "print(f'{e = }')\n",
    "\n",
    "# create range of values (with start value and step size, similar to range)\n",
    "r = np.arange(10, 15.5, .5)\n",
    "print(f'{r = }')\n",
    "\n",
    "# create evenly spaced values between min and max value\n",
    "x = np.linspace(100, 200, 11)\n",
    "print(f'{x = }')"
   ]
  },
  {
   "cell_type": "markdown",
   "id": "3d0a39b1-7aac-4525-a914-bf5b24089195",
   "metadata": {},
   "source": [
    "#### Slicing arrays"
   ]
  },
  {
   "cell_type": "code",
   "execution_count": 38,
   "id": "6ac03b72-f612-4af4-ab6e-9244bdfdf7bd",
   "metadata": {},
   "outputs": [
    {
     "data": {
      "text/plain": [
       "np.int64(3)"
      ]
     },
     "execution_count": 38,
     "metadata": {},
     "output_type": "execute_result"
    }
   ],
   "source": [
    "a[2] # access element with index 2 (first element has index 0)"
   ]
  },
  {
   "cell_type": "code",
   "execution_count": 39,
   "id": "9ed7a2c9-f818-43bf-ad1e-5eccb6d71e05",
   "metadata": {},
   "outputs": [
    {
     "data": {
      "text/plain": [
       "np.int64(4)"
      ]
     },
     "execution_count": 39,
     "metadata": {},
     "output_type": "execute_result"
    }
   ],
   "source": [
    "a[-2] # access second to last element"
   ]
  },
  {
   "cell_type": "code",
   "execution_count": 44,
   "id": "a195f4c5-6fa3-4332-bc88-3e7e914d7a20",
   "metadata": {},
   "outputs": [
    {
     "data": {
      "text/plain": [
       "array([2, 3, 4])"
      ]
     },
     "execution_count": 44,
     "metadata": {},
     "output_type": "execute_result"
    }
   ],
   "source": [
    "a[1:4] # subarray from index 1 to index 3 (upper boundary excluded)"
   ]
  },
  {
   "cell_type": "markdown",
   "id": "3978ee70-1a20-4e6a-819b-8b8890ea2709",
   "metadata": {},
   "source": [
    "#### Calculate with arrays"
   ]
  },
  {
   "cell_type": "code",
   "execution_count": 29,
   "id": "c494e81c-3802-45c9-aecc-fac58f91207b",
   "metadata": {},
   "outputs": [
    {
     "data": {
      "text/plain": [
       "array([ 1,  4,  9, 16, 25])"
      ]
     },
     "execution_count": 29,
     "metadata": {},
     "output_type": "execute_result"
    }
   ],
   "source": [
    "a**2 # operations are calculated element wise"
   ]
  },
  {
   "cell_type": "code",
   "execution_count": 31,
   "id": "0dbe080a-2e03-43b9-b435-5d5846dceef3",
   "metadata": {},
   "outputs": [
    {
     "data": {
      "text/plain": [
       "array([10.        , 10.48808848, 10.95445115, 11.40175425, 11.83215957,\n",
       "       12.24744871, 12.64911064, 13.03840481, 13.41640786, 13.78404875,\n",
       "       14.14213562])"
      ]
     },
     "execution_count": 31,
     "metadata": {},
     "output_type": "execute_result"
    }
   ],
   "source": [
    "np.sqrt(x) # numpy provides many mathematical functions"
   ]
  },
  {
   "cell_type": "code",
   "execution_count": 37,
   "id": "8218f515-0290-4346-abb5-0af86babfb38",
   "metadata": {},
   "outputs": [
    {
     "data": {
      "text/plain": [
       "array([1000., 1155., 1320., 1495., 1680., 1875., 2080., 2295., 2520.,\n",
       "       2755., 3000.])"
      ]
     },
     "execution_count": 37,
     "metadata": {},
     "output_type": "execute_result"
    }
   ],
   "source": [
    "r * x # calculations with arrays of same length"
   ]
  },
  {
   "cell_type": "markdown",
   "id": "6aba77df-4457-4542-aa2b-152c529bdc1f",
   "metadata": {},
   "source": [
    "#### Example: Temperature data\n",
    "Perform some simple calculations based on temperature data."
   ]
  },
  {
   "cell_type": "code",
   "execution_count": 78,
   "id": "06216556-011e-44cf-b8d9-930f0ac6b9c1",
   "metadata": {},
   "outputs": [],
   "source": [
    "path = 'data/zrh_temp_2024.csv' # file containing daily average temperatures for 2024\n",
    "temperature = np.genfromtxt(path, skip_header=1) # create array from textfile, skip header"
   ]
  },
  {
   "cell_type": "code",
   "execution_count": 90,
   "id": "9db17ad8-f5a0-4fe4-9d43-1b43de1ff482",
   "metadata": {},
   "outputs": [
    {
     "name": "stdout",
     "output_type": "stream",
     "text": [
      "number of data points: 366\n",
      "minimum temperature: -5.2°C\n",
      "maximum temperature: 24.9°C\n",
      "yearly mean temperature: 11.04°C\n",
      "standard deviation: 7.05°C\n"
     ]
    }
   ],
   "source": [
    "n = len(temperature) # number of entries\n",
    "t_min = np.min(temperature)\n",
    "t_max = np.max(temperature)\n",
    "t_mean = np.mean(temperature)\n",
    "t_std = np.std(temperature)\n",
    "\n",
    "print(f'number of data points: {n}')\n",
    "print(f'minimum temperature: {t_min}°C')\n",
    "print(f'maximum temperature: {t_max}°C')\n",
    "print(f'yearly mean temperature: {t_mean:.2f}°C')\n",
    "print(f'standard deviation: {t_std:.2f}°C')"
   ]
  },
  {
   "cell_type": "markdown",
   "id": "4f7bc9e1-fcd3-4d79-b53e-9cbba53b0185",
   "metadata": {},
   "source": [
    "### Vectors and Matrices"
   ]
  },
  {
   "cell_type": "markdown",
   "id": "6ac485ba-79e3-4ecd-be61-de252bc29b4c",
   "metadata": {},
   "source": [
    "Vectors can be implemented as arrays with 2 (2D vectors) or 3 (3D vectors) elements. Typical vector operations can easily be calculated."
   ]
  },
  {
   "cell_type": "code",
   "execution_count": 14,
   "id": "a635feca-591a-4a77-97f1-648c80b45e26",
   "metadata": {},
   "outputs": [
    {
     "name": "stdout",
     "output_type": "stream",
     "text": [
      "sum: u + v = [4 5 6]\n",
      "difference: u - v = [-2  1 -2]\n",
      "scalar multiplication: 3 u = [3 9 6]\n",
      "dot product: u · v = 17\n",
      "cross product: u x v = [ 8  2 -7]\n"
     ]
    }
   ],
   "source": [
    "u = np.array([1, 3, 2]) # vector u\n",
    "v = np.array([3, 2, 4]) # vector v\n",
    "\n",
    "print(f'sum: u + v = {u+v}')\n",
    "print(f'difference: u - v = {u-v}')\n",
    "print(f'scalar multiplication: 3 u = {3*u}')\n",
    "print(f'dot product: u · v = {np.dot(u, v)}')\n",
    "print(f'cross product: u x v = {np.cross(u, v)}')"
   ]
  },
  {
   "cell_type": "markdown",
   "id": "9e1f3da6-0d89-47cf-b6b4-bc2aa348ed59",
   "metadata": {},
   "source": [
    "A matrix can be represented by a two-dimensional array (i.e. a nested array)."
   ]
  },
  {
   "cell_type": "code",
   "execution_count": 56,
   "id": "8b36e9ec-eadd-464a-96f0-12e8884c493e",
   "metadata": {},
   "outputs": [
    {
     "name": "stdout",
     "output_type": "stream",
     "text": [
      "[[0 1 9]\n",
      " [2 0 3]\n",
      " [6 2 3]]\n",
      "\n",
      "[[0 1 3]\n",
      " [1 0 1]\n",
      " [3 2 1]]\n"
     ]
    }
   ],
   "source": [
    "A = np.array([[0, 1, 9], [2, 0, 3], [6, 2, 3]])\n",
    "B = np.array([[0, 1, 3], [1, 0, 1], [3, 2, 1]])\n",
    "print(A)\n",
    "print()\n",
    "print(B)"
   ]
  },
  {
   "cell_type": "markdown",
   "id": "7672c8d0-01e7-4278-a6cb-94c98cc49a71",
   "metadata": {},
   "source": [
    "The symbol @ is used for matrix multiplication:"
   ]
  },
  {
   "cell_type": "code",
   "execution_count": 57,
   "id": "916244fc-f148-4d1e-83fb-4dfa18db957d",
   "metadata": {},
   "outputs": [
    {
     "name": "stdout",
     "output_type": "stream",
     "text": [
      "[[28 18 10]\n",
      " [ 9  8  9]\n",
      " [11 12 23]]\n",
      "\n",
      "[21  8 18]\n"
     ]
    }
   ],
   "source": [
    "print(A @ B) # product of A and B\n",
    "print()\n",
    "print(A @ u) # A applied to vector u"
   ]
  },
  {
   "cell_type": "markdown",
   "id": "aaafdab5-0d27-4a53-84c6-aa9ce2ef08cf",
   "metadata": {},
   "source": [
    "The sub-library numpy.linalg contains additional methods to work with matrices."
   ]
  },
  {
   "cell_type": "code",
   "execution_count": 69,
   "id": "d9d91656-d952-41bf-8876-7ba797ed886a",
   "metadata": {},
   "outputs": [],
   "source": [
    "from numpy.linalg import inv, eig"
   ]
  },
  {
   "cell_type": "markdown",
   "id": "da2bcf1e-5a9d-4644-a561-e8741efb6387",
   "metadata": {},
   "source": [
    "#### Inverted matrix"
   ]
  },
  {
   "cell_type": "code",
   "execution_count": 70,
   "id": "2cc8be1f-e3e0-43e2-b70d-a5db630945b4",
   "metadata": {},
   "outputs": [
    {
     "name": "stdout",
     "output_type": "stream",
     "text": [
      "[[-0.125       0.3125      0.0625    ]\n",
      " [ 0.25       -1.125       0.375     ]\n",
      " [ 0.08333333  0.125      -0.04166667]]\n",
      "\n",
      "[[ 1.00000000e+00  0.00000000e+00  2.08166817e-17]\n",
      " [-1.38777878e-17  1.00000000e+00  6.93889390e-18]\n",
      " [ 0.00000000e+00  0.00000000e+00  1.00000000e+00]]\n",
      "\n",
      "[[ 1.  0.  0.]\n",
      " [-0.  1.  0.]\n",
      " [ 0.  0.  1.]]\n"
     ]
    }
   ],
   "source": [
    "print(inv(A)) # inverse of matrix A\n",
    "print()\n",
    "print(A @ inv(A)) # should be identity matrix; deviations are due to numerical errors\n",
    "print()\n",
    "print(np.round(A @ inv(A), decimals=5))"
   ]
  },
  {
   "cell_type": "markdown",
   "id": "01284235-5a02-4b5d-9e49-ab34b263eedd",
   "metadata": {},
   "source": [
    "#### Eigenvalues and eigenvectors"
   ]
  },
  {
   "cell_type": "code",
   "execution_count": 74,
   "id": "a5cb9432-897c-461e-91ca-d624ab17e596",
   "metadata": {},
   "outputs": [
    {
     "name": "stdout",
     "output_type": "stream",
     "text": [
      "[ 9.81507291 -6.         -0.81507291]\n",
      "\n",
      "[[-6.54194593e-01 -8.32050294e-01  2.67585631e-01]\n",
      " [-3.39827915e-01 -6.83846344e-18 -9.60001397e-01]\n",
      " [-6.75682190e-01  5.54700196e-01  8.24332888e-02]]\n"
     ]
    }
   ],
   "source": [
    "values, matrix = eig(A)\n",
    "\n",
    "print(values) # eigenvalues of A\n",
    "print()\n",
    "print(matrix) # eigenvectors of A as a matrix, columns are eigenvectors"
   ]
  },
  {
   "cell_type": "code",
   "execution_count": 89,
   "id": "8ebc579a-15fa-4f5d-9d78-a85d06422a74",
   "metadata": {},
   "outputs": [
    {
     "name": "stdout",
     "output_type": "stream",
     "text": [
      "[-0. -0. -0.]\n",
      "[ 0. -0. -0.]\n",
      "[ 0. -0.  0.]\n"
     ]
    }
   ],
   "source": [
    "vectors = matrix.T # eigenvectors correspond to rows of transposed matrix\n",
    "\n",
    "for i in range(0, 3):\n",
    "    print(np.round(A @ vectors[i] - values[i] * vectors[i], decimals=5)) # verify if A v = \\lambda v"
   ]
  },
  {
   "cell_type": "markdown",
   "id": "0143d8c5-241f-4449-a5bc-fe9dcdaf1c26",
   "metadata": {},
   "source": [
    "#### Example: Solve system of linear equations\n",
    "Solve the following system of linear equations:\n",
    "\n",
    "$x + 2y + 3z = 13$ \\\n",
    "$y - z = -2$ \\\n",
    "$2x - y + z = 6$"
   ]
  },
  {
   "cell_type": "markdown",
   "id": "ea52d610-0ed2-4564-9624-88beab1c0c09",
   "metadata": {},
   "source": [
    "The system can be written as\n",
    "\n",
    "$M \\begin{pmatrix} x \\\\ y \\\\ z \\end{pmatrix} = \\vec{b}$\n",
    "\n",
    "with $M = \\begin{pmatrix} 1 & 2 & 3 \\\\ 0 & 1 & -1 \\\\ 2 & -1 & 1 \\end{pmatrix} \\quad$ and $\\quad \\vec{b} = \\begin{pmatrix} 13 \\\\ -2 \\\\ 6 \\end{pmatrix}$\n",
    "\n",
    "The solution is then $\\begin{pmatrix} x \\\\ y \\\\ z \\end{pmatrix} = M^{-1}\\, \\vec{b}$"
   ]
  },
  {
   "cell_type": "code",
   "execution_count": 99,
   "id": "3a077041-f4d4-46ab-b876-36c93f4e0698",
   "metadata": {},
   "outputs": [
    {
     "name": "stdout",
     "output_type": "stream",
     "text": [
      "The solution is x=2.0, y=1.0, z=3.0\n"
     ]
    }
   ],
   "source": [
    "M = np.array([[1, 2, 3], [0, 1, -1], [2, -1, 1]])\n",
    "b = np.array([13, -2, 6])\n",
    "\n",
    "x, y, z = inv(M) @ b\n",
    "\n",
    "print(f'The solution is {x=:.1f}, {y=:.1f}, {z=:.1f}')"
   ]
  }
 ],
 "metadata": {
  "kernelspec": {
   "display_name": "Python 3 (ipykernel)",
   "language": "python",
   "name": "python3"
  },
  "language_info": {
   "codemirror_mode": {
    "name": "ipython",
    "version": 3
   },
   "file_extension": ".py",
   "mimetype": "text/x-python",
   "name": "python",
   "nbconvert_exporter": "python",
   "pygments_lexer": "ipython3",
   "version": "3.13.3"
  }
 },
 "nbformat": 4,
 "nbformat_minor": 5
}
