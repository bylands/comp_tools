{
 "cells": [
  {
   "cell_type": "markdown",
   "id": "a5206cc1-0493-4c96-a525-ef81ecdc1d7a",
   "metadata": {},
   "source": [
    "# Looping\n",
    "We consider the work done on an object moving in a looping (i.e. in a vertical circle). In a uniform gravitational field, the gravitational force always points vertically downwards while the direction of motion changes continuously.\n",
    "\n",
    "The idea of this exercise is to approximate the circle as a polygon, and to calculate the work for each of the edges of the polygon."
   ]
  },
  {
   "cell_type": "markdown",
   "id": "e8e6dfe1-9ff2-4872-bdce-95c13f31f371",
   "metadata": {},
   "source": [
    "#### Define work function\n",
    "Define a function that calculates the work for a given force vector F and displacement vector ds."
   ]
  },
  {
   "cell_type": "code",
   "execution_count": null,
   "id": "be8d350a-8843-403e-8bd1-f6f37567b951",
   "metadata": {},
   "outputs": [],
   "source": []
  },
  {
   "cell_type": "markdown",
   "id": "f4e9e596-0e32-4e1d-ba88-0520302d0810",
   "metadata": {},
   "source": [
    "#### Verify work function\n",
    "To verify if the work function works as expected, we apply it to the following situations where a force of 2 N acts on an object displaced by 3 m:\n",
    "- Both the force and the displacement in the positive $x$ direction.\n",
    "- The force acts in the positive $y$ direction, and the object is displaced in the negative $y$ direction.\n",
    "- The force acts in the positive $x$ direction, and the object is displaced in the positive $y$ direction.\n",
    "- The force acts in the positive $x$ direction, and the object is displaced along the angle bisector between the $x$ and $y$ axis."
   ]
  },
  {
   "cell_type": "code",
   "execution_count": null,
   "id": "0355880c-721b-4a44-ac2e-95f7576bad83",
   "metadata": {},
   "outputs": [],
   "source": []
  },
  {
   "cell_type": "markdown",
   "id": "853a3b3c-e293-43a4-9ce0-817e1dc03e82",
   "metadata": {},
   "source": [
    "#### Define points on circle\n",
    "For a semiircle (radius 5 m) going from the lowest to the highest point of the looping, choose $n$ points at regular intervals."
   ]
  },
  {
   "cell_type": "code",
   "execution_count": null,
   "id": "672aef45-7144-4ce8-9bdd-0e0f65ab3405",
   "metadata": {},
   "outputs": [],
   "source": []
  },
  {
   "cell_type": "markdown",
   "id": "9f517927-f6fb-4d84-ba12-40cccc3b6632",
   "metadata": {},
   "source": [
    "#### Define force and calculate work\n",
    "We assume a force of 750 N (gravitation acting on person with mass 75 kg) pointing downwards (negative $y$ axis)."
   ]
  },
  {
   "cell_type": "code",
   "execution_count": null,
   "id": "b1ecde6f-03e9-4cda-9bd7-ff995d18b5be",
   "metadata": {},
   "outputs": [],
   "source": []
  },
  {
   "cell_type": "markdown",
   "id": "e5817e3a-6f14-4d04-ac2d-babd68d5237a",
   "metadata": {},
   "source": [
    "#### Interpretation\n"
   ]
  },
  {
   "cell_type": "code",
   "execution_count": null,
   "id": "34b3af87-e3c0-4b38-a3ad-ea0704bfdcce",
   "metadata": {},
   "outputs": [],
   "source": []
  }
 ],
 "metadata": {
  "language_info": {
   "name": "python",
   "pygments_lexer": "ipython3"
  }
 },
 "nbformat": 4,
 "nbformat_minor": 5
}
