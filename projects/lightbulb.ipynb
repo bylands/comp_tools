{
 "cells": [
  {
   "cell_type": "markdown",
   "id": "2f0c5a05-2a6f-4790-987a-2633cd97a7c5",
   "metadata": {},
   "source": [
    "# Switching on a Light Bulb\n",
    "When a light bulb is switched on, the current through the filament leads to a temperature increase. After a short time there will be an equlibrium between the power delivered by the voltage supply and the power lost to radiation.\n",
    "\n",
    "Derive a model for the temperature increase as a function of time and apply it to realistic values for a typical light bulb."
   ]
  },
  {
   "cell_type": "markdown",
   "id": "d70029c8-b597-4009-96c5-fad45e61d25c",
   "metadata": {},
   "source": [
    "### Deriving the model"
   ]
  },
  {
   "cell_type": "markdown",
   "id": "0cfac106-f4fc-403c-b2bf-9297712509e6",
   "metadata": {},
   "source": [
    "The energy delivered by the voltage supply is\n",
    "\n",
    "$\\textrm{d}E_{el} = P \\textrm{d}t = \\dots$\n",
    "\n",
    "The radiation energy is\n",
    "\n",
    "$\\textrm{d}E_{rad} = I(T) A \\textrm{d}t = \\dots$ \n",
    "\n",
    "The net energy leads to a temperature increase $\\textrm{d}T$ according to\n",
    "\n",
    "$\\textrm{d}E_{net} = \\textrm{d}E_{el} - \\textrm{d}E_{rad} = c m \\textrm{d}T = \\dots$\n",
    "\n",
    "Solving for the rate of change of the temperature, we find\n",
    "\n",
    "$\\frac{\\textrm{d}T}{\\textrm{d}t} = \\dots$\n",
    "\n",
    "This is a *differential equation* for the temperature $T$ as a function of time $t$. It can be solved numerically usingt the function *solve_ivp* in SciPy."
   ]
  },
  {
   "cell_type": "markdown",
   "id": "ed61a378-1838-4fbe-8ce6-d76c6e9ee894",
   "metadata": {},
   "source": [
    "### Implementing the model"
   ]
  },
  {
   "cell_type": "markdown",
   "id": "82ebb48e-ad9e-4a1d-821c-df4de648a023",
   "metadata": {},
   "source": [
    "#### Imports"
   ]
  },
  {
   "cell_type": "code",
   "execution_count": null,
   "id": "2b7e358b-d4f0-45ce-9be1-8b3eb55a782a",
   "metadata": {},
   "outputs": [],
   "source": [
    "import numpy as np\n",
    "import matplotlib.pyplot as plt\n",
    "\n",
    "from scipy.integrate import solve_ivp\n",
    "from scipy.constants import sigma, pi"
   ]
  },
  {
   "cell_type": "markdown",
   "id": "1a8b6f67-8e49-4b75-a4b3-9ea6a15889e0",
   "metadata": {},
   "source": [
    "#### Define constants"
   ]
  },
  {
   "cell_type": "code",
   "execution_count": null,
   "id": "c428b4db-9c18-4707-8898-be171e2af18b",
   "metadata": {},
   "outputs": [],
   "source": [
    "c = 134 # specific heat of tungsten (J/(kg K))\n",
    "rh = 19.3e3 # density of tungsten (kg/m^3)\n",
    "rel = 5.5e-8 # resistivity of tungsten at 20°C (Ω m)\n",
    "al = 4.6e-3 # temperature coefficient for tungsten (1/K)\n",
    "eps = 0.44 # emissivity of tungsten\n",
    "\n",
    "d = 40e-6 # diameter of filament (m)\n",
    "L = 1.15 # length of filament (m)\n",
    "T20 = 293 # ambient temperature (K)\n",
    "V = 230 # source voltage (V)\n",
    "\n",
    "k1 = c * rh * pi * (d/2)**2 * L\n",
    "k2 = V**2 * pi * (d/2)**2 / (rel * L)\n",
    "k3 = eps * sigma * pi * d * L"
   ]
  }
 ],
 "metadata": {
  "language_info": {
   "name": "python",
   "pygments_lexer": "ipython3"
  }
 },
 "nbformat": 4,
 "nbformat_minor": 5
}
