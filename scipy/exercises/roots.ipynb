{
 "cells": [
  {
   "cell_type": "markdown",
   "id": "119c06dd-0f00-4a3e-9716-d82658753776",
   "metadata": {},
   "source": [
    "# Roots\n",
    "Find all points where $f(x) = \\cos(x^2)$ and $g(x) = \\frac{x}{2}$ intersect."
   ]
  },
  {
   "cell_type": "code",
   "execution_count": null,
   "id": "7d0bcfbe-814f-4b05-969d-2d404e558124",
   "metadata": {},
   "outputs": [],
   "source": [
    "import matplotlib.pyplot as plt\n",
    "\n",
    "import numpy as np\n",
    "from scipy.optimize import root_scalar\n",
    "\n",
    "\n",
    "def f(x):\n",
    "    return np.cos(x**2)\n",
    "\n",
    "def g(x):\n",
    "    return 1/2 * x\n",
    "\n",
    "\n",
    "x = np.linspace(-3, 3, 1000)\n",
    "\n",
    "plt.figure()\n",
    "plt.plot(x, f(x), label=r'$f(x) = cos(x^2)$')\n",
    "plt.plot(x, g(x), label=r'$g(x) = \\frac{1}{2}$')\n",
    "plt.legend()\n",
    "plt.grid()\n",
    "plt.show()"
   ]
  },
  {
   "cell_type": "markdown",
   "id": "111c6029",
   "metadata": {},
   "source": [
    "The graph shows that there are three intersections. They are near -2, -1.5 and 1."
   ]
  },
  {
   "cell_type": "code",
   "execution_count": null,
   "id": "6a54565c-0a73-4c59-b8c8-30961586d0c8",
   "metadata": {},
   "outputs": [],
   "source": [
    "x0 = [-2, -1.5, 1]  # initial guesses for the roots\n",
    "roots = []\n",
    "for x0i in x0:\n",
    "    sol = root_scalar(lambda x: f(x) - g(x), x0=x0i)\n",
    "    if sol.converged:\n",
    "        roots.append(sol.root)\n",
    "\n",
    "print(\"Roots found at:\", roots)\n",
    "\n",
    "plt.figure()\n",
    "plt.plot(x, f(x), label=r'$f(x) = cos(x^2)$')\n",
    "plt.plot(x, g(x), label=r'$g(x) = \\frac{1}{2}$')\n",
    "for root in roots:\n",
    "    plt.plot(root, f(root), 'ro')  # mark the roots\n",
    "plt.legend()\n",
    "plt.grid()\n",
    "plt.show()"
   ]
  },
  {
   "cell_type": "code",
   "execution_count": null,
   "id": "7fa88f47",
   "metadata": {},
   "outputs": [],
   "source": []
  }
 ],
 "metadata": {
  "language_info": {
   "name": "python",
   "pygments_lexer": "ipython3"
  }
 },
 "nbformat": 4,
 "nbformat_minor": 5
}
