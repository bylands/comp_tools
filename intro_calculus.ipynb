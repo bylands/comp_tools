{
 "cells": [
  {
   "cell_type": "markdown",
   "id": "119c06dd-0f00-4a3e-9716-d82658753776",
   "metadata": {},
   "source": [
    "# Calculus with Python\n",
    "Functions can be derived and integrated with Python tools. The library *SymPy* containts methods to analytically determine derivatives and integrals, while NumPy and SciPy provide numerical methods. "
   ]
  },
  {
   "cell_type": "markdown",
   "id": "1d6414d3-49c1-4679-8710-4f7a25be7591",
   "metadata": {},
   "source": [
    "### Derivatives and Integrals with SymPy"
   ]
  },
  {
   "cell_type": "code",
   "execution_count": null,
   "id": "1352184e-7357-442d-b648-9de0c89b35bf",
   "metadata": {},
   "outputs": [],
   "source": [
    "import sympy as sp"
   ]
  },
  {
   "cell_type": "markdown",
   "id": "c2996c2a-7ed4-4269-9eac-0dc4fbf9c78b",
   "metadata": {},
   "source": [
    "#### Define symbols and expressions\n",
    "Before variables can be used in symbolic calculations, they first have to be defined."
   ]
  },
  {
   "cell_type": "code",
   "execution_count": null,
   "id": "b3289969-6562-4e81-8481-7514db34d607",
   "metadata": {},
   "outputs": [],
   "source": [
    "x = sp.Symbol('x') # define a variable x\n",
    "y, z = sp.symbols('y z') # define several variables at once"
   ]
  },
  {
   "cell_type": "code",
   "execution_count": null,
   "id": "bce39850-8609-411b-9899-51143619a051",
   "metadata": {},
   "outputs": [],
   "source": [
    "display((x+y)**2) # build expressoins with symbols\n",
    "display(sp.exp(x+y)) # use built-in functions in SymPy"
   ]
  },
  {
   "cell_type": "code",
   "execution_count": null,
   "id": "a6ade2a3-013e-4b22-b43b-6a89f3bc7b26",
   "metadata": {},
   "outputs": [],
   "source": [
    "expr = (x + y + z)**3\n",
    "display(expr)\n",
    "display(sp.expand(expr)) # expanding an expression\n",
    "display(sp.factor(x**2-y**2)) # factoring an expression"
   ]
  },
  {
   "cell_type": "markdown",
   "id": "3d0a39b1-7aac-4525-a914-bf5b24089195",
   "metadata": {},
   "source": [
    "#### Derivatives\n",
    "The *diff* function can be used to take derivates of functions."
   ]
  },
  {
   "cell_type": "code",
   "execution_count": null,
   "id": "7d0bcfbe-814f-4b05-969d-2d404e558124",
   "metadata": {},
   "outputs": [],
   "source": [
    "display(sp.diff(sp.cos(x), x))"
   ]
  },
  {
   "cell_type": "code",
   "execution_count": null,
   "id": "6a54565c-0a73-4c59-b8c8-30961586d0c8",
   "metadata": {},
   "outputs": [],
   "source": [
    "f = x**2+3*x-1\n",
    "df = sp.diff(f, x)\n",
    "display(f, df)"
   ]
  },
  {
   "cell_type": "code",
   "execution_count": null,
   "id": "87fdcd5b-fb14-4a4b-9f8a-b6cf8bc5f2d8",
   "metadata": {},
   "outputs": [],
   "source": [
    "g = sp.exp(-x**2/2)\n",
    "dg = sp.diff(g, x)\n",
    "display(g, dg)"
   ]
  },
  {
   "cell_type": "markdown",
   "id": "8747b04d-5125-4cd8-b215-b06d95316147",
   "metadata": {},
   "source": [
    "#### Indefinite integrals\n",
    "Indefinite integrals can be computed with the *integrate* function. The additive constant is not shown in the output."
   ]
  },
  {
   "cell_type": "code",
   "execution_count": null,
   "id": "286221e9-ac6d-4032-9e07-9ae15683c0b2",
   "metadata": {},
   "outputs": [],
   "source": [
    "sp.integrate(sp.sin(x), x)"
   ]
  },
  {
   "cell_type": "code",
   "execution_count": null,
   "id": "dccc8b54-45ce-4bb7-b158-2d7d7cf72cdf",
   "metadata": {},
   "outputs": [],
   "source": [
    "f = sp.log(x)\n",
    "sp.integrate(f, x)"
   ]
  },
  {
   "cell_type": "markdown",
   "id": "70326e5b-e037-457a-9705-7414f5930ff8",
   "metadata": {},
   "source": [
    "#### Definite Integrals\n",
    "For definite integrals, the lower and upper boundary are passed to the *integrate* function ans additional parameters."
   ]
  },
  {
   "cell_type": "code",
   "execution_count": null,
   "id": "a39d6c57-238e-44c4-aeb6-c2b53081b920",
   "metadata": {},
   "outputs": [],
   "source": [
    "sp.integrate(sp.cos(x)**2, (x, 0, 2*sp.pi))"
   ]
  },
  {
   "cell_type": "code",
   "execution_count": null,
   "id": "c281e031-25b1-47e0-ae29-bde4ba98ccc8",
   "metadata": {},
   "outputs": [],
   "source": [
    "f = sp.exp(-x**2)\n",
    "sp.integrate(f, (x, 0, sp.oo))"
   ]
  },
  {
   "cell_type": "markdown",
   "id": "4c56d57b-b6a8-4791-9c4b-99077589f568",
   "metadata": {},
   "source": [
    "### Derivatives and integrals with SciPi\n",
    "In some cases a numerical derivative or integral is all we need, or (as for many integrals) it is the only way to get a result. SciPy provides functions for both numerical derivatives and integrals."
   ]
  },
  {
   "cell_type": "code",
   "execution_count": null,
   "id": "6ac03b72-f612-4af4-ab6e-9244bdfdf7bd",
   "metadata": {},
   "outputs": [],
   "source": [
    "from scipy.differentiate import derivative\n",
    "from scipy.integrate import quad"
   ]
  },
  {
   "cell_type": "markdown",
   "id": "fcabe657-c06c-41ab-af72-653182da6578",
   "metadata": {},
   "source": [
    "#### Calculate Derivatives\n",
    "Use the function *derivative* with a function and an array of x values."
   ]
  },
  {
   "cell_type": "code",
   "execution_count": null,
   "id": "527e911f-2120-4c22-8d4e-8d43e7b63bfc",
   "metadata": {},
   "outputs": [],
   "source": [
    "import numpy as np\n",
    "import matplotlib.pyplot as plt\n",
    "\n",
    "def f(x):\n",
    "    '''\n",
    "    define function to derive\n",
    "    '''\n",
    "    \n",
    "    return np.exp(-x**2)\n",
    "\n",
    "\n",
    "x = np.linspace(-5, 5, 100) # values to evaluate f and f'\n",
    "\n",
    "res = derivative(f, x) # calculate derivative\n",
    "df = res.df # .df yields the array with the derivatives for the given x positions\n",
    "\n",
    "# plot f and f'\n",
    "plt.plot(x, f(x), label='f(x)')\n",
    "plt.plot(x, df, label=\"f'(x)\")\n",
    "plt.legend()\n",
    "plt.grid()\n",
    "plt.xlabel('x')\n",
    "plt.show()"
   ]
  },
  {
   "cell_type": "markdown",
   "id": "12ee6d25-2aeb-4182-8edf-d520348bf738",
   "metadata": {},
   "source": [
    "### Calculate Integrals\n",
    "Use the *quad* function to numerically calculate definite integrals. It takes the function and the lower and upper boundary as parameters."
   ]
  },
  {
   "cell_type": "code",
   "execution_count": null,
   "id": "25b0566c-4c04-484c-adec-b379b9ff7c04",
   "metadata": {},
   "outputs": [],
   "source": [
    "def f(x):\n",
    "    '''\n",
    "    define function\n",
    "    '''\n",
    "    \n",
    "    return np.exp(-x**2)\n",
    "\n",
    "\n",
    "integral, error = quad(f, -1, 1) # calculate the integral and its function\n",
    "\n",
    "print(f'integral: {integral}')\n",
    "\n",
    "x = sp.Symbol('x') # define x as a symbolic variable\n",
    "isp = sp.integrate(sp.exp(-x**2), (x, -1, 1)) # find the integral analytically\n",
    "ispN = sp.N(isp, 20) # numerically evaluate the value (20 digits)\n",
    "\n",
    "print(f'value found with SymPy: {isp} = {ispN}')"
   ]
  },
  {
   "cell_type": "code",
   "execution_count": null,
   "id": "9bf76cec-0b7d-4a92-b537-3a5c3a960c9a",
   "metadata": {},
   "outputs": [],
   "source": []
  }
 ],
 "metadata": {
  "language_info": {
   "name": "python",
   "pygments_lexer": "ipython3"
  }
 },
 "nbformat": 4,
 "nbformat_minor": 5
}
