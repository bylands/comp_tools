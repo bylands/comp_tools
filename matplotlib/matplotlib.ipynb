{
 "cells": [
  {
   "cell_type": "markdown",
   "id": "119c06dd-0f00-4a3e-9716-d82658753776",
   "metadata": {},
   "source": [
    "# Matplotlib\n",
    "There are a variety of Python libraries to visualise data. We are going to have a look at the most popular option *matplotlib* ([matplotlib.org](https://matplotlib.org/))."
   ]
  },
  {
   "cell_type": "markdown",
   "id": "0bb68247-ef0c-4249-9cbb-638988df0a45",
   "metadata": {},
   "source": [
    "### Import Libraries"
   ]
  },
  {
   "cell_type": "code",
   "execution_count": null,
   "id": "d43296ab-1375-48ee-a2d4-7fa69f4ab8f0",
   "metadata": {},
   "outputs": [],
   "source": [
    "import matplotlib.pyplot as plt\n",
    "import numpy as np\n"
   ]
  },
  {
   "cell_type": "markdown",
   "id": "ac1b74a3-f82d-488e-ad96-84c72f6ac9fb",
   "metadata": {},
   "source": [
    "### Graph of a function\n",
    "In order to graph a function, we have to define values for the horizontal axis."
   ]
  },
  {
   "cell_type": "code",
   "execution_count": null,
   "id": "1352184e-7357-442d-b648-9de0c89b35bf",
   "metadata": {},
   "outputs": [],
   "source": [
    "x = np.linspace(-2*np.pi, 2*np.pi, 1000) # Generate 1000 points from -2π to 2π\n",
    "f = np.cos(x)  # Calculate cos(x) for each x\n",
    "g = np.sin(x)  # Calculate sin(x) for each x\n",
    "\n",
    "fig, ax = plt.subplots(figsize=(8, 6)) # Define figure and axis, set size\n",
    "ax.plot(x, f, label=r'$f(x) = \\cos(x)$', color='blue') # Plot f(x)\n",
    "ax.plot(x, g, label=r'$g(x) = \\sin(x)$', color='orange') # Plot g(x)\n",
    "ax.axhline(0, color='black', lw=0.5, ls='--')  # Horizontal line at y=0\n",
    "ax.axvline(0, color='black', lw=0.5, ls='--')  # Vertical line at x=0\n",
    "ax.set_xlabel('x') # Set x-axis label\n",
    "ax.set_ylabel('$f(x)$, $g(x)$') # Set y-axis label\n",
    "ax.set_title(r'Graph of $\\cos(x)$ and $\\sin(x)$') # Set title\n",
    "ax.grid(True) # Show grid\n",
    "ax.legend() # Show legend\n",
    "plt.show()  # Display the plot"
   ]
  },
  {
   "cell_type": "markdown",
   "id": "3978ee70-1a20-4e6a-819b-8b8890ea2709",
   "metadata": {},
   "source": [
    "### Graph data\n",
    "Data points can be graphed using lists or arrays containing the x and y coordinates."
   ]
  },
  {
   "cell_type": "code",
   "execution_count": null,
   "id": "c494e81c-3802-45c9-aecc-fac58f91207b",
   "metadata": {},
   "outputs": [],
   "source": [
    "t = [0.0, 0.5, 1.0, 1.5, 2.0, 2.5]  # Example time points\n",
    "x = [1.3, 2.8, 3.4, 4.1, 4.5, 4.7]  # Example position points\n",
    "\n",
    "fig, ax = plt.subplots(figsize=(8, 6)) # Define figure and axis, set size\n",
    "# Scatter plot of measured data\n",
    "ax.scatter(t, x, label='measured data', color='blue', s=10)\n",
    "ax.set_xlabel('time (s)')\n",
    "ax.set_ylabel('position (m)')\n",
    "ax.grid(True) # Show grid\n",
    "plt.show()  # Display the plot"
   ]
  },
  {
   "cell_type": "markdown",
   "id": "17a5af00",
   "metadata": {},
   "source": [
    "### Arrays of plots\n",
    "Several plots can be arranged in a gridlike array. This is especially useful if two plots have the same x or y axis."
   ]
  },
  {
   "cell_type": "code",
   "execution_count": null,
   "id": "47a6e5c3",
   "metadata": {},
   "outputs": [],
   "source": [
    "t = [0, 1, 2, 3, 4, 5]\n",
    "x1 = [1, 2, 5, 10, 17, 26]\n",
    "x2 = [10, 9, 6, 1, -6, -15]\n",
    "\n",
    "# set up figure\n",
    "# 2 rows, 1 column, shared x axis\n",
    "fig, (ax1, ax2) = plt.subplots(nrows=2, ncols=1, sharex=True)\n",
    "plt.suptitle('Title') # title for whole figure\n",
    "plt.xlabel('$t$') # label for common x axis\n",
    "\n",
    "# set up plot 1\n",
    "ax1.scatter(t, x1)\n",
    "ax1.set_ylabel(r'$x_1$')\n",
    "ax1.grid(True)\n",
    "\n",
    "# set up plot 2\n",
    "ax2.scatter(t, x2)\n",
    "ax2.set_ylabel(r'$x_2$')\n",
    "ax2.grid(True)\n",
    "\n",
    "plt.show()"
   ]
  },
  {
   "cell_type": "markdown",
   "id": "c616d532-d772-4dd6-be28-fe2cc9cedde4",
   "metadata": {},
   "source": [
    "### Error bars\n",
    "When plotting measured data, it is good practice to add error bars to the data points to indicate the uncertainty of the measured values. This can be done using the *plt.errorbar()* method."
   ]
  },
  {
   "cell_type": "markdown",
   "id": "e5f4e07a-c28b-4ea2-81c8-f2c6ef8e7ac8",
   "metadata": {},
   "source": [
    "#### Visualise data and model"
   ]
  },
  {
   "cell_type": "code",
   "execution_count": null,
   "id": "7ea8ab24-12fb-4e8b-b8c1-9b1a6d77df6c",
   "metadata": {},
   "outputs": [],
   "source": [
    "t = [0.0, 0.5, 1.0, 1.5, 2.0, 2.5]  # Example time points\n",
    "dt = 0.05  # Example time error (same for all points)\n",
    "\n",
    "x = [1.3, 2.8, 3.4, 4.1, 4.5, 4.7]  # Example position points\n",
    "dx = [0.05, 0.05, 0.10, 0.10, 0.15, 0.15]  # Example position errors\n",
    "\n",
    "fig, ax = plt.subplots(figsize=(8, 6)) # Define figure and axis, set size\n",
    "# Scatter plot with error bars\n",
    "ax.errorbar(t, x, xerr=dt, yerr=dx, \n",
    "            label='measured data', \n",
    "            fmt='.', \n",
    "            color='blue'\n",
    "            )\n",
    "ax.set_xlabel('time (s)')\n",
    "ax.set_ylabel('position (m)')\n",
    "ax.grid(True)\n",
    "plt.show()"
   ]
  }
 ],
 "metadata": {
  "language_info": {
   "name": "python",
   "pygments_lexer": "ipython3"
  }
 },
 "nbformat": 4,
 "nbformat_minor": 5
}
