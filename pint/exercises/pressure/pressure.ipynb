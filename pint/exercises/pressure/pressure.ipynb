{
 "cells": [
  {
   "cell_type": "markdown",
   "id": "2406812b",
   "metadata": {},
   "source": [
    "# Pressure\n",
    "In some cases, pressure is commonly expressed in *pounds per square inch* (psi), e.g. for the pressure in tires. In this context, *pound* refers to *pound-force*, i.e. the gravitational force corresponding to one pound of mass.\n",
    "\n",
    "Using *Pint*, find the conversion factor from psi to pascal by converting pound-force and inch to SI units. Compare the result to the direct conversion from psi to pascal."
   ]
  },
  {
   "cell_type": "code",
   "execution_count": null,
   "id": "54b74485",
   "metadata": {},
   "outputs": [],
   "source": [
    "from pint import UnitRegistry\n",
    "from scipy.constants import g # import standard acceleration of gravity\n",
    "\n",
    "ureg = UnitRegistry()\n",
    "\n",
    "pound = ureg('pound')\n",
    "inch = ureg('inch')\n",
    "g = g * ureg('meter per second squared') # add unit to standard acceleration of gravitiy\n",
    "\n",
    "conversion = pound.to_base_units() * g / (inch.to_base_units())**2 # calculate conversion factor\n",
    "\n",
    "# conversion factor as calculated\n",
    "print(f'1 psi = {conversion.to('Pa'):~.3f}')\n",
    "\n",
    "psi = ureg('psi').to('Pa') # directly convert 1 psi to pascal\n",
    "print(f'1 psi = {psi:~.3f}')"
   ]
  },
  {
   "cell_type": "markdown",
   "id": "d792ae0b",
   "metadata": {},
   "source": [
    "### Tire pressure\n",
    "For a medium car, the pressure should usually be about 36 psi. Calculate the force acting on 1 cm^2 of the tire."
   ]
  },
  {
   "cell_type": "code",
   "execution_count": null,
   "id": "a360ae18",
   "metadata": {},
   "outputs": [],
   "source": [
    "p = ureg('36 psi')\n",
    "A = ureg('1 square cm')\n",
    "\n",
    "F = p * A\n",
    "\n",
    "print(f'Force F = {F.to('N'):~.1f}')"
   ]
  }
 ],
 "metadata": {
  "language_info": {
   "name": "python",
   "pygments_lexer": "ipython3"
  }
 },
 "nbformat": 4,
 "nbformat_minor": 5
}
