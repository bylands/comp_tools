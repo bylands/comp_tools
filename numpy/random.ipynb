{
 "cells": [
  {
   "cell_type": "markdown",
   "metadata": {},
   "source": [
    "# The NumPy Random Module\n",
    "\n",
    "The `numpy.random` module provides functions for working with random numbers."
   ]
  },
  {
   "cell_type": "code",
   "execution_count": null,
   "metadata": {},
   "outputs": [],
   "source": [
    "import numpy as np\n",
    "import matplotlib.pyplot as plt"
   ]
  },
  {
   "cell_type": "markdown",
   "metadata": {},
   "source": [
    "## Generating Random Data\n",
    "\n",
    "You can generate arrays of random numbers from various distributions."
   ]
  },
  {
   "cell_type": "code",
   "execution_count": null,
   "metadata": {},
   "outputs": [],
   "source": [
    "# Generate a 2x3 array of random floats between 0 and 1\n",
    "print(np.random.rand(2, 3))\n",
    "\n",
    "# Generate a 2x3 array of random integers between 1 and 10\n",
    "print(np.random.randint(1, 10, size=(2, 3)))"
   ]
  },
  {
   "cell_type": "markdown",
   "metadata": {},
   "source": [
    "## Shuffling Arrays\n",
    "\n",
    "You can randomly shuffle the elements of an array."
   ]
  },
  {
   "cell_type": "code",
   "execution_count": null,
   "metadata": {},
   "outputs": [],
   "source": [
    "a = np.arange(10)\n",
    "np.random.shuffle(a)\n",
    "print(a)"
   ]
  },
  {
   "cell_type": "markdown",
   "metadata": {},
   "source": [
    "### Example 3: Simulating Dice Rolls\n",
    "\n",
    "We can simulate rolling a fair six-sided die multiple times."
   ]
  },
  {
   "cell_type": "code",
   "execution_count": null,
   "metadata": {},
   "outputs": [],
   "source": [
    "rolls = np.random.randint(1, 7, size=100)\n",
    "print(f'First 10 rolls: {rolls[:10]}')\n",
    "# Count the occurrences of each outcome\n",
    "counts = np.bincount(rolls)[1:]\n",
    "print(f'Counts for each outcome (1-6): {counts}')"
   ]
  },
  {
   "cell_type": "markdown",
   "metadata": {},
   "source": [
    "### Example 4: Sampling from a Normal Distribution\n",
    "\n",
    "In many scientific applications, you need to draw samples from a specific statistical distribution, like the normal (Gaussian) distribution."
   ]
  },
  {
   "cell_type": "code",
   "execution_count": null,
   "metadata": {},
   "outputs": [],
   "source": [
    "mu, sigma = 0, 0.1 # mean and standard deviation\n",
    "samples = np.random.normal(mu, sigma, 1000)\n",
    "# Plot a histogram of the samples\n",
    "plt.hist(samples, bins=30, density=True)\n",
    "plt.title('Samples from a Normal Distribution')\n",
    "plt.show()"
   ]
  },
  {
   "cell_type": "markdown",
   "metadata": {},
   "source": [
    "## Reproducible Randomness with Seeding\n",
    "\n",
    "For scientific experiments and debugging, it's crucial to have reproducible results. You can achieve this by setting a \"seed\" for the random number generator. The same seed will always produce the same sequence of random numbers."
   ]
  },
  {
   "cell_type": "code",
   "execution_count": null,
   "metadata": {},
   "outputs": [],
   "source": [
    "np.random.seed(42) # Set the seed\n",
    "print(np.random.rand(5))\n",
    "np.random.seed(42) # Reset the seed\n",
    "print(np.random.rand(5))"
   ]
  }
 ],
 "metadata": {
  "language_info": {
   "name": "python",
   "pygments_lexer": "ipython3"
  }
 },
 "nbformat": 4,
 "nbformat_minor": 2
}
