{
 "cells": [
  {
   "cell_type": "markdown",
   "id": "c62810bf",
   "metadata": {},
   "source": [
    "# Battery Discharge\n",
    "To investigate how a battery is discharged, it is connected to a circuit that drwas a constant current of 0.55 A. The voltage, current and \"State of Charge\" (percentage of remaining battery capacity) are measured over the discharge time.\n",
    "\n",
    "We are going to calculate the energy delivered by the battery during a discharge cycle."
   ]
  },
  {
   "cell_type": "code",
   "execution_count": null,
   "id": "7c7a7ccf",
   "metadata": {},
   "outputs": [],
   "source": [
    "import numpy as np\n",
    "\n",
    "path = 'battery.csv'\n",
    "\n",
    "# read battery data\n",
    "# t: time (s)\n",
    "# V: voltage (V)\n",
    "# I: current (A)\n",
    "# SoC: Stage of Charge (%)\n",
    "t, V, I, SOC = np.loadtxt(path, skiprows=1, delimiter=',', unpack=True)"
   ]
  },
  {
   "cell_type": "markdown",
   "id": "5af32046",
   "metadata": {},
   "source": [
    "### Power\n",
    "Define an array with the power delivered by the battery, and the power as a function of time."
   ]
  },
  {
   "cell_type": "code",
   "execution_count": null,
   "id": "52c6f300",
   "metadata": {},
   "outputs": [],
   "source": []
  },
  {
   "cell_type": "markdown",
   "id": "53e8e24c",
   "metadata": {},
   "source": [
    "### Method 1: Numerical integration using step function\n",
    "When we assume the power to be constant during the time interval $\\Delta t$ between two data points, the integral can be approximated as\n",
    "$$E = \\sum_{i=1}^N P_i \\cdot \\Delta t = \\Delta t \\cdot \\sum_{i=1}^N P_i $$"
   ]
  },
  {
   "cell_type": "code",
   "execution_count": null,
   "id": "51610777",
   "metadata": {},
   "outputs": [],
   "source": [
    "dt = t[1] - t[0] # time interval between two data points\n",
    "\n",
    "energy1 = np.sum(P) * dt\n",
    "\n",
    "print(f'The energy delivered by the battery is {energy1/1000:.2f} kJ')"
   ]
  },
  {
   "cell_type": "markdown",
   "id": "1b29edb9",
   "metadata": {},
   "source": [
    "### Method 2: Numerical integration using interpolated function\n",
    "The energy corresponds to the area under the graph in the power vs time diagram. We can use the method scipy.quad() to calculate the integral, but we have to interpolate the data points with numpy.interp()."
   ]
  },
  {
   "cell_type": "code",
   "execution_count": null,
   "id": "9d60016e",
   "metadata": {},
   "outputs": [],
   "source": []
  },
  {
   "cell_type": "markdown",
   "id": "c87c3632",
   "metadata": {},
   "source": [
    "The second method is more accurate since it takes the decrease of power over the time interval $\\Delta t$ into account. The first method overestimates the energy."
   ]
  }
 ],
 "metadata": {
  "language_info": {
   "name": "python",
   "pygments_lexer": "ipython3"
  }
 },
 "nbformat": 4,
 "nbformat_minor": 5
}
