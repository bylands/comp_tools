{
 "cells": [
  {
   "cell_type": "markdown",
   "id": "609a54aa-c88a-40e5-9f32-ff10645eef75",
   "metadata": {},
   "source": [
    "## Thin Lens Equation\n",
    "The following data for a lens was measured by two students. The first array contains the object distance (i.e. the distance from the object to the lens), the second array the corresponding image distance (i.e. the distance from the lens where a sharp image can be observed). Assuming a thin lens, we know that the relation between object and image distance is given by the thin lens equation:\n",
    "\n",
    "$\\frac{1}{f} = \\frac{1}{d_o} + \\frac{1}{d_i}$\n",
    "\n",
    "where $f$ is the focal length, $d_o$ the object distance, and $d_i$ the image distance."
   ]
  },
  {
   "cell_type": "code",
   "execution_count": null,
   "id": "624e75ec-bb4f-4c75-b9a0-b80434e7f794",
   "metadata": {},
   "outputs": [],
   "source": [
    "import numpy as np\n",
    "\n",
    "# object distance in cm\n",
    "o = np.array([38, 30, 25, 50, 70, 60, 27, 32, 35, 45, 55, 65])\n",
    "do = 0.5 # measurement error in cm\n",
    "\n",
    "# image distance in cm\n",
    "i = np.array([24, 29, 36, 21, 19, 20, 33, 27, 26, 22, 20, 19])\n",
    "di = 0.5 # measurement error in cm"
   ]
  },
  {
   "cell_type": "markdown",
   "id": "8cc1b517-096f-4f7f-ae39-92c0495a8964",
   "metadata": {},
   "source": [
    "#### Method 1\n",
    "Graph the reciprocal value of the image distance vs the reciprocal value of the object distance. This should result in a linear function with slope -1 and axis intercept $1/f$. Investigate the quality of the linear fit and determine the focal length."
   ]
  },
  {
   "cell_type": "code",
   "execution_count": null,
   "id": "73fc652e-e920-4acf-b885-027cf21a8817",
   "metadata": {},
   "outputs": [],
   "source": []
  },
  {
   "cell_type": "markdown",
   "id": "010c3635-c94f-4cca-9f34-f3ff75999345",
   "metadata": {},
   "source": [
    "#### Method 2\n",
    "Solving the lens equation for the image distance yields\n",
    "\n",
    "$d_i = \\left(\\frac{1}{f} - \\frac{1}{d_o}\\right)^{-1}$\n",
    "\n",
    "Investigate this relation with an appropriate fit function."
   ]
  },
  {
   "cell_type": "code",
   "execution_count": null,
   "id": "68b588fe-48a0-404a-8e8e-13c5e6de8aa4",
   "metadata": {},
   "outputs": [],
   "source": []
  }
 ],
 "metadata": {
  "language_info": {
   "name": "python",
   "pygments_lexer": "ipython3"
  }
 },
 "nbformat": 4,
 "nbformat_minor": 5
}
