{
 "cells": [
  {
   "cell_type": "markdown",
   "id": "f908e83f-c74d-4df7-bf20-e322c278f67f",
   "metadata": {},
   "source": [
    "# Exercises: Data Analysis with Python"
   ]
  },
  {
   "cell_type": "code",
   "execution_count": null,
   "id": "35652243-4b25-485c-8cfa-ef147037e78a",
   "metadata": {},
   "outputs": [],
   "source": [
    "import numpy as np\n",
    "import matplotlib.pyplot as plt"
   ]
  },
  {
   "cell_type": "markdown",
   "id": "609a54aa-c88a-40e5-9f32-ff10645eef75",
   "metadata": {},
   "source": [
    "## Decay Numbers\n",
    "In order to investigate the random fluctuation of decay numbers for a radioactive source, the events measured within 5 s are recorded 1000 times. The data is stored in a csv file (counts.csv)."
   ]
  },
  {
   "cell_type": "code",
   "execution_count": null,
   "id": "624e75ec-bb4f-4c75-b9a0-b80434e7f794",
   "metadata": {},
   "outputs": [],
   "source": [
    "counts = np.genfromtxt('counts.csv', delimiter='c')\n",
    "n = counts.size\n",
    "print(n) # print number of entries"
   ]
  },
  {
   "cell_type": "markdown",
   "id": "8cc1b517-096f-4f7f-ae39-92c0495a8964",
   "metadata": {},
   "source": [
    "Calculate the mean value and the standard deviation."
   ]
  },
  {
   "cell_type": "code",
   "execution_count": null,
   "id": "73fc652e-e920-4acf-b885-027cf21a8817",
   "metadata": {},
   "outputs": [],
   "source": [
    "counts_mean = np.mean(counts)\n",
    "counts_std = np.std(counts)\n",
    "\n",
    "print(f'mean: {counts_mean:.2f}, standard deviation: {counts_std:.2f}')"
   ]
  },
  {
   "cell_type": "markdown",
   "id": "3bb590d4-0165-4e88-a39b-793e8d672373",
   "metadata": {},
   "source": [
    "Calculate the fraction of measurements where the number of counts is within one standard deviation from the mean. What is the fraction within two or three standard deviations?"
   ]
  },
  {
   "cell_type": "code",
   "execution_count": null,
   "id": "fb7c3960-8dd5-47e3-ab81-3d3f345cb8ca",
   "metadata": {},
   "outputs": [],
   "source": [
    "def n_sigma(n):\n",
    "    lower = counts_mean - n * counts_std\n",
    "    upper = counts_mean + n * counts_std\n",
    "    return np.sum((counts > lower) & (counts < upper))\n",
    "\n",
    "for i in range(3):\n",
    "    print(f'fraction within {i} std dev: {n_sigma(i+1)/n*100:.1f} %')"
   ]
  },
  {
   "cell_type": "markdown",
   "id": "5f38bdcd-6be5-4db9-8b75-8101cd51029e",
   "metadata": {},
   "source": [
    "Make a histogram for the number of counts."
   ]
  },
  {
   "cell_type": "code",
   "execution_count": null,
   "id": "68b588fe-48a0-404a-8e8e-13c5e6de8aa4",
   "metadata": {},
   "outputs": [],
   "source": [
    "counts_max = int(max(counts))\n",
    "bins = np.arange(counts_max+2)-0.5\n",
    "plt.xlabel('# of counts')\n",
    "plt.ylabel('frequency')\n",
    "plt.hist(counts, bins=bins, width=0.8, align='mid')\n",
    "plt.xticks(range(counts_max+1))\n",
    "plt.show()"
   ]
  },
  {
   "cell_type": "code",
   "execution_count": null,
   "id": "d637f30b-39af-4363-a809-d08ebde12349",
   "metadata": {},
   "outputs": [],
   "source": [
    "x"
   ]
  },
  {
   "cell_type": "code",
   "execution_count": null,
   "id": "54cacf52-f24a-40f7-b9b6-a72f8fbe0a34",
   "metadata": {},
   "outputs": [],
   "source": [
    "height, x = np.histogram(counts, bins=bins)"
   ]
  },
  {
   "cell_type": "code",
   "execution_count": null,
   "id": "a300d736-9566-43fd-9709-7232f1b8512b",
   "metadata": {},
   "outputs": [],
   "source": [
    "height"
   ]
  },
  {
   "cell_type": "code",
   "execution_count": null,
   "id": "941229ee-0728-4f92-bb11-addeb5487b39",
   "metadata": {},
   "outputs": [],
   "source": [
    "plt.hist(x[:-1], x, weights=height, width=0.8)"
   ]
  },
  {
   "cell_type": "code",
   "execution_count": null,
   "id": "b40ff13a-d165-43d9-ba37-86406cb3da67",
   "metadata": {},
   "outputs": [],
   "source": []
  }
 ],
 "metadata": {
  "language_info": {
   "name": "python",
   "pygments_lexer": "ipython3"
  }
 },
 "nbformat": 4,
 "nbformat_minor": 5
}
