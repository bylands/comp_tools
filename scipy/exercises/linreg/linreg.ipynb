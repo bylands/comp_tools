{
 "cells": [
  {
   "cell_type": "markdown",
   "id": "609a54aa-c88a-40e5-9f32-ff10645eef75",
   "metadata": {},
   "source": [
    "## Linear Fit with Trial & Error\n",
    "In this exercise we simulate a simple linear fit algorithm. The idea is to vary the slope and find the value that corresponds to the _least square_."
   ]
  },
  {
   "cell_type": "markdown",
   "id": "d260180d-2132-46a6-8b18-bab235eb2a34",
   "metadata": {},
   "source": [
    "First, we create some fictional data. The y-values linearly depend on x, but with a random perturbation."
   ]
  },
  {
   "cell_type": "code",
   "execution_count": null,
   "id": "624e75ec-bb4f-4c75-b9a0-b80434e7f794",
   "metadata": {},
   "outputs": [],
   "source": [
    "import numpy as np\n",
    "\n",
    "n_points = 10 # Number of data points\n",
    "slope = 2 # Slope of the linear function\n",
    "noise = 1 # Noise amplitude\n",
    "\n",
    "rng = np.random.default_rng() # Random number generator\n",
    "x = np.arange(n_points) # Generate x values\n",
    "y = slope * x + noise * rng.random(n_points) # Generate linear data with noise"
   ]
  },
  {
   "cell_type": "markdown",
   "id": "8cc1b517-096f-4f7f-ae39-92c0495a8964",
   "metadata": {},
   "source": [
    "Make a graph for y vs. x."
   ]
  },
  {
   "cell_type": "code",
   "execution_count": null,
   "id": "73fc652e-e920-4acf-b885-027cf21a8817",
   "metadata": {},
   "outputs": [],
   "source": []
  },
  {
   "cell_type": "markdown",
   "id": "3bb590d4-0165-4e88-a39b-793e8d672373",
   "metadata": {},
   "source": [
    "Now we assume that we do not know the \"exact\" slope, but we can estimate it to be between 1 and 2."
   ]
  },
  {
   "cell_type": "code",
   "execution_count": null,
   "id": "fb7c3960-8dd5-47e3-ab81-3d3f345cb8ca",
   "metadata": {},
   "outputs": [],
   "source": []
  },
  {
   "cell_type": "markdown",
   "id": "b030a0c6-f637-4a30-ae4d-49f23a92b733",
   "metadata": {},
   "source": [
    "Compare the result to the values obtained with a built-in fit function."
   ]
  },
  {
   "cell_type": "code",
   "execution_count": null,
   "id": "c6aa18f8-c005-468c-be1d-d462de40e6e2",
   "metadata": {},
   "outputs": [],
   "source": []
  }
 ],
 "metadata": {
  "language_info": {
   "name": "python",
   "pygments_lexer": "ipython3"
  }
 },
 "nbformat": 4,
 "nbformat_minor": 5
}
