{
 "cells": [
  {
   "cell_type": "markdown",
   "id": "119c06dd-0f00-4a3e-9716-d82658753776",
   "metadata": {},
   "source": [
    "# Introduction to NumPy for Analysis of Lab Data"
   ]
  },
  {
   "cell_type": "markdown",
   "id": "0bb68247-ef0c-4249-9cbb-638988df0a45",
   "metadata": {},
   "source": [
    "### Import Libraries"
   ]
  },
  {
   "cell_type": "code",
   "execution_count": null,
   "id": "d43296ab-1375-48ee-a2d4-7fa69f4ab8f0",
   "metadata": {},
   "outputs": [],
   "source": [
    "import numpy as np\n",
    "import matplotlib.pyplot as plt"
   ]
  },
  {
   "cell_type": "markdown",
   "id": "aa8cb6d3-e365-4e40-b2cc-017c8962c46c",
   "metadata": {},
   "source": [
    "## Example: Measuring density\n",
    "Six students measure mass and side of the same brass cube. They end up with slightly different values. The measured data is listed below. How can we efficiently calculate the densities resulting from this data?"
   ]
  },
  {
   "cell_type": "markdown",
   "id": "294f5e65-d2bc-4826-a721-385631285a17",
   "metadata": {},
   "source": [
    "#### Define arrays for measured data"
   ]
  },
  {
   "cell_type": "code",
   "execution_count": null,
   "id": "c3b89083-fe08-4b61-bccc-c37cdd1d8d30",
   "metadata": {},
   "outputs": [],
   "source": [
    "m = np.array([69.3, 69.1, 69.0, 69.0, 69.2, 69.2]) # mass in g\n",
    "a = np.array([2.05, 2.00, 2.05, 1.95, 2.00, 2.00]) # side in cm"
   ]
  },
  {
   "cell_type": "markdown",
   "id": "bbf89c94-cc9e-4194-93c9-fe2f5e8a3990",
   "metadata": {},
   "source": [
    "#### Find some characteristic values"
   ]
  },
  {
   "cell_type": "code",
   "execution_count": null,
   "id": "fd570a23-e817-49fb-854c-2cc9aa5d4641",
   "metadata": {},
   "outputs": [],
   "source": [
    "m_max = np.max(m)\n",
    "m_min = np.min(m)\n",
    "m_mean = np.mean(m)\n",
    "print(f'max: {m_max} g, min: {m_min} g, mean: {m_mean:.2f} g')"
   ]
  },
  {
   "cell_type": "markdown",
   "id": "2526a1a5-397e-49f4-8a0d-ad305f39a354",
   "metadata": {},
   "source": [
    "Many more funcitons can be found in the documentation for NumPy. In particular, most standard functions can be applied to the elements of an array."
   ]
  },
  {
   "cell_type": "markdown",
   "id": "8d95b5c1-415d-4223-b0f5-2e44226dea3a",
   "metadata": {},
   "source": [
    "#### Calculate volumes and densities"
   ]
  },
  {
   "cell_type": "code",
   "execution_count": null,
   "id": "025036f5-1ff8-47da-91ad-0d662bf5e11f",
   "metadata": {},
   "outputs": [],
   "source": [
    "V = a**3\n",
    "rh = m/V\n",
    "print(f'densities: {rh}')"
   ]
  },
  {
   "cell_type": "markdown",
   "id": "fe440856-a2f1-44c3-99ff-a96e947e82cc",
   "metadata": {},
   "source": [
    "#### Mean value and deviations"
   ]
  },
  {
   "cell_type": "code",
   "execution_count": null,
   "id": "22bba13f-7162-4224-82aa-d211854f4b5c",
   "metadata": {},
   "outputs": [],
   "source": [
    "rh_mean = np.mean(rh)\n",
    "rh_dev_max = np.max(rh)-rh_mean\n",
    "rh_dev_min = rh_mean-np.min(rh)\n",
    "print(f'mean density: {rh_mean:.1f} g/cm^3')\n",
    "print(f'deviation max-mean: {rh_dev_max:.1f} g/cm^3')\n",
    "print(f'deviation min-mean: {rh_dev_min:.1f} g/cm^3')"
   ]
  },
  {
   "cell_type": "markdown",
   "id": "987d474a-f64e-4ac3-92d6-7d15d214faef",
   "metadata": {},
   "source": [
    "### Error calculation"
   ]
  },
  {
   "cell_type": "markdown",
   "id": "07ccdf77-381f-461e-9c44-38676490ba36",
   "metadata": {},
   "source": [
    "All students measured the same quantities on the same cube. In this case we make an estimate for the measurement errors for mass and side length based on the deviations between the different students."
   ]
  },
  {
   "cell_type": "code",
   "execution_count": null,
   "id": "6d24600c-9a18-490f-9f8b-eed5ddd8ffea",
   "metadata": {},
   "outputs": [],
   "source": [
    "dm = 0.2 # error for mass in g\n",
    "da = 0.05 # error for side in cm"
   ]
  },
  {
   "cell_type": "markdown",
   "id": "b6c1790d-4173-4b46-ac3b-452378e98894",
   "metadata": {},
   "source": [
    "The error for the density can be found using the \"worst case method\"."
   ]
  },
  {
   "cell_type": "code",
   "execution_count": null,
   "id": "12a328c5-1c16-41f8-9a81-69414836c6c5",
   "metadata": {},
   "outputs": [],
   "source": [
    "rh = m_mean/np.mean(a)**3\n",
    "rh_max = (m_mean+dm)/(np.mean(a)-da)**3\n",
    "drh = rh_max - rh"
   ]
  },
  {
   "cell_type": "code",
   "execution_count": null,
   "id": "8ed2ab1d-3358-43a3-b613-81f3aa71a1af",
   "metadata": {},
   "outputs": [],
   "source": [
    "print(f'density: ({rh:.1f} ± {drh:.1f}) g/cm^3')"
   ]
  },
  {
   "cell_type": "markdown",
   "id": "ac1b74a3-f82d-488e-ad96-84c72f6ac9fb",
   "metadata": {},
   "source": [
    "## Example: Investigating uniform motion\n",
    "A low-friction cart slides down a slightly inclined track. Its position is measured at regular time intervals. We assume errors of 0.05 s for the time and 0.1 cm for the position measurements."
   ]
  },
  {
   "cell_type": "markdown",
   "id": "082c7b97-a893-4649-be22-dff3c3629ee9",
   "metadata": {},
   "source": [
    "#### Define arrays for measured data"
   ]
  },
  {
   "cell_type": "code",
   "execution_count": null,
   "id": "1352184e-7357-442d-b648-9de0c89b35bf",
   "metadata": {},
   "outputs": [],
   "source": [
    "time = np.array([0.00, 0.50, 1.00, 1.50, 2.00, 2.50, 3.00, 3.50]) # time in s\n",
    "pos = np.array([12.3, 15.2, 24.3, 39.4, 60.5, 87.1, 120.3, 159.2]) # position in cm\n",
    "\n",
    "dt = 0.05 # error for time in s\n",
    "dx = 0.2 # error for position in cm"
   ]
  },
  {
   "cell_type": "markdown",
   "id": "3978ee70-1a20-4e6a-819b-8b8890ea2709",
   "metadata": {},
   "source": [
    "#### Visualise data with a scatter plot"
   ]
  },
  {
   "cell_type": "code",
   "execution_count": null,
   "id": "c494e81c-3802-45c9-aecc-fac58f91207b",
   "metadata": {},
   "outputs": [],
   "source": [
    "plt.errorbar(time, pos, fmt='.', color='blue', xerr=dt, yerr=dx)\n",
    "plt.xlabel('time (s)')\n",
    "plt.ylabel('position (cm)')\n",
    "plt.show()"
   ]
  },
  {
   "cell_type": "markdown",
   "id": "ace931e1-fb79-4806-b05d-65ca4a5b5f4c",
   "metadata": {},
   "source": [
    "The error bars are so small that they can barely be seen. In order to visually confirm the quality of a fit function later on, we will have to find a solution to this problem."
   ]
  },
  {
   "cell_type": "markdown",
   "id": "c616d532-d772-4dd6-be28-fe2cc9cedde4",
   "metadata": {},
   "source": [
    "#### Fit a model to the data"
   ]
  },
  {
   "cell_type": "code",
   "execution_count": null,
   "id": "9db17ad8-f5a0-4fe4-9d43-1b43de1ff482",
   "metadata": {},
   "outputs": [],
   "source": [
    "from scipy.optimize import curve_fit"
   ]
  },
  {
   "cell_type": "markdown",
   "id": "c124643b-b9be-412f-977e-73fabdd14f5e",
   "metadata": {},
   "source": [
    "We expect the motion to have a constant acceleration, i.e. the position should be a quadratic function of time."
   ]
  },
  {
   "cell_type": "code",
   "execution_count": null,
   "id": "bf41eea3-46bb-4204-b26e-2081a74c248e",
   "metadata": {},
   "outputs": [],
   "source": [
    "def f(t, a, v0, x0):\n",
    "    \"\"\"\n",
    "    Fit function for a motion with constant acceleration.\n",
    "    \n",
    "    The parameters are:\n",
    "    t    time\n",
    "    a    acceleration\n",
    "    v0   initial velocity\n",
    "    x0   initial position\n",
    "    \n",
    "    The function returns the position at time t.\n",
    "    \"\"\"\n",
    "    \n",
    "    return a/2 * t**2 + v0 * t + x0"
   ]
  },
  {
   "cell_type": "code",
   "execution_count": null,
   "id": "14050247-8a43-4630-9e82-d73114aab7b1",
   "metadata": {},
   "outputs": [],
   "source": [
    "coeff, pcov = curve_fit(f, time, pos)\n",
    "a, v0, x0 = coeff"
   ]
  },
  {
   "cell_type": "markdown",
   "id": "e5f4e07a-c28b-4ea2-81c8-f2c6ef8e7ac8",
   "metadata": {},
   "source": [
    "#### Visualise data and model"
   ]
  },
  {
   "cell_type": "code",
   "execution_count": null,
   "id": "7ea8ab24-12fb-4e8b-b8c1-9b1a6d77df6c",
   "metadata": {},
   "outputs": [],
   "source": [
    "t = np.linspace(0, max(time), 100)\n",
    "x = f(t, a, v0, x0)\n",
    "\n",
    "plt.plot(t, x, color='red', label='square fit')\n",
    "plt.errorbar(time, pos, fmt='.', color='blue', xerr=dt, yerr=dx, label='data')\n",
    "plt.xlabel('time (s)')\n",
    "plt.ylabel('position (cm)')\n",
    "plt.legend()\n",
    "plt.show()"
   ]
  },
  {
   "cell_type": "markdown",
   "id": "e163441e-4a26-429f-9ac4-4cdf27bb25db",
   "metadata": {},
   "source": [
    "#### Residual plot"
   ]
  },
  {
   "cell_type": "markdown",
   "id": "d5774222-5cc8-454c-bb83-da8e29924dda",
   "metadata": {},
   "source": [
    "The model seems to describe the measured data quite accurately. To see even better if the fit function passes through the error ranges of the data points, we can create a _residual plot_, i.e. a plot of the deviation between the data points and the fit function."
   ]
  },
  {
   "cell_type": "code",
   "execution_count": null,
   "id": "2d9dfdaa-0d1c-4e4c-b655-3e6a15921695",
   "metadata": {},
   "outputs": [],
   "source": [
    "res = pos - f(time, a, v0, x0)\n",
    "\n",
    "plt.errorbar(range(1, len(time)+1), res, fmt='.', color='blue', xerr=dt, yerr=dx, capsize=2)\n",
    "plt.xlabel('data point')\n",
    "plt.ylabel('residuals (cm)')\n",
    "plt.grid()\n",
    "plt.show()"
   ]
  },
  {
   "cell_type": "markdown",
   "id": "feeb7793-494f-4f96-bb5b-7dff69805141",
   "metadata": {},
   "source": [
    "The horizontal axis is within the error ranges for all but one data point (no. 6). This is quite convincing evidence that the theoretical model is a good description for the measured data."
   ]
  },
  {
   "cell_type": "markdown",
   "id": "1ba904bc-95a2-4f56-90ca-bccc0e0042ec",
   "metadata": {},
   "source": [
    "#### Errors of fit parameters\n",
    "The curve_fit method returns the _covariance matrix_ as a second return value. The diagonal elements are the squared errors for the fit parameters."
   ]
  },
  {
   "cell_type": "code",
   "execution_count": null,
   "id": "0ff4811a-d523-4f72-b2f5-a4ffab0d7810",
   "metadata": {},
   "outputs": [],
   "source": [
    "sq_errors = np.diag(pcov) # assign diagonal elements of covariance matrix\n",
    "da, dv0, dx0 = np.sqrt(sq_errors) # square root corresponds to errors of fit parameters\n",
    "\n",
    "print(f'acceleration:      a = ({a:.2f} ± {da:.2f}) cm/s^2')\n",
    "print(f'initial velocity:  v_0 = ({v0:.2f} ± {dv0:.2f}) cm/s')\n",
    "print(f'initial position:  x_0 = ({x0:.2f} ± {dx0:.2f}) cm')"
   ]
  }
 ],
 "metadata": {
  "language_info": {
   "name": "python",
   "pygments_lexer": "ipython3"
  }
 },
 "nbformat": 4,
 "nbformat_minor": 5
}
