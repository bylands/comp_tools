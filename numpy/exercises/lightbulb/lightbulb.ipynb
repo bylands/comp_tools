{
 "cells": [
  {
   "cell_type": "markdown",
   "id": "609a54aa-c88a-40e5-9f32-ff10645eef75",
   "metadata": {},
   "source": [
    "## Light Bulb\n",
    "Using the data we measured in class, investigate the characteristics of a light bulb."
   ]
  },
  {
   "cell_type": "markdown",
   "id": "df018cfa",
   "metadata": {},
   "source": [
    "#### Voltage and current\n",
    "Define arrays for voltage and current. You may want to read the data from a text file."
   ]
  },
  {
   "cell_type": "code",
   "execution_count": null,
   "id": "ed0fa455",
   "metadata": {},
   "outputs": [],
   "source": []
  },
  {
   "cell_type": "markdown",
   "id": "0322be8c",
   "metadata": {},
   "source": [
    "#### Resistance and power\n",
    "Calculate arrays for the reistance and power at the measured voltage values. Observe what happens with the first resistance value (division by zero)."
   ]
  },
  {
   "cell_type": "code",
   "execution_count": null,
   "id": "7bebfd45",
   "metadata": {},
   "outputs": [],
   "source": []
  },
  {
   "cell_type": "markdown",
   "id": "4f34a07e",
   "metadata": {},
   "source": [
    "#### Characteristics\n",
    "Graph the following relations:\n",
    "- current vs voltage\n",
    "- resistance vs current\n",
    "- power vs voltage"
   ]
  },
  {
   "cell_type": "code",
   "execution_count": null,
   "id": "17a521fe",
   "metadata": {},
   "outputs": [],
   "source": []
  }
 ],
 "metadata": {
  "language_info": {
   "name": "python",
   "pygments_lexer": "ipython3"
  }
 },
 "nbformat": 4,
 "nbformat_minor": 5
}
