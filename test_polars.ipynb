{
 "cells": [
  {
   "cell_type": "code",
   "execution_count": null,
   "id": "a0e0336a-d9e5-4552-9697-1d16ae41e559",
   "metadata": {},
   "outputs": [],
   "source": [
    "import polars as pl"
   ]
  },
  {
   "cell_type": "code",
   "execution_count": null,
   "id": "e795fd3b-eea2-4e29-b0f9-2ccbe8d4b17a",
   "metadata": {},
   "outputs": [],
   "source": [
    "df = pl.read_csv('iris.csv')"
   ]
  },
  {
   "cell_type": "code",
   "execution_count": null,
   "id": "2a5226ee-c331-4471-9355-0e2d76ad4670",
   "metadata": {},
   "outputs": [],
   "source": [
    "plot_data = df.with_columns(pl.col('sepal.length').alias('length'), pl.col('sepal.width').alias('width'))"
   ]
  },
  {
   "cell_type": "code",
   "execution_count": null,
   "id": "c4b242ab-5fb1-400a-a04b-b85f68484463",
   "metadata": {},
   "outputs": [],
   "source": [
    "chart =  (\n",
    "    plot_data.plot.point(\n",
    "        x=\"width\",\n",
    "        y=\"length\",\n",
    "        color='variety'\n",
    "    )\n",
    "    .properties(width=500, title=\"Irises\")\n",
    "    .configure_scale(zero=False)\n",
    "    .configure_axisX(tickMinStep=1)\n",
    "\n",
    ")\n",
    "chart.encoding.x.title = \"Sepal Width\"\n",
    "chart.encoding.y.title = \"Sepal Length\"\n",
    "chart"
   ]
  },
  {
   "cell_type": "code",
   "execution_count": null,
   "id": "e5db85a0-7a99-4d82-a584-5a1b240ed6b5",
   "metadata": {},
   "outputs": [],
   "source": [
    "df.plot.point(x='sepal.width', y='sepal.length', color='variety')"
   ]
  },
  {
   "cell_type": "code",
   "execution_count": null,
   "id": "c470d3c4-8ac7-4247-9de3-a9f28e446e66",
   "metadata": {},
   "outputs": [],
   "source": [
    "df = pl.DataFrame(\n",
    "    {\n",
    "        \"length\": [1, 4, 6],\n",
    "        \"width\": [4, 5, 6],\n",
    "        \"species\": [\"setosa\", \"setosa\", \"versicolor\"],\n",
    "    }\n",
    ")\n",
    "df.plot.point(x=\"length\", y=\"width\", color=\"species\")  "
   ]
  },
  {
   "cell_type": "code",
   "execution_count": null,
   "id": "ebe4dd56-1a8b-41d2-8681-3fdaeb41fa47",
   "metadata": {},
   "outputs": [],
   "source": [
    "a = pl.Series(\"a\", [1, 3, 8, 8, 2, 1, 3])\n",
    "h_data = a.hist(bin_count=4)"
   ]
  },
  {
   "cell_type": "code",
   "execution_count": null,
   "id": "aa240e97-29ba-48c1-ad31-7be91ce6e2eb",
   "metadata": {},
   "outputs": [],
   "source": [
    "alt.Chart(h_data).mark_bar().encode(\n",
    "    x=alt.X('category:O', title='Values'),\n",
    "    y=alt.Y('count:Q', title='Frequency')\n",
    ")"
   ]
  },
  {
   "cell_type": "code",
   "execution_count": null,
   "id": "6c742b90-218b-42c5-bfc9-5a5a28cac85c",
   "metadata": {},
   "outputs": [],
   "source": []
  }
 ],
 "metadata": {
  "language_info": {
   "name": "python",
   "pygments_lexer": "ipython3"
  }
 },
 "nbformat": 4,
 "nbformat_minor": 5
}
