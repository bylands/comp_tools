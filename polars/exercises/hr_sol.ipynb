{
 "cells": [
  {
   "cell_type": "markdown",
   "id": "609a54aa-c88a-40e5-9f32-ff10645eef75",
   "metadata": {},
   "source": [
    "## Astronomical Data\n",
    "There are billions of stars in our universe. Especially over the last few decades a lot of data about their properties has been collected with telescopes like the *Hubble* or the *James Webb Space Telescope*. Catalogs like *Hipparcos* or *GAIA* compile large amounts of data. Analysing millions or billions of datasets can be a challenging task, but libraries like Polars make the process quite efficient."
   ]
  },
  {
   "cell_type": "markdown",
   "id": "28fcbd74-4b4b-4fdf-a50f-7d3c51bbdcc8",
   "metadata": {},
   "source": [
    "#### Import Data\n",
    "The file *hygdata_v41.csv* containts data about almost 120'000 stars from three well-known catalogs (Hipparcos, Yale Bright Stars, Gliese), hence the name HYG.\n",
    "\n",
    "Import the data into a polars dataframe and find out about the meaning of the different columns (see https://github.com/astronexus/HYG-Database/tree/main/hyg).\n",
    "\n",
    "Find data for some well-known stars, e.g. the distance to  Sirius or the radial velocity of Vega."
   ]
  },
  {
   "cell_type": "code",
   "execution_count": null,
   "id": "624e75ec-bb4f-4c75-b9a0-b80434e7f794",
   "metadata": {},
   "outputs": [],
   "source": [
    "import polars as pl\n",
    "\n",
    "path = 'data/hygdata_v41.csv'\n",
    "\n",
    "df = pl.read_csv(path)\n",
    "\n",
    "print('list of column headers: \\n', df.columns, end='\\n\\n')\n",
    "print(f'number of objects in dataset: {df.shape[0]}', end='\\n\\n')\n",
    "\n",
    "dist_sirius = df.filter(pl.col('proper') == 'Sirius').get_column('dist').to_list()[0]\n",
    "v_vega = df.filter(pl.col('proper') == 'Vega').get_column('rv').to_list()[0]\n",
    "\n",
    "print(f'Distance to Sirius: {dist_sirius} pc')\n",
    "print(f'Radial velocity of Vega: {v_vega} km/s')"
   ]
  },
  {
   "cell_type": "markdown",
   "id": "38898631-fa81-4da3-94c0-eb2e826748a3",
   "metadata": {},
   "source": [
    "### Hertzsprung-Russell\n",
    "Stars can be categorized based on their surface temperature (related to the colour of a star) and their luminosity (related to the brightness).\n",
    "\n",
    "In a *Hertzsprung-Russell* the luminosity (usually in a logarithmic scale in units of *magnitudes*) is graphed vs. the surface temperature or the color index. As a convention, the color index decreases from left to right, which corresponds to a temperature increase.\n",
    "\n",
    "Using the collumns 'ci' (color index) and 'absmag' (absolute magnitude), create a Hertzsprung-Russell diagram for all stars in the dataframe. Mark the position of our Sun (Sol) in the diagram."
   ]
  },
  {
   "cell_type": "code",
   "execution_count": null,
   "id": "1c97be44-3a76-416b-b8b9-4cb40e4d03da",
   "metadata": {},
   "outputs": [],
   "source": [
    "import matplotlib.pyplot as plt\n",
    "\n",
    "ci = df.select(pl.col('ci'))\n",
    "mag = df.select(pl.col('absmag'))\n",
    "ci_sun = df.filter(pl.col('proper') == 'Sol').select(pl.col('ci'))\n",
    "mag_sun = df.filter(pl.col('proper') == 'Sol').select(pl.col('absmag'))\n",
    "\n",
    "plt.plot(ci, mag, '.', ms=0.1)\n",
    "plt.plot(ci_sun, mag_sun, 'o', ms=3, label='Sun (Sol)')\n",
    "plt.xlim(-1, 3)\n",
    "plt.ylim(20, -15)\n",
    "plt.xlabel('color index')\n",
    "plt.ylabel('absolute magnitude')\n",
    "plt.grid()\n",
    "plt.legend()\n",
    "plt.show()"
   ]
  },
  {
   "cell_type": "markdown",
   "id": "61acfd19-02f9-4259-9103-e99090cde42d",
   "metadata": {},
   "source": [
    "In order to convert the color index to the perceived colour, the steps described in https://stackoverflow.com/questions/21977786/star-b-v-color-index-to-apparent-rgb-color can be followed. Create a version of the Hertzsprung-Russell diagram with the temperature as the horizontal axis and with data points plotted with the colour of the corresponding star."
   ]
  },
  {
   "cell_type": "code",
   "execution_count": null,
   "id": "920cadd6-d79f-440c-ada8-0b8b0bb3176e",
   "metadata": {},
   "outputs": [],
   "source": [
    "import numpy as np\n",
    "\n",
    "\n",
    "def bv2T(bv):\n",
    "    return 4600 * (1/(0.92*bv + 1.7) + 1/(0.92*bv + 0.62))\n",
    "    \n",
    "def T2rgb(T):\n",
    "    convert = pl.read_csv('data/kelvin2rgb_10deg.csv')\n",
    "    alpha = 0.5\n",
    "    \n",
    "    temp = np.array(convert.get_column('T'))\n",
    "    red = np.array(convert.get_column('r'))\n",
    "    green = np.array(convert.get_column('g'))\n",
    "    blue = np.array(convert.get_column('b'))\n",
    "\n",
    "    r = np.interp(T, temp, red)\n",
    "    g = np.interp(T, temp, green)\n",
    "    b = np.interp(T, temp, blue)\n",
    "\n",
    "    colors = [(a, b, c, alpha) for a, b, c in zip(r, g, b)]\n",
    "                      \n",
    "    return colors"
   ]
  },
  {
   "cell_type": "code",
   "execution_count": null,
   "id": "ac594eba-ec9f-44f7-9c94-f5a7c5c82cc6",
   "metadata": {},
   "outputs": [],
   "source": [
    "ci = df.get_column('ci')\n",
    "mag = df.get_column('absmag')\n",
    "temp = bv2T(ci)\n",
    "color = T2rgb(temp)\n",
    "\n",
    "plt.figure(figsize=(6, 8), facecolor='black')\n",
    "ax = plt.gca()\n",
    "ax.set_facecolor('black')\n",
    "ax.spines['bottom'].set_color('white')\n",
    "ax.spines['top'].set_color('white') \n",
    "ax.spines['right'].set_color('white')\n",
    "ax.spines['left'].set_color('white')\n",
    "ax.tick_params(axis='x', colors='white')\n",
    "ax.tick_params(axis='y', colors='white')\n",
    "ax.yaxis.label.set_color('white')\n",
    "ax.xaxis.label.set_color('white')\n",
    "\n",
    "plt.scatter(temp, mag, s=.01, facecolors=color)\n",
    "plt.xlim(15000, 0)\n",
    "plt.ylim(20, -15)\n",
    "plt.xlabel('temperature (K)')\n",
    "plt.ylabel('absolute magnitude')\n",
    "plt.show()"
   ]
  },
  {
   "cell_type": "code",
   "execution_count": null,
   "id": "53ce40f8",
   "metadata": {},
   "outputs": [],
   "source": []
  }
 ],
 "metadata": {
  "language_info": {
   "name": "python",
   "pygments_lexer": "ipython3"
  }
 },
 "nbformat": 4,
 "nbformat_minor": 5
}
