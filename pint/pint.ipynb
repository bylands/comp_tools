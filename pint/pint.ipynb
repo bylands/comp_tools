{
 "cells": [
  {
   "cell_type": "markdown",
   "id": "af35ee5a-2daa-4348-b653-1040811b3bf6",
   "metadata": {},
   "source": [
    "# Pint: Calculations with units\n",
    "The library *Pint* (https://pint.readthedocs.io/en/stable/index.html) allows for simple calculations with units. It is also a very convenient tool for unit conversions."
   ]
  },
  {
   "cell_type": "markdown",
   "id": "a3d48c42-1dd7-4d49-91b5-b80d9cc34974",
   "metadata": {},
   "source": [
    "#### Import library"
   ]
  },
  {
   "cell_type": "code",
   "execution_count": null,
   "id": "fa463509-6126-405a-9767-07c72d38a389",
   "metadata": {},
   "outputs": [],
   "source": [
    "from pint import UnitRegistry"
   ]
  },
  {
   "cell_type": "markdown",
   "id": "512e0869-724e-44d6-b111-65f6392e59b7",
   "metadata": {},
   "source": [
    "#### Define UnitRegistry\n",
    "The unit registry is the main object used to create quantities with units."
   ]
  },
  {
   "cell_type": "code",
   "execution_count": null,
   "id": "209697eb-5c0c-4cb6-b112-4929e9a75343",
   "metadata": {},
   "outputs": [],
   "source": [
    "ureg = UnitRegistry()"
   ]
  },
  {
   "cell_type": "markdown",
   "id": "d6f717d5-b91f-4069-bcc7-b9444dd2fcec",
   "metadata": {},
   "source": [
    "## Examples\n",
    "The following examples demonstrate how quantities with units can be defined or converted, and how calculated quantities can be formatted."
   ]
  },
  {
   "cell_type": "markdown",
   "id": "7a4af7f2-c083-4dc5-af3e-3439bd4d9d07",
   "metadata": {},
   "source": [
    "#### Example 1: Current"
   ]
  },
  {
   "cell_type": "code",
   "execution_count": null,
   "id": "ef2c0064-a248-4495-b855-deb0e0ea1113",
   "metadata": {},
   "outputs": [],
   "source": [
    "I = ureg('75 mA') # define current in mA\n",
    "dt = ureg('4.5 h') # define time interval in h\n",
    "\n",
    "Q = I * dt # calculate charge\n",
    "\n",
    "# convert I and dt to basic units before calculating Q\n",
    "Q_C = I.to_base_units() * dt.to_base_units()\n",
    "\n",
    "print(f'Q = {Q}') # print charge in standard form\n",
    "print(f'Q = {Q:~P.0f}') # print charge nicely formatted with unit symbols\n",
    "print(f'Q = {Q.to('mAh'):~.0f}') # print charge in unit mAh\n",
    "print(f'Q = {Q.to('C'):~P.2e}') # print charge in C\n",
    "print(f'Q = {Q.to('C'):#~P.2f}') # print charge in C using unit prefix\n",
    "print(f'Q = {Q_C:~P.2e} = {Q_C.to('C'):.2e~P}') # print charge (calculated with basic units)"
   ]
  },
  {
   "cell_type": "markdown",
   "id": "769f35c3-5e89-4cd1-879e-a996476d4ef1",
   "metadata": {},
   "source": [
    "#### Example 2: Density"
   ]
  },
  {
   "cell_type": "code",
   "execution_count": null,
   "id": "1d873a1d-b297-47ba-9122-3a350e6b4288",
   "metadata": {},
   "outputs": [],
   "source": [
    "rho = ureg.Quantity(7.92, 'g/cm**3') # define density using Quantity\n",
    "V = ureg.Quantity(2.5, 'dl') # define volume\n",
    "\n",
    "m = rho * V # calculate mass\n",
    "\n",
    "print(f'{m:.2f~P}') # print result with \"raw\" units\n",
    "print(f'{m.to_base_units():.2f~P}') # print result in base unit"
   ]
  },
  {
   "cell_type": "markdown",
   "id": "28fcf53a-94bd-483e-a620-b0200f508f48",
   "metadata": {},
   "source": [
    "#### Example 3: Pressure"
   ]
  },
  {
   "cell_type": "code",
   "execution_count": null,
   "id": "4d3f5fd3-1bf2-4d5d-b766-8ae90f1ce001",
   "metadata": {},
   "outputs": [],
   "source": [
    "p = 354 * ureg('mbar') # define pressure in mbar\n",
    "A = 442 * ureg('cm**2') # define area in cm^2\n",
    "\n",
    "F = p * A # calculate force\n",
    "\n",
    "print(f'{F:.3g~P}') # print result with \"raw\" units (3 significant figures)\n",
    "print(f'{F.to_base_units():~P.3g}') # print result in base units\n",
    "print(f'{F.to('N'):~P.3g}') # print result in N\n",
    "print(f'{F.to('N'):#~P.3g}') # print result in N (with unit prefix)"
   ]
  },
  {
   "cell_type": "markdown",
   "id": "d492dc4c-4ce2-4805-aa3d-9e1fe102d92d",
   "metadata": {},
   "source": [
    "### Using Pint together with Uncertainties\n",
    "The libraries *Pint* and *Uncertainties* (https://uncertainties.readthedocs.io/en/latest/index.html) can be used together to make calculations with physical quantities including their uncertainties. The uncertainty of a calculated quantity is calculated according to the rules of error calculation, and the result is printed in a standard format."
   ]
  },
  {
   "cell_type": "markdown",
   "id": "6cd27461-2c1e-4ce6-92c6-ab1e427ba62e",
   "metadata": {},
   "source": [
    "#### Example: Density"
   ]
  },
  {
   "cell_type": "code",
   "execution_count": null,
   "id": "adf6ac2d-6fca-499f-9d1e-b8f121049341",
   "metadata": {},
   "outputs": [],
   "source": [
    "# Define side and mass of a cube, including uncertainties\n",
    "a = ureg('1.5 cm').plus_minus(0.05)\n",
    "m = ureg('93.3 g').plus_minus(0.1)\n",
    "\n",
    "print(f'a = {a:~P}') # print value with uncertainty in standard form\n",
    "print(f'm = {m:~P}')\n",
    "\n",
    "rho = m / (a**3) # calculate density\n",
    "\n",
    "# print result with calculated uncertainty\n",
    "print(f'density = {rho.to('kg/m**3'):~P} = {rho.to('g/cm**3'):~P}')"
   ]
  }
 ],
 "metadata": {
  "language_info": {
   "name": "python",
   "pygments_lexer": "ipython3"
  }
 },
 "nbformat": 4,
 "nbformat_minor": 5
}
