{
 "cells": [
  {
   "cell_type": "markdown",
   "id": "609a54aa-c88a-40e5-9f32-ff10645eef75",
   "metadata": {},
   "source": [
    "## Radon Decay\n",
    "The decay of Radon 220 is investigated with an ionisation chamber. The chamber delivers an electrical signal which is proportional to the activity of the radioactive gas in the detector. The time and voltage data for a measurement over 5 minutes can be read from a csv file."
   ]
  },
  {
   "cell_type": "code",
   "execution_count": null,
   "id": "624e75ec-bb4f-4c75-b9a0-b80434e7f794",
   "metadata": {},
   "outputs": [],
   "source": [
    "import numpy as np\n",
    "\n",
    "decay = np.genfromtxt('radon.csv', delimiter=',')\n",
    "time = decay[0]\n",
    "voltage = decay[1]"
   ]
  },
  {
   "cell_type": "markdown",
   "id": "8cc1b517-096f-4f7f-ae39-92c0495a8964",
   "metadata": {},
   "source": [
    "Graph the voltage vs time diagram."
   ]
  },
  {
   "cell_type": "code",
   "execution_count": null,
   "id": "73fc652e-e920-4acf-b885-027cf21a8817",
   "metadata": {},
   "outputs": [],
   "source": []
  },
  {
   "cell_type": "markdown",
   "id": "3bb590d4-0165-4e88-a39b-793e8d672373",
   "metadata": {},
   "source": [
    "The theory predicts an exponential decay. Visually verify the model with an exponential fit function. Include a term for a possible (constant) voltage offset."
   ]
  },
  {
   "cell_type": "code",
   "execution_count": null,
   "id": "fb7c3960-8dd5-47e3-ab81-3d3f345cb8ca",
   "metadata": {},
   "outputs": [],
   "source": []
  },
  {
   "cell_type": "markdown",
   "id": "2fb2d614-373d-4693-829e-51d25d707aa3",
   "metadata": {},
   "source": [
    "Determine the error of the time constant in two different ways: Using the covariance matrix for the fit function, and by determining the deviation for fits to different time intervals."
   ]
  },
  {
   "cell_type": "code",
   "execution_count": null,
   "id": "c6aa18f8-c005-468c-be1d-d462de40e6e2",
   "metadata": {},
   "outputs": [],
   "source": []
  }
 ],
 "metadata": {
  "language_info": {
   "name": "python",
   "pygments_lexer": "ipython3"
  }
 },
 "nbformat": 4,
 "nbformat_minor": 5
}
