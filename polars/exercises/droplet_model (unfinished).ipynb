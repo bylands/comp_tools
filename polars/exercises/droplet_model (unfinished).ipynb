{
 "cells": [
  {
   "cell_type": "markdown",
   "id": "d0426f63-14f2-43a4-94b8-bb97e5d5922d",
   "metadata": {},
   "source": [
    "# Binding Energy\n",
    "You are going to analyse the binding energies of the known isotopes."
   ]
  },
  {
   "cell_type": "markdown",
   "id": "dd2a9223-c4d2-4c37-9b69-520b938d5f53",
   "metadata": {},
   "source": [
    "#### Reading data\n",
    "The data is read from a *parquet* file. This file format contains the datatypes (e.g. int or float) in addition to the actual values."
   ]
  },
  {
   "cell_type": "code",
   "execution_count": null,
   "id": "efdc29c1-5d55-4979-9ed0-bf15fc0f538d",
   "metadata": {},
   "outputs": [],
   "source": [
    "import polars as pl\n",
    "\n",
    "isotopes = pl.read_parquet('data/binding_energy.parquet')"
   ]
  },
  {
   "cell_type": "markdown",
   "id": "27998418-d02c-44fd-b825-4c26fff90958",
   "metadata": {},
   "source": [
    "#### Browsing the data\n",
    "Have a first look at the dataframe and find out about the different columns, the number of isotopes, etc."
   ]
  },
  {
   "cell_type": "code",
   "execution_count": null,
   "id": "a714bc80-f2af-4627-8745-ef50b9882d6b",
   "metadata": {},
   "outputs": [],
   "source": [
    "display(isotopes.head(10)) # display 10 random rows"
   ]
  },
  {
   "cell_type": "code",
   "execution_count": null,
   "id": "3aee89df-0239-45d2-90f1-ded1e569ce90",
   "metadata": {},
   "outputs": [],
   "source": [
    "rows, cols = isotopes.shape\n",
    "print(f'{rows} rows and {cols} columns')"
   ]
  },
  {
   "cell_type": "markdown",
   "id": "a18aaa79-dfdd-499a-8f6c-1488bdeda3d6",
   "metadata": {},
   "source": [
    "#### Some search tasks\n",
    "Answer the following questions:\n",
    "- Which isotope has the greates atomic mass?\n",
    "- How many carbon isotopes are known?\n",
    "- Which element has the greatest number of isotopes?\n",
    "- Which lead (Pb) isotopes have a non-negligible abundance (column *Isotopic Composition*) and do their abundances add up to 100 %?"
   ]
  },
  {
   "cell_type": "code",
   "execution_count": null,
   "id": "78ecd982-d3d3-4dca-bf8e-2ded330ca732",
   "metadata": {},
   "outputs": [],
   "source": [
    "# find the isotope with the maximum atomic mass (Og stands for Oganessum)\n",
    "isotopes.filter(pl.col('Atomic Mass') == pl.max('Atomic Mass'))"
   ]
  },
  {
   "cell_type": "code",
   "execution_count": null,
   "id": "31dcc464-a850-4b58-8d54-239e9f3b6350",
   "metadata": {},
   "outputs": [],
   "source": [
    "# filter carbon (C) isotopes; there are 16 rows\n",
    "isotopes.filter(pl.col('Atomic Symbol') == 'C')"
   ]
  },
  {
   "cell_type": "code",
   "execution_count": null,
   "id": "bf411a3c-0e07-49eb-bd3e-b99a897de6ac",
   "metadata": {},
   "outputs": [],
   "source": [
    "# group by atomic number, aggregate number of isotopes (len), sort by number of isotopes (descending)\n",
    "(isotopes\n",
    "    .group_by('Z')\n",
    "    .agg([\n",
    "        pl.col('Atomic Symbol'), \n",
    "        pl.len().alias('Number of Isotopes')]\n",
    "        )\n",
    "    .with_columns(pl.col('Atomic Symbol').list.first())\n",
    "    .sort('Number of Isotopes', descending=True)\n",
    ") "
   ]
  },
  {
   "cell_type": "markdown",
   "id": "fc8b92db-f5ce-45a7-8395-a84479945cfd",
   "metadata": {},
   "source": [
    "### Mass Excess\n",
    "The *mass excess* (or *mass defect*) corresponds to the difference between the measured mass ('Atomic Mass', unit µu) and the mass number ('Mass Number', unit u). In the dataframe it is expressed as the equivalent energy in keV. Add another column to verify this relation."
   ]
  },
  {
   "cell_type": "code",
   "execution_count": null,
   "id": "3ca2f019-251e-4f5c-978f-e61b512a7eac",
   "metadata": {},
   "outputs": [],
   "source": [
    "from scipy.constants import eV, m_u, speed_of_light\n",
    "\n",
    "(isotopes\n",
    "    .with_columns(\n",
    "        ((pl.col('Atomic Mass') * 1e-6 - pl.col('Mass Number')) * m_u * speed_of_light**2 /(1000 * eV))\n",
    "            .alias('My Mass Excess'))\n",
    "    .with_columns((pl.col('Mass Excess') / pl.col('My Mass Excess')).alias('rel'))\n",
    "    .select(['Atomic Symbol', 'N', 'Mass Excess', 'My Mass Excess', 'rel'])\n",
    ").sort('rel')"
   ]
  },
  {
   "cell_type": "markdown",
   "id": "9537e324-7e31-422b-844f-ea8fa1d92823",
   "metadata": {},
   "source": [
    "### Nuclear Binding Energy\n",
    "The nuclear binding energy of a nucleus can be approximated as the mass difference of its measured mass ('Atomic Mass') and the sum of the masses of the protons, neutrons and electrons, multiplied by the square of the speed of light.\n",
    "\n",
    "Add columns for the binding energy (in MeV) and the binding energy divided by the mass number. Compare the calculated value to the values in the column 'Binding Energy per Nucleus' in the dataframe. The deviations are mostly due the electronic binding energy, which has been neglected in this calculation."
   ]
  },
  {
   "cell_type": "code",
   "execution_count": null,
   "id": "ca1c5ade-81cc-42fe-b64e-1438b6da27ef",
   "metadata": {},
   "outputs": [],
   "source": [
    "from scipy.constants import m_n, m_p, m_e, u, speed_of_light, eV\n",
    "\n",
    "def e_bind(Z, N, m):\n",
    "    \"\"\"\n",
    "    function to calculate the binding energy of a nucleus\n",
    "    Z: atomic number (number of protons)\n",
    "    N: neutron number\n",
    "    m: atomic mass (in µu)\n",
    "    \"\"\"\n",
    "    \n",
    "    dm = Z * (m_p + m_e) + N * m_n - m * 1e-6 * u # mass difference in kg\n",
    "    eb = dm * speed_of_light**2 / eV # binding energy in eV\n",
    "    \n",
    "    return eb / 1e6 # return binding energy in MeV\n",
    "\n",
    "\n",
    "# add columns for binding energy and binding energy per nucleon\n",
    "binding_energy = isotopes.with_columns(\n",
    "    pl.struct(['Z', 'N', 'Atomic Mass'])\n",
    "    .map_elements(lambda s: e_bind(s['Z'], s['N'], s['Atomic Mass']), return_dtype=pl.Float64)\n",
    "    .alias('Binding Energy')\n",
    ").with_columns(\n",
    "    (pl.col('Binding Energy') / pl.col('Mass Number'))\n",
    "        .alias('My Binding Energy per Nucleon'),\n",
    "    pl.col('Binding Energy per Nucleon') / 1000\n",
    ")\n",
    "\n",
    "# dataframe with only highest binding energy for each mass number (used for upper envelope)\n",
    "binding_energy_max = (binding_energy\n",
    "                      .sort('Binding Energy per Nucleon')\n",
    "                      .group_by('Mass Number')\n",
    "                      .agg([\n",
    "                          pl.col('Z').last(),\n",
    "                          pl.col('N').last(),\n",
    "                          pl.col('Atomic Symbol').last(), \n",
    "                          pl.col('Binding Energy per Nucleon').max()\n",
    "                      ])\n",
    "                     )"
   ]
  },
  {
   "cell_type": "code",
   "execution_count": null,
   "id": "22eed8ae-8bee-4082-adb8-fbf9e4c17d6f",
   "metadata": {},
   "outputs": [],
   "source": [
    "(binding_energy.select(['Atomic Symbol', 'Z', 'Mass Number',\n",
    "                       pl.col('Binding Energy per Nucleon'), 'My Binding Energy per Nucleon', \n",
    "                       (pl.col('Binding Energy per Nucleon') / pl.col('My Binding Energy per Nucleon'))\n",
    "                           .abs().alias('rel')])\n",
    "    .sort('rel', descending=True)\n",
    ")"
   ]
  },
  {
   "cell_type": "markdown",
   "id": "9be81f2a-f0bd-4927-a96a-bbe6e8018c27",
   "metadata": {},
   "source": [
    "#### Graph\n",
    "Graph the nuclear binding energy per nucleon in a diagram. Find the isotope with the highest binding energy per nucleon, i.e. the most stable isotope. List the isotopes with a negative binding energy."
   ]
  },
  {
   "cell_type": "code",
   "execution_count": null,
   "id": "722771b1-7d03-49c6-ada8-de3c71351834",
   "metadata": {},
   "outputs": [],
   "source": [
    "import altair as alt\n",
    "\n",
    "# chart1 with all data points\n",
    "chart1 = (binding_energy.plot.point(\n",
    "            x=alt.X('Mass Number',\n",
    "                    scale=alt.Scale(type='log', domain=(1, 300)) # logarithmic scale (looks better)\n",
    "                   ),\n",
    "            y='Binding Energy per Nucleon',\n",
    "            tooltip=[\n",
    "                'Atomic Symbol', \n",
    "                'Mass Number', \n",
    "                alt.Tooltip('Binding Energy per Nucleon', format='.2f') # round values to 2 decimal places in tooltips\n",
    "            ]\n",
    "            )\n",
    "          .properties(width=600, title='Binding Energy per Nucleon')\n",
    "        )\n",
    "\n",
    "\n",
    "#chart2 with only max for each mass number\n",
    "chart2 = (binding_energy_max.plot.line(\n",
    "            x=alt.X('Mass Number',\n",
    "                    scale=alt.Scale(type='log', domain=(1, 300))\n",
    "                   ),\n",
    "            y=alt.Y('Binding Energy per Nucleon',\n",
    "                   title='Binding Energy per Nucleon (MeV)'\n",
    "                   ),\n",
    "            tooltip=['Atomic Symbol', 'Mass Number', 'Binding Energy per Nucleon']\n",
    "            )\n",
    "        )\n",
    "\n",
    "chart = ((chart1 + chart2)\n",
    "           .configure_point(size=1).configure_line(color='red') # format points and line\n",
    "       )\n",
    "\n",
    "chart"
   ]
  },
  {
   "cell_type": "code",
   "execution_count": null,
   "id": "b0d69748-f3f4-4835-a65d-bcf4d7feb33d",
   "metadata": {},
   "outputs": [],
   "source": [
    "binding_energy.filter(pl.col('Binding Energy per Nucleon') == pl.max('Binding Energy per Nucleon'))"
   ]
  },
  {
   "cell_type": "markdown",
   "id": "0ab4c03e-bf92-4fb4-8efe-20d958d075c3",
   "metadata": {},
   "source": [
    "The most stable isotope (isotope with highest binding energy per nucleon) is Ni-62."
   ]
  },
  {
   "cell_type": "code",
   "execution_count": null,
   "id": "4c97deb9-19bd-4587-bd03-8e7c6df48bea",
   "metadata": {},
   "outputs": [],
   "source": [
    "binding_energy.filter(pl.col('Binding Energy per Nucleon') < 0)"
   ]
  },
  {
   "cell_type": "code",
   "execution_count": null,
   "id": "d532d453-e4e1-4203-a878-c775ba1621be",
   "metadata": {},
   "outputs": [],
   "source": [
    "def droplet(N, Z):\n",
    "    \n",
    "    A = N + Z # number of nucleons\n",
    "\n",
    "    pairing = 'e' if N % 2 == 0 else 'o'\n",
    "    pairing += 'e' if Z % 2 == 0 else 'o'\n",
    "    match pairing:\n",
    "        case 'ee':\n",
    "            aP = 11.18\n",
    "        case 'oo':\n",
    "            aP = -11.18\n",
    "        case _:\n",
    "            aP = 0\n",
    "            \n",
    "\n",
    "    EV = 15.76 * A\n",
    "    EO = -17.81 * A**(2/3)\n",
    "    EC = - 0.711 * Z * (Z - 1) * A**(-1/3)\n",
    "    ES = -23.702* (N - Z)**2 / (4 * A)\n",
    "    EP = aP * A**(-1/2)\n",
    "\n",
    "    return (EV + EO + EC + ES + EP) / A"
   ]
  },
  {
   "cell_type": "code",
   "execution_count": null,
   "id": "ee8133d0-e87d-4923-9327-1ab105bf6d7e",
   "metadata": {},
   "outputs": [],
   "source": [
    "droplet = binding_energy_max.with_columns(pl.struct(['Z', 'N']).map_elements(lambda s: droplet(s['Z'], s['N']), return_dtype=pl.Float64).alias('Droplet'))"
   ]
  },
  {
   "cell_type": "code",
   "execution_count": null,
   "id": "8afcd3d0-1da1-4581-ab41-c4bae8d1dc50",
   "metadata": {},
   "outputs": [],
   "source": [
    "#chart3 with binding energy predicted by droplet model (only envelope)\n",
    "chart3 = (droplet.plot.line(\n",
    "            x=alt.X('Mass Number',\n",
    "                    scale=alt.Scale(type='log', domain=(1, 300))\n",
    "                   ),\n",
    "            y=alt.Y('Droplet',\n",
    "                   title='Binding Energy per Nucleon (MeV)'\n",
    "                   ),\n",
    "            tooltip=['Atomic Symbol', 'Mass Number', 'Droplet']\n",
    "            )\n",
    "        )"
   ]
  },
  {
   "cell_type": "code",
   "execution_count": null,
   "id": "10ec9f74-3943-47fd-8a4d-dcd80993c3a1",
   "metadata": {},
   "outputs": [],
   "source": [
    "chart4 = chart + chart3"
   ]
  },
  {
   "cell_type": "code",
   "execution_count": null,
   "id": "332e25a0-d320-456f-8b3a-90259c2cc799",
   "metadata": {},
   "outputs": [],
   "source": [
    "chart4"
   ]
  }
 ],
 "metadata": {
  "language_info": {
   "name": "python",
   "pygments_lexer": "ipython3"
  }
 },
 "nbformat": 4,
 "nbformat_minor": 5
}
