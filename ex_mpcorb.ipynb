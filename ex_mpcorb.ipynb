{
 "cells": [
  {
   "cell_type": "code",
   "execution_count": null,
   "id": "88ba68e1-11e0-46e8-a01f-3a6820967d15",
   "metadata": {},
   "outputs": [],
   "source": [
    "import polars as pl"
   ]
  }
 ],
 "metadata": {
  "language_info": {
   "name": "python",
   "pygments_lexer": "ipython3"
  }
 },
 "nbformat": 4,
 "nbformat_minor": 5
}
