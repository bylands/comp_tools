{
 "cells": [
  {
   "cell_type": "code",
   "execution_count": null,
   "id": "037aafc1-6c21-43fb-b3ef-5de4f43a71b8",
   "metadata": {},
   "outputs": [],
   "source": [
    "import polars as pl"
   ]
  },
  {
   "cell_type": "code",
   "execution_count": null,
   "id": "1e11cf63-3f38-48c8-a63b-30d2c3518fb4",
   "metadata": {},
   "outputs": [],
   "source": [
    "def process(f, col_starts, col_names, drop_cols, skip=0):\n",
    "    '''\n",
    "    Process data from a text file with fixed width columns.\n",
    "    @param f: path to document which is processed\n",
    "    @param skip: number of rows to skip\n",
    "    @param widths: list of column widths\n",
    "    @param col_names: list of column names\n",
    "    @return: returns a DataFrame containg the processed columns\n",
    "    '''\n",
    "    \n",
    "    raw = pl.read_csv(\n",
    "        f,\n",
    "        has_header = False,\n",
    "        skip_lines = skip,\n",
    "        new_columns = ['full_str']\n",
    "    )\n",
    "    \n",
    "    max_len = (raw\n",
    "        .with_columns(pl.col('full_str').str.len_chars().alias('len'))\n",
    "        .select(pl.max('len'))\n",
    "        .item(0, 0)\n",
    "              )\n",
    "    \n",
    "    col_starts.append(max_len)\n",
    "\n",
    "    column_names = col_names\n",
    "\n",
    "    return raw.with_columns(\n",
    "        [\n",
    "            pl.col('full_str').str.slice(col_starts[i]-1, col_starts[i+1]-col_starts[i]).str.strip_chars().alias(col)\n",
    "            for i, col in enumerate(column_names)\n",
    "        ]\n",
    "    ).drop('full_str').drop(drop_cols)"
   ]
  },
  {
   "cell_type": "code",
   "execution_count": null,
   "id": "5e321b97-4140-4a86-aa8a-6bcef5a57cd3",
   "metadata": {},
   "outputs": [],
   "source": [
    "def fix_columns(df, col_names):\n",
    "    df = (df.select(pl.all().str.replace(' ', ''))\n",
    "          .select(pl.all().str.replace('#', ''))\n",
    "         )\n",
    "\n",
    "    return df"
   ]
  },
  {
   "cell_type": "code",
   "execution_count": null,
   "id": "d3391d1e-b31f-4dab-8099-42e15d61f413",
   "metadata": {},
   "outputs": [],
   "source": [
    "path = 'https://amdc.impcas.ac.cn/masstables/Ame2020/mass_1.mas20'\n",
    "starts = [1, 3, 6, 11, 16, 21, 24, 29, 43, 56, 69, 80, 83, 96, 107, 125]\n",
    "col_names = ['1', 'N-Z', 'N', 'Z', 'Mass Number', 'Atomic Symbol', 'Odd', 'Mass Excess', 'ME error', \n",
    "             'Binding Energy per Nucleon', 'BE error', 'Beta Type', 'Beta-Decay Energy', 'BD error', \n",
    "             'Atomic Mass', 'AM error']\n",
    "drop_cols = ['1', 'N-Z']\n",
    "skip = 36\n",
    "\n",
    "df = process(path, starts, col_names, drop_cols, skip)"
   ]
  },
  {
   "cell_type": "code",
   "execution_count": null,
   "id": "1a5a8b64-7f99-4e3b-ac42-2b0594eaa1ca",
   "metadata": {},
   "outputs": [],
   "source": [
    "col_names = df.select(pl.exclude(['N', 'Z', 'Atomic Symbol', 'Odd'])).columns\n",
    "\n",
    "df = fix_columns(df, col_names)"
   ]
  },
  {
   "cell_type": "code",
   "execution_count": null,
   "id": "9a0178f4-a9fc-44e1-865d-4f540b36651b",
   "metadata": {},
   "outputs": [],
   "source": [
    "col_types = {'N': pl.Int16, 'Z': pl.Int16, 'Mass Number': pl.Int16, 'Atomic Symbol': pl.String, 'Odd': pl.String, \n",
    "             'Mass Excess': pl.Float64, 'ME error': pl.Float64, 'Binding Energy per Nucleon': pl.Float64, 'BE error': pl.Float64,\n",
    "             'Beta Type': pl.String, 'Beta-Decay Energy': pl.Float64, 'BD error': pl.Float64, \n",
    "             'Atomic Mass': pl.Float64, 'AM error': pl.Float64}\n",
    "\n",
    "final = df.cast(col_types, strict=False)\n",
    "\n",
    "final.write_parquet('binding_energy.parquet')"
   ]
  },
  {
   "cell_type": "code",
   "execution_count": null,
   "id": "9750e390-c6f8-440f-b292-787780913fc7",
   "metadata": {},
   "outputs": [],
   "source": []
  }
 ],
 "metadata": {
  "language_info": {
   "name": "python",
   "pygments_lexer": "ipython3"
  }
 },
 "nbformat": 4,
 "nbformat_minor": 5
}
