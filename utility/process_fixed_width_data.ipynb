{
 "cells": [
  {
   "cell_type": "code",
   "execution_count": 1,
   "id": "c4b73cce-8193-49ad-af31-c0ade7c4c4b6",
   "metadata": {},
   "outputs": [],
   "source": [
    "import polars as pl"
   ]
  },
  {
   "cell_type": "code",
   "execution_count": 3,
   "id": "1b5a59a6-97da-4f0f-b422-6d1007370ffd",
   "metadata": {},
   "outputs": [],
   "source": [
    "def process(f, col_starts, col_names, drop_cols, skip=0):\n",
    "    '''\n",
    "    Process data from a text file with fixed width columns.\n",
    "    @param f: path to document which is processed\n",
    "    @param col_starts: list of start positions for columns\n",
    "    @param col_names: list of column names\n",
    "    @param drop_cols: list of column names that are dropped\n",
    "    @param skip: number of rows to skip\n",
    "    @return: returns a DataFrame containg the processed columns\n",
    "    '''\n",
    "    \n",
    "    raw = pl.read_csv(\n",
    "        f,\n",
    "        has_header = False,\n",
    "        skip_lines = skip,\n",
    "        new_columns = ['full_str']\n",
    "    )\n",
    "\n",
    "    max_len = (raw\n",
    "        .with_columns(pl.col('full_str').str.len_chars().alias('len'))\n",
    "        .select(pl.max('len'))\n",
    "        .item(0, 0)\n",
    "              )\n",
    "    \n",
    "    col_starts.append(max_len)\n",
    "\n",
    "    column_names = col_names\n",
    "\n",
    "    return raw.with_columns(\n",
    "        [\n",
    "            pl.col('full_str').str.slice(col_starts[i]-1, col_starts[i+1]-col_starts[i]).str.strip_chars().alias(col)\n",
    "            for i, col in enumerate(column_names)\n",
    "        ]\n",
    "    ).drop('full_str').drop(drop_cols)"
   ]
  },
  {
   "cell_type": "code",
   "execution_count": null,
   "id": "6f162334-5ea8-4d4d-a795-f58c3f31a834",
   "metadata": {},
   "outputs": [],
   "source": []
  }
 ],
 "metadata": {
  "kernelspec": {
   "display_name": "Python 3 (ipykernel)",
   "language": "python",
   "name": "python3"
  },
  "language_info": {
   "codemirror_mode": {
    "name": "ipython",
    "version": 3
   },
   "file_extension": ".py",
   "mimetype": "text/x-python",
   "name": "python",
   "nbconvert_exporter": "python",
   "pygments_lexer": "ipython3",
   "version": "3.13.5"
  }
 },
 "nbformat": 4,
 "nbformat_minor": 5
}
