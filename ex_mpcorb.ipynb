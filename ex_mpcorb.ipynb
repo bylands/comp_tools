{
 "cells": [
  {
   "cell_type": "code",
   "execution_count": null,
   "id": "88ba68e1-11e0-46e8-a01f-3a6820967d15",
   "metadata": {},
   "outputs": [],
   "source": [
    "import numpy as np\n",
    "import polars as pl\n",
    "import matplotlib.pyplot as plt"
   ]
  },
  {
   "cell_type": "code",
   "execution_count": null,
   "id": "efdc29c1-5d55-4979-9ed0-bf15fc0f538d",
   "metadata": {},
   "outputs": [],
   "source": [
    "df = pl.read_csv(\n",
    "    \"mpcorb.txt\",\n",
    "    has_header = False,\n",
    "    skip_rows = 43,\n",
    "    new_columns = ['full_str']\n",
    ")\n",
    "\n",
    "column_names = [ 'a' ] # major semi axis\n",
    "widths = [92, 105]\n",
    "\n",
    "slice_tuples = []\n",
    "left = widths[0]\n",
    "\n",
    "for i in widths[1:]:\n",
    "    slice_tuples.append((left, i-left))\n",
    "    left = i\n",
    "\n",
    "data = df.with_columns(\n",
    "    [\n",
    "        pl.col('full_str').str.slice(slice_tuple[0], slice_tuple[1]).str.strip_chars().cast(pl.Float32).alias(col)\n",
    "        for slice_tuple, col in zip(slice_tuples, column_names)\n",
    "    ]\n",
    ").drop('full_str')"
   ]
  },
  {
   "cell_type": "code",
   "execution_count": null,
   "id": "36cd9a77-9157-41c5-a545-a867eca799bc",
   "metadata": {},
   "outputs": [],
   "source": [
    "a = data.filter(pl.col('a') < 10).to_numpy()\n",
    "print(f'minimum: {np.max(a)}')"
   ]
  },
  {
   "cell_type": "code",
   "execution_count": null,
   "id": "ca1c5ade-81cc-42fe-b64e-1438b6da27ef",
   "metadata": {},
   "outputs": [],
   "source": [
    "plt.hist(a, bins=1000)\n",
    "plt.xlim(0, 6)"
   ]
  },
  {
   "cell_type": "code",
   "execution_count": null,
   "id": "13b8683a-cdae-429a-8319-553b7992aecc",
   "metadata": {},
   "outputs": [],
   "source": []
  }
 ],
 "metadata": {
  "language_info": {
   "name": "python",
   "pygments_lexer": "ipython3"
  }
 },
 "nbformat": 4,
 "nbformat_minor": 5
}
