{
 "cells": [
  {
   "cell_type": "markdown",
   "id": "119c06dd-0f00-4a3e-9716-d82658753776",
   "metadata": {},
   "source": [
    "# Curve Fit\n",
    "A common task in physics is to visualise measured data and to compare it to a theoretical prediction. If there is at least one free parameter (e.g. the acceleration of a moving object), we have to optimise the function to fit to the data as well as possible. This is referred to as a *curve fit*."
   ]
  },
  {
   "cell_type": "markdown",
   "id": "ac1b74a3-f82d-488e-ad96-84c72f6ac9fb",
   "metadata": {},
   "source": [
    "## Example: Uniform motion\n",
    "A low-friction cart slides down a slightly inclined track. Its position is measured at regular time intervals. We assume errors of 0.05 s for the time and 0.1 cm for the position measurements."
   ]
  },
  {
   "cell_type": "markdown",
   "id": "082c7b97-a893-4649-be22-dff3c3629ee9",
   "metadata": {},
   "source": [
    "### Define arrays for measured data"
   ]
  },
  {
   "cell_type": "code",
   "execution_count": null,
   "id": "1352184e-7357-442d-b648-9de0c89b35bf",
   "metadata": {},
   "outputs": [],
   "source": [
    "import numpy as np\n",
    "\n",
    "time = np.array([0.00, 0.50, 1.00, 1.50, 2.00, 2.50, 3.00, 3.50]) # time in s\n",
    "pos = np.array([12.3, 15.2, 24.3, 39.4, 60.5, 87.1, 120.3, 159.2]) # position in cm\n",
    "\n",
    "dt = 0.05 # error for time in s\n",
    "dx = 0.2 # error for position in cm"
   ]
  },
  {
   "cell_type": "markdown",
   "id": "3978ee70-1a20-4e6a-819b-8b8890ea2709",
   "metadata": {},
   "source": [
    "### Visualise data with a scatter plot"
   ]
  },
  {
   "cell_type": "code",
   "execution_count": null,
   "id": "c494e81c-3802-45c9-aecc-fac58f91207b",
   "metadata": {},
   "outputs": [],
   "source": [
    "import matplotlib.pyplot as plt\n",
    "\n",
    "plt.errorbar(time, pos, fmt='.', color='blue', xerr=dt, yerr=dx, capsize=2)\n",
    "plt.xlabel('time (s)')\n",
    "plt.ylabel('position (cm)')\n",
    "plt.show()"
   ]
  },
  {
   "cell_type": "markdown",
   "id": "ace931e1-fb79-4806-b05d-65ca4a5b5f4c",
   "metadata": {},
   "source": [
    "The error bars are so small that they can barely be seen. In order to visually confirm the quality of a fit function later on, we will have to find a solution to this problem."
   ]
  },
  {
   "cell_type": "markdown",
   "id": "c616d532-d772-4dd6-be28-fe2cc9cedde4",
   "metadata": {},
   "source": [
    "### Fit a model to the data\n",
    "For a quantitative analysis we usually want to compare the measured data to a theoretical model. This can be done by *fitting* a function to the data. The fit parameters are related to physical parameters.\n",
    "\n",
    "We expect the motion to have a constant acceleration, i.e. the position should be a quadratic function of time."
   ]
  },
  {
   "cell_type": "code",
   "execution_count": null,
   "id": "bf41eea3-46bb-4204-b26e-2081a74c248e",
   "metadata": {},
   "outputs": [],
   "source": [
    "from scipy.optimize import curve_fit\n",
    "\n",
    "\n",
    "def f(t, a, v0, x0):\n",
    "    \"\"\"\n",
    "    Fit function for a motion with constant acceleration.\n",
    "\n",
    "    The parameters are:\n",
    "    t    time\n",
    "    a    acceleration\n",
    "    v0   initial velocity\n",
    "    x0   initial position\n",
    "    The function returns the position at time t.\n",
    "    \"\"\"\n",
    "    return a/2 * t**2 + v0 * t + x0\n",
    "\n",
    "# The method curve_fit returns two lists:\n",
    "# coeff contains the fit parameters\n",
    "# pcov contains the covariance matrix, whose diagonal elements are a measure\n",
    "# of how accurately the fit parameters match the data (see below)\n",
    "coeff, pcov = curve_fit(f, time, pos)\n",
    "a, v0, x0 = coeff # fit parameters are in the order of the function definition"
   ]
  },
  {
   "cell_type": "markdown",
   "id": "e5f4e07a-c28b-4ea2-81c8-f2c6ef8e7ac8",
   "metadata": {},
   "source": [
    "### Visualise data and model"
   ]
  },
  {
   "cell_type": "code",
   "execution_count": null,
   "id": "7ea8ab24-12fb-4e8b-b8c1-9b1a6d77df6c",
   "metadata": {},
   "outputs": [],
   "source": [
    "t = np.linspace(0, max(time), 100) # array with evenly spaced t values\n",
    "x = f(t, a, v0, x0) # array with positions predicted by fit function\n",
    "\n",
    "plt.plot(t, x, color='red', label='square fit')\n",
    "plt.errorbar(time, pos, fmt='.', color='blue', xerr=dt, yerr=dx, label='data')\n",
    "plt.xlabel('time (s)')\n",
    "plt.ylabel('position (cm)')\n",
    "plt.legend()\n",
    "plt.show()"
   ]
  },
  {
   "cell_type": "markdown",
   "id": "e163441e-4a26-429f-9ac4-4cdf27bb25db",
   "metadata": {},
   "source": [
    "#### Residual plot"
   ]
  },
  {
   "cell_type": "markdown",
   "id": "d5774222-5cc8-454c-bb83-da8e29924dda",
   "metadata": {},
   "source": [
    "The model seems to describe the measured data quite accurately. To see even better if the fit function passes through the error ranges of the data points, we can create a _residual plot_, i.e. a plot of the deviation between the data points and the fit function."
   ]
  },
  {
   "cell_type": "code",
   "execution_count": null,
   "id": "2d9dfdaa-0d1c-4e4c-b655-3e6a15921695",
   "metadata": {},
   "outputs": [],
   "source": [
    "res = pos - f(time, a, v0, x0) # calculate residuals (measured - predicted)\n",
    "\n",
    "plt.errorbar(range(1, len(time)+1), res, fmt='.', color='blue', xerr=dt, yerr=dx, capsize=2)\n",
    "plt.xlabel('data point')\n",
    "plt.ylabel('residuals (cm)')\n",
    "plt.grid()\n",
    "plt.show()"
   ]
  },
  {
   "cell_type": "markdown",
   "id": "feeb7793-494f-4f96-bb5b-7dff69805141",
   "metadata": {},
   "source": [
    "The horizontal axis is within the error ranges for all but one data point (no. 6). This is quite convincing evidence that the theoretical model is a good description for the measured data."
   ]
  },
  {
   "cell_type": "markdown",
   "id": "1ba904bc-95a2-4f56-90ca-bccc0e0042ec",
   "metadata": {},
   "source": [
    "### Errors of fit parameters\n",
    "The curve_fit method returns the _covariance matrix_ as a second return value. The diagonal elements are the squared errors for the fit parameters."
   ]
  },
  {
   "cell_type": "code",
   "execution_count": null,
   "id": "0ff4811a-d523-4f72-b2f5-a4ffab0d7810",
   "metadata": {},
   "outputs": [],
   "source": [
    "sq_errors = np.diag(pcov) # assign diagonal elements of covariance matrix\n",
    "da, dv0, dx0 = np.sqrt(sq_errors) # square root corresponds to errors of fit parameters\n",
    "\n",
    "print(f'acceleration:      a = ({a:.2f} ± {da:.2f}) cm/s^2')\n",
    "print(f'initial velocity:  v_0 = ({v0:.2f} ± {dv0:.2f}) cm/s')\n",
    "print(f'initial position:  x_0 = ({x0:.2f} ± {dx0:.2f}) cm')"
   ]
  }
 ],
 "metadata": {
  "language_info": {
   "name": "python",
   "pygments_lexer": "ipython3"
  }
 },
 "nbformat": 4,
 "nbformat_minor": 5
}
