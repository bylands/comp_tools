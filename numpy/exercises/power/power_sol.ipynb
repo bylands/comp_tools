{
 "cells": [
  {
   "cell_type": "markdown",
   "id": "707641d9",
   "metadata": {},
   "source": [
    "# Maximum Power Transfer\n",
    "Investigate the power transferred from a battery to a load resistor with the battery's internal resistance taken into account."
   ]
  },
  {
   "cell_type": "markdown",
   "id": "8c8a9f8b",
   "metadata": {},
   "source": [
    "### Theory\n",
    "The power transferred to the load resistor $R$ is\n",
    "$$P_R = V_R \\cdot I = V_0 \\cdot \\frac{R}{R+r} \\cdot \\frac{V_0}{R+r} = \\frac{V_0 \\cdot R}{\\left(R+r\\right)^2}$$\n",
    "where $V_0$ and $r$ are the source voltage and internal resistance of the battery."
   ]
  },
  {
   "cell_type": "markdown",
   "id": "f074647e",
   "metadata": {},
   "source": [
    "### Qualitative behaviour\n",
    "The power transfer for $R=0$ and for $R\\to\\infty$ is 0, as should be clear from the expression above. It follows that there must be a maximum power transfer $P_\\textrm{max}$ for some load resistance $R_\\textrm{max}$."
   ]
  },
  {
   "cell_type": "markdown",
   "id": "20cd941e",
   "metadata": {},
   "source": [
    "### Numerical analysis\n",
    "For a battery with source voltage 12 V and internal resistance 1.7 $\\Omega$, calculate the power for different values of the load resistor between 0 and 25 $\\Omega$. Graph the power as a function of the load resistance."
   ]
  },
  {
   "cell_type": "code",
   "execution_count": null,
   "id": "dd02ccb2",
   "metadata": {},
   "outputs": [],
   "source": [
    "import matplotlib.pyplot as plt\n",
    "import numpy as np\n",
    "\n",
    "V0 = 12 # source voltage in Volts\n",
    "r = 1.7 # internal resistance in Ohm\n",
    "\n",
    "Rmax = 25 # maximum load resistance in Ohm\n",
    "N = 200 # number of points to calculate\n",
    "R = np.linspace(0, Rmax, N) # load resistance in Ohm\n",
    "P_R = V0 * R / (R + r)**2 # power transferred to the load resistor in Watts\n",
    "\n",
    "fig, ax = plt.subplots()\n",
    "plt.plot(R, P_R)\n",
    "ax.set_title('Power Transfer to Load Resistor')\n",
    "ax.set_ylabel('Power (W)')\n",
    "ax.set_xlabel(r'Load Resistance ($\\Omega$)')\n",
    "ax.grid(True)\n",
    "plt.show()"
   ]
  },
  {
   "cell_type": "markdown",
   "id": "07f55f98",
   "metadata": {},
   "source": [
    "#### Maximum power transfer\n",
    "Find numerical approximations for $P_\\textrm{max}$ and $R_\\textrm{max}$."
   ]
  },
  {
   "cell_type": "code",
   "execution_count": null,
   "id": "0216b9c0",
   "metadata": {},
   "outputs": [],
   "source": [
    "np.argmax(P_R) # index of maximum power transfer\n",
    "Pmax = np.max(P_R) # maximum power transfer in Watts\n",
    "Rmax = R[np.argmax(P_R)] # load resistance for maximum power transfer in Ohm\n",
    "\n",
    "print(f'Maximum Power Transfer: {Pmax:.2f} W at Load Resistance: {Rmax:.2f} Ohm')"
   ]
  },
  {
   "cell_type": "markdown",
   "id": "38ac011c",
   "metadata": {},
   "source": [
    "The accuracy of the approximation can be improved by increasing the number of calculated points. As it turns out, the maximum power transfer is achieved if the load resistance equals the internal resistance: $R=r$."
   ]
  },
  {
   "cell_type": "markdown",
   "id": "891773b8",
   "metadata": {},
   "source": [
    "### Formal prove\n",
    "The power transfer has an extremal point at $R_\\textrm{max}$ if the derivative with respect to $R$ vanishes at this point:\n",
    "$$\\frac{\\textrm{d}P_R}{\\textrm{d}R}=0$$\n",
    "Find the derivative with the help of SymPy and use it to find formal expressions for $R_\\textrm{max}$ and $P_\\textrm{max}$."
   ]
  },
  {
   "cell_type": "code",
   "execution_count": null,
   "id": "642591ea",
   "metadata": {},
   "outputs": [],
   "source": [
    "import sympy as sp\n",
    "\n",
    "P, R, r, V0 = sp.symbols('P R r V0')\n",
    "P = V0 * R / (R + r)**2\n",
    "dP_dR = sp.diff(P, R)  # derivative of power with respect to load resistance\n",
    "R_max = sp.solve(dP_dR, R)[0]  # solve for load resistance at maximum power transfer\n",
    "P_max = P.subs(R, R_max)  # substitute R_max into power equation to find maximum power\n",
    "\n",
    "print(f'Derivative: dP/dR = {dP_dR}')\n",
    "print(f'Formal Expression for Load Resistance at Maximum Power Transfer: R_max = {R_max}')\n",
    "print(f'Formal Expression for Maximum Power Transfer: P_max = {P_max}')"
   ]
  },
  {
   "cell_type": "markdown",
   "id": "282308b0",
   "metadata": {},
   "source": []
  }
 ],
 "metadata": {
  "language_info": {
   "name": "python",
   "pygments_lexer": "ipython3"
  }
 },
 "nbformat": 4,
 "nbformat_minor": 5
}
