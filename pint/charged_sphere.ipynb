{
 "cells": [
  {
   "cell_type": "markdown",
   "id": "05417d10",
   "metadata": {},
   "source": [
    "# Charged Sphere"
   ]
  },
  {
   "cell_type": "code",
   "execution_count": null,
   "id": "8fef3ae2",
   "metadata": {},
   "outputs": [],
   "source": [
    "from pint import UnitRegistry\n",
    "from scipy.constants import electron_mass, elementary_charge"
   ]
  },
  {
   "cell_type": "code",
   "execution_count": null,
   "id": "96f09e85",
   "metadata": {},
   "outputs": [],
   "source": [
    "ureg = UnitRegistry()\n",
    "\n",
    "Q = ureg('-73 nC')\n",
    "e = elementary_charge * ureg('C')\n",
    "me = electron_mass * ureg('kg')\n",
    "\n",
    "Ne = Q/(-e)\n",
    "dm = Ne * me\n",
    "\n",
    "print(f'number of electrons: {Ne.to_base_units():.2e~P}')\n",
    "print(f'mass transfer: {dm.to_base_units():.2e~P}')"
   ]
  }
 ],
 "metadata": {
  "language_info": {
   "name": "python",
   "pygments_lexer": "ipython3"
  }
 },
 "nbformat": 4,
 "nbformat_minor": 5
}
