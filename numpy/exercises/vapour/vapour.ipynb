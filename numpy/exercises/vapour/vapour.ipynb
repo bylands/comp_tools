{
 "cells": [
  {
   "cell_type": "markdown",
   "metadata": {},
   "source": [
    "# Vapour Pressure and Density\n",
    "The pressure and density of saturated water vapour as a function of temperature is listed in *Formulae, Tables, Concept* (p 192)."
   ]
  },
  {
   "cell_type": "code",
   "execution_count": null,
   "metadata": {},
   "outputs": [],
   "source": [
    "import numpy as np\n",
    "\n",
    "# read tabulated values\n",
    "# temperature in °C, pressure in kPa, density in kg/m^3\n",
    "temperature, pressure, density = np.loadtxt('vapour.txt', delimiter=',', skiprows=1, unpack=True)"
   ]
  },
  {
   "cell_type": "markdown",
   "metadata": {},
   "source": [
    "#### Interpolating values\n",
    "Find the interpolated value for\n",
    "- the vapour pressure at 115°C.\n",
    "- the vapour saturation density at 37°C.\n",
    "- the temperature for a vapour pressure of 0.8 bar.\n",
    "- the vapour pressure at a saturation density of 250 g/cm^3"
   ]
  },
  {
   "cell_type": "code",
   "execution_count": null,
   "metadata": {},
   "outputs": [],
   "source": [
    "print(f'vapour pressure at 115 °C: {np.interp(115, temperature, pressure):.1f} kPa')\n",
    "print(f'saturation density at 37 °C: {np.interp(37, temperature, density)*1000:.1f} g/m^3')\n",
    "print(f'temperature for vapour pressure 0.8 bar: {np.interp(80, pressure, temperature):.1f} °C')\n",
    "print(f'vapour pressure at saturation density 250 g/cm^3: {np.interp(0.25, density, pressure):.1f} kPa')"
   ]
  },
  {
   "cell_type": "markdown",
   "metadata": {},
   "source": [
    "#### Relative humidity\n",
    "The relative humidity is the ratio of the current density of water vapour in air to the saturation density at the current temperature. Define a function that calculates the relative humidity for given vapour density and temperature."
   ]
  },
  {
   "cell_type": "code",
   "execution_count": null,
   "metadata": {},
   "outputs": [],
   "source": [
    "def rel_hum(vapour_density, temperature):\n",
    "    \"\"\"\n",
    "    Calculate the relative humidity.\n",
    "\n",
    "    Parameters:\n",
    "    vapour_density (float): Current density of water vapour in kg/m^3.\n",
    "    temperature (float): Current temperature in °C.\n",
    "   \n",
    "    Returns:\n",
    "    float: Relative humidity as a percentage.\n",
    "    \"\"\"\n",
    "    t, p, d = np.loadtxt('vapour.txt', delimiter=',', skiprows=1, unpack=True)\n",
    "\n",
    "    saturation_density = np.interp(temperature, t, d)\n",
    "    return (vapour_density / saturation_density)"
   ]
  },
  {
   "cell_type": "markdown",
   "metadata": {},
   "source": [
    "As an example, calculate the relative humidity in a room with volume 75 m^3 containing 530 g of water vapour at a temperature of 21°C."
   ]
  },
  {
   "cell_type": "code",
   "execution_count": null,
   "metadata": {},
   "outputs": [],
   "source": [
    "V = 75  # volume in m^3\n",
    "m = 0.53  # mass of water vapour in kg\n",
    "vapour_density = m / V  # density in kg/m^3\n",
    "temperature = 21  # temperature in °C\n",
    "\n",
    "relative_humidity = rel_hum(vapour_density, temperature)\n",
    "print(f'Relative humidity: {relative_humidity:.1%}')"
   ]
  },
  {
   "cell_type": "code",
   "execution_count": null,
   "metadata": {},
   "outputs": [],
   "source": []
  }
 ],
 "metadata": {
  "language_info": {
   "name": "python",
   "pygments_lexer": "ipython3"
  }
 },
 "nbformat": 4,
 "nbformat_minor": 2
}
