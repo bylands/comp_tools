{
 "cells": [
  {
   "cell_type": "markdown",
   "id": "609a54aa-c88a-40e5-9f32-ff10645eef75",
   "metadata": {},
   "source": [
    "## Light Bulb\n",
    "A simple light bulb has a nonlinear current vs voltage characteristic, whereas the resistance vs. current characteristic is (approximately) linear. Investigate these relations using experimental data.\n",
    "\n",
    "With $R = R_0 + k I$ it follows for the voltage:\n",
    "\n",
    "$V = R I = (R_0 + k I) I = R_0 I + k I^2$\n",
    "\n",
    "It follows for the current as a function of the voltage:\n",
    "\n",
    "$I = \\frac{-R_0 \\pm \\sqrt{R_0^2+4 k V}}{2 k}$\n",
    "\n",
    "The positive sign has to be taken for a positive current."
   ]
  },
  {
   "cell_type": "code",
   "execution_count": null,
   "id": "624e75ec-bb4f-4c75-b9a0-b80434e7f794",
   "metadata": {},
   "outputs": [],
   "source": [
    "import numpy as np\n",
    "\n",
    "# voltage in V\n",
    "V = np.array([2, 4, 6, 8, 10, 12, 14, 16, 18, 20, 22, 24])\n",
    "dV = 0.05 # voltage uncertainty in V\n",
    "\n",
    "# current in mA\n",
    "I = np.array([27.7, 41.6, 53.1, 62.6, 71.8, 80.2, \n",
    "              87.8, 96.0, 102.0, 108.4, 114.9, 120.9])\n",
    "dI = 0.5 # current uncertainty in mA"
   ]
  },
  {
   "cell_type": "markdown",
   "id": "69310305",
   "metadata": {},
   "source": [
    "#### Resistance values\n",
    "Calculate the resistance values and their uncertainties from the measured voltage and current values."
   ]
  },
  {
   "cell_type": "code",
   "execution_count": null,
   "id": "7e4fe397",
   "metadata": {},
   "outputs": [],
   "source": []
  },
  {
   "cell_type": "markdown",
   "id": "7d429ddb-74d9-4bc9-963e-466862c0eb76",
   "metadata": {},
   "source": [
    "#### Resistance vs Current\n",
    "Fit a linear function to the resistance vs current data and verify the quality of the fit with a resistance vs current graph."
   ]
  },
  {
   "cell_type": "code",
   "execution_count": null,
   "id": "1c97be44-3a76-416b-b8b9-4cb40e4d03da",
   "metadata": {},
   "outputs": [],
   "source": []
  },
  {
   "cell_type": "markdown",
   "id": "bd44bea2-03dc-4823-bd88-4e5ba9f8627c",
   "metadata": {},
   "source": [
    "#### Current vs Voltage\n",
    "Using the fit parameters from the fit above, calculate the expected current values. Graph the expected current values vs voltage and compare them to the measured values. Discuss the quality of the prediction with a residual plot."
   ]
  },
  {
   "cell_type": "code",
   "execution_count": null,
   "id": "ac594eba-ec9f-44f7-9c94-f5a7c5c82cc6",
   "metadata": {},
   "outputs": [],
   "source": []
  }
 ],
 "metadata": {
  "language_info": {
   "name": "python",
   "pygments_lexer": "ipython3"
  }
 },
 "nbformat": 4,
 "nbformat_minor": 5
}
