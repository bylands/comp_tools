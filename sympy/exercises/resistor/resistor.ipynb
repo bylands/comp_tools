{
 "cells": [
  {
   "cell_type": "markdown",
   "id": "119c06dd-0f00-4a3e-9716-d82658753776",
   "metadata": {},
   "source": [
    "# Resistor\n",
    "A resistor is rated as 1.5 kOhm and 0.5 W."
   ]
  },
  {
   "cell_type": "markdown",
   "id": "c2996c2a-7ed4-4269-9eac-0dc4fbf9c78b",
   "metadata": {},
   "source": [
    "#### Maximum voltage and current\n",
    "Find formal expressions for the voltage and current as functions of the resistance and the power dissipated in the resistor."
   ]
  },
  {
   "cell_type": "code",
   "execution_count": null,
   "id": "b3289969-6562-4e81-8481-7514db34d607",
   "metadata": {},
   "outputs": [],
   "source": []
  },
  {
   "cell_type": "markdown",
   "id": "d271fa5d",
   "metadata": {},
   "source": [
    "Calculate the maximum values for voltage and current such that the power rating is not exceeded."
   ]
  },
  {
   "cell_type": "code",
   "execution_count": null,
   "id": "bce39850-8609-411b-9899-51143619a051",
   "metadata": {},
   "outputs": [],
   "source": []
  }
 ],
 "metadata": {
  "language_info": {
   "name": "python",
   "pygments_lexer": "ipython3"
  }
 },
 "nbformat": 4,
 "nbformat_minor": 5
}
