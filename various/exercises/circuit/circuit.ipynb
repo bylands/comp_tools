{
 "cells": [
  {
   "cell_type": "markdown",
   "id": "af35ee5a-2daa-4348-b653-1040811b3bf6",
   "metadata": {},
   "source": [
    "# Circuit\n",
    "Meters are used to measure the voltage and the current for an electric circuit. The measured values (with errors) are (12.32 ± 0.01) V and (37.4 ± 0.2) mA."
   ]
  },
  {
   "cell_type": "markdown",
   "id": "a3d48c42-1dd7-4d49-91b5-b80d9cc34974",
   "metadata": {},
   "source": [
    "#### Resistance\n",
    "Calculate the reistance (including error)."
   ]
  },
  {
   "cell_type": "code",
   "execution_count": null,
   "id": "fa463509-6126-405a-9767-07c72d38a389",
   "metadata": {},
   "outputs": [],
   "source": []
  },
  {
   "cell_type": "markdown",
   "id": "512e0869-724e-44d6-b111-65f6392e59b7",
   "metadata": {},
   "source": [
    "#### Power\n",
    "Calculate the power dissipated in the circuit (including its error)."
   ]
  },
  {
   "cell_type": "code",
   "execution_count": null,
   "id": "209697eb-5c0c-4cb6-b112-4929e9a75343",
   "metadata": {},
   "outputs": [],
   "source": []
  },
  {
   "cell_type": "markdown",
   "id": "089e0b77",
   "metadata": {},
   "source": [
    "#### Capacity\n",
    "How long can the circuit run on a battery with capacity (17000 ± 100) mAh?"
   ]
  },
  {
   "cell_type": "code",
   "execution_count": null,
   "id": "efe0346a",
   "metadata": {},
   "outputs": [],
   "source": []
  }
 ],
 "metadata": {
  "language_info": {
   "name": "python",
   "pygments_lexer": "ipython3"
  }
 },
 "nbformat": 4,
 "nbformat_minor": 5
}
