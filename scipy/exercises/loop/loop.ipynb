{
 "cells": [
  {
   "cell_type": "markdown",
   "id": "609a54aa-c88a-40e5-9f32-ff10645eef75",
   "metadata": {},
   "source": [
    "## Magnetic Field of a Current Loop\n",
    "The magnetic field along the axis perpendicular to the centre of a circular current loop is given by\n",
    "\n",
    "$B(z) = \\frac{\\mu_0 N I}{2} \\frac{r^2}{\\left(r^2 + z^2\\right)^{3/2}}$\n",
    "\n",
    "where $r$ is the radius of the loop, $I$ the current through the loop, and $z$ the distance of a point on the axis from the centre of the loop.\n",
    "\n",
    "The data below was measured with a Hall sensor for a coil with $N = 10$ turns, radius $r$ = (10.0 ± 0.2) cm and a current $I$ = (9.50 ± 0.02) A."
   ]
  },
  {
   "cell_type": "code",
   "execution_count": null,
   "id": "624e75ec-bb4f-4c75-b9a0-b80434e7f794",
   "metadata": {},
   "outputs": [],
   "source": [
    "import numpy as np\n",
    "\n",
    "# distance to centre in m, \n",
    "z = np.array([0, 20, 40, 60, 80, 100, 120, 160, 200]) * 1e-3\n",
    "dz = 5e-3 # uncertainty for z\n",
    "\n",
    "# magnetic field in T\n",
    "B = np.array([5.8, 5.3, 4.7, 3.6, 2.8, 2.0, 1.3, 0.8, 0.5]) * 1e-4\n",
    "dB = 10e-6 # uncertainty for B"
   ]
  },
  {
   "cell_type": "markdown",
   "id": "38898631-fa81-4da3-94c0-eb2e826748a3",
   "metadata": {},
   "source": [
    "Verify the theoretical expression with the measured data. Derive the best fit value for the magnetic permeability $\\mu_0$."
   ]
  },
  {
   "cell_type": "code",
   "execution_count": null,
   "id": "1c97be44-3a76-416b-b8b9-4cb40e4d03da",
   "metadata": {},
   "outputs": [],
   "source": []
  },
  {
   "cell_type": "markdown",
   "id": "b131654a-0ab9-4adb-9d68-00870e617a47",
   "metadata": {},
   "source": [
    "#### Residual plot\n",
    "Add a residual plot to verify the quality of the fit."
   ]
  },
  {
   "cell_type": "code",
   "execution_count": null,
   "id": "7719a0c6",
   "metadata": {},
   "outputs": [],
   "source": []
  }
 ],
 "metadata": {
  "language_info": {
   "name": "python",
   "pygments_lexer": "ipython3"
  }
 },
 "nbformat": 4,
 "nbformat_minor": 5
}
