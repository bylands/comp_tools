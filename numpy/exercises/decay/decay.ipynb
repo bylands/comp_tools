{
 "cells": [
  {
   "cell_type": "markdown",
   "metadata": {},
   "source": [
    "# Exercise: Simulating Radioactive Decay\n",
    "\n",
    "Radioactive decay is a process where an unstable atomic nucleus loses energy by radiation. This process is fundamentally probabilistic. For a single unstable nucleus, we can only know the *probability* that it will decay in a given time interval; we can never know for sure *when* it will decay.\n",
    "\n",
    "In this exercise, we will use `numpy.random` to simulate the decay of a large sample of radioactive nuclei."
   ]
  },
  {
   "cell_type": "markdown",
   "metadata": {},
   "source": [
    "## Decay law\n",
    "\n",
    "The probability $p$ that a single nucleus will decay in a small time interval $dt$ is given by:\n",
    "\n",
    "$$p = \\lambda \\cdot dt$$\n",
    "\n",
    "where $\\lambda$ is the decay constant. The number of nuclei $N$ at a time $t$ is described by the equation:\n",
    "\n",
    "$$N(t) = N_0 e^{-\\lambda t}$$\n",
    "\n",
    "where $N_0$ is the initial number of nuclei."
   ]
  },
  {
   "cell_type": "markdown",
   "metadata": {},
   "source": [
    "### Set up the simulation parameters\n",
    "\n",
    "Define the initial number of nuclei $N_0$, the decay constant $\\lambda$, the total simulation time $T$, and the time step $dt$."
   ]
  },
  {
   "cell_type": "code",
   "execution_count": null,
   "metadata": {},
   "outputs": [],
   "source": []
  },
  {
   "cell_type": "markdown",
   "metadata": {},
   "source": [
    "### Run the simulation\n",
    "\n",
    "Create an array to store the number of surviving nuclei at each time step. Then, loop through the time steps and simulate the decay process."
   ]
  },
  {
   "cell_type": "code",
   "execution_count": null,
   "metadata": {},
   "outputs": [],
   "source": []
  },
  {
   "cell_type": "markdown",
   "metadata": {},
   "source": [
    "### Plot the results\n",
    "\n",
    "Plot the simulated number of nuclei over time. For comparison, also plot the theoretical decay curve."
   ]
  },
  {
   "cell_type": "code",
   "execution_count": null,
   "metadata": {},
   "outputs": [],
   "source": []
  },
  {
   "cell_type": "code",
   "execution_count": null,
   "metadata": {},
   "outputs": [],
   "source": []
  }
 ],
 "metadata": {
  "language_info": {
   "name": "python",
   "pygments_lexer": "ipython3"
  }
 },
 "nbformat": 4,
 "nbformat_minor": 2
}
