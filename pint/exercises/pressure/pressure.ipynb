{
 "cells": [
  {
   "cell_type": "markdown",
   "id": "2406812b",
   "metadata": {},
   "source": [
    "# Pressure\n",
    "In some cases, pressure is commonly expressed in *pounds per square inch* (psi), e.g. for the pressure in tires. In this context, *pound* refers to *pound-force*, i.e. the gravitational force corresponding to one pound of mass.\n",
    "\n",
    "Using *Pint*, find the conversion factor from psi to pascal by converting pound-force and inch to SI units. Compare the result to the direct conversion from psi to pascal."
   ]
  },
  {
   "cell_type": "code",
   "execution_count": null,
   "id": "54b74485",
   "metadata": {},
   "outputs": [],
   "source": []
  },
  {
   "cell_type": "markdown",
   "id": "d792ae0b",
   "metadata": {},
   "source": [
    "### Tire pressure\n",
    "For a medium car, the pressure should usually be about 36 psi. Calculate the force acting on 1 cm^2 of the tire."
   ]
  },
  {
   "cell_type": "code",
   "execution_count": null,
   "id": "a360ae18",
   "metadata": {},
   "outputs": [],
   "source": []
  },
  {
   "cell_type": "code",
   "execution_count": null,
   "id": "4b1d3e7b",
   "metadata": {},
   "outputs": [],
   "source": []
  }
 ],
 "metadata": {
  "language_info": {
   "name": "python",
   "pygments_lexer": "ipython3"
  }
 },
 "nbformat": 4,
 "nbformat_minor": 5
}
