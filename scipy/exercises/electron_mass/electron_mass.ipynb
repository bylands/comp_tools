{
 "cells": [
  {
   "cell_type": "markdown",
   "id": "119c06dd-0f00-4a3e-9716-d82658753776",
   "metadata": {},
   "source": [
    "# Charge and Mass\n",
    "An object is charged with +230 nC. Calculate how its mass changes due to the electrons taken away. Use the values for electron charge and mass in scipy.constants."
   ]
  },
  {
   "cell_type": "code",
   "execution_count": null,
   "id": "7d0bcfbe-814f-4b05-969d-2d404e558124",
   "metadata": {},
   "outputs": [],
   "source": []
  }
 ],
 "metadata": {
  "language_info": {
   "name": "python",
   "pygments_lexer": "ipython3"
  }
 },
 "nbformat": 4,
 "nbformat_minor": 5
}
