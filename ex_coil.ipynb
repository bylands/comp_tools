{
 "cells": [
  {
   "cell_type": "markdown",
   "id": "f908e83f-c74d-4df7-bf20-e322c278f67f",
   "metadata": {},
   "source": [
    "# Exercises: Data Analysis with Python"
   ]
  },
  {
   "cell_type": "code",
   "execution_count": null,
   "id": "35652243-4b25-485c-8cfa-ef147037e78a",
   "metadata": {},
   "outputs": [],
   "source": [
    "import numpy as np\n",
    "import matplotlib.pyplot as plt\n",
    "\n",
    "from scipy.optimize import curve_fit\n",
    "from scipy.constants import mu_0"
   ]
  },
  {
   "cell_type": "markdown",
   "id": "609a54aa-c88a-40e5-9f32-ff10645eef75",
   "metadata": {},
   "source": [
    "## Magnetic Coil\n",
    "Five electromagnets consist of coils with the same dimensions (length and diameter), but have different numbers of turns. The strength of the magnetic field at the centre of the coils is measured for a current of (1.00 ± 0.01) A."
   ]
  },
  {
   "cell_type": "code",
   "execution_count": null,
   "id": "624e75ec-bb4f-4c75-b9a0-b80434e7f794",
   "metadata": {},
   "outputs": [],
   "source": [
    "# number of turns\n",
    "N = np.array([75, 300, 600, 900, 1200])\n",
    "\n",
    "# magnetic field in mT\n",
    "B = np.array([1.194, 4.759, 9.269, 13.719, 18.889])"
   ]
  },
  {
   "cell_type": "markdown",
   "id": "38898631-fa81-4da3-94c0-eb2e826748a3",
   "metadata": {},
   "source": [
    "The theoretical value for the magnetic field at the centre of the coil is:\n",
    "\n",
    "$B = \\mu_0\\frac{N I}{\\sqrt{L^2 + d^2}}$\n",
    "\n",
    "where $L$ is the length and $d$ the diameter of the coil.\n",
    "\n",
    "Using the measured data, verify if the magnetic field is proportional to the number of turns and determine the fit parameter."
   ]
  },
  {
   "cell_type": "code",
   "execution_count": null,
   "id": "1c97be44-3a76-416b-b8b9-4cb40e4d03da",
   "metadata": {},
   "outputs": [],
   "source": [
    "def linear(x, m):\n",
    "    return m * x\n",
    "\n",
    "coeff, pcov = curve_fit(linear, N, B)\n",
    "m = coeff[0]\n",
    "dm = np.sqrt(pcov[0, 0])\n",
    "\n",
    "N_range = np.linspace(0, max(N), 100)\n",
    "B_fit = linear(N_range, m)\n",
    "\n",
    "plt.errorbar(N, B, yerr=dB, fmt='.', label='measured data')\n",
    "plt.plot(N_range, B_fit, label='linear fit')\n",
    "plt.xlabel('N (turns)')\n",
    "plt.ylabel('B (mT)')\n",
    "plt.grid()\n",
    "plt.legend()\n",
    "plt.show()"
   ]
  },
  {
   "cell_type": "code",
   "execution_count": null,
   "id": "920cadd6-d79f-440c-ada8-0b8b0bb3176e",
   "metadata": {},
   "outputs": [],
   "source": [
    "print(f'The fit parameter is ({m:.5f} ± {dm:.5f}) mT/turn = ({m*1000:.2f} ± {dm*1000:.2f}) µT/turn')"
   ]
  },
  {
   "cell_type": "markdown",
   "id": "bd44bea2-03dc-4823-bd88-4e5ba9f8627c",
   "metadata": {},
   "source": [
    "The length of the coils is (60 ± 1) mm and the diameter (56 ± 1) mm. Calculate the expected ratio B/N and compare it to the fit parameter."
   ]
  },
  {
   "cell_type": "code",
   "execution_count": null,
   "id": "ac594eba-ec9f-44f7-9c94-f5a7c5c82cc6",
   "metadata": {},
   "outputs": [],
   "source": [
    "L = 60e-3\n",
    "d = 56e-3\n",
    "\n",
    "dL = dd = 1e-3\n",
    "\n",
    "m_exp = mu_0 / np.sqrt(L**2 + d**2)\n",
    "\n",
    "Lmin = L - dL\n",
    "dmin = d - dd\n",
    "\n",
    "m_exp_max = mu_0 / np.sqrt(Lmin**2 + dmin**2)\n",
    "dm_exp = m_exp_max - m_exp\n",
    "\n",
    "print(f'The expected ratio is B/N = ({m_exp:.2E} ± {dm_exp:.2E}) T/turn'\n",
    "      + f'= ({m_exp*1e6:.2f} ± {dm_exp*1e6:.2f}) µT/turn')"
   ]
  },
  {
   "cell_type": "markdown",
   "id": "0cc4df6d-ae74-449d-b5f6-b54fe7c532e3",
   "metadata": {},
   "source": [
    "This is in good agreement with the fit parameter."
   ]
  }
 ],
 "metadata": {
  "language_info": {
   "name": "python",
   "pygments_lexer": "ipython3"
  }
 },
 "nbformat": 4,
 "nbformat_minor": 5
}
