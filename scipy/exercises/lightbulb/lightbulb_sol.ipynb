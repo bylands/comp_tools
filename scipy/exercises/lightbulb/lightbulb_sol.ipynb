{
 "cells": [
  {
   "cell_type": "markdown",
   "id": "609a54aa-c88a-40e5-9f32-ff10645eef75",
   "metadata": {},
   "source": [
    "## Light Bulb\n",
    "A simple light bulb has a nonlinear current vs voltage characteristic, whereas the resistance vs. current characteristic is (approximately) linear. Investigate these relations using experimental data.\n",
    "\n",
    "With $R = R_0 + k I$ it follows for the voltage:\n",
    "\n",
    "$V = R I = (R_0 + k I) I = R_0 I + k I^2$\n",
    "\n",
    "It follows for the current as a function of the voltage:\n",
    "\n",
    "$I = \\frac{-R_0 \\pm \\sqrt{R_0^2+4 k V}}{2 k}$\n",
    "\n",
    "The positive sign has to be taken for a positive current."
   ]
  },
  {
   "cell_type": "code",
   "execution_count": null,
   "id": "624e75ec-bb4f-4c75-b9a0-b80434e7f794",
   "metadata": {},
   "outputs": [],
   "source": [
    "import numpy as np\n",
    "\n",
    "# voltage in V\n",
    "V = np.array([2, 4, 6, 8, 10, 12, 14, 16, 18, 20, 22, 24])\n",
    "dV = 0.05\n",
    "\n",
    "# current in mA\n",
    "I = np.array([27.7, 41.6, 53.1, 62.6, 71.8, 80.2, \n",
    "              87.8, 96.0, 102.0, 108.4, 114.9, 120.9])\n",
    "dI = 0.5"
   ]
  },
  {
   "cell_type": "markdown",
   "id": "b449693e",
   "metadata": {},
   "source": [
    "#### Resistance values\n",
    "Calculate the resistance values and their uncertainties from the measured voltage and current values."
   ]
  },
  {
   "cell_type": "code",
   "execution_count": null,
   "id": "5ee9e441",
   "metadata": {},
   "outputs": [],
   "source": [
    "# resistance R = V/I in kΩ\n",
    "R = V/I\n",
    "\n",
    "# error of resistance\n",
    "Vmax = V + dV\n",
    "Imin = I - dI\n",
    "\n",
    "Rmax = Vmax/Imin\n",
    "dR = Rmax - R"
   ]
  },
  {
   "cell_type": "markdown",
   "id": "7d429ddb-74d9-4bc9-963e-466862c0eb76",
   "metadata": {},
   "source": [
    "#### Resistance vs Current\n",
    "Fit a linear function to the resistance vs current data and verify the quality of the fit with a resistance vs current graph."
   ]
  },
  {
   "cell_type": "code",
   "execution_count": null,
   "id": "1c97be44-3a76-416b-b8b9-4cb40e4d03da",
   "metadata": {},
   "outputs": [],
   "source": [
    "import matplotlib.pyplot as plt\n",
    "from scipy.optimize import curve_fit\n",
    "\n",
    "\n",
    "def linear(x, k, R0):\n",
    "    return k * x + R0\n",
    "\n",
    "coeff, pcov = curve_fit(linear, I, R)\n",
    "k, R0 = coeff\n",
    "\n",
    "I_range = np.linspace(0, max(I), 100)\n",
    "R_fit = linear(I_range, k, R0)\n",
    "\n",
    "fig, ax = plt.subplots()\n",
    "ax.errorbar(I, R, xerr=dI, yerr=dR, fmt='.', capsize=2, label='measured data')\n",
    "ax.plot(I_range, R_fit, label='linear fit')\n",
    "ax.set_title('Resistance vs Current')\n",
    "ax.set_xlabel('I (mA)')\n",
    "ax.set_ylabel('R (kΩ)')\n",
    "ax.grid(True)\n",
    "ax.legend()\n",
    "plt.show()"
   ]
  },
  {
   "cell_type": "markdown",
   "id": "bd44bea2-03dc-4823-bd88-4e5ba9f8627c",
   "metadata": {},
   "source": [
    "#### Current vs Voltage\n",
    "Using the fit parameters from the fit above, calculate the expected current values. Graph the expected current values vs voltage and compare them to the measured values. Discuss the quality of the prediction with a residual plot."
   ]
  },
  {
   "cell_type": "code",
   "execution_count": null,
   "id": "ac594eba-ec9f-44f7-9c94-f5a7c5c82cc6",
   "metadata": {},
   "outputs": [],
   "source": [
    "V_range = np.linspace(1, max(V), 100)\n",
    "\n",
    "I_fit = (-R0 + np.sqrt(R0**2 + 4*k*V_range))/(2*k)\n",
    "\n",
    "fig, ax = plt.subplots()\n",
    "ax.errorbar(V, I, xerr=dV, yerr=dI, fmt='.', capsize=2, label='measured data')\n",
    "ax.plot(V_range, I_fit, label='fit')\n",
    "ax.set_title('Current vs Voltage')\n",
    "ax.set_xlabel('V (V)')\n",
    "ax.set_ylabel('I (mA)')\n",
    "ax.grid(True)\n",
    "ax.legend()\n",
    "plt.show()"
   ]
  },
  {
   "cell_type": "code",
   "execution_count": null,
   "id": "21880a5d-2386-4845-bcf8-9760dc944065",
   "metadata": {},
   "outputs": [],
   "source": [
    "res = I - (-R0 + np.sqrt(R0**2 + 4*k*V))/(2*k)\n",
    "n = range(1, len(res)+1)\n",
    "\n",
    "fig, ax = plt.subplots()\n",
    "ax.errorbar(n, res, yerr=dI, capsize=2, fmt='.')\n",
    "ax.set_xlabel('# of data point')\n",
    "ax.set_ylabel('residual (mA)')\n",
    "ax.grid()\n",
    "plt.show()"
   ]
  }
 ],
 "metadata": {
  "language_info": {
   "name": "python",
   "pygments_lexer": "ipython3"
  }
 },
 "nbformat": 4,
 "nbformat_minor": 5
}
