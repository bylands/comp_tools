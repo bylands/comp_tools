{
 "cells": [
  {
   "cell_type": "markdown",
   "id": "119c06dd-0f00-4a3e-9716-d82658753776",
   "metadata": {},
   "source": [
    "# Solving Equations with SymPy\n",
    "*SymPy* can be used to find formal solutions to a large number of equations or systems of equations."
   ]
  },
  {
   "cell_type": "markdown",
   "id": "3d0a39b1-7aac-4525-a914-bf5b24089195",
   "metadata": {},
   "source": [
    "## Solve() with expressions\n",
    "By default, expressions are assumed to be equal to zero. An equation like $f(x) = g(x)$ can be turned into an expression $f(x) - g(x)$."
   ]
  },
  {
   "cell_type": "code",
   "execution_count": null,
   "id": "7d0bcfbe-814f-4b05-969d-2d404e558124",
   "metadata": {},
   "outputs": [],
   "source": [
    "import sympy as sp\n",
    "\n",
    "x = sp.symbols('x')\n",
    "\n",
    "# solve the equation 2x = 3 for x\n",
    "exp1 = 2 * x - 3\n",
    "sol1 = sp.solve(exp1, x)\n",
    "# solve() returns a list of solutions, even if there is only one solution\n",
    "display(sol1[0]) # display the first (in this case only) solution"
   ]
  },
  {
   "cell_type": "code",
   "execution_count": null,
   "id": "c9dce1eb",
   "metadata": {},
   "outputs": [],
   "source": [
    "# solve the quadratic equation ax^2 + bx + c = 0 for x\n",
    "a, b, c = sp.symbols('a b c')\n",
    "exp2 = a * x**2 + b * x + c\n",
    "sol2 = sp.solve(exp2, x)\n",
    "# display all solutions\n",
    "for sol in sol2:\n",
    "    display(sol)\n",
    "\n",
    "# apply general solution to specific values of a, b, c\n",
    "vals = {a: 1, b: -3, c: 2}\n",
    "sol2_vals = [sol.subs(vals) for sol in sol2]\n",
    "# display the specific solutions\n",
    "for sol in sol2_vals:\n",
    "    display(sol)"
   ]
  },
  {
   "cell_type": "code",
   "execution_count": null,
   "id": "084afb26",
   "metadata": {},
   "outputs": [],
   "source": [
    "\n",
    "# solve the equation sin(x) = cos(2x) for x\n",
    "exp3 = sp.sin(x) - sp.cos(2*x)\n",
    "\n",
    "# solve() ignores the periodicity of trigonometric functions\n",
    "# and returns a list of solutions, even if there are infinitely many\n",
    "# solutions (e.g., for sin(x) = 0, the solutions are x = n*pi for n in Z)\n",
    "sol3a = sp.solve(exp3, x)\n",
    "for sol in sol3a:\n",
    "    display(sol)\n",
    "\n",
    "# solveset() can be used to find all solutions in a given domain\n",
    "sol3b = sp.solveset(exp3, x) # solve the equation sin(x) = cos(x) for x using solveset\n",
    "display(sol3b)"
   ]
  },
  {
   "cell_type": "code",
   "execution_count": null,
   "id": "1837ceb1",
   "metadata": {},
   "outputs": [],
   "source": [
    "z = sp.Symbol('z')\n",
    "x = sp.Symbol('x', real=True)\n",
    "\n",
    "# solve the equation z^3 + 1 = 0 for z, where z can be comples\n",
    "exp4a = z**3 + 1\n",
    "sol4a = sp.solve(exp4a, z)\n",
    "print(\"Solutions for z^3 + 1 = 0:\")\n",
    "for sol in sol4a:\n",
    "    display(sol)\n",
    "\n",
    "#solve the equation x^3 + 1 = 0 for x, where x is real\n",
    "exp4b = x**3 + 1\n",
    "sol4b = sp.solve(exp4b, x)\n",
    "print(\"Solutions for x^3 + 1 = 0:\")\n",
    "for sol in sol4b:\n",
    "    display(sol)"
   ]
  },
  {
   "cell_type": "markdown",
   "id": "1684e751",
   "metadata": {},
   "source": [
    "## Equations\n",
    "Equations can also be defined using the method *Eq()* with the left and right hand sides of the equation as arguments."
   ]
  },
  {
   "cell_type": "code",
   "execution_count": null,
   "id": "6a54565c-0a73-4c59-b8c8-30961586d0c8",
   "metadata": {},
   "outputs": [],
   "source": [
    "x, a, b = sp.symbols('x a b')\n",
    "# define equation e^(2x) = 3x + 2\n",
    "eq1 = sp.Eq(sp.exp(a*x), b)\n",
    "display(sp.solve(eq1, x)[0])"
   ]
  },
  {
   "cell_type": "markdown",
   "id": "8747b04d-5125-4cd8-b215-b06d95316147",
   "metadata": {},
   "source": [
    "### Systems of equations\n",
    "For systems of equations, both the equations and the variables for which the system should be solved are passed to the solve() method as lists."
   ]
  },
  {
   "cell_type": "code",
   "execution_count": null,
   "id": "286221e9-ac6d-4032-9e07-9ae15683c0b2",
   "metadata": {},
   "outputs": [],
   "source": [
    "# solve a system of two linear equations\n",
    "x, y = sp.symbols('x y')\n",
    "# define system of equations\n",
    "eq1 = sp.Eq(x + 2*y, 2)\n",
    "eq2 = sp.Eq(x - y, 4)\n",
    "# solve system of equations\n",
    "sol_sys = sp.solve([eq1, eq2], [x, y])\n",
    "display(sol_sys)"
   ]
  },
  {
   "cell_type": "code",
   "execution_count": null,
   "id": "eaa23785",
   "metadata": {},
   "outputs": [],
   "source": [
    "# solve a system of two linear equations with parameters\n",
    "x, y, a, b = sp.symbols('x y a b')\n",
    "# define system of equations\n",
    "eq1 = sp.Eq(x + 2*y, a)\n",
    "eq2 = sp.Eq(2*x - y, b)\n",
    "# solve system of equations\n",
    "sol_sys2 = sp.solve([eq1, eq2], [x, y])\n",
    "display(sol_sys2)"
   ]
  },
  {
   "cell_type": "code",
   "execution_count": null,
   "id": "366c3424",
   "metadata": {},
   "outputs": [],
   "source": [
    "# solve a system of two nonlinear equations\n",
    "x, y = sp.symbols('x y')\n",
    "# define system of equations\n",
    "eq1 = sp.Eq(x**2 + y**2, 13)\n",
    "eq2 = sp.Eq(x**3 - y, 5)\n",
    "# solve system of equations\n",
    "sol_sys_nonlinear = sp.solve([eq1, eq2], [x, y], dict=True)\n",
    "display(sol_sys_nonlinear)"
   ]
  },
  {
   "cell_type": "code",
   "execution_count": null,
   "id": "bd4cffe4",
   "metadata": {},
   "outputs": [],
   "source": [
    "# some systems cannot be solved symbolically, but only numerically\n",
    "\n",
    "x, y = sp.symbols('x y')\n",
    "# define system of equations\n",
    "eq1 = sp.Eq(sp.sin(2*x), -y**2)\n",
    "eq2 = sp.Eq(sp.cos(x**2), y)\n",
    "\n",
    "# try to solve the system symbolically\n",
    "try:\n",
    "    sol_sys_nonlinear_symbolic = sp.solve([eq1, eq2], [x, y])\n",
    "    display(sol_sys_nonlinear_symbolic)\n",
    "except NotImplementedError as e:\n",
    "    print(\"Symbolic solution failed:\", e)\n",
    "\n",
    "# solve the system numerically with initial guesses for x and y\n",
    "sol_sys_nonlinear_numeric = sp.nsolve([eq1, eq2], [x, y], [-1, 1])\n",
    "display(sol_sys_nonlinear_numeric)"
   ]
  }
 ],
 "metadata": {
  "language_info": {
   "name": "python",
   "pygments_lexer": "ipython3"
  }
 },
 "nbformat": 4,
 "nbformat_minor": 5
}
