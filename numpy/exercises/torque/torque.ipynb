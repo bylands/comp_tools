{
 "cells": [
  {
   "cell_type": "markdown",
   "id": "a5206cc1-0493-4c96-a525-ef81ecdc1d7a",
   "metadata": {},
   "source": [
    "# Unbalanced Wheel\n",
    "For an ideal wheel rotating about its symmetry axis, there is no torque caused by gravitation. The goal of this exercise is to calculate the torque acting on an unbalanced wheel. We assume that a mass $m$ is attached to a point of the otherwise perfectly symmetrical wheel."
   ]
  },
  {
   "cell_type": "markdown",
   "id": "5b6bd718-81cc-48c7-834f-2adf544d32aa",
   "metadata": {},
   "source": [
    "#### Define torque"
   ]
  },
  {
   "cell_type": "code",
   "execution_count": null,
   "id": "52e466a6-1883-40d2-8235-f1ee2b2477eb",
   "metadata": {},
   "outputs": [],
   "source": []
  },
  {
   "cell_type": "markdown",
   "id": "f4e9e596-0e32-4e1d-ba88-0520302d0810",
   "metadata": {},
   "source": [
    "#### Verify torque for some special points\n",
    "To verify if the torque is calculated correctly, we verify the results for a few special cases. We assume that the wheel has a radius of 25 cm, and that the weight of the additional mass is 1.5 N (vertically downwards).\n",
    "- Torque if the additional mass is at the top or bottom of the wheel.\n",
    "- Torque if the additional mass is to the left or right of the centre of the wheel."
   ]
  },
  {
   "cell_type": "code",
   "execution_count": null,
   "id": "0355880c-721b-4a44-ac2e-95f7576bad83",
   "metadata": {},
   "outputs": [],
   "source": []
  },
  {
   "cell_type": "markdown",
   "id": "e1e31f36-aff0-478e-b0ed-eb4ae649ffd6",
   "metadata": {},
   "source": [
    "### Average torque\n",
    "To calculate the average torque during half a revolution of the wheel, we divide the rotation into small steps and calculate the torque for each step. We assume that the wheel rotates at a constant angular velocity."
   ]
  },
  {
   "cell_type": "markdown",
   "id": "853a3b3c-e293-43a4-9ce0-817e1dc03e82",
   "metadata": {},
   "source": [
    "#### Define points on wheel\n",
    "We choose $n$ points on the wheel."
   ]
  },
  {
   "cell_type": "code",
   "execution_count": null,
   "id": "672aef45-7144-4ce8-9bdd-0e0f65ab3405",
   "metadata": {},
   "outputs": [],
   "source": []
  },
  {
   "cell_type": "markdown",
   "id": "9f517927-f6fb-4d84-ba12-40cccc3b6632",
   "metadata": {},
   "source": [
    "#### Calculate torques and average torque"
   ]
  },
  {
   "cell_type": "code",
   "execution_count": null,
   "id": "b1ecde6f-03e9-4cda-9bd7-ff995d18b5be",
   "metadata": {},
   "outputs": [],
   "source": []
  }
 ],
 "metadata": {
  "language_info": {
   "name": "python",
   "pygments_lexer": "ipython3"
  }
 },
 "nbformat": 4,
 "nbformat_minor": 5
}
