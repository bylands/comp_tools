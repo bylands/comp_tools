{
 "cells": [
  {
   "cell_type": "markdown",
   "id": "609a54aa-c88a-40e5-9f32-ff10645eef75",
   "metadata": {},
   "source": [
    "## Light Bulb\n",
    "Using the data we measured in class, investigate the characteristics of a light bulb."
   ]
  },
  {
   "cell_type": "markdown",
   "id": "df018cfa",
   "metadata": {},
   "source": [
    "#### Voltage and current\n",
    "Define arrays for voltage and current. You may want to read the data from a text file."
   ]
  },
  {
   "cell_type": "code",
   "execution_count": null,
   "id": "bf26528e",
   "metadata": {},
   "outputs": [],
   "source": [
    "import numpy as np\n",
    "\n",
    "voltage, current = np.loadtxt('lightbulb.txt', skiprows=1, unpack=True)"
   ]
  },
  {
   "cell_type": "markdown",
   "id": "0322be8c",
   "metadata": {},
   "source": [
    "#### Resistance and power\n",
    "Calculate arrays for the reistance and power at the measured voltage values. Observe what happens with the first resistance value (division by zero)."
   ]
  },
  {
   "cell_type": "code",
   "execution_count": null,
   "id": "2a2826ee",
   "metadata": {},
   "outputs": [],
   "source": [
    "resistance = voltage / current  # resistance in kOhm\n",
    "power = voltage * current # power in mW"
   ]
  },
  {
   "cell_type": "markdown",
   "id": "4f34a07e",
   "metadata": {},
   "source": [
    "#### Characteristics\n",
    "Graph the following relations:\n",
    "- current vs voltage\n",
    "- resistance vs current\n",
    "- power vs voltage"
   ]
  },
  {
   "cell_type": "code",
   "execution_count": null,
   "id": "ac594eba-ec9f-44f7-9c94-f5a7c5c82cc6",
   "metadata": {},
   "outputs": [],
   "source": [
    "import matplotlib.pyplot as plt\n",
    "\n",
    "\n",
    "def char_plot(x, y, xlabel, ylabel, title):\n",
    "    plt.figure()\n",
    "    plt.plot(x, y, '.')\n",
    "    plt.xlabel(xlabel)\n",
    "    plt.ylabel(ylabel)\n",
    "    plt.title(title)\n",
    "    plt.grid()\n",
    "    plt.show()\n",
    "\n",
    "char_plot(voltage, current, 'Voltage (V)', 'Current (mA)', 'Current vs Voltage')\n",
    "char_plot(current, resistance, 'Current (mA)', 'Resistance (kOhm)', 'Resistance vs Current')\n",
    "char_plot(voltage, power, 'Voltage (V)', 'Power (mW)', 'Power vs Voltage')"
   ]
  }
 ],
 "metadata": {
  "language_info": {
   "name": "python",
   "pygments_lexer": "ipython3"
  }
 },
 "nbformat": 4,
 "nbformat_minor": 5
}
