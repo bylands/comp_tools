{
 "cells": [
  {
   "cell_type": "markdown",
   "id": "119c06dd-0f00-4a3e-9716-d82658753776",
   "metadata": {},
   "source": [
    "# Introduction to Polars\n",
    "There are several Python libraries that can be used to analyse large datasets. The most popular one is Pandas (https://pandas.pydata.org/), which is used for countless projects in data science.\n",
    "\n",
    "A modern alternative to Pandas is Polars (https://pola.rs/), which is considered to be more efficient and faster than Pandas. If you are not invested in Pandas, there is no reason why you should not start with Polars as the data manipulation tool of your choice."
   ]
  },
  {
   "cell_type": "markdown",
   "id": "0bb68247-ef0c-4249-9cbb-638988df0a45",
   "metadata": {},
   "source": [
    "#### Import Polars"
   ]
  },
  {
   "cell_type": "code",
   "execution_count": null,
   "id": "d43296ab-1375-48ee-a2d4-7fa69f4ab8f0",
   "metadata": {},
   "outputs": [],
   "source": [
    "import polars as pl"
   ]
  },
  {
   "cell_type": "markdown",
   "id": "1d6414d3-49c1-4679-8710-4f7a25be7591",
   "metadata": {},
   "source": [
    "### DataFrames\n",
    "Polars works with DataFrames. A DataFrame can be compared to a spreadsheet with a number of columns each containing the same number of rows. Each column contains data of a given datatype (e.g. string, date, float)."
   ]
  },
  {
   "cell_type": "markdown",
   "id": "082c7b97-a893-4649-be22-dff3c3629ee9",
   "metadata": {},
   "source": [
    "#### Create a dataframe\n",
    "A dataframe can be created in different way, e.g. from a Python dictionary, from a file or a url, etc."
   ]
  },
  {
   "cell_type": "code",
   "execution_count": null,
   "id": "1352184e-7357-442d-b648-9de0c89b35bf",
   "metadata": {},
   "outputs": [],
   "source": [
    "# create dataframe from dictionary\n",
    "grades = pl.DataFrame(\n",
    "    {\n",
    "        'subject': ['maths', 'physics', 'biology', 'chemistry'],\n",
    "        'grade': [4.5, 5.5, 5.5, 5],\n",
    "        'teacher': ['Bernoulli', 'Einstein', 'Darwin', 'Laue']\n",
    "    }\n",
    ")\n",
    "\n",
    "grades"
   ]
  },
  {
   "cell_type": "code",
   "execution_count": null,
   "id": "b3289969-6562-4e81-8481-7514db34d607",
   "metadata": {},
   "outputs": [],
   "source": [
    "# create datafram from csv file\n",
    "path = 'data/pokemon.csv'\n",
    "pokemons = pl.read_csv(path, infer_schema_length=None)\n",
    "\n",
    "pokemons # displays first 5 and last 5 rows; shape provides information about the number of rows and columns"
   ]
  },
  {
   "cell_type": "markdown",
   "id": "3d0a39b1-7aac-4525-a914-bf5b24089195",
   "metadata": {},
   "source": [
    "#### Selecting Columns\n",
    "Specific columns can be selected by column name using the *select* method. Multiple columns can be selected using a list."
   ]
  },
  {
   "cell_type": "code",
   "execution_count": null,
   "id": "6ac03b72-f612-4af4-ab6e-9244bdfdf7bd",
   "metadata": {},
   "outputs": [],
   "source": [
    "grades.select('teacher') # select column 'teacher'"
   ]
  },
  {
   "cell_type": "code",
   "execution_count": null,
   "id": "9ed7a2c9-f818-43bf-ad1e-5eccb6d71e05",
   "metadata": {},
   "outputs": [],
   "source": [
    "pokemons.select(['name', 'classfication']) # select columns 'name' and 'classfication'"
   ]
  },
  {
   "cell_type": "markdown",
   "id": "3978ee70-1a20-4e6a-819b-8b8890ea2709",
   "metadata": {},
   "source": [
    "#### Adding new columns\n",
    "Columns can be added using the method *with_columns*. The new column can be based on existing columns. The alias method can be used to rename the new column."
   ]
  },
  {
   "cell_type": "code",
   "execution_count": null,
   "id": "c494e81c-3802-45c9-aecc-fac58f91207b",
   "metadata": {},
   "outputs": [],
   "source": [
    "# Add a column with the sum of 'attack' and 'defense'\n",
    "(pokemons\n",
    "    .select(['attack', 'defense'])\n",
    "    .with_columns((pl.col('attack') + pl.col('defense')).alias('att+def'))\n",
    ")"
   ]
  },
  {
   "cell_type": "markdown",
   "id": "6aba77df-4457-4542-aa2b-152c529bdc1f",
   "metadata": {},
   "source": [
    "#### Sorting\n",
    "The dataframe can be sorted based on the values in a column."
   ]
  },
  {
   "cell_type": "code",
   "execution_count": null,
   "id": "16bedec2-c087-421a-8b32-271ef71bc218",
   "metadata": {},
   "outputs": [],
   "source": [
    "grades.sort('teacher') # sort by teacher's name"
   ]
  },
  {
   "cell_type": "code",
   "execution_count": null,
   "id": "36ded6a9-d726-4467-ad72-30e12ba67029",
   "metadata": {},
   "outputs": [],
   "source": [
    "grades.sort('subject', descending=True) # sort by subject name (descending)"
   ]
  },
  {
   "cell_type": "markdown",
   "id": "33fb5eaa-8c2f-4a2a-9d17-b21c81da652d",
   "metadata": {},
   "source": [
    "#### Filtering rows\n",
    "Specific rows can be selected based on a condition using the *filter* method. "
   ]
  },
  {
   "cell_type": "code",
   "execution_count": null,
   "id": "06216556-011e-44cf-b8d9-930f0ac6b9c1",
   "metadata": {},
   "outputs": [],
   "source": [
    "grades.filter(pl.col('subject') != 'physics') # select all rows where the subject is not physics"
   ]
  },
  {
   "cell_type": "code",
   "execution_count": null,
   "id": "9db17ad8-f5a0-4fe4-9d43-1b43de1ff482",
   "metadata": {},
   "outputs": [],
   "source": [
    "grades.filter(pl.col('grade') > 5) # select all rows with grades greater than 5"
   ]
  },
  {
   "cell_type": "code",
   "execution_count": null,
   "id": "c657185a-0e99-4503-a511-196c95ebfa13",
   "metadata": {},
   "outputs": [],
   "source": [
    "# select all rows where 'attack' is greater than 'defense'\n",
    "(pokemons\n",
    "    .select(['name', 'attack', 'defense'])\n",
    "    .filter(pl.col('attack') > pl.col('defense'))\n",
    ")"
   ]
  },
  {
   "cell_type": "markdown",
   "id": "4f7bc9e1-fcd3-4d79-b53e-9cbba53b0185",
   "metadata": {},
   "source": [
    "#### Operations on columns\n",
    "There are many operations acting on the values in a column, e.g. sum, mean, etc."
   ]
  },
  {
   "cell_type": "code",
   "execution_count": null,
   "id": "a635feca-591a-4a77-97f1-648c80b45e26",
   "metadata": {},
   "outputs": [],
   "source": [
    "grades.select(pl.mean('grade')) # calculate the average grade"
   ]
  },
  {
   "cell_type": "code",
   "execution_count": null,
   "id": "8b36e9ec-eadd-464a-96f0-12e8884c493e",
   "metadata": {},
   "outputs": [],
   "source": [
    "# calculate the average of 'attack' and the sum of 'defense'\n",
    "pokemons.select([pl.mean('attack'), pl.sum('defense')])"
   ]
  },
  {
   "cell_type": "markdown",
   "id": "7672c8d0-01e7-4278-a6cb-94c98cc49a71",
   "metadata": {},
   "source": [
    "#### Grouping and aggregating\n",
    "Data can often be grouped based on the value in one column. Aggregation allows to perform calculations per group."
   ]
  },
  {
   "cell_type": "code",
   "execution_count": null,
   "id": "0160992e-e60a-496c-a3de-698cb3cda628",
   "metadata": {},
   "outputs": [],
   "source": [
    "# dataframe containt grades for four subjects in order of when they were received\n",
    "gradebook = pl.DataFrame(\n",
    "    {\n",
    "        'subject': ['P', 'M', 'C', 'B', 'M', 'C', 'P', 'B', 'M', 'P', 'M', 'C', 'B'],\n",
    "        'grade': [5.5, 4.5, 4.5, 5, 5, 4.5, 3.5, 6, 5, 4, 4.5, 5, 5.5]\n",
    "    }\n",
    ")\n",
    "\n",
    "# calculate the average per subject\n",
    "mean_grades = (gradebook\n",
    " .group_by('subject')\n",
    " .agg(pl.col('grade').mean())\n",
    ")\n",
    "\n",
    "mean_grades"
   ]
  },
  {
   "cell_type": "code",
   "execution_count": null,
   "id": "8c670663-1fe6-49a9-9ae8-74b591f5cc58",
   "metadata": {},
   "outputs": [],
   "source": [
    "# group by 'type1', then calculate mean attack and defense per group, sort by mean attack\n",
    "(pokemons\n",
    "    .select(['name', 'type1', 'attack', 'defense'])\n",
    "    .group_by('type1')\n",
    "    .agg(pl.col('attack').mean(), pl.col('defense').mean())\n",
    "    .sort('attack')\n",
    ")"
   ]
  },
  {
   "cell_type": "markdown",
   "id": "da2bcf1e-5a9d-4644-a561-e8741efb6387",
   "metadata": {},
   "source": [
    "#### Plotting data\n",
    "Data can be visualised using most plotting libraries. There are some shortcuts built into Polars which are based on Altair (https://altair-viz.github.io/gallery/index.html)."
   ]
  },
  {
   "cell_type": "code",
   "execution_count": null,
   "id": "2cc8be1f-e3e0-43e2-b70d-a5db630945b4",
   "metadata": {},
   "outputs": [],
   "source": [
    "# diagram for the maths grades\n",
    "(gradebook\n",
    "    .filter(pl.col('subject') == 'M')\n",
    "    .with_row_index('test_no', offset=1)\n",
    "    .plot.line(\n",
    "        x='test_no',\n",
    "        y='grade'\n",
    "    )\n",
    ")"
   ]
  },
  {
   "cell_type": "code",
   "execution_count": null,
   "id": "1343a7a4-9b21-4d95-9bd6-2e6d405750db",
   "metadata": {},
   "outputs": [],
   "source": [
    "# For a nicer version we make use of the underlying library's (Altair) more advanced formatting options\n",
    "M_grades = (gradebook\n",
    "    .filter(pl.col('subject') == 'M')\n",
    "    .with_row_index('test_no', offset=1)\n",
    "           )\n",
    "\n",
    "alt.Chart(M_grades).mark_line().encode(\n",
    "    alt.Y('grade:Q').scale(domain=(4, 6), clamp=True),\n",
    "    x='test_no'\n",
    ").interactive()"
   ]
  },
  {
   "cell_type": "code",
   "execution_count": null,
   "id": "a5cb9432-897c-461e-91ca-d624ab17e596",
   "metadata": {},
   "outputs": [],
   "source": [
    "# histogram for the different type1 options\n",
    "(pokemons\n",
    " .select('type1')\n",
    " .group_by('type1')\n",
    " .agg(pl.len().alias('frequency'))\n",
    " .plot.bar(\n",
    "     x='type1',\n",
    "     y='frequency'\n",
    " )\n",
    ")"
   ]
  }
 ],
 "metadata": {
  "language_info": {
   "name": "python",
   "pygments_lexer": "ipython3"
  }
 },
 "nbformat": 4,
 "nbformat_minor": 5
}
