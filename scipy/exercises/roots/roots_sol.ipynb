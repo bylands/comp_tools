{
 "cells": [
  {
   "cell_type": "markdown",
   "id": "119c06dd-0f00-4a3e-9716-d82658753776",
   "metadata": {},
   "source": [
    "# Roots\n",
    "Find all points where $f(x) = \\cos(x^2)$ and $g(x) = \\frac{x}{2}$ intersect."
   ]
  },
  {
   "cell_type": "markdown",
   "id": "fc5adb60",
   "metadata": {},
   "source": [
    "#### Graphical solution\n",
    "Find approximate values for the $x$ values of the intersection points using a graph of $f(x)$ and $g(x)$."
   ]
  },
  {
   "cell_type": "code",
   "execution_count": null,
   "id": "7d0bcfbe-814f-4b05-969d-2d404e558124",
   "metadata": {},
   "outputs": [],
   "source": [
    "import matplotlib.pyplot as plt\n",
    "import numpy as np\n",
    "\n",
    "\n",
    "def f(x):\n",
    "    return np.cos(x**2)\n",
    "\n",
    "def g(x):\n",
    "    return 1/2 * x\n",
    "\n",
    "\n",
    "x = np.linspace(-3, 3, 1000)\n",
    "\n",
    "fig, ax = plt.subplots()\n",
    "ax.plot(x, f(x), label=r'$f(x) = cos(x^2)$')\n",
    "ax.plot(x, g(x), label=r'$g(x) = \\frac{1}{2}$')\n",
    "ax.legend()\n",
    "ax.grid()\n",
    "plt.show()"
   ]
  },
  {
   "cell_type": "markdown",
   "id": "111c6029",
   "metadata": {},
   "source": [
    "The graph shows that there are three intersections. They are near -2, -1.5 and 1."
   ]
  },
  {
   "cell_type": "markdown",
   "id": "36a78f2c",
   "metadata": {},
   "source": [
    "#### Numerical solution\n",
    "Find numerical values for the intersection points by numerically finding the roots of $f(x) - g(x)$."
   ]
  },
  {
   "cell_type": "code",
   "execution_count": null,
   "id": "6a54565c-0a73-4c59-b8c8-30961586d0c8",
   "metadata": {},
   "outputs": [],
   "source": [
    "\n",
    "from scipy.optimize import root_scalar\n",
    "\n",
    "x0 = [-2, -1.5, 1]  # initial guesses for the roots\n",
    "roots = []\n",
    "for x0i in x0:\n",
    "    sol = root_scalar(lambda x: f(x) - g(x), x0=x0i)\n",
    "    if sol.converged:\n",
    "        roots.append(sol.root)\n",
    "\n",
    "print(\"Roots found at:\")\n",
    "for root in roots:\n",
    "    print(f'x = {root:.4f}, f(x) = {f(root):.4f}, g(x) = {g(root):.4f}')\n",
    "\n",
    "fig, ax = plt.subplots()\n",
    "ax.plot(x, f(x), label=r'$f(x) = cos(x^2)$')\n",
    "ax.plot(x, g(x), label=r'$g(x) = \\frac{1}{2}$')\n",
    "for root in roots:\n",
    "    ax.plot(root, f(root), 'ro')  # mark the roots\n",
    "ax.legend()\n",
    "ax.grid()\n",
    "plt.show()"
   ]
  },
  {
   "cell_type": "code",
   "execution_count": null,
   "id": "5c6f73e1",
   "metadata": {},
   "outputs": [],
   "source": []
  }
 ],
 "metadata": {
  "language_info": {
   "name": "python",
   "pygments_lexer": "ipython3"
  }
 },
 "nbformat": 4,
 "nbformat_minor": 5
}
