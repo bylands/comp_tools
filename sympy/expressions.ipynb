{
 "cells": [
  {
   "cell_type": "markdown",
   "id": "119c06dd-0f00-4a3e-9716-d82658753776",
   "metadata": {},
   "source": [
    "# Symbolic Calculations with SymPy\n",
    "*SymPy* (https://www.sympy.org/en/index.html) is a Python library for symbolic mathematics. It can be used to simplify expressions, find formal solutions of equations, or derive or integrate functions."
   ]
  },
  {
   "cell_type": "markdown",
   "id": "5ac9c13b",
   "metadata": {},
   "source": [
    "#### Import SymPy"
   ]
  },
  {
   "cell_type": "code",
   "execution_count": null,
   "id": "1352184e-7357-442d-b648-9de0c89b35bf",
   "metadata": {},
   "outputs": [],
   "source": [
    "import sympy as sp"
   ]
  },
  {
   "cell_type": "markdown",
   "id": "3d0a39b1-7aac-4525-a914-bf5b24089195",
   "metadata": {},
   "source": [
    "#### Symbols\n",
    "Before symbols like $x$, $y$, $a$, $b$, etc. can be used in expressions, they have to be defined."
   ]
  },
  {
   "cell_type": "code",
   "execution_count": null,
   "id": "7d0bcfbe-814f-4b05-969d-2d404e558124",
   "metadata": {},
   "outputs": [],
   "source": [
    "x = sp.Symbol('x') # define a single symbol\n",
    "y, z = sp.symbols('y z') # define multiple symbols\n",
    "\n",
    "r = sp.Symbol('p', real=True) # define a real quantity (as opposed to a complex one)\n",
    "p = sp.Symbol('p', positive=True) # define a positive quantity\n",
    "\n",
    "display((x + y)/z) # display expression containing symbols"
   ]
  },
  {
   "cell_type": "markdown",
   "id": "1684e751",
   "metadata": {},
   "source": [
    "#### Expressions\n",
    "Expressions contain symbols, functions and numerical constants. They can be simplified, expanded or factored."
   ]
  },
  {
   "cell_type": "code",
   "execution_count": null,
   "id": "6a54565c-0a73-4c59-b8c8-30961586d0c8",
   "metadata": {},
   "outputs": [],
   "source": [
    "exp1 = (x + y) * (x - y)\n",
    "display(exp1.expand()) # expand expression"
   ]
  },
  {
   "cell_type": "code",
   "execution_count": null,
   "id": "e8ecab52",
   "metadata": {},
   "outputs": [],
   "source": [
    "exp2 = 6 * x**2 - x -2\n",
    "display(exp2.factor()) # factor expression"
   ]
  },
  {
   "cell_type": "code",
   "execution_count": null,
   "id": "87fdcd5b-fb14-4a4b-9f8a-b6cf8bc5f2d8",
   "metadata": {},
   "outputs": [],
   "source": [
    "exp3 = 2 * sp.sin(x)**2 + 2 * sp.cos(x)**2\n",
    "display(exp3.simplify()) # simplify expression (trigonometric identity)"
   ]
  },
  {
   "cell_type": "markdown",
   "id": "8747b04d-5125-4cd8-b215-b06d95316147",
   "metadata": {},
   "source": [
    "#### Substitution\n",
    "Symbols can be substituted by an expression. This can also be used to numerically evaluate an expression. Multiple substitutions can be passed as a dictionary."
   ]
  },
  {
   "cell_type": "code",
   "execution_count": null,
   "id": "286221e9-ac6d-4032-9e07-9ae15683c0b2",
   "metadata": {},
   "outputs": [],
   "source": [
    "a, b = sp.symbols('a b')\n",
    "\n",
    "exp4 = x**3\n",
    "display(exp4.subs(x, a + b).expand()) # substitute x with (a + b) and expand\n"
   ]
  },
  {
   "cell_type": "code",
   "execution_count": null,
   "id": "dccc8b54-45ce-4bb7-b158-2d7d7cf72cdf",
   "metadata": {},
   "outputs": [],
   "source": [
    "exp5 = sp.sin(x)\n",
    "display(exp5.subs(x, sp.pi/4)) # evaluate expression at a specific value"
   ]
  },
  {
   "cell_type": "code",
   "execution_count": null,
   "id": "eaa23785",
   "metadata": {},
   "outputs": [],
   "source": [
    "exp6 = x**2 + 3*x*y - y**2\n",
    "vals = {x: 1, y: 2}\n",
    "display(exp6.subs(vals)) # substitute multiple symbols"
   ]
  },
  {
   "cell_type": "markdown",
   "id": "47f4ad6d",
   "metadata": {},
   "source": [
    "#### Numerical evaluation\n",
    "Decimal values can be enforced with a numerical evaluation."
   ]
  },
  {
   "cell_type": "code",
   "execution_count": null,
   "id": "366c3424",
   "metadata": {},
   "outputs": [],
   "source": [
    "exp7 = sp.sqrt(2) + sp.sqrt(3)\n",
    "display(exp7) # display expression with square roots\n",
    "display(sp.N(exp7)) # numerical evaluation of expression with square roots\n",
    "display(sp.N(exp7, 20)) # numerical evaluation with 20 digits precision"
   ]
  },
  {
   "cell_type": "code",
   "execution_count": null,
   "id": "4695d50e",
   "metadata": {},
   "outputs": [],
   "source": [
    "exp8 = sp.sin(1) + sp.cos(2) * sp.exp(-3)\n",
    "display(exp8)\n",
    "display(sp.N(exp8))"
   ]
  }
 ],
 "metadata": {
  "language_info": {
   "name": "python",
   "pygments_lexer": "ipython3"
  }
 },
 "nbformat": 4,
 "nbformat_minor": 5
}
