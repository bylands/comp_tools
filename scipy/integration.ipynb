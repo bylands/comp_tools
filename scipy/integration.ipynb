{
 "cells": [
  {
   "cell_type": "markdown",
   "id": "119c06dd-0f00-4a3e-9716-d82658753776",
   "metadata": {},
   "source": [
    "# Numerical Integration\n",
    "Expressing the integral in terms of basic functions is not possible for arbitrary integrands. NumPy and SciPy provide fast and reliable methods to calculate definite integrals of arbitrary functions numerically."
   ]
  },
  {
   "cell_type": "code",
   "execution_count": null,
   "id": "6ac03b72-f612-4af4-ab6e-9244bdfdf7bd",
   "metadata": {},
   "outputs": [],
   "source": [
    "import sympy as sp\n",
    "\n",
    "import numpy as np\n",
    "from scipy.differentiate import derivative\n",
    "from scipy.integrate import quad\n"
   ]
  },
  {
   "cell_type": "markdown",
   "id": "12ee6d25-2aeb-4182-8edf-d520348bf738",
   "metadata": {},
   "source": [
    "The *quad* function takes the function and the lower and upper boundary as parameters."
   ]
  },
  {
   "cell_type": "code",
   "execution_count": null,
   "id": "25b0566c-4c04-484c-adec-b379b9ff7c04",
   "metadata": {},
   "outputs": [],
   "source": [
    "def f(x):\n",
    "    '''define function'''\n",
    "\n",
    "    return np.exp(-x**2)\n",
    "\n",
    "\n",
    "integral, error = quad(f, -1, 1) # calculate the integral and its function\n",
    "\n",
    "print(f'integral: {integral}')"
   ]
  },
  {
   "cell_type": "markdown",
   "id": "d8e6ad1f",
   "metadata": {},
   "source": [
    "#### Symbolic vs numerical integration\n",
    "SymPy allows to find expressions for a large number of integrals, and it can also evaluate integrals numerically."
   ]
  },
  {
   "cell_type": "code",
   "execution_count": null,
   "id": "9bf76cec-0b7d-4a92-b537-3a5c3a960c9a",
   "metadata": {},
   "outputs": [],
   "source": [
    "\n",
    "x = sp.Symbol('x') # define x as a symbolic variable\n",
    "isp = sp.integrate(sp.exp(-x**2), (x, -1, 1)) # find the integral analytically\n",
    "ispN = sp.N(isp, 20) # numerically evaluate the value (20 digits)\n",
    "\n",
    "print(f'value found with SymPy: {ispN}')\n",
    "print('This is the value of the following expression (erf is the error function):')\n",
    "display(isp)"
   ]
  },
  {
   "cell_type": "markdown",
   "id": "3837371f",
   "metadata": {},
   "source": [
    "A speed comparison shows that SciPy is much more efficient when it comes to the numerical calculation."
   ]
  },
  {
   "cell_type": "code",
   "execution_count": null,
   "id": "3eb4c775",
   "metadata": {},
   "outputs": [],
   "source": [
    "%%timeit\n",
    "quad(f, -1, 1) # time the numerical integration with SciPy"
   ]
  },
  {
   "cell_type": "code",
   "execution_count": null,
   "id": "9e028f8e",
   "metadata": {},
   "outputs": [],
   "source": [
    "%%timeit\n",
    "sp.integrate(sp.exp(-x**2), (x, -1, 1)) # time the symbolic integration with SymPy"
   ]
  },
  {
   "cell_type": "markdown",
   "id": "0279c2e2",
   "metadata": {},
   "source": [
    "For this example, SciPy is more than 1000 times faster than SymPy! On the other hand, since the integral can be expressed in terms of a known function, it is possible to just determine the (indefinite) integral once and then calculate the definite integral using this function."
   ]
  },
  {
   "cell_type": "code",
   "execution_count": null,
   "id": "9c9ebc20",
   "metadata": {},
   "outputs": [],
   "source": [
    "%%timeit\n",
    "sol = sp.integrate(sp.exp(-x**2), x) # indefinite integral"
   ]
  },
  {
   "cell_type": "code",
   "execution_count": null,
   "id": "c8ba365d",
   "metadata": {},
   "outputs": [],
   "source": [
    "%%timeit\n",
    "sp.N(sol.subs({x: 1}) - sol.subs({x: -1})) # definite integral using the indefinite integral"
   ]
  }
 ],
 "metadata": {
  "language_info": {
   "name": "python",
   "pygments_lexer": "ipython3"
  }
 },
 "nbformat": 4,
 "nbformat_minor": 5
}
