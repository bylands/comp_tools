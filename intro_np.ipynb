{
 "cells": [
  {
   "cell_type": "markdown",
   "id": "119c06dd-0f00-4a3e-9716-d82658753776",
   "metadata": {},
   "source": [
    "# Introduction to NumPy\n",
    "NumPy is the de facto standard for numerical calculations in Python. It can efficiently perform calculations with large data series, matrices, vectors, etc."
   ]
  },
  {
   "cell_type": "markdown",
   "id": "0bb68247-ef0c-4249-9cbb-638988df0a45",
   "metadata": {},
   "source": [
    "### Import NumPy"
   ]
  },
  {
   "cell_type": "code",
   "execution_count": 11,
   "id": "d43296ab-1375-48ee-a2d4-7fa69f4ab8f0",
   "metadata": {},
   "outputs": [],
   "source": [
    "import numpy as np"
   ]
  },
  {
   "cell_type": "markdown",
   "id": "082c7b97-a893-4649-be22-dff3c3629ee9",
   "metadata": {},
   "source": [
    "#### Create numpy arrays"
   ]
  },
  {
   "cell_type": "code",
   "execution_count": 34,
   "id": "1352184e-7357-442d-b648-9de0c89b35bf",
   "metadata": {},
   "outputs": [
    {
     "name": "stdout",
     "output_type": "stream",
     "text": [
      "a = array([1, 2, 3, 4, 5])\n",
      "e = array([0., 0., 0., 0., 0., 0., 0., 0., 0., 0.])\n",
      "r = array([10. , 10.5, 11. , 11.5, 12. , 12.5, 13. , 13.5, 14. , 14.5, 15. ])\n",
      "x = array([100., 110., 120., 130., 140., 150., 160., 170., 180., 190., 200.])\n"
     ]
    }
   ],
   "source": [
    "# create array from list\n",
    "a_list = [1, 2, 3, 4, 5]\n",
    "a = np.array(a_list)\n",
    "print(f'{a = }')\n",
    "\n",
    "# create empty array\n",
    "e = np.zeros(10)\n",
    "print(f'{e = }')\n",
    "\n",
    "# create range of values (with start value and step size, similar to range)\n",
    "r = np.arange(10, 15.5, .5)\n",
    "print(f'{r = }')\n",
    "\n",
    "# create evenly spaced values between min and max value\n",
    "x = np.linspace(100, 200, 11)\n",
    "print(f'{x = }')"
   ]
  },
  {
   "cell_type": "markdown",
   "id": "3d0a39b1-7aac-4525-a914-bf5b24089195",
   "metadata": {},
   "source": [
    "#### Slicing arrays"
   ]
  },
  {
   "cell_type": "code",
   "execution_count": 38,
   "id": "6ac03b72-f612-4af4-ab6e-9244bdfdf7bd",
   "metadata": {},
   "outputs": [
    {
     "data": {
      "text/plain": [
       "np.int64(3)"
      ]
     },
     "execution_count": 38,
     "metadata": {},
     "output_type": "execute_result"
    }
   ],
   "source": [
    "a[2] # access element with index 2 (first element has index 0)"
   ]
  },
  {
   "cell_type": "code",
   "execution_count": 39,
   "id": "9ed7a2c9-f818-43bf-ad1e-5eccb6d71e05",
   "metadata": {},
   "outputs": [
    {
     "data": {
      "text/plain": [
       "np.int64(4)"
      ]
     },
     "execution_count": 39,
     "metadata": {},
     "output_type": "execute_result"
    }
   ],
   "source": [
    "a[-2] # access second to last element"
   ]
  },
  {
   "cell_type": "code",
   "execution_count": 44,
   "id": "a195f4c5-6fa3-4332-bc88-3e7e914d7a20",
   "metadata": {},
   "outputs": [
    {
     "data": {
      "text/plain": [
       "array([2, 3, 4])"
      ]
     },
     "execution_count": 44,
     "metadata": {},
     "output_type": "execute_result"
    }
   ],
   "source": [
    "a[1:4] # subarray from index 1 to index 3 (upper boundary excluded)"
   ]
  },
  {
   "cell_type": "markdown",
   "id": "3978ee70-1a20-4e6a-819b-8b8890ea2709",
   "metadata": {},
   "source": [
    "#### Calculate with arrays"
   ]
  },
  {
   "cell_type": "code",
   "execution_count": 29,
   "id": "c494e81c-3802-45c9-aecc-fac58f91207b",
   "metadata": {},
   "outputs": [
    {
     "data": {
      "text/plain": [
       "array([ 1,  4,  9, 16, 25])"
      ]
     },
     "execution_count": 29,
     "metadata": {},
     "output_type": "execute_result"
    }
   ],
   "source": [
    "a**2 # operations are calculated element wise"
   ]
  },
  {
   "cell_type": "code",
   "execution_count": 31,
   "id": "0dbe080a-2e03-43b9-b435-5d5846dceef3",
   "metadata": {},
   "outputs": [
    {
     "data": {
      "text/plain": [
       "array([10.        , 10.48808848, 10.95445115, 11.40175425, 11.83215957,\n",
       "       12.24744871, 12.64911064, 13.03840481, 13.41640786, 13.78404875,\n",
       "       14.14213562])"
      ]
     },
     "execution_count": 31,
     "metadata": {},
     "output_type": "execute_result"
    }
   ],
   "source": [
    "np.sqrt(x) # numpy provides many mathematical functions"
   ]
  },
  {
   "cell_type": "code",
   "execution_count": 37,
   "id": "8218f515-0290-4346-abb5-0af86babfb38",
   "metadata": {},
   "outputs": [
    {
     "data": {
      "text/plain": [
       "array([1000., 1155., 1320., 1495., 1680., 1875., 2080., 2295., 2520.,\n",
       "       2755., 3000.])"
      ]
     },
     "execution_count": 37,
     "metadata": {},
     "output_type": "execute_result"
    }
   ],
   "source": [
    "r * x # calculations with arrays of same length"
   ]
  },
  {
   "cell_type": "markdown",
   "id": "6aba77df-4457-4542-aa2b-152c529bdc1f",
   "metadata": {},
   "source": [
    "### Example: Temperature data\n",
    "Perform some simple calculations based on temperature data."
   ]
  },
  {
   "cell_type": "code",
   "execution_count": 78,
   "id": "06216556-011e-44cf-b8d9-930f0ac6b9c1",
   "metadata": {},
   "outputs": [],
   "source": [
    "path = 'data/zrh_temp_2024.csv' # file containing daily average temperatures for 2024\n",
    "temperature = np.genfromtxt(path, skip_header=1) # create array from textfile, skip header"
   ]
  },
  {
   "cell_type": "code",
   "execution_count": 90,
   "id": "9db17ad8-f5a0-4fe4-9d43-1b43de1ff482",
   "metadata": {},
   "outputs": [
    {
     "name": "stdout",
     "output_type": "stream",
     "text": [
      "number of data points: 366\n",
      "minimum temperature: -5.2°C\n",
      "maximum temperature: 24.9°C\n",
      "yearly mean temperature: 11.04°C\n",
      "standard deviation: 7.05°C\n"
     ]
    }
   ],
   "source": [
    "n = len(temperature) # number of entries\n",
    "t_min = np.min(temperature)\n",
    "t_max = np.max(temperature)\n",
    "t_mean = np.mean(temperature)\n",
    "t_std = np.std(temperature)\n",
    "\n",
    "print(f'number of data points: {n}')\n",
    "print(f'minimum temperature: {t_min}°C')\n",
    "print(f'maximum temperature: {t_max}°C')\n",
    "print(f'yearly mean temperature: {t_mean:.2f}°C')\n",
    "print(f'standard deviation: {t_std:.2f}°C')"
   ]
  },
  {
   "cell_type": "code",
   "execution_count": null,
   "id": "de402d4e-13e8-4d96-a49a-fdb126286951",
   "metadata": {},
   "outputs": [],
   "source": []
  }
 ],
 "metadata": {
  "kernelspec": {
   "display_name": "Python 3 (ipykernel)",
   "language": "python",
   "name": "python3"
  },
  "language_info": {
   "codemirror_mode": {
    "name": "ipython",
    "version": 3
   },
   "file_extension": ".py",
   "mimetype": "text/x-python",
   "name": "python",
   "nbconvert_exporter": "python",
   "pygments_lexer": "ipython3",
   "version": "3.13.3"
  }
 },
 "nbformat": 4,
 "nbformat_minor": 5
}
