{
 "cells": [
  {
   "cell_type": "markdown",
   "metadata": {},
   "source": [
    "# Interpolation\n",
    "Physical properties may depend on other parameters like pressure or ambient temperature. While some values can be read from tables (e.g. density of water at different temperatures), if a specific parameter value is required, we often have to interpolate between two tabulated values. NumPy offers a simple method for linear interpolation."
   ]
  },
  {
   "cell_type": "code",
   "execution_count": null,
   "metadata": {},
   "outputs": [],
   "source": [
    "import numpy as np"
   ]
  },
  {
   "cell_type": "markdown",
   "metadata": {},
   "source": [
    "### Interpolating values\n",
    "For numpy.interp() to work correctly, the x values have to be monotonically increasing."
   ]
  },
  {
   "cell_type": "code",
   "execution_count": null,
   "metadata": {},
   "outputs": [],
   "source": [
    "x = np.array([1, 2, 3, 4, 5]) # array of x values (monotonically increasing)\n",
    "y = np.array([2, 5, 6, 5, 3]) # array of y values\n",
    "\n",
    "test_values = [0.5, 1.5, 3.2, 5.5] # x values to use for interpolation\n",
    "\n",
    "np.interp(test_values, x, y) # return interpolated values at positions 'test_values'"
   ]
  },
  {
   "cell_type": "markdown",
   "metadata": {},
   "source": [
    "As can be seen above, if an x value is less/greater than the minimum/maximum value of the given data, the return value corresponds to the first/last y value."
   ]
  },
  {
   "cell_type": "markdown",
   "metadata": {},
   "source": [
    "### Example: Density of water\n",
    "The table on page 192 in *Formulae, Tables, Concepts* lists the density of water at various temperatures. What are the answers to the following questions?\n",
    "- What is the density of water at 125°C?\n",
    "- At what temperature is the density of water 900 kg/m^3?\n",
    "- At what temperature is the density of water 999.5 kg/m^3?"
   ]
  },
  {
   "cell_type": "markdown",
   "metadata": {},
   "source": [
    "#### Data from table"
   ]
  },
  {
   "cell_type": "code",
   "execution_count": null,
   "metadata": {},
   "outputs": [],
   "source": [
    "temperature = np.array([-10, -5, 0, 3, 4, 5, 10, 15, 20,\n",
    "                        25, 30, 40, 50, 60, 70, 80, 90,\n",
    "                        100, 150, 200, 250, 300, 350])\n",
    "\n",
    "density = np.array([998.109, 999.255, 999.840, 999.964, 999.972,\n",
    "                    999.964, 999.700, 999.101, 998.206, 997.047, \n",
    "                    995.650, 992.22, 988.04, 983.20, 977.76, \n",
    "                    971.79, 965.30, 958.35, 916.8, 864.7,\n",
    "                    799.2, 712.2, 574.3])"
   ]
  },
  {
   "cell_type": "markdown",
   "metadata": {},
   "source": [
    "#### Density at 125°C"
   ]
  },
  {
   "cell_type": "code",
   "execution_count": null,
   "metadata": {},
   "outputs": [],
   "source": [
    "test_temp = 125\n",
    "test_dens = np.interp(test_temp, temperature, density)\n",
    "print(f'density at {test_temp} °C: {test_dens:.1f} kg/m^3')"
   ]
  },
  {
   "cell_type": "markdown",
   "metadata": {},
   "source": [
    "#### Temperature for density 900 kg/m^3\n",
    "Before we can use interp(), we have to sort both the temperature and the density array such that the densities are monotonically increasing."
   ]
  },
  {
   "cell_type": "code",
   "execution_count": null,
   "metadata": {},
   "outputs": [],
   "source": [
    "ordered = np.argsort(density)\n",
    "\n",
    "sorted_dens = density[ordered]\n",
    "sorted_temp = temperature[ordered]\n",
    "\n",
    "test_dens = 900\n",
    "test_temp = np.interp(test_dens, sorted_dens, sorted_temp)\n",
    "print(f'temperature for {test_dens} kg/m^3: {test_temp:.1f} °C')"
   ]
  },
  {
   "cell_type": "markdown",
   "metadata": {},
   "source": [
    "#### Temperature for density 999.5 kg/m^3\n",
    "Because of the anomaly of water, there is no one-to-one correspondence between temperature and density around 4 °C. We have to pick the relevant part of the table before the interpolation."
   ]
  },
  {
   "cell_type": "code",
   "execution_count": null,
   "metadata": {},
   "outputs": [],
   "source": [
    "test_dens = 999.5\n",
    "test_temp1 = np.interp(test_dens, density[:5], temperature[:5]) # only use values up to 4°C\n",
    "print(f'temperature for {test_dens} kg/m^3: {test_temp1:.1f} °C')"
   ]
  },
  {
   "cell_type": "code",
   "execution_count": null,
   "metadata": {},
   "outputs": [],
   "source": [
    "# For the second solution, we need to consider temperatures above 4 °C. \n",
    "# The order of the density values has to be reversed.\n",
    "test_temp2 = np.interp(test_dens, density[-1:3:-1], temperature[-1:3:-1])\n",
    "print(f'temperature for {test_dens} kg/m^3: {test_temp2:.1f} °C')"
   ]
  },
  {
   "cell_type": "markdown",
   "metadata": {},
   "source": [
    "#### Visualisation"
   ]
  },
  {
   "cell_type": "code",
   "execution_count": null,
   "metadata": {},
   "outputs": [],
   "source": [
    "import matplotlib.pyplot as plt\n",
    "\n",
    "plt.plot(temperature[:9], density[:9], label='density of water')\n",
    "plt.xlabel('Temperature (°C)')\n",
    "plt.ylabel('Density ' + r'(kg/m$^3$)')\n",
    "plt.hlines(test_dens, -10, 20, 'red', label=r'$p$ = ' + f'{test_dens} ' + r'kg/m$^3$')\n",
    "plt.plot([test_temp1, test_temp2], [test_dens, test_dens], 'og')\n",
    "plt.legend()\n",
    "plt.grid()\n",
    "plt.show()"
   ]
  }
 ],
 "metadata": {
  "language_info": {
   "name": "python",
   "pygments_lexer": "ipython3"
  }
 },
 "nbformat": 4,
 "nbformat_minor": 2
}
