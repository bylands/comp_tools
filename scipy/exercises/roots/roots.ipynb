{
 "cells": [
  {
   "cell_type": "markdown",
   "id": "119c06dd-0f00-4a3e-9716-d82658753776",
   "metadata": {},
   "source": [
    "# Roots\n",
    "Find all points where $f(x) = \\cos(x^2)$ and $g(x) = \\frac{x}{2}$ intersect."
   ]
  },
  {
   "cell_type": "markdown",
   "id": "47863399",
   "metadata": {},
   "source": [
    "#### Graphical solution\n",
    "Find approximate values for the $x$ values of the intersection points using a graph of $f(x)$ and $g(x)$."
   ]
  },
  {
   "cell_type": "code",
   "execution_count": null,
   "id": "7d0bcfbe-814f-4b05-969d-2d404e558124",
   "metadata": {},
   "outputs": [],
   "source": []
  },
  {
   "cell_type": "markdown",
   "id": "111c6029",
   "metadata": {},
   "source": [
    "#### Numerical solution\n",
    "Find numerical values for the intersection points by numerically finding the roots of $f(x) - g(x)$."
   ]
  },
  {
   "cell_type": "code",
   "execution_count": null,
   "id": "6a54565c-0a73-4c59-b8c8-30961586d0c8",
   "metadata": {},
   "outputs": [],
   "source": []
  }
 ],
 "metadata": {
  "language_info": {
   "name": "python",
   "pygments_lexer": "ipython3"
  }
 },
 "nbformat": 4,
 "nbformat_minor": 5
}
