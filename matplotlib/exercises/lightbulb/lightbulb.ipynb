{
 "cells": [
  {
   "cell_type": "markdown",
   "id": "f908e83f-c74d-4df7-bf20-e322c278f67f",
   "metadata": {},
   "source": [
    "# Characteristic of a Light Bulb\n",
    "\n",
    "Plot different characteristic diagrams for a typical light bulb."
   ]
  },
  {
   "cell_type": "markdown",
   "id": "caf87070",
   "metadata": {},
   "source": [
    "#### Data"
   ]
  },
  {
   "cell_type": "code",
   "execution_count": null,
   "id": "624e75ec-bb4f-4c75-b9a0-b80434e7f794",
   "metadata": {},
   "outputs": [],
   "source": [
    "import matplotlib.pyplot as plt\n",
    "import numpy as np\n",
    "\n",
    "# voltage in V\n",
    "V = np.array([2, 4, 6, 8, 10, 12, 14, 16, 18, 20, 22, 24])\n",
    "dV = 0.05\n",
    "\n",
    "# current in mA\n",
    "I = np.array([27.7, 41.6, 53.1, 62.6, 71.8, 80.2, \n",
    "              87.8, 96.0, 102.0, 108.4, 114.9, 120.9])\n",
    "dI = 0.5"
   ]
  },
  {
   "cell_type": "markdown",
   "id": "2978baaa",
   "metadata": {},
   "source": [
    "#### Resistance\n",
    "Calculate the resistance values and their uncertainties."
   ]
  },
  {
   "cell_type": "code",
   "execution_count": null,
   "id": "a781a60e",
   "metadata": {},
   "outputs": [],
   "source": []
  },
  {
   "cell_type": "markdown",
   "id": "c35e794d",
   "metadata": {},
   "source": [
    "#### Current vs voltage\n",
    "Graph the current vs voltage (including error bars)."
   ]
  },
  {
   "cell_type": "code",
   "execution_count": null,
   "id": "cd3e0448",
   "metadata": {},
   "outputs": [],
   "source": []
  },
  {
   "cell_type": "markdown",
   "id": "7d429ddb-74d9-4bc9-963e-466862c0eb76",
   "metadata": {},
   "source": [
    "#### Resistance vs currnet\n",
    "Graph the resistance vs current (including error bars)."
   ]
  },
  {
   "cell_type": "code",
   "execution_count": null,
   "id": "1c97be44-3a76-416b-b8b9-4cb40e4d03da",
   "metadata": {},
   "outputs": [],
   "source": []
  }
 ],
 "metadata": {
  "language_info": {
   "name": "python",
   "pygments_lexer": "ipython3"
  }
 },
 "nbformat": 4,
 "nbformat_minor": 5
}
