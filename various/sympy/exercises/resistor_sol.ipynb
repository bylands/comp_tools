{
 "cells": [
  {
   "cell_type": "markdown",
   "id": "119c06dd-0f00-4a3e-9716-d82658753776",
   "metadata": {},
   "source": [
    "# Resistor\n",
    "A resistor is rated as 1.5 kOhm and 0.5 W."
   ]
  },
  {
   "cell_type": "markdown",
   "id": "c2996c2a-7ed4-4269-9eac-0dc4fbf9c78b",
   "metadata": {},
   "source": [
    "#### Maximum voltage and current\n",
    "Find formal expressions for the voltage and current as functions of the resistance and the power dissipated in the resistor."
   ]
  },
  {
   "cell_type": "code",
   "execution_count": null,
   "id": "b3289969-6562-4e81-8481-7514db34d607",
   "metadata": {},
   "outputs": [],
   "source": [
    "import sympy as sp\n",
    "\n",
    "V, I, R, P = sp.symbols('V I R P', positive=True) # define variables (all positive)\n",
    "\n",
    "eq1 = sp.Eq(V, I * R) # Ohm's law\n",
    "eq2 = sp.Eq(P, V * I) # power\n",
    "\n",
    "Vsol, Isol = sp.solve((eq1, eq2), (V, I))[0] # solve equations for V and I\n",
    "\n",
    "display(Vsol, Isol) # display the results"
   ]
  },
  {
   "cell_type": "markdown",
   "id": "d271fa5d",
   "metadata": {},
   "source": [
    "Calculate the maximum values for voltage and current such that the power rating is not exceeded."
   ]
  },
  {
   "cell_type": "code",
   "execution_count": null,
   "id": "bce39850-8609-411b-9899-51143619a051",
   "metadata": {},
   "outputs": [],
   "source": [
    "vals = {R: 1500, P: 0.5} # define values for R and P\n",
    "Vmax = sp.N(Vsol.subs(vals)) # substitute values into voltage expression\n",
    "Imax = sp.N(Isol.subs(vals)) # substitute values into current expression\n",
    "\n",
    "print(f'Maximum voltage: {Vmax:.1f} V')\n",
    "print(f'Maximum current: {Imax*1000:.1f} mA')\n"
   ]
  }
 ],
 "metadata": {
  "language_info": {
   "name": "python",
   "pygments_lexer": "ipython3"
  }
 },
 "nbformat": 4,
 "nbformat_minor": 5
}
