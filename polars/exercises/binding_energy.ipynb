{
 "cells": [
  {
   "cell_type": "markdown",
   "id": "d0426f63-14f2-43a4-94b8-bb97e5d5922d",
   "metadata": {},
   "source": [
    "# Binding Energy\n",
    "You are going to analyse the binding energies of the known isotopes."
   ]
  },
  {
   "cell_type": "markdown",
   "id": "dd2a9223-c4d2-4c37-9b69-520b938d5f53",
   "metadata": {},
   "source": [
    "#### Reading data\n",
    "The data is read from a *parquet* file. This file format contains the datatypes (e.g. int or float) in addition to the actual values."
   ]
  },
  {
   "cell_type": "code",
   "execution_count": null,
   "id": "efdc29c1-5d55-4979-9ed0-bf15fc0f538d",
   "metadata": {},
   "outputs": [],
   "source": [
    "import polars as pl\n",
    "\n",
    "isotopes = pl.read_parquet('data/binding_energy.parquet')"
   ]
  },
  {
   "cell_type": "markdown",
   "id": "27998418-d02c-44fd-b825-4c26fff90958",
   "metadata": {},
   "source": [
    "#### Browsing the data\n",
    "Have a first look at the dataframe and find out about the different columns, the number of isotopes, etc."
   ]
  },
  {
   "cell_type": "code",
   "execution_count": null,
   "id": "a714bc80-f2af-4627-8745-ef50b9882d6b",
   "metadata": {},
   "outputs": [],
   "source": []
  },
  {
   "cell_type": "markdown",
   "id": "a18aaa79-dfdd-499a-8f6c-1488bdeda3d6",
   "metadata": {},
   "source": [
    "#### Some search tasks\n",
    "Answer the following questions:\n",
    "- Which isotope has the greates atomic mass?\n",
    "- How many carbon isotopes are known?\n",
    "- Which element has the greatest number of isotopes?\n",
    "- Which lead (Pb) isotopes have a non-negligible abundance (column *Isotopic Composition*) and do their abundances add up to 100 %?"
   ]
  },
  {
   "cell_type": "code",
   "execution_count": null,
   "id": "78ecd982-d3d3-4dca-bf8e-2ded330ca732",
   "metadata": {},
   "outputs": [],
   "source": []
  },
  {
   "cell_type": "code",
   "execution_count": null,
   "id": "31dcc464-a850-4b58-8d54-239e9f3b6350",
   "metadata": {},
   "outputs": [],
   "source": []
  },
  {
   "cell_type": "code",
   "execution_count": null,
   "id": "bf411a3c-0e07-49eb-bd3e-b99a897de6ac",
   "metadata": {},
   "outputs": [],
   "source": []
  },
  {
   "cell_type": "code",
   "execution_count": null,
   "id": "2add3865",
   "metadata": {},
   "outputs": [],
   "source": []
  },
  {
   "cell_type": "markdown",
   "id": "fc8b92db-f5ce-45a7-8395-a84479945cfd",
   "metadata": {},
   "source": [
    "### Mass Excess\n",
    "The *mass excess* (or *mass defect*) corresponds to the difference between the measured mass ('Atomic Mass', unit µu) and the mass number ('Mass Number', unit u). In the dataframe it is expressed as the equivalent energy in keV. Add another column to verify this relation."
   ]
  },
  {
   "cell_type": "code",
   "execution_count": null,
   "id": "3ca2f019-251e-4f5c-978f-e61b512a7eac",
   "metadata": {},
   "outputs": [],
   "source": []
  },
  {
   "cell_type": "markdown",
   "id": "9537e324-7e31-422b-844f-ea8fa1d92823",
   "metadata": {},
   "source": [
    "### Nuclear Binding Energy\n",
    "The nuclear binding energy of a nucleus can be approximated as the mass difference of its measured mass ('Atomic Mass') and the sum of the masses of the protons, neutrons and electrons, multiplied by the square of the speed of light.\n",
    "\n",
    "Add columns for the binding energy (in MeV) and the binding energy divided by the mass number. Compare the calculated value to the values in the column 'Binding Energy per Nucleus' in the dataframe. The deviations are mostly due the electronic binding energy, which has been neglected in this calculation."
   ]
  },
  {
   "cell_type": "code",
   "execution_count": null,
   "id": "ca1c5ade-81cc-42fe-b64e-1438b6da27ef",
   "metadata": {},
   "outputs": [],
   "source": []
  },
  {
   "cell_type": "markdown",
   "id": "9be81f2a-f0bd-4927-a96a-bbe6e8018c27",
   "metadata": {},
   "source": [
    "#### Graph\n",
    "Graph the nuclear binding energy per nucleon in a diagram. Find the isotope with the highest binding energy per nucleon, i.e. the most stable isotope. List the isotopes with a negative binding energy."
   ]
  },
  {
   "cell_type": "code",
   "execution_count": null,
   "id": "722771b1-7d03-49c6-ada8-de3c71351834",
   "metadata": {},
   "outputs": [],
   "source": []
  }
 ],
 "metadata": {
  "language_info": {
   "name": "python",
   "pygments_lexer": "ipython3"
  }
 },
 "nbformat": 4,
 "nbformat_minor": 5
}
