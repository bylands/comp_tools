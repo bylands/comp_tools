{
 "cells": [
  {
   "cell_type": "markdown",
   "id": "609a54aa-c88a-40e5-9f32-ff10645eef75",
   "metadata": {},
   "source": [
    "## Boyle-Mariotte\n",
    "Air is enclosed in a cylinder whose circular base has a radius of 2.5 cm. The length of the air volume can be adjusted with a movable piston. The pressure in the cylinder is measured for different positions of the piston."
   ]
  },
  {
   "cell_type": "code",
   "execution_count": null,
   "id": "624e75ec-bb4f-4c75-b9a0-b80434e7f794",
   "metadata": {},
   "outputs": [],
   "source": [
    "import numpy as np\n",
    "\n",
    "# length of air volume in cm\n",
    "L = np.array([20.0, 19.0, 18.0, 17.0, 16.0, 15.0, 14.0, 13.0, 12.0, 11.0, 10.0, 9.0, 8.0, 7.0, 6.5, 6.0, 5.5, 5.0])\n",
    "\n",
    "# pressure in bar\n",
    "p = np.array([1.00, 1.05, 1.10, 1.20, 1.25, 1.35, 1.45, 1.55, 1.70, 1.80, 2.00, 2.20, 2.45, 2.80, 3.00, 3.20, 3.50, 3.80])"
   ]
  },
  {
   "cell_type": "markdown",
   "id": "8cc1b517-096f-4f7f-ae39-92c0495a8964",
   "metadata": {},
   "source": [
    "#### Pressure vs volume\n",
    "Using the measured data, calculate the air volumes and graph pressure vs volume."
   ]
  },
  {
   "cell_type": "code",
   "execution_count": null,
   "id": "5f9379f2-5efd-48ee-b28c-3285e8bbc6c2",
   "metadata": {},
   "outputs": [],
   "source": []
  },
  {
   "cell_type": "markdown",
   "id": "3bc93447",
   "metadata": {},
   "source": [
    "#### Verify Boyle-Mariotte\n",
    "The theory (Boyle-Mariotte law) predicts an inverse proportionality between pressure and volume:\n",
    "\n",
    "$$p = \\frac{n R T}{V}$$\n",
    "\n",
    "Visually verify the model with an appropriate fit function."
   ]
  },
  {
   "cell_type": "code",
   "execution_count": null,
   "id": "fb7c3960-8dd5-47e3-ab81-3d3f345cb8ca",
   "metadata": {},
   "outputs": [],
   "source": []
  },
  {
   "cell_type": "markdown",
   "id": "150e29e4-843e-4e7c-b0c9-ee85ae3f53dc",
   "metadata": {},
   "source": [
    "The uncertainties for the measurements are 0.05 cm for the radius, 0.05 cm for the lengths, and 0.05 bar for the pressure. Calculate the uncertainties for the volumes and add error bars to the graph."
   ]
  },
  {
   "cell_type": "code",
   "execution_count": null,
   "id": "a23d4594-3859-4133-b877-f2a48fc40ef8",
   "metadata": {},
   "outputs": [],
   "source": []
  },
  {
   "cell_type": "markdown",
   "id": "b4485ec6-7fd7-4fce-b029-4ae2a2bcd993",
   "metadata": {},
   "source": [
    "Make a residual plot to inspect the quality of the fit function."
   ]
  },
  {
   "cell_type": "code",
   "execution_count": null,
   "id": "6a72758d-9e28-40e7-adc4-174adda74a89",
   "metadata": {},
   "outputs": [],
   "source": []
  },
  {
   "cell_type": "markdown",
   "id": "268bae4d",
   "metadata": {},
   "source": [
    "#### Alternative approach\n",
    "The analysis can also be done by graphing the pressure vs. the reciprocal value of the volume. Verify if the fit parameters for the two methods are compatible."
   ]
  },
  {
   "cell_type": "code",
   "execution_count": null,
   "id": "93dce154-faff-45a4-9c83-435ff9255b2b",
   "metadata": {},
   "outputs": [],
   "source": []
  },
  {
   "cell_type": "code",
   "execution_count": null,
   "id": "11b03e9c-8c43-4425-915d-fb210f256090",
   "metadata": {},
   "outputs": [],
   "source": []
  },
  {
   "cell_type": "code",
   "execution_count": null,
   "id": "9a90bdf4-dfc4-4384-8ce5-9b280770c6cf",
   "metadata": {},
   "outputs": [],
   "source": []
  },
  {
   "cell_type": "markdown",
   "id": "1e2eaf67-70be-459a-ad3a-ab13a1901dd1",
   "metadata": {},
   "source": [
    "Not so surprisingly, the two methods yield the same result for the fit parameter."
   ]
  }
 ],
 "metadata": {
  "language_info": {
   "name": "python",
   "pygments_lexer": "ipython3"
  }
 },
 "nbformat": 4,
 "nbformat_minor": 5
}
