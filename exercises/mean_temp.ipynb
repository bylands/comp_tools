{
 "cells": [
  {
   "cell_type": "markdown",
   "id": "f908e83f-c74d-4df7-bf20-e322c278f67f",
   "metadata": {},
   "source": [
    "# Exercises: Data Analysis with Python"
   ]
  },
  {
   "cell_type": "code",
   "execution_count": null,
   "id": "35652243-4b25-485c-8cfa-ef147037e78a",
   "metadata": {},
   "outputs": [],
   "source": [
    "import polars as pl"
   ]
  },
  {
   "cell_type": "markdown",
   "id": "609a54aa-c88a-40e5-9f32-ff10645eef75",
   "metadata": {},
   "source": [
    "## Mean Temperature in Zurich\n",
    "The weather station in Zurich Fluntern has been recording temperature data since 1864."
   ]
  },
  {
   "cell_type": "markdown",
   "id": "28fcbd74-4b4b-4fdf-a50f-7d3c51bbdcc8",
   "metadata": {},
   "source": [
    "#### Import Data\n",
    "The file *sma_zrh_historical.csv* contains daily mean temperatures."
   ]
  },
  {
   "cell_type": "code",
   "execution_count": null,
   "id": "624e75ec-bb4f-4c75-b9a0-b80434e7f794",
   "metadata": {},
   "outputs": [],
   "source": [
    "df = pl.read_csv('data/sma_zrh_historical.csv', separator=';')\n",
    "df"
   ]
  },
  {
   "cell_type": "markdown",
   "id": "b13ad06e-357e-4f0a-92db-df6dac05abe5",
   "metadata": {},
   "source": [
    "#### Preparing the data\n",
    "We are only interested in the date (column 'reference_timestamp') and the daily mean temperature ('tre200d0'). Create a dataframe with only these two columns, and at the same time change the datatype of the date column and change the column names to something more meaningful."
   ]
  },
  {
   "cell_type": "code",
   "execution_count": null,
   "id": "1c97be44-3a76-416b-b8b9-4cb40e4d03da",
   "metadata": {},
   "outputs": [],
   "source": [
    "temperature = (df\n",
    "    .select(\n",
    "        pl.col('reference_timestamp')\n",
    "            .str.to_date(format='%d.%m.%Y %H:%M')\n",
    "            .alias('Date'), \n",
    "        pl.col('tre200d0')\n",
    "            .alias('Temperature')\n",
    "    )\n",
    "     )\n",
    "\n",
    "temperature"
   ]
  },
  {
   "cell_type": "markdown",
   "id": "e4d24ae8-4f1d-426d-9d85-9bfb6a0b0137",
   "metadata": {},
   "source": [
    "#### Calculate yearly means and graph data\n",
    "Calculate the yearly means using Polars' *group_by_dynamic* method. Graph the yearly mean as a function of time."
   ]
  },
  {
   "cell_type": "code",
   "execution_count": null,
   "id": "b29bd1c8-648c-4fdd-befc-60d3f9d8a772",
   "metadata": {},
   "outputs": [],
   "source": [
    "yearly_means = (temperature\n",
    "                .group_by_dynamic('Date', every='1y')\n",
    "                .agg(pl.col('Temperature').mean())\n",
    "               )\n",
    "\n",
    "yearly_means.plot.line(\n",
    "    x='Date',\n",
    "    y='Temperature'\n",
    ")"
   ]
  },
  {
   "cell_type": "markdown",
   "id": "5afd1757-b6d0-4b4e-a4a0-36cb69a9878b",
   "metadata": {},
   "source": [
    "#### Rolling Average\n",
    "To reduce the effect of yearly fluctuations, we can use a *rolling average*. Polars provides the methode *rolling* to calculate the rolling average over a given window."
   ]
  },
  {
   "cell_type": "code",
   "execution_count": null,
   "id": "057e2698-1379-49a7-81d1-daf8173a800b",
   "metadata": {},
   "outputs": [],
   "source": [
    "rolling_av = (yearly_means\n",
    "              .rolling(index_column='Date', period='10y')\n",
    "              .agg(pl.col('Temperature').mean())\n",
    "             )\n",
    "\n",
    "rolling_av.plot.line(\n",
    "    x='Date',\n",
    "    y='Temperature'\n",
    ")\n",
    "              "
   ]
  },
  {
   "cell_type": "markdown",
   "id": "144b3e2a-fbee-46c9-a0cf-6f209bca6f51",
   "metadata": {},
   "source": [
    "## Rainfall in Zurich\n",
    "As an additional we can analyse it precipitation (column 'rre150d0') has also changed over the years."
   ]
  },
  {
   "cell_type": "code",
   "execution_count": null,
   "id": "9f2f7eaf-8930-43d1-9cec-873a623eb260",
   "metadata": {},
   "outputs": [],
   "source": [
    "precipitation = (df\n",
    "    .select(\n",
    "        pl.col('reference_timestamp')\n",
    "            .str.to_date(format='%d.%m.%Y %H:%M')\n",
    "            .alias('Date'), \n",
    "        pl.col('rre150d0')\n",
    "            .alias('Precipitation')\n",
    "    )\n",
    "     )\n",
    "\n",
    "precipitation"
   ]
  },
  {
   "cell_type": "code",
   "execution_count": null,
   "id": "76c91184-1736-4bfa-8eb7-259aeed8b48a",
   "metadata": {},
   "outputs": [],
   "source": [
    "prec_roll = (precipitation\n",
    "    .group_by_dynamic('Date', every='1y')\n",
    "    .agg(pl.col('Precipitation').mean())\n",
    "    .rolling(index_column='Date', period='10y')\n",
    "    .agg(pl.col('Precipitation').mean())\n",
    "            )\n",
    "\n",
    "prec_roll.plot.line(\n",
    "    x='Date',\n",
    "    y='Precipitation'\n",
    ")"
   ]
  },
  {
   "cell_type": "code",
   "execution_count": null,
   "id": "da93c12f-15c9-4c41-89c0-8b6a97a953b1",
   "metadata": {},
   "outputs": [],
   "source": []
  }
 ],
 "metadata": {
  "language_info": {
   "name": "python",
   "pygments_lexer": "ipython3"
  }
 },
 "nbformat": 4,
 "nbformat_minor": 5
}
