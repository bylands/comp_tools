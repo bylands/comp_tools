{
 "cells": [
  {
   "cell_type": "markdown",
   "id": "119c06dd-0f00-4a3e-9716-d82658753776",
   "metadata": {},
   "source": [
    "# Introduction to SciPy\n",
    "The Python library SciPy provides several methods that can be useful in the context of numerical analysis, such as curve fits or numerical solutions of (differential) equations. It also contains a collection of important physical constants and units."
   ]
  },
  {
   "cell_type": "markdown",
   "id": "1d6414d3-49c1-4679-8710-4f7a25be7591",
   "metadata": {},
   "source": [
    "### Constants"
   ]
  },
  {
   "cell_type": "code",
   "execution_count": null,
   "id": "1352184e-7357-442d-b648-9de0c89b35bf",
   "metadata": {},
   "outputs": [],
   "source": [
    "from scipy import constants"
   ]
  },
  {
   "cell_type": "markdown",
   "id": "c2996c2a-7ed4-4269-9eac-0dc4fbf9c78b",
   "metadata": {},
   "source": [
    "#### Show list of constants"
   ]
  },
  {
   "cell_type": "code",
   "execution_count": null,
   "id": "b3289969-6562-4e81-8481-7514db34d607",
   "metadata": {},
   "outputs": [],
   "source": [
    "print(dir(constants))"
   ]
  },
  {
   "cell_type": "markdown",
   "id": "3d0a39b1-7aac-4525-a914-bf5b24089195",
   "metadata": {},
   "source": [
    "#### Using constants"
   ]
  },
  {
   "cell_type": "code",
   "execution_count": null,
   "id": "7d0bcfbe-814f-4b05-969d-2d404e558124",
   "metadata": {},
   "outputs": [],
   "source": [
    "print(f'elementary charge: e = {constants.elementary_charge} C')\n",
    "print(f'electron mass: me = {constants.electron_mass} kg')"
   ]
  },
  {
   "cell_type": "code",
   "execution_count": null,
   "id": "6a54565c-0a73-4c59-b8c8-30961586d0c8",
   "metadata": {},
   "outputs": [],
   "source": [
    "# convert proton mass to MeV\n",
    "mp = constants.m_p # proton mass in kg\n",
    "c = constants.speed_of_light # speed of light\n",
    "MeV = 1e6 * constants.electron_volt # conversion factor J -> MeV\n",
    "\n",
    "mp_MeV = mp * c**2 / MeV # convert from kg to MeV/c^2\n",
    "\n",
    "print(f'proton mass: mp = {mp_MeV} MeV/c^2')"
   ]
  },
  {
   "cell_type": "markdown",
   "id": "4c56d57b-b6a8-4791-9c4b-99077589f568",
   "metadata": {},
   "source": [
    "#### Additional Constants\n",
    "The dictionary *physical_constants* contains the recommended values (including uncertainties) of a large number of physical constants, as listed in the CODATA database."
   ]
  },
  {
   "cell_type": "code",
   "execution_count": null,
   "id": "6ac03b72-f612-4af4-ab6e-9244bdfdf7bd",
   "metadata": {},
   "outputs": [],
   "source": [
    "m_al, unit, uncertainty = constants.physical_constants['alpha particle mass']\n",
    "print(f'mass of alpha particle: {m_al} {unit} (± {uncertainty} {unit})')"
   ]
  },
  {
   "cell_type": "markdown",
   "id": "fcabe657-c06c-41ab-af72-653182da6578",
   "metadata": {},
   "source": [
    "### Finding root of function\n",
    "Many equations cannot be solved analytically, e.g. if trigonometric functions are involved. It is still possible to calculate a numerical solution using an appropriate algorithm.\n",
    "\n",
    "As an example, we are going to find the nontrivial solution for the equation\n",
    "\n",
    "$\\sin(x) = \\frac{1}{2} x$"
   ]
  },
  {
   "cell_type": "code",
   "execution_count": null,
   "id": "527e911f-2120-4c22-8d4e-8d43e7b63bfc",
   "metadata": {},
   "outputs": [],
   "source": [
    "import matplotlib.pyplot as plt\n",
    "import numpy as np\n",
    "from scipy.optimize import root_scalar\n",
    "\n",
    "# define function\n",
    "def f(x):\n",
    "    return np.sin(x) - x/2\n",
    "\n",
    "sol = root_scalar(f, x0=2) # find root with initial guess x=2\n",
    "\n",
    "solx = sol.root\n",
    "soly = solx/2\n",
    "\n",
    "x = np.linspace(0, np.pi, 100)\n",
    "y = np.sin(x)\n",
    "\n",
    "plt.plot(x, y, label=r'$f(x)=\\sin(x)$')\n",
    "plt.plot(x, x/2, label=r'$g(x)=\\frac{x}{2}$')\n",
    "plt.scatter(solx, soly, c='red')\n",
    "plt.legend()\n",
    "plt.grid()\n",
    "plt.show()"
   ]
  },
  {
   "cell_type": "markdown",
   "id": "12ee6d25-2aeb-4182-8edf-d520348bf738",
   "metadata": {},
   "source": [
    "### Special functions\n",
    "There are a lot of special functions used in science whose values cannot be calculated easily, e.g. Elliptic functions, Bessel functions, etc.\n",
    "\n",
    "As an example we use a special function in SciPy to calculate the area under the Gaussian function (normal distribution):\n",
    "\n",
    "$P(x) = \\frac{1}{\\sqrt{2\\pi}} \\int_{-\\infty}^x \\exp(-t^2/2) dt$"
   ]
  },
  {
   "cell_type": "code",
   "execution_count": null,
   "id": "25b0566c-4c04-484c-adec-b379b9ff7c04",
   "metadata": {},
   "outputs": [],
   "source": [
    "from scipy.special import ndtr\n",
    "\n",
    "print(f'A(0.5) = {ndtr(-0.2)}')\n",
    "\n",
    "A = ndtr(1) - ndtr(-1) # area between x1 = -1 and x2 = +1\n",
    "print(f'area between -1 and 1: A = {A}') # (corresponds to ± 1 standard deviation)"
   ]
  },
  {
   "cell_type": "code",
   "execution_count": null,
   "id": "9bf76cec-0b7d-4a92-b537-3a5c3a960c9a",
   "metadata": {},
   "outputs": [],
   "source": []
  }
 ],
 "metadata": {
  "language_info": {
   "name": "python",
   "pygments_lexer": "ipython3"
  }
 },
 "nbformat": 4,
 "nbformat_minor": 5
}
