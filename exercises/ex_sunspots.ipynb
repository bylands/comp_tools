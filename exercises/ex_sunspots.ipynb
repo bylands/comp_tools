{
 "cells": [
  {
   "cell_type": "markdown",
   "id": "f908e83f-c74d-4df7-bf20-e322c278f67f",
   "metadata": {},
   "source": [
    "# Exercises: Data Analysis with Python"
   ]
  },
  {
   "cell_type": "code",
   "execution_count": null,
   "id": "35652243-4b25-485c-8cfa-ef147037e78a",
   "metadata": {},
   "outputs": [],
   "source": [
    "import polars as pl\n",
    "import numpy as np\n",
    "import matplotlib.pyplot as plt"
   ]
  },
  {
   "cell_type": "markdown",
   "id": "609a54aa-c88a-40e5-9f32-ff10645eef75",
   "metadata": {},
   "source": [
    "## Sunspots\n",
    "The number of sunspots (darker regions on the surface of the sun that are colder than the surrounding area) varies over time with a roughly 11-year solar cycle."
   ]
  },
  {
   "cell_type": "markdown",
   "id": "28fcbd74-4b4b-4fdf-a50f-7d3c51bbdcc8",
   "metadata": {},
   "source": [
    "#### Import Data\n",
    "The file *sunspot_data.csv* contains data going back to 1818. For days without a reported number, the column *Number of Sunspots\" contains the value -1.\n",
    "\n",
    "Make yourself familiar with the structure of the dataframe and find the number of sunspots on your birthday and the maximum number of sunspots in the dataset."
   ]
  },
  {
   "cell_type": "code",
   "execution_count": null,
   "id": "624e75ec-bb4f-4c75-b9a0-b80434e7f794",
   "metadata": {},
   "outputs": [],
   "source": [
    "path = 'data/sunspot_data.csv'\n",
    "\n",
    "df = pl.read_csv(path)\n",
    "\n",
    "print('list of column headers: \\n', df.columns, end='\\n\\n')\n",
    "print(f'number of objects in dataset: {df.shape[0]}', end='\\n\\n')\n",
    "\n",
    "b_year = 1971\n",
    "b_month = 3\n",
    "b_day = 13\n",
    "\n",
    "n_spots = (df.filter(\n",
    "    (pl.col('Year') == b_year) &\n",
    "    (pl.col('Month') == b_month) &\n",
    "    (pl.col('Day') == b_day)\n",
    ")\n",
    " .get_column('Number of Sunspots').to_list()\n",
    ")[0]\n",
    "\n",
    "print(f'The number of sunspots on {b_day}/{b_month}/{b_year} was {n_spots}')"
   ]
  },
  {
   "cell_type": "markdown",
   "id": "38898631-fa81-4da3-94c0-eb2e826748a3",
   "metadata": {},
   "source": [
    "#### Solar Cycle\n",
    "To verify the solar cycle, make a diagram showing the average number of sunspots per month."
   ]
  },
  {
   "cell_type": "code",
   "execution_count": null,
   "id": "1c97be44-3a76-416b-b8b9-4cb40e4d03da",
   "metadata": {},
   "outputs": [],
   "source": [
    "def format_month(m):\n",
    "    return f'{m:02d}'\n",
    "\n",
    "data = (df\n",
    "    .filter(pl.col('Number of Sunspots') != -1)\n",
    "    .with_columns((pl.col('Year')+pl.col('Month')/12).alias('Year/Month'))\n",
    "    .group_by('Year/Month')\n",
    "    .agg(pl.col('Number of Sunspots').mean())\n",
    "    .sort('Year/Month')\n",
    ")"
   ]
  },
  {
   "cell_type": "code",
   "execution_count": null,
   "id": "920cadd6-d79f-440c-ada8-0b8b0bb3176e",
   "metadata": {},
   "outputs": [],
   "source": [
    "date = data.get_column('Year/Month')\n",
    "n_spots = data.get_column('Number of Sunspots')\n",
    "\n",
    "plt.plot(date, n_spots)"
   ]
  },
  {
   "cell_type": "code",
   "execution_count": null,
   "id": "744d0ae3-f94c-42ce-8659-a9a266208fba",
   "metadata": {},
   "outputs": [],
   "source": []
  }
 ],
 "metadata": {
  "language_info": {
   "name": "python",
   "pygments_lexer": "ipython3"
  }
 },
 "nbformat": 4,
 "nbformat_minor": 5
}
