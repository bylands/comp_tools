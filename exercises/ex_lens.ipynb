{
 "cells": [
  {
   "cell_type": "markdown",
   "id": "f908e83f-c74d-4df7-bf20-e322c278f67f",
   "metadata": {},
   "source": [
    "# Exercises: Data Analysis with Python"
   ]
  },
  {
   "cell_type": "code",
   "execution_count": null,
   "id": "35652243-4b25-485c-8cfa-ef147037e78a",
   "metadata": {},
   "outputs": [],
   "source": [
    "import numpy as np\n",
    "import matplotlib.pyplot as plt\n",
    "\n",
    "from scipy.optimize import curve_fit"
   ]
  },
  {
   "cell_type": "markdown",
   "id": "609a54aa-c88a-40e5-9f32-ff10645eef75",
   "metadata": {},
   "source": [
    "## Thin Lens Equation\n",
    "The following data for a lens was measured by two students. The first array contains the object distance (i.e. the distance from the object to the lens), the second array the corresponding image distance (i.e. the distance from the lens where a sharp image can be observed). Assuming a thin lens, we know that the relation between object and image distance is given by the thin lens equation:\n",
    "\n",
    "$\\frac{1}{f} = \\frac{1}{d_o} + \\frac{1}{d_i}$\n",
    "\n",
    "where $f$ is the focal length, $d_o$ the object distance, and $d_i$ the image distance."
   ]
  },
  {
   "cell_type": "code",
   "execution_count": null,
   "id": "624e75ec-bb4f-4c75-b9a0-b80434e7f794",
   "metadata": {},
   "outputs": [],
   "source": [
    "# object distance in cm\n",
    "o = np.array([38, 30, 25, 50, 70, 60, 27, 32, 35, 45, 55, 65])\n",
    "do = 0.5 # measurement error in cm\n",
    "\n",
    "# image distance in cm\n",
    "i = np.array([24, 29, 36, 21, 19, 20, 33, 27, 26, 22, 20, 19])\n",
    "di = 0.5 # measurement error in cm"
   ]
  },
  {
   "cell_type": "markdown",
   "id": "8cc1b517-096f-4f7f-ae39-92c0495a8964",
   "metadata": {},
   "source": [
    "#### Method 1\n",
    "Graph the reciprocal value of the image distance vs the reciprocal value of the object distance. This should result in a linear function with slope -1 and axis intercept $1/f$. Investigate the quality of the linear fit and determine the focal length."
   ]
  },
  {
   "cell_type": "code",
   "execution_count": null,
   "id": "73fc652e-e920-4acf-b885-027cf21a8817",
   "metadata": {},
   "outputs": [],
   "source": [
    "o_inv = 1/o\n",
    "do_inv = 1/(o-do) - o_inv\n",
    "\n",
    "i_inv = 1/i\n",
    "di_inv = 1/(i-di) - i_inv"
   ]
  },
  {
   "cell_type": "code",
   "execution_count": null,
   "id": "fb7c3960-8dd5-47e3-ab81-3d3f345cb8ca",
   "metadata": {},
   "outputs": [],
   "source": [
    "def fit1(x, m, q):\n",
    "    return m * x + q\n",
    "\n",
    "coeff1, pcov1 = curve_fit(fit1, o_inv, i_inv)\n",
    "m, q = coeff1\n",
    "dm = np.sqrt(pcov1[0, 0])\n",
    "dq = np.sqrt(pcov1[1, 1])\n",
    "x = np.linspace(0, max(o_inv), 100)\n",
    "y = fit1(x, m, q)\n",
    "\n",
    "plt.errorbar(o_inv, i_inv, xerr=do_inv, yerr=di_inv, fmt='.', label='data')\n",
    "plt.plot(x, y, label=f'linear fit with m = {m:.3f} and q = {q:.3f}'\n",
    "        + r' cm$^{-1}$')\n",
    "plt.xlabel(r'$d_o^{-1}$ (cm$^{-1}$)')\n",
    "plt.ylabel(r'$d_i^{-1}$ (cm$^{-1}$)')\n",
    "plt.grid()\n",
    "plt.legend()\n",
    "plt.show()"
   ]
  },
  {
   "cell_type": "code",
   "execution_count": null,
   "id": "75794520-4c09-437d-9075-2974246b6d61",
   "metadata": {},
   "outputs": [],
   "source": [
    "res = i_inv - fit1(o_inv, m, q)\n",
    "n = range(1, len(res)+1)\n",
    "\n",
    "plt.errorbar(n, res, yerr=di_inv, fmt='.')\n",
    "plt.xlabel('# data point')\n",
    "plt.ylabel(r'residual (cm$^{-1}$)')\n",
    "plt.grid()\n",
    "plt.show()"
   ]
  },
  {
   "cell_type": "markdown",
   "id": "42bb1971-6cf2-4325-8b9f-f6416a63dd76",
   "metadata": {},
   "source": [
    "The residual plot confirms a good agreement between the data and the linear fit. All residuals are compatible with 0, i.e. the horizontal axis lies within the error bars of all data points."
   ]
  },
  {
   "cell_type": "code",
   "execution_count": null,
   "id": "a7c0f899-8bfd-4dea-8a6f-840336ab5d17",
   "metadata": {},
   "outputs": [],
   "source": [
    "print(f'The slope is m = {m:.3f} ± {dm:.3f}')\n",
    "print('This is compatible with the expected value m = 1.')\n",
    "\n",
    "f = 1/q\n",
    "df = 1/(q-dq) - f\n",
    "\n",
    "print(f'The focal length is f = ({f:.2f} ± {df:.2f}) cm')"
   ]
  },
  {
   "cell_type": "markdown",
   "id": "010c3635-c94f-4cca-9f34-f3ff75999345",
   "metadata": {},
   "source": [
    "#### Method 2\n",
    "Solving the lens equation for the image distance yields\n",
    "\n",
    "$d_i = \\left(\\frac{1}{f} - \\frac{1}{d_o}\\right)^{-1}$\n",
    "\n",
    "Investigate this relation with an appropriate fit function."
   ]
  },
  {
   "cell_type": "code",
   "execution_count": null,
   "id": "68b588fe-48a0-404a-8e8e-13c5e6de8aa4",
   "metadata": {},
   "outputs": [],
   "source": [
    "def fit2(x, f):\n",
    "    return 1/(1/f - 1/x)\n",
    "\n",
    "coeff2, pcov2 = curve_fit(fit2, o, i)\n",
    "f2 = coeff2[0]\n",
    "\n",
    "u = np.linspace(min(o), max(o), 100)\n",
    "v = fit2(u, f)\n",
    "\n",
    "plt.errorbar(o, i, xerr=do, yerr=di, fmt='.', label='data')\n",
    "plt.plot(u, v, label=f\"fit with f = {f:.2f} cm\")\n",
    "plt.xlabel(r'$d_o$ (cm)')\n",
    "plt.ylabel(r'$d_i$ (cm)')\n",
    "plt.grid()\n",
    "plt.legend()\n",
    "plt.show()"
   ]
  },
  {
   "cell_type": "code",
   "execution_count": null,
   "id": "c6aa18f8-c005-468c-be1d-d462de40e6e2",
   "metadata": {},
   "outputs": [],
   "source": [
    "res2 = i - fit2(o, f)\n",
    "n = range(1, len(res2)+1)\n",
    "\n",
    "plt.errorbar(n, res2, yerr=di, fmt='.')\n",
    "plt.xlabel('# data point')\n",
    "plt.ylabel(f'residual (cm)')\n",
    "plt.grid()\n",
    "plt.show()"
   ]
  },
  {
   "cell_type": "markdown",
   "id": "f4733e81-69c5-493a-a4a7-1dbb0deebf80",
   "metadata": {},
   "source": [
    "Again, there is a good agreement between the data and the fit."
   ]
  },
  {
   "cell_type": "code",
   "execution_count": null,
   "id": "ca548e31-6778-409c-97d3-b33bb7649785",
   "metadata": {},
   "outputs": [],
   "source": [
    "print(f'The focal length found with method 2 is f = ({f:.2f} ± {df:.2f}) cm')"
   ]
  },
  {
   "cell_type": "markdown",
   "id": "5f30199c-2ed9-42d1-a3c7-71900dd5cf22",
   "metadata": {},
   "source": [
    "Both methods lead to the same value for the focal length – which should be no surprise."
   ]
  }
 ],
 "metadata": {
  "language_info": {
   "name": "python",
   "pygments_lexer": "ipython3"
  }
 },
 "nbformat": 4,
 "nbformat_minor": 5
}
