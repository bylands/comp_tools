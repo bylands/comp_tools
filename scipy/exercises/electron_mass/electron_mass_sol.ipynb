{
 "cells": [
  {
   "cell_type": "markdown",
   "id": "119c06dd-0f00-4a3e-9716-d82658753776",
   "metadata": {},
   "source": [
    "# Charge and Mass\n",
    "An object is charged with +230 nC. Calculate how its mass changes due to the electrons taken away. Use the values for electron charge and mass in scipy.constants."
   ]
  },
  {
   "cell_type": "code",
   "execution_count": null,
   "id": "7d0bcfbe-814f-4b05-969d-2d404e558124",
   "metadata": {},
   "outputs": [],
   "source": [
    "from scipy import constants\n",
    "\n",
    "# charge and mass of an electron\n",
    "qe = constants.elementary_charge\n",
    "me = constants.electron_mass"
   ]
  },
  {
   "cell_type": "code",
   "execution_count": null,
   "id": "6a54565c-0a73-4c59-b8c8-30961586d0c8",
   "metadata": {},
   "outputs": [],
   "source": [
    "# Calculate the number of electrons\n",
    "q = 230e-9 # charge in C\n",
    "\n",
    "# number of electrons taken away\n",
    "n = q / qe # number of electrons\n",
    "\n",
    "# Calculate the mass change\n",
    "dm = -n * me # mass change in kg\n",
    "\n",
    "print(f'Number of electrons taken away: {n:.2e}')\n",
    "print(f'Mass change: {dm:.2e} kg')"
   ]
  }
 ],
 "metadata": {
  "language_info": {
   "name": "python",
   "pygments_lexer": "ipython3"
  }
 },
 "nbformat": 4,
 "nbformat_minor": 5
}
