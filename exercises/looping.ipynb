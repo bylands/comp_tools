{
 "cells": [
  {
   "cell_type": "markdown",
   "id": "a5206cc1-0493-4c96-a525-ef81ecdc1d7a",
   "metadata": {},
   "source": [
    "# Looping\n",
    "We consider the work done on a massive object moving in a looping (i.e. in a vertical circle). The gravitational force always points vertically downwards while the direction of motion changes continuously.\n",
    "\n",
    "The idea of this exercise is to approximate the circle as a polygon, and to calculate the work for each of the edges of the polygon."
   ]
  },
  {
   "cell_type": "code",
   "execution_count": 57,
   "id": "433f321c-9f88-46b2-8f81-8403c475e639",
   "metadata": {},
   "outputs": [],
   "source": [
    "import numpy as np\n",
    "import matplotlib.pyplot as plt"
   ]
  },
  {
   "cell_type": "markdown",
   "id": "e8e6dfe1-9ff2-4872-bdce-95c13f31f371",
   "metadata": {},
   "source": [
    "#### Define work function"
   ]
  },
  {
   "cell_type": "code",
   "execution_count": 58,
   "id": "be8d350a-8843-403e-8bd1-f6f37567b951",
   "metadata": {},
   "outputs": [],
   "source": [
    "def work(F, ds):\n",
    "    '''\n",
    "    Calculate the work done by force F over displacement ds.\n",
    "    The work corresponds to the dot product of F and ds.\n",
    "    '''\n",
    "    \n",
    "    return np.dot(F, ds)"
   ]
  },
  {
   "cell_type": "markdown",
   "id": "f4e9e596-0e32-4e1d-ba88-0520302d0810",
   "metadata": {},
   "source": [
    "#### Verify work function\n",
    "To verify if the work function works as expected, we apply it to the following situations where a force of 2 N acts on an object displaced by 3 m:\n",
    "- Both the force and the object in the positive $x$ direction.\n",
    "- The force acts in the positive $y$ direction, and the object is displaced in the negative $y$ direction.\n",
    "- The force acts in the positive $x$ direction, and the object is displaced in the positive $y$ direction.\n",
    "- The force acts in the positive $x$ direction, and the object is displaced along the angle bisector between the $x$ and $y$ axis."
   ]
  },
  {
   "cell_type": "code",
   "execution_count": 59,
   "id": "0355880c-721b-4a44-ac2e-95f7576bad83",
   "metadata": {},
   "outputs": [
    {
     "name": "stdout",
     "output_type": "stream",
     "text": [
      "Case 1: W = 6 N\n",
      "Case 2: W = -6 N\n",
      "Case 3: W = 0 N\n",
      "Case 3: W = 4.24 N\n"
     ]
    }
   ],
   "source": [
    "# Case 1\n",
    "F = np.array([2, 0]) # force along positive x axis\n",
    "ds = np.array([3, 0]) # displacement along positive x axis\n",
    "print(f'Case 1: W = {work(F, ds)} N')\n",
    "\n",
    "# Case 2\n",
    "F = np.array([0, 2]) # force along positive y axis\n",
    "ds = np.array([0, -3]) # displacement along negative y axis\n",
    "print(f'Case 2: W = {work(F, ds)} N')\n",
    "\n",
    "# Case 3\n",
    "F = np.array([2, 0]) # force along positive x axis\n",
    "ds = np.array([0, 3]) # displacement along positive y axis\n",
    "print(f'Case 3: W = {work(F, ds)} N')\n",
    "\n",
    "# Case 1\n",
    "F = np.array([2, 0]) # force along positive x axis\n",
    "ds = np.array([3, 3])/np.sqrt(2) # displacement along angle bisector\n",
    "print(f'Case 3: W = {work(F, ds):.2f} N')"
   ]
  },
  {
   "cell_type": "markdown",
   "id": "853a3b3c-e293-43a4-9ce0-817e1dc03e82",
   "metadata": {},
   "source": [
    "#### Define points on circle\n",
    "We choose $n$ points on a circle with radius 5 m. We divide the full circle in the right (way up) and left (way down) semicircle."
   ]
  },
  {
   "cell_type": "code",
   "execution_count": 103,
   "id": "672aef45-7144-4ce8-9bdd-0e0f65ab3405",
   "metadata": {},
   "outputs": [
    {
     "data": {
      "image/png": "[encoded data removed]",
      "text/plain": [
       "<Figure size 500x500 with 1 Axes>"
      ]
     },
     "metadata": {},
     "output_type": "display_data"
    }
   ],
   "source": [
    "n = 100 # number of points per semicircle\n",
    "r = 5 # radius of circle\n",
    "\n",
    "# calculate n angles in range [0, 2π]\n",
    "angles_up = [np.pi / n * i for i in range(n + 1)]\n",
    "angles_down = [np.pi / n * i for i in range(n, 2 * n + 1)]\n",
    "\n",
    "# calculate x and y coordinates\n",
    "x_up = r * np.sin(angles_up)\n",
    "y_up = - r * np.cos(angles_up)\n",
    "\n",
    "x_down = r * np.sin(angles_down)\n",
    "y_down = - r * np.cos(angles_down)\n",
    "\n",
    "# plot y vs x\n",
    "plt.figure(figsize=(5, 5))\n",
    "plt.plot(x_up, y_up, label='way up')\n",
    "plt.plot(x_down, y_down, label='way down')\n",
    "plt.plot(x_up[0], y_up[0], 'o', label='start/end')\n",
    "plt.legend()\n",
    "plt.show()\n",
    "\n",
    "# combine x and y to an array of 2d vectors\n",
    "points_up = np.stack([x_up, y_up], axis=1)\n",
    "points_down = np.stack([x_down, y_down], axis=1)\n",
    "\n",
    "# calculate displacements\n",
    "ds_up = np.diff(points_up, axis=0)\n",
    "ds_down = np.diff(points_down, axis=0)"
   ]
  },
  {
   "cell_type": "markdown",
   "id": "9f517927-f6fb-4d84-ba12-40cccc3b6632",
   "metadata": {},
   "source": [
    "#### Define force and calculate work\n",
    "We assume a force of 750 N pointing downwards (negative $y$ axis)."
   ]
  },
  {
   "cell_type": "code",
   "execution_count": 104,
   "id": "b1ecde6f-03e9-4cda-9bd7-ff995d18b5be",
   "metadata": {},
   "outputs": [
    {
     "name": "stdout",
     "output_type": "stream",
     "text": [
      "work on way up:   W_up   = -7500 J\n",
      "work on way down: W_down =  7500 J\n"
     ]
    }
   ],
   "source": [
    "F = np.array([0, -750])\n",
    "\n",
    "# right semicircle\n",
    "# \"wrong order\" required to allow for broadcasting \n",
    "# of dimension (N x 2) onto dimension 2\n",
    "dW_up = np.dot(ds_up, F) \n",
    "W_up = np.sum(dW_up)\n",
    "\n",
    "# left semicircle\n",
    "dW_down = np.dot(ds_down, F) \n",
    "W_down = np.sum(dW_down)\n",
    "\n",
    "print(f'work on way up:   W_up   = {W_up:.0f} J')\n",
    "print(f'work on way down: W_down =  {W_down:.0f} J')"
   ]
  },
  {
   "cell_type": "markdown",
   "id": "e5817e3a-6f14-4d04-ac2d-babd68d5237a",
   "metadata": {},
   "source": [
    "#### Interpretation\n",
    "It is clear that the work on the way up has the same magnitude as the work on the way down. The former has a negative sign since gravitation acts against the displacement. We can also say that work has to be done against the gravitational force. The latter has a positive sign, i.e. the gravitational force does work on the object.\n",
    "\n",
    "It should also be evident that the result is just the product of the force and the height of the circle, i.e. 750 N · 10 m. The path from the lowest to the highest point does not affect the work done by the gravitational force. This is a characteristic property of so-called *conservative fields*."
   ]
  },
  {
   "cell_type": "code",
   "execution_count": null,
   "id": "ee58bbbc-4dee-45a7-ba06-002560430bb6",
   "metadata": {},
   "outputs": [],
   "source": []
  }
 ],
 "metadata": {
  "kernelspec": {
   "display_name": "Python 3 (ipykernel)",
   "language": "python",
   "name": "python3"
  },
  "language_info": {
   "codemirror_mode": {
    "name": "ipython",
    "version": 3
   },
   "file_extension": ".py",
   "mimetype": "text/x-python",
   "name": "python",
   "nbconvert_exporter": "python",
   "pygments_lexer": "ipython3",
   "version": "3.13.5"
  }
 },
 "nbformat": 4,
 "nbformat_minor": 5
}
