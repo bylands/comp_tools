{
 "cells": [
  {
   "cell_type": "markdown",
   "id": "af35ee5a-2daa-4348-b653-1040811b3bf6",
   "metadata": {},
   "source": [
    "# Electric Energy\n",
    "Use the Pint library to answer the following questions about the production of electric energy in Switzerland."
   ]
  },
  {
   "cell_type": "markdown",
   "id": "a3d48c42-1dd7-4d49-91b5-b80d9cc34974",
   "metadata": {},
   "source": [
    "#### Yearly energy production\n",
    "Switzerland produces about 75 TWh electric energy per year. Convert this quantity to Joules."
   ]
  },
  {
   "cell_type": "code",
   "execution_count": null,
   "id": "fa463509-6126-405a-9767-07c72d38a389",
   "metadata": {},
   "outputs": [],
   "source": []
  },
  {
   "cell_type": "markdown",
   "id": "512e0869-724e-44d6-b111-65f6392e59b7",
   "metadata": {},
   "source": [
    "#### Average power\n",
    "Calculate the average electric power produced."
   ]
  },
  {
   "cell_type": "code",
   "execution_count": null,
   "id": "209697eb-5c0c-4cb6-b112-4929e9a75343",
   "metadata": {},
   "outputs": [],
   "source": []
  },
  {
   "cell_type": "markdown",
   "id": "d54246a1-106d-4654-8112-65c1ed862805",
   "metadata": {},
   "source": [
    "#### Average current\n",
    "Assuming a voltage of 230 V throughout the grid, calculate the average current for all of Switzerland and for each of its 9 million inhabitants."
   ]
  },
  {
   "cell_type": "code",
   "execution_count": null,
   "id": "9b56b852",
   "metadata": {},
   "outputs": [],
   "source": []
  },
  {
   "cell_type": "code",
   "execution_count": null,
   "id": "5df0074b",
   "metadata": {},
   "outputs": [],
   "source": []
  }
 ],
 "metadata": {
  "language_info": {
   "name": "python",
   "pygments_lexer": "ipython3"
  }
 },
 "nbformat": 4,
 "nbformat_minor": 5
}
