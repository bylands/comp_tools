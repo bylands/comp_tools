{
 "cells": [
  {
   "cell_type": "markdown",
   "id": "119c06dd-0f00-4a3e-9716-d82658753776",
   "metadata": {},
   "source": [
    "# Introduction to NumPy\n",
    "NumPy is the de facto standard for numerical calculations in Python. It can efficiently perform calculations with large data series, matrices, vectors, etc."
   ]
  },
  {
   "cell_type": "markdown",
   "id": "0bb68247-ef0c-4249-9cbb-638988df0a45",
   "metadata": {},
   "source": [
    "#### Import NumPy"
   ]
  },
  {
   "cell_type": "code",
   "execution_count": null,
   "id": "d43296ab-1375-48ee-a2d4-7fa69f4ab8f0",
   "metadata": {},
   "outputs": [],
   "source": [
    "import numpy as np"
   ]
  },
  {
   "cell_type": "markdown",
   "id": "1d6414d3-49c1-4679-8710-4f7a25be7591",
   "metadata": {},
   "source": [
    "### Working with NumPy Arrays"
   ]
  },
  {
   "cell_type": "markdown",
   "id": "082c7b97-a893-4649-be22-dff3c3629ee9",
   "metadata": {},
   "source": [
    "#### Create numpy arrays"
   ]
  },
  {
   "cell_type": "code",
   "execution_count": null,
   "id": "1352184e-7357-442d-b648-9de0c89b35bf",
   "metadata": {},
   "outputs": [],
   "source": [
    "# create array from list\n",
    "a_list = [1, 2, 3, 4, 5]\n",
    "a = np.array(a_list)\n",
    "print(f'{a = }')\n",
    "\n",
    "# create empty array\n",
    "e = np.zeros(10)\n",
    "print(f'{e = }')\n",
    "\n",
    "# create range of values (with start value and step size, similar to range)\n",
    "r = np.arange(10, 15.5, .5)\n",
    "print(f'{r = }')\n",
    "\n",
    "# create evenly spaced values between min and max value\n",
    "x = np.linspace(100, 200, 11)\n",
    "print(f'{x = }')"
   ]
  },
  {
   "cell_type": "markdown",
   "id": "3d0a39b1-7aac-4525-a914-bf5b24089195",
   "metadata": {},
   "source": [
    "#### Slicing arrays"
   ]
  },
  {
   "cell_type": "code",
   "execution_count": null,
   "id": "6ac03b72-f612-4af4-ab6e-9244bdfdf7bd",
   "metadata": {},
   "outputs": [],
   "source": [
    "a[2] # access element with index 2 (first element has index 0)"
   ]
  },
  {
   "cell_type": "code",
   "execution_count": null,
   "id": "9ed7a2c9-f818-43bf-ad1e-5eccb6d71e05",
   "metadata": {},
   "outputs": [],
   "source": [
    "a[-2] # access second to last element"
   ]
  },
  {
   "cell_type": "code",
   "execution_count": null,
   "id": "a195f4c5-6fa3-4332-bc88-3e7e914d7a20",
   "metadata": {},
   "outputs": [],
   "source": [
    "a[1:4] # subarray from index 1 to index 3 (upper boundary excluded)"
   ]
  },
  {
   "cell_type": "markdown",
   "id": "3978ee70-1a20-4e6a-819b-8b8890ea2709",
   "metadata": {},
   "source": [
    "#### Calculate with arrays"
   ]
  },
  {
   "cell_type": "code",
   "execution_count": null,
   "id": "c494e81c-3802-45c9-aecc-fac58f91207b",
   "metadata": {},
   "outputs": [],
   "source": [
    "a**2 # operations are calculated element wise"
   ]
  },
  {
   "cell_type": "code",
   "execution_count": null,
   "id": "0dbe080a-2e03-43b9-b435-5d5846dceef3",
   "metadata": {},
   "outputs": [],
   "source": [
    "np.sqrt(x) # numpy provides many mathematical functions"
   ]
  },
  {
   "cell_type": "code",
   "execution_count": null,
   "id": "8218f515-0290-4346-abb5-0af86babfb38",
   "metadata": {},
   "outputs": [],
   "source": [
    "r * x # calculations with arrays of same length"
   ]
  },
  {
   "cell_type": "markdown",
   "id": "6aba77df-4457-4542-aa2b-152c529bdc1f",
   "metadata": {},
   "source": [
    "#### Example: Temperature data\n",
    "Perform some simple calculations based on temperature data."
   ]
  },
  {
   "cell_type": "code",
   "execution_count": null,
   "id": "06216556-011e-44cf-b8d9-930f0ac6b9c1",
   "metadata": {},
   "outputs": [],
   "source": [
    "path = 'data/zrh_temp_2024.csv' # file containing daily average temperatures for 2024\n",
    "temperature = np.genfromtxt(path, skip_header=1) # create array from textfile, skip header"
   ]
  },
  {
   "cell_type": "code",
   "execution_count": null,
   "id": "9db17ad8-f5a0-4fe4-9d43-1b43de1ff482",
   "metadata": {},
   "outputs": [],
   "source": [
    "n = len(temperature) # number of entries\n",
    "t_min = np.min(temperature)\n",
    "t_max = np.max(temperature)\n",
    "t_mean = np.mean(temperature)\n",
    "t_std = np.std(temperature)\n",
    "\n",
    "print(f'number of data points: {n}')\n",
    "print(f'minimum temperature: {t_min}°C')\n",
    "print(f'maximum temperature: {t_max}°C')\n",
    "print(f'yearly mean temperature: {t_mean:.2f}°C')\n",
    "print(f'standard deviation: {t_std:.2f}°C')"
   ]
  },
  {
   "cell_type": "markdown",
   "id": "4f7bc9e1-fcd3-4d79-b53e-9cbba53b0185",
   "metadata": {},
   "source": [
    "### Vectors and Matrices"
   ]
  },
  {
   "cell_type": "markdown",
   "id": "6ac485ba-79e3-4ecd-be61-de252bc29b4c",
   "metadata": {},
   "source": [
    "Vectors can be implemented as arrays with 2 (2D vectors) or 3 (3D vectors) elements. Typical vector operations can easily be calculated."
   ]
  },
  {
   "cell_type": "code",
   "execution_count": null,
   "id": "a635feca-591a-4a77-97f1-648c80b45e26",
   "metadata": {},
   "outputs": [],
   "source": [
    "u = np.array([1, 3, 2]) # vector u\n",
    "v = np.array([3, 2, 4]) # vector v\n",
    "\n",
    "print(f'sum: u + v = {u+v}')\n",
    "print(f'difference: u - v = {u-v}')\n",
    "print(f'scalar multiplication: 3 u = {3*u}')\n",
    "print(f'dot product: u · v = {np.dot(u, v)}')\n",
    "print(f'cross product: u x v = {np.cross(u, v)}')"
   ]
  },
  {
   "cell_type": "markdown",
   "id": "9e1f3da6-0d89-47cf-b6b4-bc2aa348ed59",
   "metadata": {},
   "source": [
    "A matrix can be represented by a two-dimensional array (i.e. a nested array)."
   ]
  },
  {
   "cell_type": "code",
   "execution_count": null,
   "id": "8b36e9ec-eadd-464a-96f0-12e8884c493e",
   "metadata": {},
   "outputs": [],
   "source": [
    "A = np.array([[0, 1, 9], [2, 0, 3], [6, 2, 3]])\n",
    "B = np.array([[0, 1, 3], [1, 0, 1], [3, 2, 1]])\n",
    "print(A)\n",
    "print()\n",
    "print(B)"
   ]
  },
  {
   "cell_type": "markdown",
   "id": "7672c8d0-01e7-4278-a6cb-94c98cc49a71",
   "metadata": {},
   "source": [
    "The symbol @ is used for matrix multiplication:"
   ]
  },
  {
   "cell_type": "code",
   "execution_count": null,
   "id": "916244fc-f148-4d1e-83fb-4dfa18db957d",
   "metadata": {},
   "outputs": [],
   "source": [
    "print(A @ B) # product of A and B\n",
    "print()\n",
    "print(A @ u) # A applied to vector u"
   ]
  },
  {
   "cell_type": "markdown",
   "id": "aaafdab5-0d27-4a53-84c6-aa9ce2ef08cf",
   "metadata": {},
   "source": [
    "The sub-library numpy.linalg contains additional methods to work with matrices."
   ]
  },
  {
   "cell_type": "code",
   "execution_count": null,
   "id": "d9d91656-d952-41bf-8876-7ba797ed886a",
   "metadata": {},
   "outputs": [],
   "source": [
    "from numpy.linalg import inv, eig"
   ]
  },
  {
   "cell_type": "markdown",
   "id": "da2bcf1e-5a9d-4644-a561-e8741efb6387",
   "metadata": {},
   "source": [
    "#### Inverted matrix"
   ]
  },
  {
   "cell_type": "code",
   "execution_count": null,
   "id": "2cc8be1f-e3e0-43e2-b70d-a5db630945b4",
   "metadata": {},
   "outputs": [],
   "source": [
    "print(inv(A)) # inverse of matrix A\n",
    "print()\n",
    "print(A @ inv(A)) # should be identity matrix; deviations are due to numerical errors\n",
    "print()\n",
    "print(np.round(A @ inv(A), decimals=5))"
   ]
  },
  {
   "cell_type": "markdown",
   "id": "01284235-5a02-4b5d-9e49-ab34b263eedd",
   "metadata": {},
   "source": [
    "#### Eigenvalues and eigenvectors"
   ]
  },
  {
   "cell_type": "code",
   "execution_count": null,
   "id": "a5cb9432-897c-461e-91ca-d624ab17e596",
   "metadata": {},
   "outputs": [],
   "source": [
    "values, matrix = eig(A)\n",
    "\n",
    "print(values) # eigenvalues of A\n",
    "print()\n",
    "print(matrix) # eigenvectors of A as a matrix, columns are eigenvectors"
   ]
  },
  {
   "cell_type": "code",
   "execution_count": null,
   "id": "8ebc579a-15fa-4f5d-9d78-a85d06422a74",
   "metadata": {},
   "outputs": [],
   "source": [
    "vectors = matrix.T # eigenvectors correspond to rows of transposed matrix\n",
    "\n",
    "for i in range(0, 3):\n",
    "    print(np.round(A @ vectors[i] - values[i] * vectors[i], decimals=5)) # verify if A v = \\lambda v"
   ]
  },
  {
   "cell_type": "markdown",
   "id": "0143d8c5-241f-4449-a5bc-fe9dcdaf1c26",
   "metadata": {},
   "source": [
    "#### Example: Solve system of linear equations\n",
    "Solve the following system of linear equations:\n",
    "\n",
    "$x + 2y + 3z = 13$ \\\n",
    "$y - z = -2$ \\\n",
    "$2x - y + z = 6$"
   ]
  },
  {
   "cell_type": "markdown",
   "id": "ea52d610-0ed2-4564-9624-88beab1c0c09",
   "metadata": {},
   "source": [
    "The system can be written as\n",
    "\n",
    "$M \\begin{pmatrix} x \\\\ y \\\\ z \\end{pmatrix} = \\vec{b}$\n",
    "\n",
    "with $M = \\begin{pmatrix} 1 & 2 & 3 \\\\ 0 & 1 & -1 \\\\ 2 & -1 & 1 \\end{pmatrix} \\quad$ and $\\quad \\vec{b} = \\begin{pmatrix} 13 \\\\ -2 \\\\ 6 \\end{pmatrix}$\n",
    "\n",
    "The solution is then $\\begin{pmatrix} x \\\\ y \\\\ z \\end{pmatrix} = M^{-1}\\, \\vec{b}$"
   ]
  },
  {
   "cell_type": "code",
   "execution_count": null,
   "id": "3a077041-f4d4-46ab-b876-36c93f4e0698",
   "metadata": {},
   "outputs": [],
   "source": [
    "M = np.array([[1, 2, 3], [0, 1, -1], [2, -1, 1]])\n",
    "b = np.array([13, -2, 6])\n",
    "\n",
    "x, y, z = inv(M) @ b\n",
    "\n",
    "print(f'The solution is {x=:.1f}, {y=:.1f}, {z=:.1f}')"
   ]
  }
 ],
 "metadata": {
  "language_info": {
   "name": "python",
   "pygments_lexer": "ipython3"
  }
 },
 "nbformat": 4,
 "nbformat_minor": 5
}
