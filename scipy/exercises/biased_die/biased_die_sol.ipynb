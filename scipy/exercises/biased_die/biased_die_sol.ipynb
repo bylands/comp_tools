{
 "cells": [
  {
   "cell_type": "markdown",
   "id": "55f1f6b2",
   "metadata": {},
   "source": [
    "# Biased Die\n",
    "You have to verify if a die is biased. The data in the file *eyes.csv* contains the outcomes for a large number of rolls of the die. Use a $\\chi^2$ test to challenge the hypothesis that the die is unbiased."
   ]
  },
  {
   "cell_type": "code",
   "execution_count": null,
   "id": "d50001e7",
   "metadata": {},
   "outputs": [],
   "source": [
    "import numpy as np\n",
    "from scipy.stats import chisquare\n",
    "\n",
    "# simulate results\n",
    "# rng = np.random.default_rng()\n",
    "# N = 12_000\n",
    "# high = 61\n",
    "# eyes = rng.integers(low=0, high=high, size=N) % 6 + 1\n",
    "\n",
    "# read results from file\n",
    "eyes = np.loadtxt('eyes.csv')"
   ]
  },
  {
   "cell_type": "markdown",
   "id": "284ab871",
   "metadata": {},
   "source": [
    "### Calculate expected and observed counts\n",
    "Calculate the expected counts (for a fair die) and the observed counts (based on the data)."
   ]
  },
  {
   "cell_type": "code",
   "execution_count": null,
   "id": "7180cb5c",
   "metadata": {},
   "outputs": [],
   "source": [
    "N = len(eyes) # number of rolls\n",
    "\n",
    "# calculate expected counts\n",
    "expected_counts = np.ones(6) * N // 6\n",
    "\n",
    "# calculate observed counts\n",
    "values, observed_counts = np.unique(eyes, return_counts=True)"
   ]
  },
  {
   "cell_type": "markdown",
   "id": "c1178cb1",
   "metadata": {},
   "source": [
    "### Hypothesis test\n",
    "Using the method *chisquared* in scipy.stats, perform a $\\chi^2$ test on the data and decide whether the die can be assumed to be fair."
   ]
  },
  {
   "cell_type": "code",
   "execution_count": null,
   "id": "e4119a2e",
   "metadata": {},
   "outputs": [],
   "source": [
    "statistic, pvalue = chisquare(observed_counts, expected_counts)\n",
    "\n",
    "print(f'The p-value is {pvalue:.6f}')"
   ]
  },
  {
   "cell_type": "markdown",
   "id": "eec56349",
   "metadata": {},
   "source": [
    "For $p<0.05$ it is very unlikely that the hypothesis is true. We have to assume that the die is biased."
   ]
  },
  {
   "cell_type": "markdown",
   "id": "1cd49043",
   "metadata": {},
   "source": [
    "*** Graphical representation\n",
    "Make a graph for the observed counts vs the number of eyes including the statistical errors and show that one outcome is significantly higher than the expected value."
   ]
  },
  {
   "cell_type": "code",
   "execution_count": null,
   "id": "9ec43e08",
   "metadata": {},
   "outputs": [],
   "source": [
    "import matplotlib.pyplot as plt\n",
    "\n",
    "variances = np.sqrt(observed_counts)\n",
    "sigma = np.sqrt(N/6)\n",
    "\n",
    "average = np.mean(observed_counts[values>1])\n",
    "\n",
    "fig, ax = plt.subplots()\n",
    "ax.bar(values, observed_counts, label='observed')\n",
    "ax.errorbar(values, observed_counts, yerr=variances, fmt='r.', capsize=2)\n",
    "ax.hlines(N/6, xmin=0.5, xmax=6.5, colors='orange', label='expected')\n",
    "ax.hlines(average, xmin=0.5, xmax=6.5, colors='green', label='average 2 to 6')\n",
    "ax.set_title('Counts for biased die')\n",
    "ax.set_xlabel('# eyes')\n",
    "ax.set_ylabel('counts')\n",
    "ax.legend()\n",
    "plt.show()"
   ]
  },
  {
   "cell_type": "markdown",
   "id": "e01cf568",
   "metadata": {},
   "source": [
    "It is evident from the histogram that the outcome *1 eye* occurs significantly too often. The average without the first outcome is lower than the expected value and seems to be compatible with equal probability for the other five faces of the die."
   ]
  },
  {
   "cell_type": "code",
   "execution_count": null,
   "id": "c0601f1d",
   "metadata": {},
   "outputs": [],
   "source": [
    "counts_2to6 = observed_counts[1:]\n",
    "_, pvalue = chisquare(counts_2to6)\n",
    "\n",
    "print(f'The p-value for the hypothesis that 2 to 6 eyes have the same probability is {pvalue:.6f}.')"
   ]
  }
 ],
 "metadata": {
  "language_info": {
   "name": "python",
   "pygments_lexer": "ipython3"
  }
 },
 "nbformat": 4,
 "nbformat_minor": 5
}
