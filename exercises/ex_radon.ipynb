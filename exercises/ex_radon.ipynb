{
 "cells": [
  {
   "cell_type": "markdown",
   "id": "f908e83f-c74d-4df7-bf20-e322c278f67f",
   "metadata": {},
   "source": [
    "# Exercises: Data Analysis with Python"
   ]
  },
  {
   "cell_type": "code",
   "execution_count": null,
   "id": "35652243-4b25-485c-8cfa-ef147037e78a",
   "metadata": {},
   "outputs": [],
   "source": [
    "import numpy as np\n",
    "import matplotlib.pyplot as plt"
   ]
  },
  {
   "cell_type": "markdown",
   "id": "609a54aa-c88a-40e5-9f32-ff10645eef75",
   "metadata": {},
   "source": [
    "## Radon Decay\n",
    "The decay of Radon 220 is investigated with an ionisation chamber. The chamber delivers an electrical signal which is proportional to the activity of the radioactive gas in the detector. The time and voltage data for a measurement over 5 minutes can be read from a csv file."
   ]
  },
  {
   "cell_type": "code",
   "execution_count": null,
   "id": "624e75ec-bb4f-4c75-b9a0-b80434e7f794",
   "metadata": {},
   "outputs": [],
   "source": [
    "decay = np.genfromtxt('data/radon.csv', delimiter=',')\n",
    "time = decay[0]\n",
    "voltage = decay[1]"
   ]
  },
  {
   "cell_type": "markdown",
   "id": "8cc1b517-096f-4f7f-ae39-92c0495a8964",
   "metadata": {},
   "source": [
    "Graph the voltage vs time diagram."
   ]
  },
  {
   "cell_type": "code",
   "execution_count": null,
   "id": "73fc652e-e920-4acf-b885-027cf21a8817",
   "metadata": {},
   "outputs": [],
   "source": [
    "plt.plot(time, voltage)\n",
    "plt.xlabel('time (min)')\n",
    "plt.ylabel('voltage (V)')"
   ]
  },
  {
   "cell_type": "markdown",
   "id": "3bb590d4-0165-4e88-a39b-793e8d672373",
   "metadata": {},
   "source": [
    "The theory predicts an exponential decay. Visually verify the model with an exponential fit function. Include a term for a possible (constant) voltage offset."
   ]
  },
  {
   "cell_type": "code",
   "execution_count": null,
   "id": "fb7c3960-8dd5-47e3-ab81-3d3f345cb8ca",
   "metadata": {},
   "outputs": [],
   "source": [
    "from scipy.optimize import curve_fit\n",
    "\n",
    "def f(t, V0, tau, offset):\n",
    "    return V0 * np.exp(-t/tau) + offset\n",
    "\n",
    "coeff, pcov = curve_fit(f, time, voltage)\n",
    "V0, tau, offset = coeff\n",
    "\n",
    "v_exp = f(time, V0, tau, offset)\n",
    "\n",
    "plt.plot(time, voltage)\n",
    "plt.plot(time, v_exp)"
   ]
  },
  {
   "cell_type": "code",
   "execution_count": null,
   "id": "68b588fe-48a0-404a-8e8e-13c5e6de8aa4",
   "metadata": {},
   "outputs": [],
   "source": [
    "print('The fit parameters are:')\n",
    "print(f'initial voltage: V0 = {V0:.2f} V')\n",
    "print(f'time constant:   tau = {tau:.2f} min = {tau*60:.1f} s')\n",
    "Th = tau * np.log(2)\n",
    "print(f'half-life:       T1/2 = {Th:.2f} min = {Th*60:.1f} s')\n",
    "print(f'voltage offset:  offset = {1000*offset:.1f} mV')"
   ]
  },
  {
   "cell_type": "markdown",
   "id": "2fb2d614-373d-4693-829e-51d25d707aa3",
   "metadata": {},
   "source": [
    "Determine the error of the time constant in two different ways: Using the covariance matrix for the fit function, and by determining the deviation for fits to different time intervals."
   ]
  },
  {
   "cell_type": "code",
   "execution_count": null,
   "id": "c6aa18f8-c005-468c-be1d-d462de40e6e2",
   "metadata": {},
   "outputs": [],
   "source": [
    "errors = np.sqrt(np.diag(pcov))\n",
    "dtau1 = errors[1]\n",
    "\n",
    "n_trials = 500\n",
    "low, high = 0, len(time)\n",
    "threshold = len(time)/2\n",
    "tau_array = np.zeros(n_trials)\n",
    "\n",
    "rng = np.random.default_rng()\n",
    "\n",
    "for i in range(n_trials):\n",
    "    while True:\n",
    "        a, b = rng.integers(low=low, high=high, size=2)\n",
    "        if a < b and b - a > threshold:\n",
    "            break\n",
    "    t_subset = time[a:b]\n",
    "    v_subset = voltage[a:b]\n",
    "    c, p = curve_fit(f, t_subset, v_subset, p0=[v_subset[0], tau, 0])\n",
    "    tau_array[i] = c[1]\n",
    "\n",
    "dtau2 = (np.max(tau_array) - np.min(tau_array))/2\n",
    "\n",
    "print(f'error of fit parameter: dtau = {dtau1*60:.2f} s')\n",
    "print(f'error using {n_trials} time intervals: dtau = {dtau2*60:.1f} s')"
   ]
  },
  {
   "cell_type": "markdown",
   "id": "82c21c82-da44-4619-bdad-ef0464341be5",
   "metadata": {},
   "source": [
    "Considering that the expected value for the half-life of Radon 220 is 55.6 s (corresponds to a time constant of 80.2 s), the error based on different time intervals looks more realistic. The result of the second method is highly sensitive to the minimum time interval (parameter threshold). If the threshold is too small, small fluctuations in the signal can have a great impact on the fit function."
   ]
  }
 ],
 "metadata": {
  "language_info": {
   "name": "python",
   "pygments_lexer": "ipython3"
  }
 },
 "nbformat": 4,
 "nbformat_minor": 5
}
