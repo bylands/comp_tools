{
 "cells": [
  {
   "cell_type": "markdown",
   "id": "f908e83f-c74d-4df7-bf20-e322c278f67f",
   "metadata": {},
   "source": [
    "# Exercises: Data Analysis with Python"
   ]
  },
  {
   "cell_type": "code",
   "execution_count": null,
   "id": "35652243-4b25-485c-8cfa-ef147037e78a",
   "metadata": {},
   "outputs": [],
   "source": [
    "import numpy as np\n",
    "import matplotlib.pyplot as plt\n",
    "\n",
    "from scipy.optimize import curve_fit"
   ]
  },
  {
   "cell_type": "markdown",
   "id": "609a54aa-c88a-40e5-9f32-ff10645eef75",
   "metadata": {},
   "source": [
    "## Real Battery\n",
    "A battery is connected to six different resistors, and the currents and (terminal) voltages are measured. We expect a linear relation for the voltage as a function of the current:\n",
    "\n",
    "$V = V_0 - r I$\n",
    "\n",
    "where $V_0$ is the source voltage and $r$ the internal resistance of the battery."
   ]
  },
  {
   "cell_type": "markdown",
   "id": "c61f9e0e-5383-4e66-bc1a-5e346000919a",
   "metadata": {},
   "source": [
    "#### Measured Data\n",
    "The accuracy for the voltage measurements is 0.01 V, for the current measurements 1 mA."
   ]
  },
  {
   "cell_type": "code",
   "execution_count": null,
   "id": "624e75ec-bb4f-4c75-b9a0-b80434e7f794",
   "metadata": {},
   "outputs": [],
   "source": [
    "# terminal voltage in V\n",
    "V = np.array([4.49, 4.47, 4.45, 4.41, 4.35, 4.28])\n",
    "dV = 0.01 # accuracy in V\n",
    "\n",
    "# current in mA\n",
    "I = np.array([63, 98, 134, 199, 295, 422])\n",
    "dI = 1 # accuracy in mA"
   ]
  },
  {
   "cell_type": "markdown",
   "id": "191df3f0-8c03-43ed-b0f9-05977e9f65f8",
   "metadata": {},
   "source": [
    "#### Resistance\n",
    "Calculate the resistance values for the resistors used in the measurements (with measurement errors)."
   ]
  },
  {
   "cell_type": "code",
   "execution_count": null,
   "id": "a8554745-8a74-4dfd-8cf9-9156b362626e",
   "metadata": {},
   "outputs": [],
   "source": [
    "R = V/I # resistance values\n",
    "dR = (V + dV) / (I - dI) - R # error as Rmax - R = Vmax/Imin - R\n",
    "\n",
    "for i, (a, da) in enumerate(zip(R, dR), start=1):\n",
    "    print(f'resistor {i}: ({a*1000:.2f} ± {da*1000:.2f}) kΩ')"
   ]
  },
  {
   "cell_type": "markdown",
   "id": "38898631-fa81-4da3-94c0-eb2e826748a3",
   "metadata": {},
   "source": [
    "#### Graphical analysis\n",
    "Graph the voltage vs current (with error bars) and fit a linear function. Determine the source voltage $V_0$ and the internal resistance $r$ from the fit parameters."
   ]
  },
  {
   "cell_type": "code",
   "execution_count": null,
   "id": "1c97be44-3a76-416b-b8b9-4cb40e4d03da",
   "metadata": {},
   "outputs": [],
   "source": [
    "def linear(x, m, q):\n",
    "    return m * x + q\n",
    "\n",
    "coeff, pcov = curve_fit(linear, I, V)\n",
    "m, q = coeff\n",
    "r = -m # internal resistance correponds to negative slope\n",
    "V0 = q # source voltage corresponds to axis intercept\n",
    "\n",
    "dr = np.sqrt(pcov[0, 0])\n",
    "dV0 = np.sqrt(pcov[1, 1])\n",
    "\n",
    "I_range = np.linspace(0, max(I), 100) # range used to plot fit function\n",
    "V_fit = linear(I_range, m, q)\n",
    "\n",
    "plt.errorbar(I, V, xerr=dI, yerr=dV, fmt='.', label='measured data')\n",
    "plt.plot(I_range, V_fit, label='linear fit')\n",
    "plt.xlabel('I (mA)')\n",
    "plt.ylabel('V (V)')\n",
    "plt.grid()\n",
    "plt.legend()\n",
    "plt.show()"
   ]
  },
  {
   "cell_type": "code",
   "execution_count": null,
   "id": "920cadd6-d79f-440c-ada8-0b8b0bb3176e",
   "metadata": {},
   "outputs": [],
   "source": [
    "print(f'internal resistance: ({r:.5f} ± {dr:.5f}) kΩ = ({r*1000:.2f} ± {dr*1000:.2f}) Ω')\n",
    "print(f'source voltage: ({V0:.3f} ± {dV0:.3f}) V')"
   ]
  },
  {
   "cell_type": "code",
   "execution_count": null,
   "id": "2139bac2-473f-4ee9-9208-baa651acf154",
   "metadata": {},
   "outputs": [],
   "source": []
  }
 ],
 "metadata": {
  "language_info": {
   "name": "python",
   "pygments_lexer": "ipython3"
  }
 },
 "nbformat": 4,
 "nbformat_minor": 5
}
