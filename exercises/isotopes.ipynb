{
 "cells": [
  {
   "cell_type": "markdown",
   "id": "18c944aa-4e53-49fa-9a33-c98e3e6cc5e0",
   "metadata": {},
   "source": [
    "# Exercises: Data Analysis with Python"
   ]
  },
  {
   "cell_type": "code",
   "execution_count": null,
   "id": "88ba68e1-11e0-46e8-a01f-3a6820967d15",
   "metadata": {},
   "outputs": [],
   "source": [
    "import polars as pl\n",
    "import matplotlib.pyplot as plt"
   ]
  },
  {
   "cell_type": "markdown",
   "id": "d0426f63-14f2-43a4-94b8-bb97e5d5922d",
   "metadata": {},
   "source": [
    "# Isotope Masses\n",
    "You are going to analyse the masses of the known isotopes."
   ]
  },
  {
   "cell_type": "markdown",
   "id": "dd2a9223-c4d2-4c37-9b69-520b938d5f53",
   "metadata": {},
   "source": [
    "#### Reading data\n",
    "The data is read from a *parquet* file. This file format contains the datatypes (e.g. int or float) in addition to the actual values."
   ]
  },
  {
   "cell_type": "code",
   "execution_count": null,
   "id": "efdc29c1-5d55-4979-9ed0-bf15fc0f538d",
   "metadata": {},
   "outputs": [],
   "source": [
    "isotopes = pl.read_parquet('data/isotopes.parquet')"
   ]
  },
  {
   "cell_type": "markdown",
   "id": "27998418-d02c-44fd-b825-4c26fff90958",
   "metadata": {},
   "source": [
    "#### Browsing the data\n",
    "Have first look at the dataframe and find out about the different columns, the number of isotopes, etc."
   ]
  },
  {
   "cell_type": "code",
   "execution_count": null,
   "id": "a714bc80-f2af-4627-8745-ef50b9882d6b",
   "metadata": {},
   "outputs": [],
   "source": [
    "display(isotopes.sample(10)) # display 10 random rows"
   ]
  },
  {
   "cell_type": "code",
   "execution_count": null,
   "id": "3aee89df-0239-45d2-90f1-ded1e569ce90",
   "metadata": {},
   "outputs": [],
   "source": [
    "rows, cols = isotopes.shape\n",
    "print(f'{rows} rows and {cols} columns')"
   ]
  },
  {
   "cell_type": "markdown",
   "id": "a18aaa79-dfdd-499a-8f6c-1488bdeda3d6",
   "metadata": {},
   "source": [
    "#### Some search tasks\n",
    "Answer the following questions:\n",
    "- Which isotope has the greates atomic mass?\n",
    "- How many carbon isotopes are known?\n",
    "- Which element has the greatest number of isotopes?\n",
    "- Which lead (Pb) isotopes have a non-negligible abundance (column *Isotopic Composition*) and do their abundances add up to 100 %?"
   ]
  },
  {
   "cell_type": "code",
   "execution_count": null,
   "id": "78ecd982-d3d3-4dca-bf8e-2ded330ca732",
   "metadata": {},
   "outputs": [],
   "source": [
    "# find the isotope with the maximum atomic mass (Og stands for Oganessum)\n",
    "isotopes.filter(pl.col('Relative Atomic Mass') == pl.max('Relative Atomic Mass'))"
   ]
  },
  {
   "cell_type": "code",
   "execution_count": null,
   "id": "31dcc464-a850-4b58-8d54-239e9f3b6350",
   "metadata": {},
   "outputs": [],
   "source": [
    "# filter oxygen (O) isotopes; there are 17 rows\n",
    "isotopes.filter(pl.col('Atomic Symbol') == 'O')"
   ]
  },
  {
   "cell_type": "code",
   "execution_count": null,
   "id": "bf411a3c-0e07-49eb-bd3e-b99a897de6ac",
   "metadata": {},
   "outputs": [],
   "source": [
    "# group by atomic number, aggregate number of isotopes (len), sort by number of isotopes (descending)\n",
    "(isotopes\n",
    "    .group_by('Atomic Number')\n",
    "    .agg([\n",
    "        pl.col('Atomic Symbol'), \n",
    "        pl.len().alias('Number of Isotopes')]\n",
    "        )\n",
    "    .with_columns(pl.col('Atomic Symbol').list.first())\n",
    "    .sort('Number of Isotopes', descending=True)\n",
    ") "
   ]
  },
  {
   "cell_type": "code",
   "execution_count": null,
   "id": "06ad8d7c-efb7-4ced-b9e2-9488e470a810",
   "metadata": {},
   "outputs": [],
   "source": [
    "# filter for Pb isotopes with isotopic composition not null\n",
    "pb_not_null = isotopes.filter((pl.col('Atomic Symbol') == 'Pb') & pl.col('Isotopic Composition').is_not_null())\n",
    "display(pb_not_null)\n",
    "\n",
    "display(pb_not_null.select(pl.sum('Isotopic Composition').alias('Sum of Abundances')))"
   ]
  },
  {
   "cell_type": "markdown",
   "id": "9537e324-7e31-422b-844f-ea8fa1d92823",
   "metadata": {},
   "source": [
    "### Binding Energy\n",
    "The binding energy of a nucleus can be calculated as the mass difference of its measured mass and the sum of the masses of the protons and neutrons bound in the nucleus, multiplied by the square of the speed of light.\n",
    "\n",
    "Add columns for the binding energy (in MeV) and the binding energy divided by the mass number. Graph the binding energy vs the mass number. Find the isotope with the highest binding energy per nucleon."
   ]
  },
  {
   "cell_type": "code",
   "execution_count": null,
   "id": "ca1c5ade-81cc-42fe-b64e-1438b6da27ef",
   "metadata": {},
   "outputs": [],
   "source": [
    "import altair as alt\n",
    "from scipy.constants import m_n, m_p, m_e, u, speed_of_light, eV\n",
    "\n",
    "def e_bind(Z, N, m_rel):\n",
    "    \"\"\"\n",
    "    function to calculate the binding energy of a nucleus\n",
    "    Z: atomic number (number of protons)\n",
    "    N: mass number (number of protons + number of neutrons)\n",
    "    m_rel: relative atomic mass\n",
    "    \"\"\"\n",
    "    \n",
    "    dm = Z * (m_p + m_e) + (N - Z) * m_n - m_rel * u # mass difference in kg\n",
    "    eb = dm * speed_of_light**2 / eV # binding energy in eV\n",
    "    \n",
    "    return eb / 1e6 # return binding energy in MeV\n",
    "\n",
    "\n",
    "# add columns for binding energy and binding energy per nucleon\n",
    "binding_energy = isotopes.with_columns(\n",
    "    pl.struct(['Atomic Number', 'Mass Number', 'Relative Atomic Mass'])\n",
    "    .map_elements(lambda s: e_bind(s['Atomic Number'], s['Mass Number'], s['Relative Atomic Mass']), return_dtype=pl.Float32)\n",
    "    .alias('Binding Energy')\n",
    ").with_columns(\n",
    "    (pl.col('Binding Energy') / pl.col('Mass Number'))\n",
    "        .alias('Binding Energy per Nucleon')\n",
    ")\n",
    "\n",
    "# dataframe with only highest binding energy for each mass number (used for upper envelope)\n",
    "binding_energy_max = (binding_energy\n",
    "                      .sort('Binding Energy per Nucleon')\n",
    "                      .group_by('Mass Number')\n",
    "                      .agg([\n",
    "                          pl.col('Atomic Symbol').last(), \n",
    "                          pl.col('Binding Energy per Nucleon').max()\n",
    "                      ])\n",
    "                     )"
   ]
  },
  {
   "cell_type": "code",
   "execution_count": null,
   "id": "66c19029-ed88-4a75-aa4d-9e51127d2be0",
   "metadata": {},
   "outputs": [],
   "source": [
    "# chart1 with all data points\n",
    "chart1 = (binding_energy.plot.point(\n",
    "            x=alt.X('Mass Number',\n",
    "                    scale=alt.Scale(type='log', domain=(1, 300)) # logarithmic scale (looks better)\n",
    "                   ),\n",
    "            y='Binding Energy per Nucleon',\n",
    "            tooltip=[\n",
    "                'Atomic Symbol', \n",
    "                'Mass Number', \n",
    "                alt.Tooltip('Binding Energy per Nucleon', format='.2f') # round values to 2 decimal places in tooltips\n",
    "            ]\n",
    "            )\n",
    "          .properties(width=600, title='Binding Energy per Nucleon')\n",
    "        )\n",
    "\n",
    "#chart2 with only max for each mass number\n",
    "chart2 = (binding_energy_max.plot.line(\n",
    "            x=alt.X('Mass Number',\n",
    "                    scale=alt.Scale(type='log', domain=(1, 300))\n",
    "                   ),\n",
    "            y=alt.Y('Binding Energy per Nucleon',\n",
    "                   title='Binding Energy per Nucleon (MeV)'\n",
    "                   ),\n",
    "            tooltip=['Atomic Symbol', 'Mass Number', 'Binding Energy per Nucleon']\n",
    "            )\n",
    "        )\n",
    "\n",
    "chart = ((chart1 + chart2)\n",
    "           .configure_point(size=1).configure_line(color='red') # format points and line\n",
    "       )\n",
    "\n",
    "chart"
   ]
  },
  {
   "cell_type": "code",
   "execution_count": null,
   "id": "852ae173-b6ed-4175-b6da-00bcf59c8fde",
   "metadata": {},
   "outputs": [],
   "source": [
    "binding_energy.filter(pl.col('Binding Energy per Nucleon') == pl.max('Binding Energy per Nucleon'))"
   ]
  },
  {
   "cell_type": "markdown",
   "id": "e3de8148-a124-4340-81a2-74bffe6014b3",
   "metadata": {},
   "source": [
    "The most stable isotope (isotope with highest binding energy per nucleon) is Ni-62."
   ]
  },
  {
   "cell_type": "code",
   "execution_count": null,
   "id": "b0d69748-f3f4-4835-a65d-bcf4d7feb33d",
   "metadata": {},
   "outputs": [],
   "source": []
  }
 ],
 "metadata": {
  "language_info": {
   "name": "python",
   "pygments_lexer": "ipython3"
  }
 },
 "nbformat": 4,
 "nbformat_minor": 5
}
