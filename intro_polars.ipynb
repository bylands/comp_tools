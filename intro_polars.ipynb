{
 "cells": [
  {
   "cell_type": "markdown",
   "id": "119c06dd-0f00-4a3e-9716-d82658753776",
   "metadata": {},
   "source": [
    "# Introduction to Polars\n",
    "There are several Python libraries that can be used to analyse large datasets. The most popular one is Pandas (https://pandas.pydata.org/), which is used for countless projects in data science.\n",
    "\n",
    "A modern alternative to Pandas is Polars (https://pola.rs/), which is considered to be more efficient and faster than Pandas. If you are not invested in Pandas, there is no reason why you should not start with Polars as the data manipulation tool of your choice."
   ]
  },
  {
   "cell_type": "markdown",
   "id": "0bb68247-ef0c-4249-9cbb-638988df0a45",
   "metadata": {},
   "source": [
    "#### Import Polars"
   ]
  },
  {
   "cell_type": "code",
   "execution_count": 1,
   "id": "d43296ab-1375-48ee-a2d4-7fa69f4ab8f0",
   "metadata": {},
   "outputs": [],
   "source": [
    "import polars as pl"
   ]
  },
  {
   "cell_type": "markdown",
   "id": "1d6414d3-49c1-4679-8710-4f7a25be7591",
   "metadata": {},
   "source": [
    "### DataFrames\n",
    "Polars works with DataFrames. A DataFrame can be compared to a spreadsheet with a number of columns each containing the same number of rows. Each column contains data of a given datatype (e.g. string, date, float)."
   ]
  },
  {
   "cell_type": "markdown",
   "id": "082c7b97-a893-4649-be22-dff3c3629ee9",
   "metadata": {},
   "source": [
    "#### Create a dataframe\n",
    "A dataframe can be created in different way, e.g. from a Python dictionary, from a file or a url, etc."
   ]
  },
  {
   "cell_type": "code",
   "execution_count": 15,
   "id": "1352184e-7357-442d-b648-9de0c89b35bf",
   "metadata": {},
   "outputs": [
    {
     "data": {
      "text/html": [
       "<div><style>\n",
       ".dataframe > thead > tr,\n",
       ".dataframe > tbody > tr {\n",
       "  text-align: right;\n",
       "  white-space: pre-wrap;\n",
       "}\n",
       "</style>\n",
       "<small>shape: (4, 3)</small><table border=\"1\" class=\"dataframe\"><thead><tr><th>subject</th><th>grade</th><th>teacher</th></tr><tr><td>str</td><td>f64</td><td>str</td></tr></thead><tbody><tr><td>&quot;maths&quot;</td><td>4.5</td><td>&quot;Bernoulli&quot;</td></tr><tr><td>&quot;physics&quot;</td><td>5.5</td><td>&quot;Einstein&quot;</td></tr><tr><td>&quot;biology&quot;</td><td>5.5</td><td>&quot;Darwin&quot;</td></tr><tr><td>&quot;chemistry&quot;</td><td>5.0</td><td>&quot;Laue&quot;</td></tr></tbody></table></div>"
      ],
      "text/plain": [
       "shape: (4, 3)\n",
       "┌───────────┬───────┬───────────┐\n",
       "│ subject   ┆ grade ┆ teacher   │\n",
       "│ ---       ┆ ---   ┆ ---       │\n",
       "│ str       ┆ f64   ┆ str       │\n",
       "╞═══════════╪═══════╪═══════════╡\n",
       "│ maths     ┆ 4.5   ┆ Bernoulli │\n",
       "│ physics   ┆ 5.5   ┆ Einstein  │\n",
       "│ biology   ┆ 5.5   ┆ Darwin    │\n",
       "│ chemistry ┆ 5.0   ┆ Laue      │\n",
       "└───────────┴───────┴───────────┘"
      ]
     },
     "execution_count": 15,
     "metadata": {},
     "output_type": "execute_result"
    }
   ],
   "source": [
    "# create dataframe from dictionary\n",
    "grades = pl.DataFrame(\n",
    "    {\n",
    "        'subject': ['maths', 'physics', 'biology', 'chemistry'],\n",
    "        'grade': [4.5, 5.5, 5.5, 5],\n",
    "        'teacher': ['Bernoulli', 'Einstein', 'Darwin', 'Laue']\n",
    "    }\n",
    ")\n",
    "\n",
    "grades"
   ]
  },
  {
   "cell_type": "code",
   "execution_count": 31,
   "id": "b3289969-6562-4e81-8481-7514db34d607",
   "metadata": {},
   "outputs": [
    {
     "data": {
      "text/html": [
       "<div><style>\n",
       ".dataframe > thead > tr,\n",
       ".dataframe > tbody > tr {\n",
       "  text-align: right;\n",
       "  white-space: pre-wrap;\n",
       "}\n",
       "</style>\n",
       "<small>shape: (801, 41)</small><table border=\"1\" class=\"dataframe\"><thead><tr><th>abilities</th><th>against_bug</th><th>against_dark</th><th>against_dragon</th><th>against_electric</th><th>against_fairy</th><th>against_fight</th><th>against_fire</th><th>against_flying</th><th>against_ghost</th><th>against_grass</th><th>against_ground</th><th>against_ice</th><th>against_normal</th><th>against_poison</th><th>against_psychic</th><th>against_rock</th><th>against_steel</th><th>against_water</th><th>attack</th><th>base_egg_steps</th><th>base_happiness</th><th>base_total</th><th>capture_rate</th><th>classfication</th><th>defense</th><th>experience_growth</th><th>height_m</th><th>hp</th><th>japanese_name</th><th>name</th><th>percentage_male</th><th>pokedex_number</th><th>sp_attack</th><th>sp_defense</th><th>speed</th><th>type1</th><th>type2</th><th>weight_kg</th><th>generation</th><th>is_legendary</th></tr><tr><td>str</td><td>f64</td><td>f64</td><td>f64</td><td>f64</td><td>f64</td><td>f64</td><td>f64</td><td>f64</td><td>f64</td><td>f64</td><td>f64</td><td>f64</td><td>f64</td><td>f64</td><td>f64</td><td>f64</td><td>f64</td><td>f64</td><td>i64</td><td>i64</td><td>i64</td><td>i64</td><td>str</td><td>str</td><td>i64</td><td>i64</td><td>f64</td><td>i64</td><td>str</td><td>str</td><td>f64</td><td>i64</td><td>i64</td><td>i64</td><td>i64</td><td>str</td><td>str</td><td>f64</td><td>i64</td><td>i64</td></tr></thead><tbody><tr><td>&quot;[&#x27;Overgrow&#x27;, &#x27;Chlorophyll&#x27;]&quot;</td><td>1.0</td><td>1.0</td><td>1.0</td><td>0.5</td><td>0.5</td><td>0.5</td><td>2.0</td><td>2.0</td><td>1.0</td><td>0.25</td><td>1.0</td><td>2.0</td><td>1.0</td><td>1.0</td><td>2.0</td><td>1.0</td><td>1.0</td><td>0.5</td><td>49</td><td>5120</td><td>70</td><td>318</td><td>&quot;45&quot;</td><td>&quot;Seed Pokémon&quot;</td><td>49</td><td>1059860</td><td>0.7</td><td>45</td><td>&quot;Fushigidaneフシギダネ&quot;</td><td>&quot;Bulbasaur&quot;</td><td>88.1</td><td>1</td><td>65</td><td>65</td><td>45</td><td>&quot;grass&quot;</td><td>&quot;poison&quot;</td><td>6.9</td><td>1</td><td>0</td></tr><tr><td>&quot;[&#x27;Overgrow&#x27;, &#x27;Chlorophyll&#x27;]&quot;</td><td>1.0</td><td>1.0</td><td>1.0</td><td>0.5</td><td>0.5</td><td>0.5</td><td>2.0</td><td>2.0</td><td>1.0</td><td>0.25</td><td>1.0</td><td>2.0</td><td>1.0</td><td>1.0</td><td>2.0</td><td>1.0</td><td>1.0</td><td>0.5</td><td>62</td><td>5120</td><td>70</td><td>405</td><td>&quot;45&quot;</td><td>&quot;Seed Pokémon&quot;</td><td>63</td><td>1059860</td><td>1.0</td><td>60</td><td>&quot;Fushigisouフシギソウ&quot;</td><td>&quot;Ivysaur&quot;</td><td>88.1</td><td>2</td><td>80</td><td>80</td><td>60</td><td>&quot;grass&quot;</td><td>&quot;poison&quot;</td><td>13.0</td><td>1</td><td>0</td></tr><tr><td>&quot;[&#x27;Overgrow&#x27;, &#x27;Chlorophyll&#x27;]&quot;</td><td>1.0</td><td>1.0</td><td>1.0</td><td>0.5</td><td>0.5</td><td>0.5</td><td>2.0</td><td>2.0</td><td>1.0</td><td>0.25</td><td>1.0</td><td>2.0</td><td>1.0</td><td>1.0</td><td>2.0</td><td>1.0</td><td>1.0</td><td>0.5</td><td>100</td><td>5120</td><td>70</td><td>625</td><td>&quot;45&quot;</td><td>&quot;Seed Pokémon&quot;</td><td>123</td><td>1059860</td><td>2.0</td><td>80</td><td>&quot;Fushigibanaフシギバナ&quot;</td><td>&quot;Venusaur&quot;</td><td>88.1</td><td>3</td><td>122</td><td>120</td><td>80</td><td>&quot;grass&quot;</td><td>&quot;poison&quot;</td><td>100.0</td><td>1</td><td>0</td></tr><tr><td>&quot;[&#x27;Blaze&#x27;, &#x27;Solar Power&#x27;]&quot;</td><td>0.5</td><td>1.0</td><td>1.0</td><td>1.0</td><td>0.5</td><td>1.0</td><td>0.5</td><td>1.0</td><td>1.0</td><td>0.5</td><td>2.0</td><td>0.5</td><td>1.0</td><td>1.0</td><td>1.0</td><td>2.0</td><td>0.5</td><td>2.0</td><td>52</td><td>5120</td><td>70</td><td>309</td><td>&quot;45&quot;</td><td>&quot;Lizard Pokémon&quot;</td><td>43</td><td>1059860</td><td>0.6</td><td>39</td><td>&quot;Hitokageヒトカゲ&quot;</td><td>&quot;Charmander&quot;</td><td>88.1</td><td>4</td><td>60</td><td>50</td><td>65</td><td>&quot;fire&quot;</td><td>null</td><td>8.5</td><td>1</td><td>0</td></tr><tr><td>&quot;[&#x27;Blaze&#x27;, &#x27;Solar Power&#x27;]&quot;</td><td>0.5</td><td>1.0</td><td>1.0</td><td>1.0</td><td>0.5</td><td>1.0</td><td>0.5</td><td>1.0</td><td>1.0</td><td>0.5</td><td>2.0</td><td>0.5</td><td>1.0</td><td>1.0</td><td>1.0</td><td>2.0</td><td>0.5</td><td>2.0</td><td>64</td><td>5120</td><td>70</td><td>405</td><td>&quot;45&quot;</td><td>&quot;Flame Pokémon&quot;</td><td>58</td><td>1059860</td><td>1.1</td><td>58</td><td>&quot;Lizardoリザード&quot;</td><td>&quot;Charmeleon&quot;</td><td>88.1</td><td>5</td><td>80</td><td>65</td><td>80</td><td>&quot;fire&quot;</td><td>null</td><td>19.0</td><td>1</td><td>0</td></tr><tr><td>&hellip;</td><td>&hellip;</td><td>&hellip;</td><td>&hellip;</td><td>&hellip;</td><td>&hellip;</td><td>&hellip;</td><td>&hellip;</td><td>&hellip;</td><td>&hellip;</td><td>&hellip;</td><td>&hellip;</td><td>&hellip;</td><td>&hellip;</td><td>&hellip;</td><td>&hellip;</td><td>&hellip;</td><td>&hellip;</td><td>&hellip;</td><td>&hellip;</td><td>&hellip;</td><td>&hellip;</td><td>&hellip;</td><td>&hellip;</td><td>&hellip;</td><td>&hellip;</td><td>&hellip;</td><td>&hellip;</td><td>&hellip;</td><td>&hellip;</td><td>&hellip;</td><td>&hellip;</td><td>&hellip;</td><td>&hellip;</td><td>&hellip;</td><td>&hellip;</td><td>&hellip;</td><td>&hellip;</td><td>&hellip;</td><td>&hellip;</td><td>&hellip;</td></tr><tr><td>&quot;[&#x27;Beast Boost&#x27;]&quot;</td><td>0.25</td><td>1.0</td><td>0.5</td><td>2.0</td><td>0.5</td><td>1.0</td><td>2.0</td><td>0.5</td><td>1.0</td><td>0.25</td><td>0.0</td><td>1.0</td><td>0.5</td><td>0.0</td><td>0.5</td><td>1.0</td><td>0.5</td><td>1.0</td><td>101</td><td>30720</td><td>0</td><td>570</td><td>&quot;25&quot;</td><td>&quot;Launch Pokémon&quot;</td><td>103</td><td>1250000</td><td>9.2</td><td>97</td><td>&quot;Tekkaguyaテッカグヤ&quot;</td><td>&quot;Celesteela&quot;</td><td>null</td><td>797</td><td>107</td><td>101</td><td>61</td><td>&quot;steel&quot;</td><td>&quot;flying&quot;</td><td>999.9</td><td>7</td><td>1</td></tr><tr><td>&quot;[&#x27;Beast Boost&#x27;]&quot;</td><td>1.0</td><td>1.0</td><td>0.5</td><td>0.5</td><td>0.5</td><td>2.0</td><td>4.0</td><td>1.0</td><td>1.0</td><td>0.25</td><td>1.0</td><td>1.0</td><td>0.5</td><td>0.0</td><td>0.5</td><td>0.5</td><td>0.5</td><td>0.5</td><td>181</td><td>30720</td><td>0</td><td>570</td><td>&quot;255&quot;</td><td>&quot;Drawn Sword Pokémon&quot;</td><td>131</td><td>1250000</td><td>0.3</td><td>59</td><td>&quot;Kamiturugiカミツルギ&quot;</td><td>&quot;Kartana&quot;</td><td>null</td><td>798</td><td>59</td><td>31</td><td>109</td><td>&quot;grass&quot;</td><td>&quot;steel&quot;</td><td>0.1</td><td>7</td><td>1</td></tr><tr><td>&quot;[&#x27;Beast Boost&#x27;]&quot;</td><td>2.0</td><td>0.5</td><td>2.0</td><td>0.5</td><td>4.0</td><td>2.0</td><td>0.5</td><td>1.0</td><td>0.5</td><td>0.5</td><td>1.0</td><td>2.0</td><td>1.0</td><td>1.0</td><td>0.0</td><td>1.0</td><td>1.0</td><td>0.5</td><td>101</td><td>30720</td><td>0</td><td>570</td><td>&quot;15&quot;</td><td>&quot;Junkivore Pokémon&quot;</td><td>53</td><td>1250000</td><td>5.5</td><td>223</td><td>&quot;Akuzikingアクジキング&quot;</td><td>&quot;Guzzlord&quot;</td><td>null</td><td>799</td><td>97</td><td>53</td><td>43</td><td>&quot;dark&quot;</td><td>&quot;dragon&quot;</td><td>888.0</td><td>7</td><td>1</td></tr><tr><td>&quot;[&#x27;Prism Armor&#x27;]&quot;</td><td>2.0</td><td>2.0</td><td>1.0</td><td>1.0</td><td>1.0</td><td>0.5</td><td>1.0</td><td>1.0</td><td>2.0</td><td>1.0</td><td>1.0</td><td>1.0</td><td>1.0</td><td>1.0</td><td>0.5</td><td>1.0</td><td>1.0</td><td>1.0</td><td>107</td><td>30720</td><td>0</td><td>600</td><td>&quot;3&quot;</td><td>&quot;Prism Pokémon&quot;</td><td>101</td><td>1250000</td><td>2.4</td><td>97</td><td>&quot;Necrozmaネクロズマ&quot;</td><td>&quot;Necrozma&quot;</td><td>null</td><td>800</td><td>127</td><td>89</td><td>79</td><td>&quot;psychic&quot;</td><td>null</td><td>230.0</td><td>7</td><td>1</td></tr><tr><td>&quot;[&#x27;Soul-Heart&#x27;]&quot;</td><td>0.25</td><td>0.5</td><td>0.0</td><td>1.0</td><td>0.5</td><td>1.0</td><td>2.0</td><td>0.5</td><td>1.0</td><td>0.5</td><td>2.0</td><td>0.5</td><td>0.5</td><td>0.0</td><td>0.5</td><td>0.5</td><td>1.0</td><td>1.0</td><td>95</td><td>30720</td><td>0</td><td>600</td><td>&quot;3&quot;</td><td>&quot;Artificial Pokémon&quot;</td><td>115</td><td>1250000</td><td>1.0</td><td>80</td><td>&quot;Magearnaマギアナ&quot;</td><td>&quot;Magearna&quot;</td><td>null</td><td>801</td><td>130</td><td>115</td><td>65</td><td>&quot;steel&quot;</td><td>&quot;fairy&quot;</td><td>80.5</td><td>7</td><td>1</td></tr></tbody></table></div>"
      ],
      "text/plain": [
       "shape: (801, 41)\n",
       "┌────────────┬────────────┬───────────┬───────────┬───┬────────┬───────────┬───────────┬───────────┐\n",
       "│ abilities  ┆ against_bu ┆ against_d ┆ against_d ┆ … ┆ type2  ┆ weight_kg ┆ generatio ┆ is_legend │\n",
       "│ ---        ┆ g          ┆ ark       ┆ ragon     ┆   ┆ ---    ┆ ---       ┆ n         ┆ ary       │\n",
       "│ str        ┆ ---        ┆ ---       ┆ ---       ┆   ┆ str    ┆ f64       ┆ ---       ┆ ---       │\n",
       "│            ┆ f64        ┆ f64       ┆ f64       ┆   ┆        ┆           ┆ i64       ┆ i64       │\n",
       "╞════════════╪════════════╪═══════════╪═══════════╪═══╪════════╪═══════════╪═══════════╪═══════════╡\n",
       "│ ['Overgrow ┆ 1.0        ┆ 1.0       ┆ 1.0       ┆ … ┆ poison ┆ 6.9       ┆ 1         ┆ 0         │\n",
       "│ ', 'Chloro ┆            ┆           ┆           ┆   ┆        ┆           ┆           ┆           │\n",
       "│ phyll']    ┆            ┆           ┆           ┆   ┆        ┆           ┆           ┆           │\n",
       "│ ['Overgrow ┆ 1.0        ┆ 1.0       ┆ 1.0       ┆ … ┆ poison ┆ 13.0      ┆ 1         ┆ 0         │\n",
       "│ ', 'Chloro ┆            ┆           ┆           ┆   ┆        ┆           ┆           ┆           │\n",
       "│ phyll']    ┆            ┆           ┆           ┆   ┆        ┆           ┆           ┆           │\n",
       "│ ['Overgrow ┆ 1.0        ┆ 1.0       ┆ 1.0       ┆ … ┆ poison ┆ 100.0     ┆ 1         ┆ 0         │\n",
       "│ ', 'Chloro ┆            ┆           ┆           ┆   ┆        ┆           ┆           ┆           │\n",
       "│ phyll']    ┆            ┆           ┆           ┆   ┆        ┆           ┆           ┆           │\n",
       "│ ['Blaze',  ┆ 0.5        ┆ 1.0       ┆ 1.0       ┆ … ┆ null   ┆ 8.5       ┆ 1         ┆ 0         │\n",
       "│ 'Solar     ┆            ┆           ┆           ┆   ┆        ┆           ┆           ┆           │\n",
       "│ Power']    ┆            ┆           ┆           ┆   ┆        ┆           ┆           ┆           │\n",
       "│ ['Blaze',  ┆ 0.5        ┆ 1.0       ┆ 1.0       ┆ … ┆ null   ┆ 19.0      ┆ 1         ┆ 0         │\n",
       "│ 'Solar     ┆            ┆           ┆           ┆   ┆        ┆           ┆           ┆           │\n",
       "│ Power']    ┆            ┆           ┆           ┆   ┆        ┆           ┆           ┆           │\n",
       "│ …          ┆ …          ┆ …         ┆ …         ┆ … ┆ …      ┆ …         ┆ …         ┆ …         │\n",
       "│ ['Beast    ┆ 0.25       ┆ 1.0       ┆ 0.5       ┆ … ┆ flying ┆ 999.9     ┆ 7         ┆ 1         │\n",
       "│ Boost']    ┆            ┆           ┆           ┆   ┆        ┆           ┆           ┆           │\n",
       "│ ['Beast    ┆ 1.0        ┆ 1.0       ┆ 0.5       ┆ … ┆ steel  ┆ 0.1       ┆ 7         ┆ 1         │\n",
       "│ Boost']    ┆            ┆           ┆           ┆   ┆        ┆           ┆           ┆           │\n",
       "│ ['Beast    ┆ 2.0        ┆ 0.5       ┆ 2.0       ┆ … ┆ dragon ┆ 888.0     ┆ 7         ┆ 1         │\n",
       "│ Boost']    ┆            ┆           ┆           ┆   ┆        ┆           ┆           ┆           │\n",
       "│ ['Prism    ┆ 2.0        ┆ 2.0       ┆ 1.0       ┆ … ┆ null   ┆ 230.0     ┆ 7         ┆ 1         │\n",
       "│ Armor']    ┆            ┆           ┆           ┆   ┆        ┆           ┆           ┆           │\n",
       "│ ['Soul-Hea ┆ 0.25       ┆ 0.5       ┆ 0.0       ┆ … ┆ fairy  ┆ 80.5      ┆ 7         ┆ 1         │\n",
       "│ rt']       ┆            ┆           ┆           ┆   ┆        ┆           ┆           ┆           │\n",
       "└────────────┴────────────┴───────────┴───────────┴───┴────────┴───────────┴───────────┴───────────┘"
      ]
     },
     "execution_count": 31,
     "metadata": {},
     "output_type": "execute_result"
    }
   ],
   "source": [
    "# create datafram from csv file\n",
    "path = 'data/pokemon.csv'\n",
    "pokemons = pl.read_csv(path, infer_schema_length=None)\n",
    "\n",
    "pokemons # displays first 5 and last 5 rows; shape provides information about the number of rows and columns"
   ]
  },
  {
   "cell_type": "markdown",
   "id": "3d0a39b1-7aac-4525-a914-bf5b24089195",
   "metadata": {},
   "source": [
    "#### Selecting Columns\n",
    "Specific columns can be selected by column name using the *select* method. Multiple columns can be selected using a list."
   ]
  },
  {
   "cell_type": "code",
   "execution_count": 32,
   "id": "6ac03b72-f612-4af4-ab6e-9244bdfdf7bd",
   "metadata": {},
   "outputs": [
    {
     "data": {
      "text/html": [
       "<div><style>\n",
       ".dataframe > thead > tr,\n",
       ".dataframe > tbody > tr {\n",
       "  text-align: right;\n",
       "  white-space: pre-wrap;\n",
       "}\n",
       "</style>\n",
       "<small>shape: (4, 1)</small><table border=\"1\" class=\"dataframe\"><thead><tr><th>teacher</th></tr><tr><td>str</td></tr></thead><tbody><tr><td>&quot;Bernoulli&quot;</td></tr><tr><td>&quot;Einstein&quot;</td></tr><tr><td>&quot;Darwin&quot;</td></tr><tr><td>&quot;Laue&quot;</td></tr></tbody></table></div>"
      ],
      "text/plain": [
       "shape: (4, 1)\n",
       "┌───────────┐\n",
       "│ teacher   │\n",
       "│ ---       │\n",
       "│ str       │\n",
       "╞═══════════╡\n",
       "│ Bernoulli │\n",
       "│ Einstein  │\n",
       "│ Darwin    │\n",
       "│ Laue      │\n",
       "└───────────┘"
      ]
     },
     "execution_count": 32,
     "metadata": {},
     "output_type": "execute_result"
    }
   ],
   "source": [
    "grades.select('teacher') # select column 'teacher'"
   ]
  },
  {
   "cell_type": "code",
   "execution_count": 33,
   "id": "9ed7a2c9-f818-43bf-ad1e-5eccb6d71e05",
   "metadata": {},
   "outputs": [
    {
     "data": {
      "text/html": [
       "<div><style>\n",
       ".dataframe > thead > tr,\n",
       ".dataframe > tbody > tr {\n",
       "  text-align: right;\n",
       "  white-space: pre-wrap;\n",
       "}\n",
       "</style>\n",
       "<small>shape: (801, 2)</small><table border=\"1\" class=\"dataframe\"><thead><tr><th>name</th><th>classfication</th></tr><tr><td>str</td><td>str</td></tr></thead><tbody><tr><td>&quot;Bulbasaur&quot;</td><td>&quot;Seed Pokémon&quot;</td></tr><tr><td>&quot;Ivysaur&quot;</td><td>&quot;Seed Pokémon&quot;</td></tr><tr><td>&quot;Venusaur&quot;</td><td>&quot;Seed Pokémon&quot;</td></tr><tr><td>&quot;Charmander&quot;</td><td>&quot;Lizard Pokémon&quot;</td></tr><tr><td>&quot;Charmeleon&quot;</td><td>&quot;Flame Pokémon&quot;</td></tr><tr><td>&hellip;</td><td>&hellip;</td></tr><tr><td>&quot;Celesteela&quot;</td><td>&quot;Launch Pokémon&quot;</td></tr><tr><td>&quot;Kartana&quot;</td><td>&quot;Drawn Sword Pokémon&quot;</td></tr><tr><td>&quot;Guzzlord&quot;</td><td>&quot;Junkivore Pokémon&quot;</td></tr><tr><td>&quot;Necrozma&quot;</td><td>&quot;Prism Pokémon&quot;</td></tr><tr><td>&quot;Magearna&quot;</td><td>&quot;Artificial Pokémon&quot;</td></tr></tbody></table></div>"
      ],
      "text/plain": [
       "shape: (801, 2)\n",
       "┌────────────┬─────────────────────┐\n",
       "│ name       ┆ classfication       │\n",
       "│ ---        ┆ ---                 │\n",
       "│ str        ┆ str                 │\n",
       "╞════════════╪═════════════════════╡\n",
       "│ Bulbasaur  ┆ Seed Pokémon        │\n",
       "│ Ivysaur    ┆ Seed Pokémon        │\n",
       "│ Venusaur   ┆ Seed Pokémon        │\n",
       "│ Charmander ┆ Lizard Pokémon      │\n",
       "│ Charmeleon ┆ Flame Pokémon       │\n",
       "│ …          ┆ …                   │\n",
       "│ Celesteela ┆ Launch Pokémon      │\n",
       "│ Kartana    ┆ Drawn Sword Pokémon │\n",
       "│ Guzzlord   ┆ Junkivore Pokémon   │\n",
       "│ Necrozma   ┆ Prism Pokémon       │\n",
       "│ Magearna   ┆ Artificial Pokémon  │\n",
       "└────────────┴─────────────────────┘"
      ]
     },
     "execution_count": 33,
     "metadata": {},
     "output_type": "execute_result"
    }
   ],
   "source": [
    "pokemons.select(['name', 'classfication']) # select columns 'name' and 'classfication'"
   ]
  },
  {
   "cell_type": "markdown",
   "id": "3978ee70-1a20-4e6a-819b-8b8890ea2709",
   "metadata": {},
   "source": [
    "#### Adding new columns\n",
    "Columns can be added using the method *with_columns*. The new column can be based on existing columns. The alias method can be used to rename the new column."
   ]
  },
  {
   "cell_type": "code",
   "execution_count": 34,
   "id": "c494e81c-3802-45c9-aecc-fac58f91207b",
   "metadata": {},
   "outputs": [
    {
     "data": {
      "text/html": [
       "<div><style>\n",
       ".dataframe > thead > tr,\n",
       ".dataframe > tbody > tr {\n",
       "  text-align: right;\n",
       "  white-space: pre-wrap;\n",
       "}\n",
       "</style>\n",
       "<small>shape: (801, 3)</small><table border=\"1\" class=\"dataframe\"><thead><tr><th>attack</th><th>defense</th><th>att+def</th></tr><tr><td>i64</td><td>i64</td><td>i64</td></tr></thead><tbody><tr><td>49</td><td>49</td><td>98</td></tr><tr><td>62</td><td>63</td><td>125</td></tr><tr><td>100</td><td>123</td><td>223</td></tr><tr><td>52</td><td>43</td><td>95</td></tr><tr><td>64</td><td>58</td><td>122</td></tr><tr><td>&hellip;</td><td>&hellip;</td><td>&hellip;</td></tr><tr><td>101</td><td>103</td><td>204</td></tr><tr><td>181</td><td>131</td><td>312</td></tr><tr><td>101</td><td>53</td><td>154</td></tr><tr><td>107</td><td>101</td><td>208</td></tr><tr><td>95</td><td>115</td><td>210</td></tr></tbody></table></div>"
      ],
      "text/plain": [
       "shape: (801, 3)\n",
       "┌────────┬─────────┬─────────┐\n",
       "│ attack ┆ defense ┆ att+def │\n",
       "│ ---    ┆ ---     ┆ ---     │\n",
       "│ i64    ┆ i64     ┆ i64     │\n",
       "╞════════╪═════════╪═════════╡\n",
       "│ 49     ┆ 49      ┆ 98      │\n",
       "│ 62     ┆ 63      ┆ 125     │\n",
       "│ 100    ┆ 123     ┆ 223     │\n",
       "│ 52     ┆ 43      ┆ 95      │\n",
       "│ 64     ┆ 58      ┆ 122     │\n",
       "│ …      ┆ …       ┆ …       │\n",
       "│ 101    ┆ 103     ┆ 204     │\n",
       "│ 181    ┆ 131     ┆ 312     │\n",
       "│ 101    ┆ 53      ┆ 154     │\n",
       "│ 107    ┆ 101     ┆ 208     │\n",
       "│ 95     ┆ 115     ┆ 210     │\n",
       "└────────┴─────────┴─────────┘"
      ]
     },
     "execution_count": 34,
     "metadata": {},
     "output_type": "execute_result"
    }
   ],
   "source": [
    "# Add a column with the sum of 'attack' and 'defense'\n",
    "(pokemons\n",
    "    .select(['attack', 'defense'])\n",
    "    .with_columns((pl.col('attack') + pl.col('defense')).alias('att+def'))\n",
    ")"
   ]
  },
  {
   "cell_type": "markdown",
   "id": "6aba77df-4457-4542-aa2b-152c529bdc1f",
   "metadata": {},
   "source": [
    "#### Sorting\n",
    "The dataframe can be sorted based on the values in a column."
   ]
  },
  {
   "cell_type": "code",
   "execution_count": 46,
   "id": "16bedec2-c087-421a-8b32-271ef71bc218",
   "metadata": {},
   "outputs": [
    {
     "data": {
      "text/html": [
       "<div><style>\n",
       ".dataframe > thead > tr,\n",
       ".dataframe > tbody > tr {\n",
       "  text-align: right;\n",
       "  white-space: pre-wrap;\n",
       "}\n",
       "</style>\n",
       "<small>shape: (4, 3)</small><table border=\"1\" class=\"dataframe\"><thead><tr><th>subject</th><th>grade</th><th>teacher</th></tr><tr><td>str</td><td>f64</td><td>str</td></tr></thead><tbody><tr><td>&quot;maths&quot;</td><td>4.5</td><td>&quot;Bernoulli&quot;</td></tr><tr><td>&quot;biology&quot;</td><td>5.5</td><td>&quot;Darwin&quot;</td></tr><tr><td>&quot;physics&quot;</td><td>5.5</td><td>&quot;Einstein&quot;</td></tr><tr><td>&quot;chemistry&quot;</td><td>5.0</td><td>&quot;Laue&quot;</td></tr></tbody></table></div>"
      ],
      "text/plain": [
       "shape: (4, 3)\n",
       "┌───────────┬───────┬───────────┐\n",
       "│ subject   ┆ grade ┆ teacher   │\n",
       "│ ---       ┆ ---   ┆ ---       │\n",
       "│ str       ┆ f64   ┆ str       │\n",
       "╞═══════════╪═══════╪═══════════╡\n",
       "│ maths     ┆ 4.5   ┆ Bernoulli │\n",
       "│ biology   ┆ 5.5   ┆ Darwin    │\n",
       "│ physics   ┆ 5.5   ┆ Einstein  │\n",
       "│ chemistry ┆ 5.0   ┆ Laue      │\n",
       "└───────────┴───────┴───────────┘"
      ]
     },
     "execution_count": 46,
     "metadata": {},
     "output_type": "execute_result"
    }
   ],
   "source": [
    "grades.sort('teacher') # sort by teacher's name"
   ]
  },
  {
   "cell_type": "code",
   "execution_count": 47,
   "id": "36ded6a9-d726-4467-ad72-30e12ba67029",
   "metadata": {},
   "outputs": [
    {
     "data": {
      "text/html": [
       "<div><style>\n",
       ".dataframe > thead > tr,\n",
       ".dataframe > tbody > tr {\n",
       "  text-align: right;\n",
       "  white-space: pre-wrap;\n",
       "}\n",
       "</style>\n",
       "<small>shape: (4, 3)</small><table border=\"1\" class=\"dataframe\"><thead><tr><th>subject</th><th>grade</th><th>teacher</th></tr><tr><td>str</td><td>f64</td><td>str</td></tr></thead><tbody><tr><td>&quot;physics&quot;</td><td>5.5</td><td>&quot;Einstein&quot;</td></tr><tr><td>&quot;maths&quot;</td><td>4.5</td><td>&quot;Bernoulli&quot;</td></tr><tr><td>&quot;chemistry&quot;</td><td>5.0</td><td>&quot;Laue&quot;</td></tr><tr><td>&quot;biology&quot;</td><td>5.5</td><td>&quot;Darwin&quot;</td></tr></tbody></table></div>"
      ],
      "text/plain": [
       "shape: (4, 3)\n",
       "┌───────────┬───────┬───────────┐\n",
       "│ subject   ┆ grade ┆ teacher   │\n",
       "│ ---       ┆ ---   ┆ ---       │\n",
       "│ str       ┆ f64   ┆ str       │\n",
       "╞═══════════╪═══════╪═══════════╡\n",
       "│ physics   ┆ 5.5   ┆ Einstein  │\n",
       "│ maths     ┆ 4.5   ┆ Bernoulli │\n",
       "│ chemistry ┆ 5.0   ┆ Laue      │\n",
       "│ biology   ┆ 5.5   ┆ Darwin    │\n",
       "└───────────┴───────┴───────────┘"
      ]
     },
     "execution_count": 47,
     "metadata": {},
     "output_type": "execute_result"
    }
   ],
   "source": [
    "grades.sort('subject', descending=True) # sort by subject name (descending)"
   ]
  },
  {
   "cell_type": "markdown",
   "id": "33fb5eaa-8c2f-4a2a-9d17-b21c81da652d",
   "metadata": {},
   "source": [
    "#### Filtering rows\n",
    "Specific rows can be selected based on a condition using the *filter* method. "
   ]
  },
  {
   "cell_type": "code",
   "execution_count": 35,
   "id": "06216556-011e-44cf-b8d9-930f0ac6b9c1",
   "metadata": {},
   "outputs": [
    {
     "data": {
      "text/html": [
       "<div><style>\n",
       ".dataframe > thead > tr,\n",
       ".dataframe > tbody > tr {\n",
       "  text-align: right;\n",
       "  white-space: pre-wrap;\n",
       "}\n",
       "</style>\n",
       "<small>shape: (3, 3)</small><table border=\"1\" class=\"dataframe\"><thead><tr><th>subject</th><th>grade</th><th>teacher</th></tr><tr><td>str</td><td>f64</td><td>str</td></tr></thead><tbody><tr><td>&quot;maths&quot;</td><td>4.5</td><td>&quot;Bernoulli&quot;</td></tr><tr><td>&quot;biology&quot;</td><td>5.5</td><td>&quot;Darwin&quot;</td></tr><tr><td>&quot;chemistry&quot;</td><td>5.0</td><td>&quot;Laue&quot;</td></tr></tbody></table></div>"
      ],
      "text/plain": [
       "shape: (3, 3)\n",
       "┌───────────┬───────┬───────────┐\n",
       "│ subject   ┆ grade ┆ teacher   │\n",
       "│ ---       ┆ ---   ┆ ---       │\n",
       "│ str       ┆ f64   ┆ str       │\n",
       "╞═══════════╪═══════╪═══════════╡\n",
       "│ maths     ┆ 4.5   ┆ Bernoulli │\n",
       "│ biology   ┆ 5.5   ┆ Darwin    │\n",
       "│ chemistry ┆ 5.0   ┆ Laue      │\n",
       "└───────────┴───────┴───────────┘"
      ]
     },
     "execution_count": 35,
     "metadata": {},
     "output_type": "execute_result"
    }
   ],
   "source": [
    "grades.filter(pl.col('subject') != 'physics') # select all rows where the subject is not physics"
   ]
  },
  {
   "cell_type": "code",
   "execution_count": 36,
   "id": "9db17ad8-f5a0-4fe4-9d43-1b43de1ff482",
   "metadata": {},
   "outputs": [
    {
     "data": {
      "text/html": [
       "<div><style>\n",
       ".dataframe > thead > tr,\n",
       ".dataframe > tbody > tr {\n",
       "  text-align: right;\n",
       "  white-space: pre-wrap;\n",
       "}\n",
       "</style>\n",
       "<small>shape: (2, 3)</small><table border=\"1\" class=\"dataframe\"><thead><tr><th>subject</th><th>grade</th><th>teacher</th></tr><tr><td>str</td><td>f64</td><td>str</td></tr></thead><tbody><tr><td>&quot;physics&quot;</td><td>5.5</td><td>&quot;Einstein&quot;</td></tr><tr><td>&quot;biology&quot;</td><td>5.5</td><td>&quot;Darwin&quot;</td></tr></tbody></table></div>"
      ],
      "text/plain": [
       "shape: (2, 3)\n",
       "┌─────────┬───────┬──────────┐\n",
       "│ subject ┆ grade ┆ teacher  │\n",
       "│ ---     ┆ ---   ┆ ---      │\n",
       "│ str     ┆ f64   ┆ str      │\n",
       "╞═════════╪═══════╪══════════╡\n",
       "│ physics ┆ 5.5   ┆ Einstein │\n",
       "│ biology ┆ 5.5   ┆ Darwin   │\n",
       "└─────────┴───────┴──────────┘"
      ]
     },
     "execution_count": 36,
     "metadata": {},
     "output_type": "execute_result"
    }
   ],
   "source": [
    "grades.filter(pl.col('grade') > 5) # select all rows with grades greater than 5"
   ]
  },
  {
   "cell_type": "code",
   "execution_count": 37,
   "id": "c657185a-0e99-4503-a511-196c95ebfa13",
   "metadata": {},
   "outputs": [
    {
     "data": {
      "text/html": [
       "<div><style>\n",
       ".dataframe > thead > tr,\n",
       ".dataframe > tbody > tr {\n",
       "  text-align: right;\n",
       "  white-space: pre-wrap;\n",
       "}\n",
       "</style>\n",
       "<small>shape: (428, 3)</small><table border=\"1\" class=\"dataframe\"><thead><tr><th>name</th><th>attack</th><th>defense</th></tr><tr><td>str</td><td>i64</td><td>i64</td></tr></thead><tbody><tr><td>&quot;Charmander&quot;</td><td>52</td><td>43</td></tr><tr><td>&quot;Charmeleon&quot;</td><td>64</td><td>58</td></tr><tr><td>&quot;Charizard&quot;</td><td>104</td><td>78</td></tr><tr><td>&quot;Weedle&quot;</td><td>35</td><td>30</td></tr><tr><td>&quot;Beedrill&quot;</td><td>150</td><td>40</td></tr><tr><td>&hellip;</td><td>&hellip;</td><td>&hellip;</td></tr><tr><td>&quot;Pheromosa&quot;</td><td>137</td><td>37</td></tr><tr><td>&quot;Xurkitree&quot;</td><td>89</td><td>71</td></tr><tr><td>&quot;Kartana&quot;</td><td>181</td><td>131</td></tr><tr><td>&quot;Guzzlord&quot;</td><td>101</td><td>53</td></tr><tr><td>&quot;Necrozma&quot;</td><td>107</td><td>101</td></tr></tbody></table></div>"
      ],
      "text/plain": [
       "shape: (428, 3)\n",
       "┌────────────┬────────┬─────────┐\n",
       "│ name       ┆ attack ┆ defense │\n",
       "│ ---        ┆ ---    ┆ ---     │\n",
       "│ str        ┆ i64    ┆ i64     │\n",
       "╞════════════╪════════╪═════════╡\n",
       "│ Charmander ┆ 52     ┆ 43      │\n",
       "│ Charmeleon ┆ 64     ┆ 58      │\n",
       "│ Charizard  ┆ 104    ┆ 78      │\n",
       "│ Weedle     ┆ 35     ┆ 30      │\n",
       "│ Beedrill   ┆ 150    ┆ 40      │\n",
       "│ …          ┆ …      ┆ …       │\n",
       "│ Pheromosa  ┆ 137    ┆ 37      │\n",
       "│ Xurkitree  ┆ 89     ┆ 71      │\n",
       "│ Kartana    ┆ 181    ┆ 131     │\n",
       "│ Guzzlord   ┆ 101    ┆ 53      │\n",
       "│ Necrozma   ┆ 107    ┆ 101     │\n",
       "└────────────┴────────┴─────────┘"
      ]
     },
     "execution_count": 37,
     "metadata": {},
     "output_type": "execute_result"
    }
   ],
   "source": [
    "# select all rows where 'attack' is greater than 'defense'\n",
    "(pokemons\n",
    "    .select(['name', 'attack', 'defense'])\n",
    "    .filter(pl.col('attack') > pl.col('defense'))\n",
    ")"
   ]
  },
  {
   "cell_type": "markdown",
   "id": "4f7bc9e1-fcd3-4d79-b53e-9cbba53b0185",
   "metadata": {},
   "source": [
    "#### Operations on columns\n",
    "There are many operations acting on the values in a column, e.g. sum, mean, etc."
   ]
  },
  {
   "cell_type": "code",
   "execution_count": 38,
   "id": "a635feca-591a-4a77-97f1-648c80b45e26",
   "metadata": {},
   "outputs": [
    {
     "data": {
      "text/html": [
       "<div><style>\n",
       ".dataframe > thead > tr,\n",
       ".dataframe > tbody > tr {\n",
       "  text-align: right;\n",
       "  white-space: pre-wrap;\n",
       "}\n",
       "</style>\n",
       "<small>shape: (1, 1)</small><table border=\"1\" class=\"dataframe\"><thead><tr><th>grade</th></tr><tr><td>f64</td></tr></thead><tbody><tr><td>5.125</td></tr></tbody></table></div>"
      ],
      "text/plain": [
       "shape: (1, 1)\n",
       "┌───────┐\n",
       "│ grade │\n",
       "│ ---   │\n",
       "│ f64   │\n",
       "╞═══════╡\n",
       "│ 5.125 │\n",
       "└───────┘"
      ]
     },
     "execution_count": 38,
     "metadata": {},
     "output_type": "execute_result"
    }
   ],
   "source": [
    "grades.select(pl.mean('grade')) # calculate the average grade"
   ]
  },
  {
   "cell_type": "code",
   "execution_count": 40,
   "id": "8b36e9ec-eadd-464a-96f0-12e8884c493e",
   "metadata": {},
   "outputs": [
    {
     "data": {
      "text/html": [
       "<div><style>\n",
       ".dataframe > thead > tr,\n",
       ".dataframe > tbody > tr {\n",
       "  text-align: right;\n",
       "  white-space: pre-wrap;\n",
       "}\n",
       "</style>\n",
       "<small>shape: (1, 2)</small><table border=\"1\" class=\"dataframe\"><thead><tr><th>attack</th><th>defense</th></tr><tr><td>f64</td><td>i64</td></tr></thead><tbody><tr><td>77.857678</td><td>58480</td></tr></tbody></table></div>"
      ],
      "text/plain": [
       "shape: (1, 2)\n",
       "┌───────────┬─────────┐\n",
       "│ attack    ┆ defense │\n",
       "│ ---       ┆ ---     │\n",
       "│ f64       ┆ i64     │\n",
       "╞═══════════╪═════════╡\n",
       "│ 77.857678 ┆ 58480   │\n",
       "└───────────┴─────────┘"
      ]
     },
     "execution_count": 40,
     "metadata": {},
     "output_type": "execute_result"
    }
   ],
   "source": [
    "# calculate the average of 'attack' and the sum of 'defense'\n",
    "pokemons.select([pl.mean('attack'), pl.sum('defense')])"
   ]
  },
  {
   "cell_type": "markdown",
   "id": "7672c8d0-01e7-4278-a6cb-94c98cc49a71",
   "metadata": {},
   "source": [
    "#### Grouping and aggregating\n",
    "Data can often be grouped based on the value in one column. Aggregation allows to perform calculations per group."
   ]
  },
  {
   "cell_type": "code",
   "execution_count": 2,
   "id": "0160992e-e60a-496c-a3de-698cb3cda628",
   "metadata": {},
   "outputs": [
    {
     "data": {
      "text/html": [
       "<div><style>\n",
       ".dataframe > thead > tr,\n",
       ".dataframe > tbody > tr {\n",
       "  text-align: right;\n",
       "  white-space: pre-wrap;\n",
       "}\n",
       "</style>\n",
       "<small>shape: (4, 2)</small><table border=\"1\" class=\"dataframe\"><thead><tr><th>subject</th><th>grade</th></tr><tr><td>str</td><td>f64</td></tr></thead><tbody><tr><td>&quot;P&quot;</td><td>4.333333</td></tr><tr><td>&quot;B&quot;</td><td>5.5</td></tr><tr><td>&quot;M&quot;</td><td>4.75</td></tr><tr><td>&quot;C&quot;</td><td>4.666667</td></tr></tbody></table></div>"
      ],
      "text/plain": [
       "shape: (4, 2)\n",
       "┌─────────┬──────────┐\n",
       "│ subject ┆ grade    │\n",
       "│ ---     ┆ ---      │\n",
       "│ str     ┆ f64      │\n",
       "╞═════════╪══════════╡\n",
       "│ P       ┆ 4.333333 │\n",
       "│ B       ┆ 5.5      │\n",
       "│ M       ┆ 4.75     │\n",
       "│ C       ┆ 4.666667 │\n",
       "└─────────┴──────────┘"
      ]
     },
     "execution_count": 2,
     "metadata": {},
     "output_type": "execute_result"
    }
   ],
   "source": [
    "# dataframe containt grades for four subjects in order of when they were received\n",
    "gradebook = pl.DataFrame(\n",
    "    {\n",
    "        'subject': ['P', 'M', 'C', 'B', 'M', 'C', 'P', 'B', 'M', 'P', 'M', 'C', 'B'],\n",
    "        'grade': [5.5, 4.5, 4.5, 5, 5, 4.5, 3.5, 6, 5, 4, 4.5, 5, 5.5]\n",
    "    }\n",
    ")\n",
    "\n",
    "# calculate the average per subject\n",
    "mean_grades = (gradebook\n",
    " .group_by('subject')\n",
    " .agg(pl.col('grade').mean())\n",
    ")\n",
    "\n",
    "mean_grades"
   ]
  },
  {
   "cell_type": "code",
   "execution_count": 52,
   "id": "8c670663-1fe6-49a9-9ae8-74b591f5cc58",
   "metadata": {},
   "outputs": [
    {
     "data": {
      "text/html": [
       "<div><style>\n",
       ".dataframe > thead > tr,\n",
       ".dataframe > tbody > tr {\n",
       "  text-align: right;\n",
       "  white-space: pre-wrap;\n",
       "}\n",
       "</style>\n",
       "<small>shape: (18, 3)</small><table border=\"1\" class=\"dataframe\"><thead><tr><th>type1</th><th>attack</th><th>defense</th></tr><tr><td>str</td><td>f64</td><td>f64</td></tr></thead><tbody><tr><td>&quot;fairy&quot;</td><td>62.111111</td><td>68.166667</td></tr><tr><td>&quot;psychic&quot;</td><td>65.566038</td><td>69.264151</td></tr><tr><td>&quot;flying&quot;</td><td>66.666667</td><td>65.0</td></tr><tr><td>&quot;bug&quot;</td><td>70.125</td><td>70.847222</td></tr><tr><td>&quot;electric&quot;</td><td>70.820513</td><td>61.820513</td></tr><tr><td>&hellip;</td><td>&hellip;</td><td>&hellip;</td></tr><tr><td>&quot;rock&quot;</td><td>90.666667</td><td>96.266667</td></tr><tr><td>&quot;steel&quot;</td><td>93.083333</td><td>120.208333</td></tr><tr><td>&quot;ground&quot;</td><td>94.8125</td><td>83.90625</td></tr><tr><td>&quot;fighting&quot;</td><td>99.178571</td><td>66.392857</td></tr><tr><td>&quot;dragon&quot;</td><td>106.407407</td><td>86.259259</td></tr></tbody></table></div>"
      ],
      "text/plain": [
       "shape: (18, 3)\n",
       "┌──────────┬────────────┬────────────┐\n",
       "│ type1    ┆ attack     ┆ defense    │\n",
       "│ ---      ┆ ---        ┆ ---        │\n",
       "│ str      ┆ f64        ┆ f64        │\n",
       "╞══════════╪════════════╪════════════╡\n",
       "│ fairy    ┆ 62.111111  ┆ 68.166667  │\n",
       "│ psychic  ┆ 65.566038  ┆ 69.264151  │\n",
       "│ flying   ┆ 66.666667  ┆ 65.0       │\n",
       "│ bug      ┆ 70.125     ┆ 70.847222  │\n",
       "│ electric ┆ 70.820513  ┆ 61.820513  │\n",
       "│ …        ┆ …          ┆ …          │\n",
       "│ rock     ┆ 90.666667  ┆ 96.266667  │\n",
       "│ steel    ┆ 93.083333  ┆ 120.208333 │\n",
       "│ ground   ┆ 94.8125    ┆ 83.90625   │\n",
       "│ fighting ┆ 99.178571  ┆ 66.392857  │\n",
       "│ dragon   ┆ 106.407407 ┆ 86.259259  │\n",
       "└──────────┴────────────┴────────────┘"
      ]
     },
     "execution_count": 52,
     "metadata": {},
     "output_type": "execute_result"
    }
   ],
   "source": [
    "# group by 'type1', then calculate mean attack and defense per group, sort by mean attack\n",
    "(pokemons\n",
    "    .select(['name', 'type1', 'attack', 'defense'])\n",
    "    .group_by('type1')\n",
    "    .agg(pl.col('attack').mean(), pl.col('defense').mean())\n",
    "    .sort('attack')\n",
    ")"
   ]
  },
  {
   "cell_type": "markdown",
   "id": "da2bcf1e-5a9d-4644-a561-e8741efb6387",
   "metadata": {},
   "source": [
    "#### Plotting data\n",
    "Data can be visualised using most plotting libraries. There are some shortcuts built into Polars which are based on Altair (https://altair-viz.github.io/gallery/index.html)."
   ]
  },
  {
   "cell_type": "code",
   "execution_count": 6,
   "id": "2cc8be1f-e3e0-43e2-b70d-a5db630945b4",
   "metadata": {},
   "outputs": [
    {
     "data": {
      "text/html": [
       "\n",
       "<style>\n",
       "  #altair-viz-cd8444682c5147ed8809444b3bcae9f1.vega-embed {\n",
       "    width: 100%;\n",
       "    display: flex;\n",
       "  }\n",
       "\n",
       "  #altair-viz-cd8444682c5147ed8809444b3bcae9f1.vega-embed details,\n",
       "  #altair-viz-cd8444682c5147ed8809444b3bcae9f1.vega-embed details summary {\n",
       "    position: relative;\n",
       "  }\n",
       "</style>\n",
       "<div id=\"altair-viz-cd8444682c5147ed8809444b3bcae9f1\"></div>\n",
       "<script type=\"text/javascript\">\n",
       "  var VEGA_DEBUG = (typeof VEGA_DEBUG == \"undefined\") ? {} : VEGA_DEBUG;\n",
       "  (function(spec, embedOpt){\n",
       "    let outputDiv = document.currentScript.previousElementSibling;\n",
       "    if (outputDiv.id !== \"altair-viz-cd8444682c5147ed8809444b3bcae9f1\") {\n",
       "      outputDiv = document.getElementById(\"altair-viz-cd8444682c5147ed8809444b3bcae9f1\");\n",
       "    }\n",
       "\n",
       "    const paths = {\n",
       "      \"vega\": \"https://cdn.jsdelivr.net/npm/vega@5?noext\",\n",
       "      \"vega-lib\": \"https://cdn.jsdelivr.net/npm/vega-lib?noext\",\n",
       "      \"vega-lite\": \"https://cdn.jsdelivr.net/npm/vega-lite@5.20.1?noext\",\n",
       "      \"vega-embed\": \"https://cdn.jsdelivr.net/npm/vega-embed@6?noext\",\n",
       "    };\n",
       "\n",
       "    function maybeLoadScript(lib, version) {\n",
       "      var key = `${lib.replace(\"-\", \"\")}_version`;\n",
       "      return (VEGA_DEBUG[key] == version) ?\n",
       "        Promise.resolve(paths[lib]) :\n",
       "        new Promise(function(resolve, reject) {\n",
       "          var s = document.createElement('script');\n",
       "          document.getElementsByTagName(\"head\")[0].appendChild(s);\n",
       "          s.async = true;\n",
       "          s.onload = () => {\n",
       "            VEGA_DEBUG[key] = version;\n",
       "            return resolve(paths[lib]);\n",
       "          };\n",
       "          s.onerror = () => reject(`Error loading script: ${paths[lib]}`);\n",
       "          s.src = paths[lib];\n",
       "        });\n",
       "    }\n",
       "\n",
       "    function showError(err) {\n",
       "      outputDiv.innerHTML = `<div class=\"error\" style=\"color:red;\">${err}</div>`;\n",
       "      throw err;\n",
       "    }\n",
       "\n",
       "    function displayChart(vegaEmbed) {\n",
       "      vegaEmbed(outputDiv, spec, embedOpt)\n",
       "        .catch(err => showError(`Javascript Error: ${err.message}<br>This usually means there's a typo in your chart specification. See the javascript console for the full traceback.`));\n",
       "    }\n",
       "\n",
       "    if(typeof define === \"function\" && define.amd) {\n",
       "      requirejs.config({paths});\n",
       "      let deps = [\"vega-embed\"];\n",
       "      require(deps, displayChart, err => showError(`Error loading script: ${err.message}`));\n",
       "    } else {\n",
       "      maybeLoadScript(\"vega\", \"5\")\n",
       "        .then(() => maybeLoadScript(\"vega-lite\", \"5.20.1\"))\n",
       "        .then(() => maybeLoadScript(\"vega-embed\", \"6\"))\n",
       "        .catch(showError)\n",
       "        .then(() => displayChart(vegaEmbed));\n",
       "    }\n",
       "  })({\"config\": {\"view\": {\"continuousWidth\": 300, \"continuousHeight\": 300}}, \"data\": {\"name\": \"data-5b8af9b230943eb77c40c48334094439\"}, \"mark\": {\"type\": \"line\", \"tooltip\": true}, \"encoding\": {\"x\": {\"field\": \"test_no\", \"type\": \"quantitative\"}, \"y\": {\"field\": \"grade\", \"type\": \"quantitative\"}}, \"params\": [{\"name\": \"param_2\", \"select\": {\"type\": \"interval\", \"encodings\": [\"x\", \"y\"]}, \"bind\": \"scales\"}], \"$schema\": \"https://vega.github.io/schema/vega-lite/v5.20.1.json\", \"datasets\": {\"data-5b8af9b230943eb77c40c48334094439\": [{\"test_no\": 1, \"subject\": \"M\", \"grade\": 4.5}, {\"test_no\": 2, \"subject\": \"M\", \"grade\": 5.0}, {\"test_no\": 3, \"subject\": \"M\", \"grade\": 5.0}, {\"test_no\": 4, \"subject\": \"M\", \"grade\": 4.5}]}}, {\"mode\": \"vega-lite\"});\n",
       "</script>"
      ],
      "text/plain": [
       "alt.Chart(...)"
      ]
     },
     "execution_count": 6,
     "metadata": {},
     "output_type": "execute_result"
    }
   ],
   "source": [
    "# diagram for the maths grades\n",
    "(gradebook\n",
    "    .filter(pl.col('subject') == 'M')\n",
    "    .with_row_index('test_no', offset=1)\n",
    "    .plot.line(\n",
    "        x='test_no',\n",
    "        y='grade'\n",
    "    )\n",
    ")"
   ]
  },
  {
   "cell_type": "code",
   "execution_count": 99,
   "id": "1343a7a4-9b21-4d95-9bd6-2e6d405750db",
   "metadata": {},
   "outputs": [
    {
     "data": {
      "text/html": [
       "\n",
       "<style>\n",
       "  #altair-viz-4411f0052b474043a847f635c28b9242.vega-embed {\n",
       "    width: 100%;\n",
       "    display: flex;\n",
       "  }\n",
       "\n",
       "  #altair-viz-4411f0052b474043a847f635c28b9242.vega-embed details,\n",
       "  #altair-viz-4411f0052b474043a847f635c28b9242.vega-embed details summary {\n",
       "    position: relative;\n",
       "  }\n",
       "</style>\n",
       "<div id=\"altair-viz-4411f0052b474043a847f635c28b9242\"></div>\n",
       "<script type=\"text/javascript\">\n",
       "  var VEGA_DEBUG = (typeof VEGA_DEBUG == \"undefined\") ? {} : VEGA_DEBUG;\n",
       "  (function(spec, embedOpt){\n",
       "    let outputDiv = document.currentScript.previousElementSibling;\n",
       "    if (outputDiv.id !== \"altair-viz-4411f0052b474043a847f635c28b9242\") {\n",
       "      outputDiv = document.getElementById(\"altair-viz-4411f0052b474043a847f635c28b9242\");\n",
       "    }\n",
       "\n",
       "    const paths = {\n",
       "      \"vega\": \"https://cdn.jsdelivr.net/npm/vega@5?noext\",\n",
       "      \"vega-lib\": \"https://cdn.jsdelivr.net/npm/vega-lib?noext\",\n",
       "      \"vega-lite\": \"https://cdn.jsdelivr.net/npm/vega-lite@5.20.1?noext\",\n",
       "      \"vega-embed\": \"https://cdn.jsdelivr.net/npm/vega-embed@6?noext\",\n",
       "    };\n",
       "\n",
       "    function maybeLoadScript(lib, version) {\n",
       "      var key = `${lib.replace(\"-\", \"\")}_version`;\n",
       "      return (VEGA_DEBUG[key] == version) ?\n",
       "        Promise.resolve(paths[lib]) :\n",
       "        new Promise(function(resolve, reject) {\n",
       "          var s = document.createElement('script');\n",
       "          document.getElementsByTagName(\"head\")[0].appendChild(s);\n",
       "          s.async = true;\n",
       "          s.onload = () => {\n",
       "            VEGA_DEBUG[key] = version;\n",
       "            return resolve(paths[lib]);\n",
       "          };\n",
       "          s.onerror = () => reject(`Error loading script: ${paths[lib]}`);\n",
       "          s.src = paths[lib];\n",
       "        });\n",
       "    }\n",
       "\n",
       "    function showError(err) {\n",
       "      outputDiv.innerHTML = `<div class=\"error\" style=\"color:red;\">${err}</div>`;\n",
       "      throw err;\n",
       "    }\n",
       "\n",
       "    function displayChart(vegaEmbed) {\n",
       "      vegaEmbed(outputDiv, spec, embedOpt)\n",
       "        .catch(err => showError(`Javascript Error: ${err.message}<br>This usually means there's a typo in your chart specification. See the javascript console for the full traceback.`));\n",
       "    }\n",
       "\n",
       "    if(typeof define === \"function\" && define.amd) {\n",
       "      requirejs.config({paths});\n",
       "      let deps = [\"vega-embed\"];\n",
       "      require(deps, displayChart, err => showError(`Error loading script: ${err.message}`));\n",
       "    } else {\n",
       "      maybeLoadScript(\"vega\", \"5\")\n",
       "        .then(() => maybeLoadScript(\"vega-lite\", \"5.20.1\"))\n",
       "        .then(() => maybeLoadScript(\"vega-embed\", \"6\"))\n",
       "        .catch(showError)\n",
       "        .then(() => displayChart(vegaEmbed));\n",
       "    }\n",
       "  })({\"config\": {\"view\": {\"continuousWidth\": 300, \"continuousHeight\": 300}}, \"data\": {\"name\": \"data-5b8af9b230943eb77c40c48334094439\"}, \"mark\": {\"type\": \"line\"}, \"encoding\": {\"x\": {\"field\": \"test_no\", \"type\": \"quantitative\"}, \"y\": {\"field\": \"grade\", \"scale\": {\"domain\": [4, 6], \"clamp\": true}, \"type\": \"quantitative\"}}, \"params\": [{\"name\": \"param_28\", \"select\": {\"type\": \"interval\", \"encodings\": [\"x\", \"y\"]}, \"bind\": \"scales\"}], \"$schema\": \"https://vega.github.io/schema/vega-lite/v5.20.1.json\", \"datasets\": {\"data-5b8af9b230943eb77c40c48334094439\": [{\"test_no\": 1, \"subject\": \"M\", \"grade\": 4.5}, {\"test_no\": 2, \"subject\": \"M\", \"grade\": 5.0}, {\"test_no\": 3, \"subject\": \"M\", \"grade\": 5.0}, {\"test_no\": 4, \"subject\": \"M\", \"grade\": 4.5}]}}, {\"mode\": \"vega-lite\"});\n",
       "</script>"
      ],
      "text/plain": [
       "alt.Chart(...)"
      ]
     },
     "execution_count": 99,
     "metadata": {},
     "output_type": "execute_result"
    }
   ],
   "source": [
    "# For a nicer version we make use of the underlying library's (Altair) more advanced formatting options\n",
    "M_grades = (gradebook\n",
    "    .filter(pl.col('subject') == 'M')\n",
    "    .with_row_index('test_no', offset=1)\n",
    "           )\n",
    "\n",
    "alt.Chart(M_grades).mark_line().encode(\n",
    "    alt.Y('grade:Q').scale(domain=(4, 6), clamp=True),\n",
    "    x='test_no'\n",
    ").interactive()"
   ]
  },
  {
   "cell_type": "code",
   "execution_count": 105,
   "id": "a5cb9432-897c-461e-91ca-d624ab17e596",
   "metadata": {},
   "outputs": [
    {
     "data": {
      "text/html": [
       "\n",
       "<style>\n",
       "  #altair-viz-67007987c1874c9ab576bc0a6adc7881.vega-embed {\n",
       "    width: 100%;\n",
       "    display: flex;\n",
       "  }\n",
       "\n",
       "  #altair-viz-67007987c1874c9ab576bc0a6adc7881.vega-embed details,\n",
       "  #altair-viz-67007987c1874c9ab576bc0a6adc7881.vega-embed details summary {\n",
       "    position: relative;\n",
       "  }\n",
       "</style>\n",
       "<div id=\"altair-viz-67007987c1874c9ab576bc0a6adc7881\"></div>\n",
       "<script type=\"text/javascript\">\n",
       "  var VEGA_DEBUG = (typeof VEGA_DEBUG == \"undefined\") ? {} : VEGA_DEBUG;\n",
       "  (function(spec, embedOpt){\n",
       "    let outputDiv = document.currentScript.previousElementSibling;\n",
       "    if (outputDiv.id !== \"altair-viz-67007987c1874c9ab576bc0a6adc7881\") {\n",
       "      outputDiv = document.getElementById(\"altair-viz-67007987c1874c9ab576bc0a6adc7881\");\n",
       "    }\n",
       "\n",
       "    const paths = {\n",
       "      \"vega\": \"https://cdn.jsdelivr.net/npm/vega@5?noext\",\n",
       "      \"vega-lib\": \"https://cdn.jsdelivr.net/npm/vega-lib?noext\",\n",
       "      \"vega-lite\": \"https://cdn.jsdelivr.net/npm/vega-lite@5.20.1?noext\",\n",
       "      \"vega-embed\": \"https://cdn.jsdelivr.net/npm/vega-embed@6?noext\",\n",
       "    };\n",
       "\n",
       "    function maybeLoadScript(lib, version) {\n",
       "      var key = `${lib.replace(\"-\", \"\")}_version`;\n",
       "      return (VEGA_DEBUG[key] == version) ?\n",
       "        Promise.resolve(paths[lib]) :\n",
       "        new Promise(function(resolve, reject) {\n",
       "          var s = document.createElement('script');\n",
       "          document.getElementsByTagName(\"head\")[0].appendChild(s);\n",
       "          s.async = true;\n",
       "          s.onload = () => {\n",
       "            VEGA_DEBUG[key] = version;\n",
       "            return resolve(paths[lib]);\n",
       "          };\n",
       "          s.onerror = () => reject(`Error loading script: ${paths[lib]}`);\n",
       "          s.src = paths[lib];\n",
       "        });\n",
       "    }\n",
       "\n",
       "    function showError(err) {\n",
       "      outputDiv.innerHTML = `<div class=\"error\" style=\"color:red;\">${err}</div>`;\n",
       "      throw err;\n",
       "    }\n",
       "\n",
       "    function displayChart(vegaEmbed) {\n",
       "      vegaEmbed(outputDiv, spec, embedOpt)\n",
       "        .catch(err => showError(`Javascript Error: ${err.message}<br>This usually means there's a typo in your chart specification. See the javascript console for the full traceback.`));\n",
       "    }\n",
       "\n",
       "    if(typeof define === \"function\" && define.amd) {\n",
       "      requirejs.config({paths});\n",
       "      let deps = [\"vega-embed\"];\n",
       "      require(deps, displayChart, err => showError(`Error loading script: ${err.message}`));\n",
       "    } else {\n",
       "      maybeLoadScript(\"vega\", \"5\")\n",
       "        .then(() => maybeLoadScript(\"vega-lite\", \"5.20.1\"))\n",
       "        .then(() => maybeLoadScript(\"vega-embed\", \"6\"))\n",
       "        .catch(showError)\n",
       "        .then(() => displayChart(vegaEmbed));\n",
       "    }\n",
       "  })({\"config\": {\"view\": {\"continuousWidth\": 300, \"continuousHeight\": 300}}, \"data\": {\"name\": \"data-27232179b521cb44b4b2bb9926ee11d9\"}, \"mark\": {\"type\": \"bar\", \"tooltip\": true}, \"encoding\": {\"x\": {\"field\": \"type1\", \"type\": \"nominal\"}, \"y\": {\"field\": \"frequency\", \"type\": \"quantitative\"}}, \"params\": [{\"name\": \"param_30\", \"select\": {\"type\": \"interval\", \"encodings\": [\"x\", \"y\"]}, \"bind\": \"scales\"}], \"$schema\": \"https://vega.github.io/schema/vega-lite/v5.20.1.json\", \"datasets\": {\"data-27232179b521cb44b4b2bb9926ee11d9\": [{\"type1\": \"water\", \"frequency\": 114}, {\"type1\": \"fire\", \"frequency\": 52}, {\"type1\": \"dark\", \"frequency\": 29}, {\"type1\": \"ground\", \"frequency\": 32}, {\"type1\": \"electric\", \"frequency\": 39}, {\"type1\": \"ghost\", \"frequency\": 27}, {\"type1\": \"psychic\", \"frequency\": 53}, {\"type1\": \"steel\", \"frequency\": 24}, {\"type1\": \"grass\", \"frequency\": 78}, {\"type1\": \"bug\", \"frequency\": 72}, {\"type1\": \"rock\", \"frequency\": 45}, {\"type1\": \"fighting\", \"frequency\": 28}, {\"type1\": \"poison\", \"frequency\": 32}, {\"type1\": \"dragon\", \"frequency\": 27}, {\"type1\": \"fairy\", \"frequency\": 18}, {\"type1\": \"flying\", \"frequency\": 3}, {\"type1\": \"ice\", \"frequency\": 23}, {\"type1\": \"normal\", \"frequency\": 105}]}}, {\"mode\": \"vega-lite\"});\n",
       "</script>"
      ],
      "text/plain": [
       "alt.Chart(...)"
      ]
     },
     "execution_count": 105,
     "metadata": {},
     "output_type": "execute_result"
    }
   ],
   "source": [
    "# histogram for the different type1 options\n",
    "(pokemons\n",
    " .select('type1')\n",
    " .group_by('type1')\n",
    " .agg(pl.len().alias('frequency'))\n",
    " .plot.bar(\n",
    "     x='type1',\n",
    "     y='frequency'\n",
    " )\n",
    ")"
   ]
  }
 ],
 "metadata": {
  "kernelspec": {
   "display_name": "Python 3 (ipykernel)",
   "language": "python",
   "name": "python3"
  },
  "language_info": {
   "codemirror_mode": {
    "name": "ipython",
    "version": 3
   },
   "file_extension": ".py",
   "mimetype": "text/x-python",
   "name": "python",
   "nbconvert_exporter": "python",
   "pygments_lexer": "ipython3",
   "version": "3.13.3"
  }
 },
 "nbformat": 4,
 "nbformat_minor": 5
}
