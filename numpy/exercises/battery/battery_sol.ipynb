{
 "cells": [
  {
   "cell_type": "markdown",
   "id": "609a54aa-c88a-40e5-9f32-ff10645eef75",
   "metadata": {},
   "source": [
    "## Real Battery\n",
    "A battery is connected to six different resistors, and the currents and (terminal) voltages are measured. We expect a linear relation for the voltage as a function of the current:\n",
    "\n",
    "$V = V_0 - r I$\n",
    "\n",
    "where $V_0$ is the source voltage and $r$ the internal resistance of the battery."
   ]
  },
  {
   "cell_type": "markdown",
   "id": "c61f9e0e-5383-4e66-bc1a-5e346000919a",
   "metadata": {},
   "source": [
    "#### Measured Data\n",
    "The uncertainty for the voltage measurements is 0.01 V, for the current measurements 1 mA."
   ]
  },
  {
   "cell_type": "code",
   "execution_count": null,
   "id": "624e75ec-bb4f-4c75-b9a0-b80434e7f794",
   "metadata": {},
   "outputs": [],
   "source": [
    "import numpy as np\n",
    "\n",
    "# terminal voltage in V\n",
    "voltage = np.array([4.49, 4.47, 4.45, 4.41, 4.35, 4.28])\n",
    "dv = 0.01 # uncertainty in V\n",
    "\n",
    "# current in mA\n",
    "current = np.array([63, 98, 134, 199, 295, 422])\n",
    "di = 1 # uncertainty in mA"
   ]
  },
  {
   "cell_type": "markdown",
   "id": "191df3f0-8c03-43ed-b0f9-05977e9f65f8",
   "metadata": {},
   "source": [
    "#### Resistance\n",
    "Calculate the resistance values for the resistors used in the measurements (with measurement errors)."
   ]
  },
  {
   "cell_type": "code",
   "execution_count": null,
   "id": "a8554745-8a74-4dfd-8cf9-9156b362626e",
   "metadata": {},
   "outputs": [],
   "source": [
    "resistance = voltage/current # resistance values\n",
    "dr = (voltage + dv) / (current - di) - resistance # error as Rmax - R = Vmax/Imin - R\n",
    "\n",
    "for i, (a, da) in enumerate(zip(resistance, dr), start=1):\n",
    "    print(f'resistor {i}: ({a*1000:.2f} ± {da*1000:.2f}) kΩ')"
   ]
  },
  {
   "cell_type": "markdown",
   "id": "38898631-fa81-4da3-94c0-eb2e826748a3",
   "metadata": {},
   "source": [
    "#### Graphical analysis\n",
    "Graph the voltage vs current (with error bars) and fit a linear function. Determine the source voltage $V_0$ and the internal resistance $r$ from the fit parameters."
   ]
  },
  {
   "cell_type": "code",
   "execution_count": null,
   "id": "1c97be44-3a76-416b-b8b9-4cb40e4d03da",
   "metadata": {},
   "outputs": [],
   "source": [
    "import matplotlib.pyplot as plt\n",
    "from scipy.optimize import curve_fit\n",
    "\n",
    "\n",
    "def linear(x, m, q):\n",
    "    return m * x + q\n",
    "\n",
    "coeff, pcov = curve_fit(linear, current, voltage)\n",
    "m, q = coeff\n",
    "internal_resistance = -m # internal resistance correponds to negative slope\n",
    "source_voltage = q # source voltage corresponds to axis intercept\n",
    "\n",
    "dri = np.sqrt(pcov[0, 0]) # variance of internal resistance\n",
    "dv0 = np.sqrt(pcov[1, 1]) # variance of source voltage\n",
    "\n",
    "current_range = np.linspace(0, max(current), 100) # range used to plot fit function\n",
    "voltage_fit = linear(current_range, m, q)\n",
    "\n",
    "plt.errorbar(current, voltage, xerr=di, yerr=dv, fmt='.', label='measured data')\n",
    "plt.plot(current_range, voltage_fit, label='linear fit')\n",
    "plt.xlabel('I (mA)')\n",
    "plt.ylabel('V (V)')\n",
    "plt.grid()\n",
    "plt.legend()\n",
    "plt.show()"
   ]
  },
  {
   "cell_type": "code",
   "execution_count": null,
   "id": "920cadd6-d79f-440c-ada8-0b8b0bb3176e",
   "metadata": {},
   "outputs": [],
   "source": [
    "print(f'internal resistance: ({internal_resistance:.5f} ± {dri:.5f}) kΩ'\n",
    "      f' = ({internal_resistance*1000:.2f} ± {dri*1000:.2f}) Ω')\n",
    "print(f'source voltage: ({source_voltage:.3f} ± {dv0:.3f}) V')"
   ]
  }
 ],
 "metadata": {
  "language_info": {
   "name": "python",
   "pygments_lexer": "ipython3"
  }
 },
 "nbformat": 4,
 "nbformat_minor": 5
}
