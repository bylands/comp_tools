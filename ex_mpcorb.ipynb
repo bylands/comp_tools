{
 "cells": [
  {
   "cell_type": "code",
   "execution_count": 3,
   "id": "c38c3734-e871-46d5-95b1-56dfebc9efef",
   "metadata": {},
   "outputs": [],
   "source": [
    "import numpy as np\n",
    "import matplotlib.pyplot as plt\n",
    "import polars as pl"
   ]
  },
  {
   "cell_type": "code",
   "execution_count": 8,
   "id": "c6acfada-03f5-476c-bb6f-54ae15952ab4",
   "metadata": {},
   "outputs": [
    {
     "data": {
      "text/html": [
       "<div><style>\n",
       ".dataframe > thead > tr,\n",
       ".dataframe > tbody > tr {\n",
       "  text-align: right;\n",
       "  white-space: pre-wrap;\n",
       "}\n",
       "</style>\n",
       "<small>shape: (1_452_080, 1)</small><table border=\"1\" class=\"dataframe\"><thead><tr><th>column_1</th></tr><tr><td>str</td></tr></thead><tbody><tr><td>&quot;00001&nbsp;&nbsp;&nbsp;&nbsp;3.34&nbsp;&nbsp;0.15 K2555 188.…</td></tr><tr><td>&quot;00002&nbsp;&nbsp;&nbsp;&nbsp;4.11&nbsp;&nbsp;0.15 K2555 168.…</td></tr><tr><td>&quot;00003&nbsp;&nbsp;&nbsp;&nbsp;5.19&nbsp;&nbsp;0.15 K2555 172.…</td></tr><tr><td>&quot;00004&nbsp;&nbsp;&nbsp;&nbsp;3.25&nbsp;&nbsp;0.15 K2555 332.…</td></tr><tr><td>&quot;00005&nbsp;&nbsp;&nbsp;&nbsp;6.98&nbsp;&nbsp;0.15 K2555&nbsp;&nbsp;86.…</td></tr><tr><td>&hellip;</td></tr><tr><td>&quot;K21A03L 20.1&nbsp;&nbsp;&nbsp;0.15 K2116&nbsp;&nbsp;92.…</td></tr><tr><td>&quot;K21A03O 19.8&nbsp;&nbsp;&nbsp;0.15 K2116&nbsp;&nbsp;84.…</td></tr><tr><td>&quot;K21C09X 21.9&nbsp;&nbsp;&nbsp;0.15 K211Q 353.…</td></tr><tr><td>&quot;K21C16A 20.3&nbsp;&nbsp;&nbsp;0.15 K212F 177.…</td></tr><tr><td>&quot;K21F03B 20.3&nbsp;&nbsp;&nbsp;0.15 K2137 356.…</td></tr></tbody></table></div>"
      ],
      "text/plain": [
       "shape: (1_452_080, 1)\n",
       "┌─────────────────────────────────┐\n",
       "│ column_1                        │\n",
       "│ ---                             │\n",
       "│ str                             │\n",
       "╞═════════════════════════════════╡\n",
       "│ 00001    3.34  0.15 K2555 188.… │\n",
       "│ 00002    4.11  0.15 K2555 168.… │\n",
       "│ 00003    5.19  0.15 K2555 172.… │\n",
       "│ 00004    3.25  0.15 K2555 332.… │\n",
       "│ 00005    6.98  0.15 K2555  86.… │\n",
       "│ …                               │\n",
       "│ K21A03L 20.1   0.15 K2116  92.… │\n",
       "│ K21A03O 19.8   0.15 K2116  84.… │\n",
       "│ K21C09X 21.9   0.15 K211Q 353.… │\n",
       "│ K21C16A 20.3   0.15 K212F 177.… │\n",
       "│ K21F03B 20.3   0.15 K2137 356.… │\n",
       "└─────────────────────────────────┘"
      ]
     },
     "execution_count": 8,
     "metadata": {},
     "output_type": "execute_result"
    }
   ],
   "source": [
    "pl.read_csv('mpcorb.txt', separator='\\t', skip_lines=43, has_header=False)"
   ]
  },
  {
   "cell_type": "code",
   "execution_count": null,
   "id": "7bf1d6df-9953-4fa8-aa17-e3f8b75fb521",
   "metadata": {},
   "outputs": [],
   "source": []
  }
 ],
 "metadata": {
  "kernelspec": {
   "display_name": "Python 3 (ipykernel)",
   "language": "python",
   "name": "python3"
  },
  "language_info": {
   "codemirror_mode": {
    "name": "ipython",
    "version": 3
   },
   "file_extension": ".py",
   "mimetype": "text/x-python",
   "name": "python",
   "nbconvert_exporter": "python",
   "pygments_lexer": "ipython3",
   "version": "3.13.3"
  }
 },
 "nbformat": 4,
 "nbformat_minor": 5
}
