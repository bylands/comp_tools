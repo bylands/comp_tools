{
 "cells": [
  {
   "cell_type": "markdown",
   "id": "707641d9",
   "metadata": {},
   "source": [
    "# Maximum Power Transfer\n",
    "Investigate the power transferred from a battery to a load resistor with the battery's internal resistance taken into account."
   ]
  },
  {
   "cell_type": "markdown",
   "id": "8c8a9f8b",
   "metadata": {},
   "source": [
    "### Theory\n",
    "The power transferred to the load resistor $R$ is\n",
    "$$P_R = V_R \\cdot I = V_0 \\cdot \\frac{R}{R+r} \\cdot \\frac{V_0}{R+r} = \\frac{V_0 \\cdot R}{\\left(R+r\\right)^2}$$\n",
    "where $V_0$ and $r$ are the source voltage and internal resistance of the battery."
   ]
  },
  {
   "cell_type": "markdown",
   "id": "f074647e",
   "metadata": {},
   "source": [
    "### Qualitative behaviour\n",
    "The power transfer for $R=0$ and for $R\\to\\infty$ is 0, as should be clear from the expression above. It follows that there must be a maximum power transfer $P_\\textrm{max}$ for some load resistance $R_\\textrm{max}$."
   ]
  },
  {
   "cell_type": "markdown",
   "id": "20cd941e",
   "metadata": {},
   "source": [
    "### Numerical analysis\n",
    "For a battery with source voltage 12 V and internal resistance 1.7 $\\Omega$, calculate the power for different values of the load resistor between 0 and 25 $\\Omega$. Graph the power as a function of the load resistance."
   ]
  },
  {
   "cell_type": "code",
   "execution_count": null,
   "id": "dd02ccb2",
   "metadata": {},
   "outputs": [],
   "source": []
  },
  {
   "cell_type": "markdown",
   "id": "07f55f98",
   "metadata": {},
   "source": [
    "#### Maximum power transfer\n",
    "Find numerical approximations for $P_\\textrm{max}$ and $R_\\textrm{max}$."
   ]
  },
  {
   "cell_type": "code",
   "execution_count": null,
   "id": "0216b9c0",
   "metadata": {},
   "outputs": [],
   "source": []
  },
  {
   "cell_type": "markdown",
   "id": "38ac011c",
   "metadata": {},
   "source": [
    "The accuracy of the approximation can be improved by increasing the number of calculated points. As it turns out, the maximum power transfer is achieved if the load resistance equals the internal resistance: $R=r$."
   ]
  },
  {
   "cell_type": "markdown",
   "id": "891773b8",
   "metadata": {},
   "source": [
    "### Formal prove\n",
    "The power transfer has an extremal point at $R_\\textrm{max}$ if the derivative with respect to $R$ vanishes at this point:\n",
    "$$\\frac{\\textrm{d}P_R}{\\textrm{d}R}=0$$\n",
    "Find the derivative with the help of SymPy and use it to find formal expressions for $R_\\textrm{max}$ and $P_\\textrm{max}$."
   ]
  },
  {
   "cell_type": "code",
   "execution_count": null,
   "id": "642591ea",
   "metadata": {},
   "outputs": [],
   "source": []
  },
  {
   "cell_type": "code",
   "execution_count": null,
   "id": "bbd0caff",
   "metadata": {},
   "outputs": [],
   "source": []
  }
 ],
 "metadata": {
  "language_info": {
   "name": "python",
   "pygments_lexer": "ipython3"
  }
 },
 "nbformat": 4,
 "nbformat_minor": 5
}
