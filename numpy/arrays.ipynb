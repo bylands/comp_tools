{
 "cells": [
  {
   "cell_type": "markdown",
   "id": "119c06dd-0f00-4a3e-9716-d82658753776",
   "metadata": {},
   "source": [
    "# NumPy Arrays\n",
    "NumPy ([numpy.org](https://numpy.org/)) is the de facto standard for numerical calculations in Python. It can efficiently perform calculations with large data series, matrices, vectors, etc.\n",
    "\n",
    "This notebook provides an overview of *arrays*, the fundamental data structure used in NumPy. Arrays are similar to lists in Python. Each value in an array has to be of the same type, usually a numerical type like float or integer. Arrays allow for very fast calculations, even if the number of values becomes very large."
   ]
  },
  {
   "cell_type": "markdown",
   "id": "0bb68247-ef0c-4249-9cbb-638988df0a45",
   "metadata": {},
   "source": [
    "### Import NumPy"
   ]
  },
  {
   "cell_type": "code",
   "execution_count": null,
   "id": "d43296ab-1375-48ee-a2d4-7fa69f4ab8f0",
   "metadata": {},
   "outputs": [],
   "source": [
    "import numpy as np"
   ]
  },
  {
   "cell_type": "markdown",
   "id": "082c7b97-a893-4649-be22-dff3c3629ee9",
   "metadata": {},
   "source": [
    "### Create numpy arrays\n",
    "There is a variety of ways how an array can be created."
   ]
  },
  {
   "cell_type": "code",
   "execution_count": null,
   "id": "1352184e-7357-442d-b648-9de0c89b35bf",
   "metadata": {},
   "outputs": [],
   "source": [
    "# create array from list\n",
    "a_list = [3, 1, 4, 1, 5]\n",
    "a = np.array(a_list)\n",
    "print(f'{a = }')\n",
    "\n",
    "# read array from csv file\n",
    "b = np.loadtxt('data/data.csv', delimiter=',')\n",
    "print(f'{b = }')\n",
    "\n",
    "# create array with zeros\n",
    "e = np.zeros(10)\n",
    "print(f'{e = }')\n",
    "\n",
    "# create array with arbitrary value\n",
    "v = np.ones(10) * 5.3\n",
    "print(f'{v = }')\n",
    "\n",
    "# create range of values (with start value and step size, similar to range)\n",
    "r = np.arange(10, 15.5, .5)\n",
    "print(f'{r = }')\n",
    "\n",
    "# create evenly spaced values between min and max value\n",
    "x = np.linspace(100, 200, 11)\n",
    "print(f'{x = }')"
   ]
  },
  {
   "cell_type": "markdown",
   "id": "3d0a39b1-7aac-4525-a914-bf5b24089195",
   "metadata": {},
   "source": [
    "### Slicing arrays\n",
    "Slicing can be used to extract a part of an array. This is very similar to slicing of lists in Python."
   ]
  },
  {
   "cell_type": "code",
   "execution_count": null,
   "id": "6ac03b72-f612-4af4-ab6e-9244bdfdf7bd",
   "metadata": {},
   "outputs": [],
   "source": [
    "a[2] # access element with index 2 (first element has index 0)"
   ]
  },
  {
   "cell_type": "code",
   "execution_count": null,
   "id": "9ed7a2c9-f818-43bf-ad1e-5eccb6d71e05",
   "metadata": {},
   "outputs": [],
   "source": [
    "a[-2] # access second to last element"
   ]
  },
  {
   "cell_type": "code",
   "execution_count": null,
   "id": "a195f4c5-6fa3-4332-bc88-3e7e914d7a20",
   "metadata": {},
   "outputs": [],
   "source": [
    "a[1:4] # subarray from index 1 to index 3 (upper boundary excluded)"
   ]
  },
  {
   "cell_type": "markdown",
   "id": "c70f41e6",
   "metadata": {},
   "source": [
    "### Boolean Indexing\n",
    "\n",
    "You can use a boolean array to select elements from another array. The boolean array must have the same shape as the array you're indexing."
   ]
  },
  {
   "cell_type": "code",
   "execution_count": null,
   "id": "4b233013",
   "metadata": {},
   "outputs": [],
   "source": [
    "a = np.array([[1, 2], [3, 4], [5, 6]])\n",
    "bool_idx = a > 2\n",
    "print(bool_idx)\n",
    "print(a[bool_idx])"
   ]
  },
  {
   "cell_type": "markdown",
   "id": "967c1067",
   "metadata": {},
   "source": [
    "### Fancy Indexing\n",
    "\n",
    "Fancy indexing is indexing that uses an array of indices to access multiple array elements at once."
   ]
  },
  {
   "cell_type": "code",
   "execution_count": null,
   "id": "8bf3e0f5",
   "metadata": {},
   "outputs": [],
   "source": [
    "a = np.array([10, 20, 30, 40, 50, 60, 70])\n",
    "indices = [1, 3, 5]\n",
    "print(a[indices])"
   ]
  },
  {
   "cell_type": "markdown",
   "id": "3978ee70-1a20-4e6a-819b-8b8890ea2709",
   "metadata": {},
   "source": [
    "### Calculate with arrays"
   ]
  },
  {
   "cell_type": "code",
   "execution_count": null,
   "id": "c494e81c-3802-45c9-aecc-fac58f91207b",
   "metadata": {},
   "outputs": [],
   "source": [
    "a**2 # operations are calculated element wise"
   ]
  },
  {
   "cell_type": "code",
   "execution_count": null,
   "id": "0dbe080a-2e03-43b9-b435-5d5846dceef3",
   "metadata": {},
   "outputs": [],
   "source": [
    "np.sqrt(x) # numpy provides many mathematical functions"
   ]
  },
  {
   "cell_type": "code",
   "execution_count": null,
   "id": "8218f515-0290-4346-abb5-0af86babfb38",
   "metadata": {},
   "outputs": [],
   "source": [
    "r * x # calculations with arrays of same length"
   ]
  },
  {
   "cell_type": "code",
   "execution_count": null,
   "id": "26369530-af91-400c-826f-f70e9bde7315",
   "metadata": {},
   "outputs": [],
   "source": [
    "np.sum(b) # sum of all elements in array"
   ]
  },
  {
   "cell_type": "code",
   "execution_count": null,
   "id": "5c903b2e-3aad-4c4a-bcfc-c55e5b4ef3d9",
   "metadata": {},
   "outputs": [],
   "source": [
    "np.mean(b) # mean value"
   ]
  },
  {
   "cell_type": "markdown",
   "id": "7386b043",
   "metadata": {},
   "source": [
    "### Speed comparison between NumPy arrays and lists"
   ]
  },
  {
   "cell_type": "code",
   "execution_count": null,
   "id": "120f063f",
   "metadata": {},
   "outputs": [],
   "source": [
    "%%timeit\n",
    "\n",
    "# create a large array and sum its elements\n",
    "large_array = np.arange(1_000_000)\n",
    "\n",
    "np.sum(large_array)"
   ]
  },
  {
   "cell_type": "code",
   "execution_count": null,
   "id": "1468f4fd",
   "metadata": {},
   "outputs": [],
   "source": [
    "%%timeit\n",
    "\n",
    "# create a large list and sum its elements\n",
    "large_list = range(1_000_000)\n",
    "sum(large_list)"
   ]
  },
  {
   "cell_type": "markdown",
   "id": "85d51981",
   "metadata": {},
   "source": [
    "## Example: Free fall\n",
    "\n",
    "Perform some calculations for a free-fall motion."
   ]
  },
  {
   "cell_type": "code",
   "execution_count": null,
   "id": "41981c25",
   "metadata": {},
   "outputs": [],
   "source": [
    "g = 10 # define gravitational acceleration in m/s^2\n",
    "\n",
    "t = np.arange(0, 1, 0.1) # time array\n",
    "s = 0.5 * g * t**2 # calculate distance for free fall\n",
    "\n",
    "ds = np.diff(s) # calculate distance difference between time steps\n",
    "print(f'{ds = }') # as expected, the distance difference is linearly increasing\n",
    "\n",
    "dds = np.diff(ds) # calculate second difference\n",
    "print(f'{dds = }') # as expected, the second difference is constant (equal to g dt^2)"
   ]
  },
  {
   "cell_type": "markdown",
   "id": "6aba77df-4457-4542-aa2b-152c529bdc1f",
   "metadata": {},
   "source": [
    "## Example: Temperature data\n",
    "Perform some simple calculations based on temperature data. You may want to compare the data for 2024 with the data for 1924 in the same folder."
   ]
  },
  {
   "cell_type": "code",
   "execution_count": null,
   "id": "06216556-011e-44cf-b8d9-930f0ac6b9c1",
   "metadata": {},
   "outputs": [],
   "source": [
    "path = 'data/zrh_temp_2024.csv' # file containing daily average temperatures for 2024\n",
    "temperature = np.loadtxt(path, skiprows=1) # create array from textfile, skip header"
   ]
  },
  {
   "cell_type": "code",
   "execution_count": null,
   "id": "9db17ad8-f5a0-4fe4-9d43-1b43de1ff482",
   "metadata": {},
   "outputs": [],
   "source": [
    "n = len(temperature) # number of entries\n",
    "t_min = np.min(temperature)\n",
    "t_max = np.max(temperature)\n",
    "t_mean = np.mean(temperature)\n",
    "t_std = np.std(temperature)\n",
    "\n",
    "print(f'number of data points: {n}')\n",
    "print(f'minimum temperature: {t_min}°C')\n",
    "print(f'maximum temperature: {t_max}°C')\n",
    "print(f'yearly mean temperature: {t_mean:.2f}°C')\n",
    "print(f'standard deviation: {t_std:.2f}°C')"
   ]
  }
 ],
 "control_port": 51827,
 "hb_port": 51831,
 "iopub_port": 51829,
 "ip": "127.0.0.1",
 "kernel_name": "",
 "key": "aa518f36-ca0f519644c144ee777c03f3",
 "metadata": {
  "language_info": {
   "name": "python",
   "pygments_lexer": "ipython3"
  }
 },
 "nbformat": 4,
 "nbformat_minor": 5,
 "shell_port": 51825,
 "signature_scheme": "hmac-sha256",
 "stdin_port": 51826,
 "transport": "tcp"
}
