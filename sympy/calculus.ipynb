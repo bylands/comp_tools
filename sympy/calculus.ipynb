{
 "cells": [
  {
   "cell_type": "markdown",
   "id": "119c06dd-0f00-4a3e-9716-d82658753776",
   "metadata": {},
   "source": [
    "# Calculus (Symbolic)\n",
    "*SymPy* contains methods to analytically determine derivatives and integrals of functions."
   ]
  },
  {
   "cell_type": "code",
   "execution_count": null,
   "id": "1352184e-7357-442d-b648-9de0c89b35bf",
   "metadata": {},
   "outputs": [],
   "source": [
    "import sympy as sp"
   ]
  },
  {
   "cell_type": "markdown",
   "id": "3d0a39b1-7aac-4525-a914-bf5b24089195",
   "metadata": {},
   "source": [
    "## Derivatives\n",
    "The *diff* function can be used to take derivates of functions."
   ]
  },
  {
   "cell_type": "code",
   "execution_count": null,
   "id": "7d0bcfbe-814f-4b05-969d-2d404e558124",
   "metadata": {},
   "outputs": [],
   "source": [
    "x = sp.Symbol('x')\n",
    "f = sp.cos(x) + sp.tan(x)\n",
    "df = sp.diff(f, x)\n",
    "display(f, df)"
   ]
  },
  {
   "cell_type": "code",
   "execution_count": null,
   "id": "6a54565c-0a73-4c59-b8c8-30961586d0c8",
   "metadata": {},
   "outputs": [],
   "source": [
    "g = x**2+3*x-1\n",
    "dg = sp.diff(g, x)\n",
    "display(g, dg)"
   ]
  },
  {
   "cell_type": "code",
   "execution_count": null,
   "id": "87fdcd5b-fb14-4a4b-9f8a-b6cf8bc5f2d8",
   "metadata": {},
   "outputs": [],
   "source": [
    "h = sp.exp(-x**2/2)\n",
    "dh = sp.diff(h, x)\n",
    "display(h, dh)"
   ]
  },
  {
   "cell_type": "markdown",
   "id": "8747b04d-5125-4cd8-b215-b06d95316147",
   "metadata": {},
   "source": [
    "## Indefinite integrals\n",
    "Indefinite integrals can be computed with the *integrate* function. The additive constant is not shown in the output."
   ]
  },
  {
   "cell_type": "code",
   "execution_count": null,
   "id": "286221e9-ac6d-4032-9e07-9ae15683c0b2",
   "metadata": {},
   "outputs": [],
   "source": [
    "sp.integrate(sp.sin(x), x)"
   ]
  },
  {
   "cell_type": "code",
   "execution_count": null,
   "id": "dccc8b54-45ce-4bb7-b158-2d7d7cf72cdf",
   "metadata": {},
   "outputs": [],
   "source": [
    "f = sp.log(x)\n",
    "sp.integrate(f, x)"
   ]
  },
  {
   "cell_type": "markdown",
   "id": "70326e5b-e037-457a-9705-7414f5930ff8",
   "metadata": {},
   "source": [
    "## Definite Integrals\n",
    "For definite integrals, the lower and upper boundary are passed to the *integrate* function as additional parameters."
   ]
  },
  {
   "cell_type": "code",
   "execution_count": null,
   "id": "a39d6c57-238e-44c4-aeb6-c2b53081b920",
   "metadata": {},
   "outputs": [],
   "source": [
    "sp.integrate(sp.cos(x)**2, (x, 0, 2*sp.pi))"
   ]
  },
  {
   "cell_type": "code",
   "execution_count": null,
   "id": "c281e031-25b1-47e0-ae29-bde4ba98ccc8",
   "metadata": {},
   "outputs": [],
   "source": [
    "f = sp.exp(-x**2) # Gaussian function\n",
    "sp.integrate(f, (x, 0, sp.oo)) # upper limit is infinity"
   ]
  }
 ],
 "metadata": {
  "language_info": {
   "name": "python",
   "pygments_lexer": "ipython3"
  }
 },
 "nbformat": 4,
 "nbformat_minor": 5
}
