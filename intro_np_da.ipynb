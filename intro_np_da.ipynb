{
 "cells": [
  {
   "cell_type": "markdown",
   "id": "119c06dd-0f00-4a3e-9716-d82658753776",
   "metadata": {},
   "source": [
    "# Introduction to NumPy for Analysing Lab Data"
   ]
  },
  {
   "cell_type": "markdown",
   "id": "0bb68247-ef0c-4249-9cbb-638988df0a45",
   "metadata": {},
   "source": [
    "### Import Libraries"
   ]
  },
  {
   "cell_type": "code",
   "execution_count": 1,
   "id": "d43296ab-1375-48ee-a2d4-7fa69f4ab8f0",
   "metadata": {},
   "outputs": [],
   "source": [
    "import numpy as np"
   ]
  },
  {
   "cell_type": "markdown",
   "id": "aa8cb6d3-e365-4e40-b2cc-017c8962c46c",
   "metadata": {},
   "source": [
    "## Example: Measuring density\n",
    "Six students measure mass and side of the same brass cube. They end up with slightly different values. The measured data is listed below. How can we efficiently calculate the densities resulting from this data?"
   ]
  },
  {
   "cell_type": "markdown",
   "id": "294f5e65-d2bc-4826-a721-385631285a17",
   "metadata": {},
   "source": [
    "#### Define arrays for measured data"
   ]
  },
  {
   "cell_type": "code",
   "execution_count": 2,
   "id": "c3b89083-fe08-4b61-bccc-c37cdd1d8d30",
   "metadata": {},
   "outputs": [],
   "source": [
    "m = np.array([69.3, 69.1, 69.0, 69.0, 69.2, 69.2]) # mass in g\n",
    "a = np.array([2.05, 2.00, 2.05, 1.95, 2.00, 2.00]) # side in cm"
   ]
  },
  {
   "cell_type": "markdown",
   "id": "bbf89c94-cc9e-4194-93c9-fe2f5e8a3990",
   "metadata": {},
   "source": [
    "#### Find some characteristic values"
   ]
  },
  {
   "cell_type": "code",
   "execution_count": 3,
   "id": "fd570a23-e817-49fb-854c-2cc9aa5d4641",
   "metadata": {},
   "outputs": [
    {
     "name": "stdout",
     "output_type": "stream",
     "text": [
      "max: 69.3 g, min: 69.0 g, mean: 69.13 g\n"
     ]
    }
   ],
   "source": [
    "m_max = np.max(m)\n",
    "m_min = np.min(m)\n",
    "m_mean = np.mean(m)\n",
    "print(f'max: {m_max} g, min: {m_min} g, mean: {m_mean:.2f} g')"
   ]
  },
  {
   "cell_type": "markdown",
   "id": "2526a1a5-397e-49f4-8a0d-ad305f39a354",
   "metadata": {},
   "source": [
    "Many more funcitons can be found in the documentation for NumPy. In particular, most standard functions can be applied to the elements of an array."
   ]
  },
  {
   "cell_type": "markdown",
   "id": "8d95b5c1-415d-4223-b0f5-2e44226dea3a",
   "metadata": {},
   "source": [
    "#### Calculate volumes and densities"
   ]
  },
  {
   "cell_type": "code",
   "execution_count": 4,
   "id": "025036f5-1ff8-47da-91ad-0d662bf5e11f",
   "metadata": {},
   "outputs": [
    {
     "name": "stdout",
     "output_type": "stream",
     "text": [
      "densities: [8.0439924  8.6375     8.00916992 9.30561877 8.65       8.65      ]\n"
     ]
    }
   ],
   "source": [
    "V = a**3\n",
    "rh = m/V\n",
    "print(f'densities: {rh}')"
   ]
  },
  {
   "cell_type": "markdown",
   "id": "fe440856-a2f1-44c3-99ff-a96e947e82cc",
   "metadata": {},
   "source": [
    "#### Mean value and deviations"
   ]
  },
  {
   "cell_type": "code",
   "execution_count": 5,
   "id": "22bba13f-7162-4224-82aa-d211854f4b5c",
   "metadata": {},
   "outputs": [
    {
     "name": "stdout",
     "output_type": "stream",
     "text": [
      "mean density: 8.5 g/cm^3\n",
      "deviation max-mean: 0.8 g/cm^3\n",
      "deviation min-mean: 0.5 g/cm^3\n"
     ]
    }
   ],
   "source": [
    "rh_mean = np.mean(rh)\n",
    "rh_dev_max = np.max(rh)-rh_mean\n",
    "rh_dev_min = rh_mean-np.min(rh)\n",
    "print(f'mean density: {rh_mean:.1f} g/cm^3')\n",
    "print(f'deviation max-mean: {rh_dev_max:.1f} g/cm^3')\n",
    "print(f'deviation min-mean: {rh_dev_min:.1f} g/cm^3')"
   ]
  },
  {
   "cell_type": "markdown",
   "id": "987d474a-f64e-4ac3-92d6-7d15d214faef",
   "metadata": {},
   "source": [
    "### Error calculation"
   ]
  },
  {
   "cell_type": "markdown",
   "id": "07ccdf77-381f-461e-9c44-38676490ba36",
   "metadata": {},
   "source": [
    "All students measured the same quantities on the same cube. In this case we make an estimate for the measurement errors for mass and side length based on the deviations between the different students."
   ]
  },
  {
   "cell_type": "code",
   "execution_count": 6,
   "id": "6d24600c-9a18-490f-9f8b-eed5ddd8ffea",
   "metadata": {},
   "outputs": [],
   "source": [
    "dm = 0.2 # error for mass in g\n",
    "da = 0.05 # error for side in cm"
   ]
  },
  {
   "cell_type": "markdown",
   "id": "b6c1790d-4173-4b46-ac3b-452378e98894",
   "metadata": {},
   "source": [
    "The error for the density can be found using the \"worst case method\"."
   ]
  },
  {
   "cell_type": "code",
   "execution_count": 9,
   "id": "12a328c5-1c16-41f8-9a81-69414836c6c5",
   "metadata": {},
   "outputs": [],
   "source": [
    "rh = m_mean/np.mean(a)**3 # mean density (based on mean mass and mean side)\n",
    "rh_max = (m_mean+dm)/(np.mean(a)-da)**3 # max density (based on max mass and min side)\n",
    "drh = rh_max - rh # error"
   ]
  },
  {
   "cell_type": "code",
   "execution_count": 8,
   "id": "8ed2ab1d-3358-43a3-b613-81f3aa71a1af",
   "metadata": {},
   "outputs": [
    {
     "name": "stdout",
     "output_type": "stream",
     "text": [
      "density: (8.5 ± 0.7) g/cm^3\n"
     ]
    }
   ],
   "source": [
    "print(f'density: ({rh:.1f} ± {drh:.1f}) g/cm^3')"
   ]
  },
  {
   "cell_type": "code",
   "execution_count": null,
   "id": "ee614982-e817-4fcb-8439-73e6f13a3430",
   "metadata": {},
   "outputs": [],
   "source": []
  }
 ],
 "metadata": {
  "kernelspec": {
   "display_name": "Python 3 (ipykernel)",
   "language": "python",
   "name": "python3"
  },
  "language_info": {
   "codemirror_mode": {
    "name": "ipython",
    "version": 3
   },
   "file_extension": ".py",
   "mimetype": "text/x-python",
   "name": "python",
   "nbconvert_exporter": "python",
   "pygments_lexer": "ipython3",
   "version": "3.13.3"
  }
 },
 "nbformat": 4,
 "nbformat_minor": 5
}
