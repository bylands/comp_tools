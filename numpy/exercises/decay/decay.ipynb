{
 "cells": [
  {
   "cell_type": "markdown",
   "metadata": {},
   "source": [
    "# Exercise: Simulating Radioactive Decay\n",
    "\n",
    "Radioactive decay is a process where an unstable atomic nucleus loses energy by radiation. This process is fundamentally probabilistic. For a single unstable nucleus, we can only know the *probability* that it will decay in a given time interval; we can never know for sure *when* it will decay.\n",
    "\n",
    "In this exercise, we will use `numpy.random` to simulate the decay of a large sample of radioactive nuclei."
   ]
  },
  {
   "cell_type": "markdown",
   "metadata": {},
   "source": [
    "## Decay law\n",
    "\n",
    "The probability $p$ that a single nucleus will decay in a small time interval $dt$ is given by:\n",
    "\n",
    "$$p = \\lambda \\cdot dt$$\n",
    "\n",
    "where $\\lambda$ is the decay constant. The number of nuclei $N$ at a time $t$ is described by the equation:\n",
    "\n",
    "$$N(t) = N_0 e^{-\\lambda t}$$\n",
    "\n",
    "where $N_0$ is the initial number of nuclei."
   ]
  },
  {
   "cell_type": "code",
   "execution_count": null,
   "metadata": {},
   "outputs": [],
   "source": [
    "import matplotlib.pyplot as plt\n",
    "import numpy as np\n"
   ]
  },
  {
   "cell_type": "markdown",
   "metadata": {},
   "source": [
    "### Set up the simulation parameters\n",
    "\n",
    "Define the initial number of nuclei $N_0$, the decay constant $\\lambda$, the total simulation time $T$, and the time step $dt$."
   ]
  },
  {
   "cell_type": "code",
   "execution_count": null,
   "metadata": {},
   "outputs": [],
   "source": [
    "N0 = 10000  # Initial number of nuclei\n",
    "lmbda = 0.01  # Decay constant (in 1/s)\n",
    "T = 100  # Total simulation time (in s)\n",
    "dt = 1  # Time step (in s)\n",
    "n_steps = int(T / dt)"
   ]
  },
  {
   "cell_type": "markdown",
   "metadata": {},
   "source": [
    "### Run the simulation\n",
    "\n",
    "Create an array to store the number of surviving nuclei at each time step. Then, loop through the time steps and simulate the decay process."
   ]
  },
  {
   "cell_type": "code",
   "execution_count": null,
   "metadata": {},
   "outputs": [],
   "source": [
    "N = np.zeros(n_steps + 1)\n",
    "N[0] = N0\n",
    "nuclei = np.ones(N0, dtype=bool)\n",
    "\n",
    "for i in range(n_steps):\n",
    "    decay_probability = lmbda * dt\n",
    "    surviving_indices = np.where(nuclei)[0]\n",
    "    random_for_survivors = np.random.rand(len(surviving_indices))\n",
    "    decay_mask = random_for_survivors < decay_probability\n",
    "    indices_to_decay = surviving_indices[decay_mask]\n",
    "    nuclei[indices_to_decay] = False\n",
    "    N[i+1] = np.sum(nuclei)"
   ]
  },
  {
   "cell_type": "markdown",
   "metadata": {},
   "source": [
    "### Plot the results\n",
    "\n",
    "Plot the simulated number of nuclei over time. For comparison, also plot the theoretical decay curve."
   ]
  },
  {
   "cell_type": "code",
   "execution_count": null,
   "metadata": {},
   "outputs": [],
   "source": [
    "t = np.arange(0, T + dt, dt)\n",
    "plt.plot(t, N, 'o', markersize=4, label='Simulated')\n",
    "N_theoretical = N0 * np.exp(-lmbda * t)\n",
    "plt.plot(t, N_theoretical, 'r-', label='Theoretical')\n",
    "plt.xlabel('Time (s)')\n",
    "plt.ylabel('Number of Nuclei')\n",
    "plt.title('Radioactive Decay Simulation')\n",
    "plt.legend()\n",
    "plt.grid(True)\n",
    "plt.show()"
   ]
  },
  {
   "cell_type": "code",
   "execution_count": null,
   "metadata": {},
   "outputs": [],
   "source": []
  }
 ],
 "metadata": {
  "language_info": {
   "name": "python",
   "pygments_lexer": "ipython3"
  }
 },
 "nbformat": 4,
 "nbformat_minor": 2
}
