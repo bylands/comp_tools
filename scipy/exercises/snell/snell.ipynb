{
 "cells": [
  {
   "cell_type": "markdown",
   "id": "609a54aa-c88a-40e5-9f32-ff10645eef75",
   "metadata": {},
   "source": [
    "## Snell's law\n",
    "The following data was measured by two students for the refraction of light going from air to acrylic glass. The first array contains the angles for the incoming lightrays, the second array the corresponding angles for the refracted rays. All angles were measured in degrees."
   ]
  },
  {
   "cell_type": "code",
   "execution_count": null,
   "id": "624e75ec-bb4f-4c75-b9a0-b80434e7f794",
   "metadata": {},
   "outputs": [],
   "source": [
    "import numpy as np\n",
    "\n",
    "al = np.arange(6, 90, 6)\n",
    "be = np.array([3, 8, 11, 16, 20, 23, 26.5, 30, 33, 35.5, 38, 40, 41, 42])"
   ]
  },
  {
   "cell_type": "markdown",
   "id": "8cc1b517-096f-4f7f-ae39-92c0495a8964",
   "metadata": {},
   "source": [
    "### Method 1\n",
    "Convert the angles to radians and add arrays for the sine of the angles. Assuming a measurement error of 0.5°, determine the errors of the sine values."
   ]
  },
  {
   "cell_type": "code",
   "execution_count": null,
   "id": "73fc652e-e920-4acf-b885-027cf21a8817",
   "metadata": {},
   "outputs": [],
   "source": []
  },
  {
   "cell_type": "markdown",
   "id": "3bb590d4-0165-4e88-a39b-793e8d672373",
   "metadata": {},
   "source": [
    "Graph the sine of the incoming angle vs. the sine of the refractive angle (with error bars). Fit a straight line through the origin to the data and determine its slope (including statistical error), which corresponds to the refractive index."
   ]
  },
  {
   "cell_type": "code",
   "execution_count": null,
   "id": "fb7c3960-8dd5-47e3-ab81-3d3f345cb8ca",
   "metadata": {},
   "outputs": [],
   "source": []
  },
  {
   "cell_type": "markdown",
   "id": "994594e9-9d4c-4e0b-a68a-77a453e1dec4",
   "metadata": {},
   "source": [
    "### Method 2\n",
    "Alternatively, the value for the refractive index can be determined by graphing the angles directly and then fitting a more complicated function: \\\n",
    "$\\sin(\\alpha) = n \\sin(\\beta) \\Longrightarrow \\alpha = \\arcsin\\left(n \\sin(\\beta)\\right)$"
   ]
  },
  {
   "cell_type": "code",
   "execution_count": null,
   "id": "68b588fe-48a0-404a-8e8e-13c5e6de8aa4",
   "metadata": {},
   "outputs": [],
   "source": []
  },
  {
   "cell_type": "markdown",
   "id": "37780d1a-3041-4afc-b0fa-30f4f4f9f05b",
   "metadata": {},
   "source": [
    "### Residual Plots\n",
    "Create the residual plots for both curve fits."
   ]
  },
  {
   "cell_type": "code",
   "execution_count": null,
   "id": "ca548e31-6778-409c-97d3-b33bb7649785",
   "metadata": {},
   "outputs": [],
   "source": []
  },
  {
   "cell_type": "code",
   "execution_count": null,
   "id": "0cf7e86f-ee6e-46f8-9864-0992e8cd7a5e",
   "metadata": {},
   "outputs": [],
   "source": []
  }
 ],
 "metadata": {
  "language_info": {
   "name": "python",
   "pygments_lexer": "ipython3"
  }
 },
 "nbformat": 4,
 "nbformat_minor": 5
}
