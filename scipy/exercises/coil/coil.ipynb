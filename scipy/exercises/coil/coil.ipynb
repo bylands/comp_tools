{
 "cells": [
  {
   "cell_type": "markdown",
   "id": "609a54aa-c88a-40e5-9f32-ff10645eef75",
   "metadata": {},
   "source": [
    "## Magnetic Coil\n",
    "Five electromagnets consist of coils with the same dimensions (length and diameter), but have different numbers of turns. The strength of the magnetic field at the centre of the coils is measured for a current of (1.00 ± 0.01) A. The uncertainty for the magnetic field strength is 0.005 mT"
   ]
  },
  {
   "cell_type": "code",
   "execution_count": null,
   "id": "624e75ec-bb4f-4c75-b9a0-b80434e7f794",
   "metadata": {},
   "outputs": [],
   "source": []
  },
  {
   "cell_type": "markdown",
   "id": "38898631-fa81-4da3-94c0-eb2e826748a3",
   "metadata": {},
   "source": [
    "The theoretical value for the magnetic field at the centre of the coil is:\n",
    "\n",
    "$B = \\mu_0\\frac{N I}{\\sqrt{L^2 + d^2}}$\n",
    "\n",
    "where $L$ is the length and $d$ the diameter of the coil.\n",
    "\n",
    "Using the measured data, verify if the magnetic field is proportional to the number of turns and determine the fit parameter."
   ]
  },
  {
   "cell_type": "code",
   "execution_count": null,
   "id": "1c97be44-3a76-416b-b8b9-4cb40e4d03da",
   "metadata": {},
   "outputs": [],
   "source": []
  },
  {
   "cell_type": "markdown",
   "id": "bd44bea2-03dc-4823-bd88-4e5ba9f8627c",
   "metadata": {},
   "source": [
    "The length of the coils is (60 ± 1) mm and the diameter (56 ± 1) mm. Calculate the expected ratio B/N and compare it to the fit parameter."
   ]
  },
  {
   "cell_type": "code",
   "execution_count": null,
   "id": "ac594eba-ec9f-44f7-9c94-f5a7c5c82cc6",
   "metadata": {},
   "outputs": [],
   "source": []
  }
 ],
 "metadata": {
  "language_info": {
   "name": "python",
   "pygments_lexer": "ipython3"
  }
 },
 "nbformat": 4,
 "nbformat_minor": 5
}
