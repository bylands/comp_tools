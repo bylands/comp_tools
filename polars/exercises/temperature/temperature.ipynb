{
 "cells": [
  {
   "cell_type": "markdown",
   "id": "609a54aa-c88a-40e5-9f32-ff10645eef75",
   "metadata": {},
   "source": [
    "## Mean Temperature in Zurich\n",
    "The weather station in Zurich Fluntern has been recording temperature data since 1864."
   ]
  },
  {
   "cell_type": "markdown",
   "id": "28fcbd74-4b4b-4fdf-a50f-7d3c51bbdcc8",
   "metadata": {},
   "source": [
    "#### Import Data\n",
    "The file *sma_zrh_historical.csv* contains daily mean temperatures."
   ]
  },
  {
   "cell_type": "code",
   "execution_count": null,
   "id": "624e75ec-bb4f-4c75-b9a0-b80434e7f794",
   "metadata": {},
   "outputs": [],
   "source": [
    "import polars as pl\n",
    "\n",
    "df = pl.read_csv('https://data.geo.admin.ch/ch.meteoschweiz.ogd-smn/sma/ogd-smn_sma_d_historical.csv', separator=';')"
   ]
  },
  {
   "cell_type": "markdown",
   "id": "b13ad06e-357e-4f0a-92db-df6dac05abe5",
   "metadata": {},
   "source": [
    "#### Preparing the data\n",
    "We are only interested in the date (column 'reference_timestamp') and the daily mean temperature ('tre200d0'). Create a dataframe with only these two columns, and at the same time change the datatype of the date column and change the column names to something more meaningful."
   ]
  },
  {
   "cell_type": "code",
   "execution_count": null,
   "id": "1c97be44-3a76-416b-b8b9-4cb40e4d03da",
   "metadata": {},
   "outputs": [],
   "source": []
  },
  {
   "cell_type": "markdown",
   "id": "e4d24ae8-4f1d-426d-9d85-9bfb6a0b0137",
   "metadata": {},
   "source": [
    "#### Calculate yearly means and graph data\n",
    "Calculate the yearly means using Polars' *group_by_dynamic* method. Graph the yearly mean as a function of time."
   ]
  },
  {
   "cell_type": "code",
   "execution_count": null,
   "id": "b29bd1c8-648c-4fdd-befc-60d3f9d8a772",
   "metadata": {},
   "outputs": [],
   "source": []
  },
  {
   "cell_type": "markdown",
   "id": "5afd1757-b6d0-4b4e-a4a0-36cb69a9878b",
   "metadata": {},
   "source": [
    "#### Rolling Average\n",
    "To reduce the effect of yearly fluctuations, we can use a *rolling average*. Polars provides the methode *rolling()* to calculate the rolling average over a given window."
   ]
  },
  {
   "cell_type": "code",
   "execution_count": null,
   "id": "057e2698-1379-49a7-81d1-daf8173a800b",
   "metadata": {},
   "outputs": [],
   "source": []
  },
  {
   "cell_type": "markdown",
   "id": "144b3e2a-fbee-46c9-a0cf-6f209bca6f51",
   "metadata": {},
   "source": [
    "## Rainfall in Zurich\n",
    "Additionally we can analyse if precipitation (column 'rre150d0') has also changed over the years."
   ]
  },
  {
   "cell_type": "code",
   "execution_count": null,
   "id": "9f2f7eaf-8930-43d1-9cec-873a623eb260",
   "metadata": {},
   "outputs": [],
   "source": []
  }
 ],
 "metadata": {
  "language_info": {
   "name": "python",
   "pygments_lexer": "ipython3"
  }
 },
 "nbformat": 4,
 "nbformat_minor": 5
}
