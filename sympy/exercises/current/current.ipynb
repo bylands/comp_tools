{
 "cells": [
  {
   "cell_type": "markdown",
   "id": "119c06dd-0f00-4a3e-9716-d82658753776",
   "metadata": {},
   "source": [
    "# Current in a Capacitor Circuit\n",
    "When a capacitor (see later) is charged on a voltage $V_0$ through a resistor $R$, the charge stored in the capacitor is given by\n",
    "$$ Q(t) = C \\cdot V_0 \\cdot \\left(1 - e^{-\\frac{t}{\\tau}} \\right) $$\n",
    "\n",
    "where $C$ is the *capacitance* ([$C$] = C/V = F (Farad)), and $\\tau=RC$ is called the *time constant*.\n",
    "\n",
    "Using SymPy to derive the charge with respect to time, find the expression for the current flowing during the charging process. Verify that the expression has the correct units."
   ]
  },
  {
   "cell_type": "markdown",
   "id": "c2996c2a-7ed4-4269-9eac-0dc4fbf9c78b",
   "metadata": {},
   "source": [
    "#### Maximum voltage and current\n",
    "Find formal expressions for the voltage and current as functions of the resistance and the power dissipated in the resistor."
   ]
  },
  {
   "cell_type": "code",
   "execution_count": null,
   "id": "b3289969-6562-4e81-8481-7514db34d607",
   "metadata": {},
   "outputs": [],
   "source": []
  },
  {
   "cell_type": "markdown",
   "id": "d271fa5d",
   "metadata": {},
   "source": [
    "Since $V_0/R$ is a current, the expression has the correct unit if $RC$ has the unit of a time. This can easily be verified, e.g. using Pint."
   ]
  },
  {
   "cell_type": "code",
   "execution_count": null,
   "id": "bce39850-8609-411b-9899-51143619a051",
   "metadata": {},
   "outputs": [],
   "source": []
  },
  {
   "cell_type": "markdown",
   "id": "7cfb704d",
   "metadata": {},
   "source": [
    "### Graph charge and current\n",
    "Graph the charge and current vs time for the following values: $V_0$ = 12 V, $R$ = 1.5 kOhm, $C$ = 330 microF."
   ]
  },
  {
   "cell_type": "code",
   "execution_count": null,
   "id": "d2e96309",
   "metadata": {},
   "outputs": [],
   "source": []
  },
  {
   "cell_type": "code",
   "execution_count": null,
   "id": "8df18914",
   "metadata": {},
   "outputs": [],
   "source": []
  }
 ],
 "metadata": {
  "language_info": {
   "name": "python",
   "pygments_lexer": "ipython3"
  }
 },
 "nbformat": 4,
 "nbformat_minor": 5
}
