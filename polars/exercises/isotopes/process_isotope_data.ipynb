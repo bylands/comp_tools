{
 "cells": [
  {
   "cell_type": "code",
   "execution_count": null,
   "id": "e9684d71-bdc8-4501-8888-6bdae23e539d",
   "metadata": {},
   "outputs": [],
   "source": [
    "import polars as pl"
   ]
  },
  {
   "cell_type": "code",
   "execution_count": null,
   "id": "abb19bd4-eea9-4c9e-a875-aacdb417c5b2",
   "metadata": {},
   "outputs": [],
   "source": [
    "data_dict = {\n",
    "    'Atomic Number': [],\n",
    "    'Atomic Symbol': [],\n",
    "    'Mass Number': [],\n",
    "    'Relative Atomic Mass': [],\n",
    "    'Isotopic Composition': [],\n",
    "    'Standard Atomic Weight': [],\n",
    "    'Notes': []\n",
    "}\n",
    "\n",
    "schema_dict = {\n",
    "    'Atomic Number': pl.UInt8,\n",
    "    'Atomic Symbol': pl.String,\n",
    "    'Mass Number': pl.UInt16,\n",
    "    'Relative Atomic Mass': pl.Float32,\n",
    "    'Isotopic Composition': pl.Float32,\n",
    "    'Standard Atomic Weight': pl.String,\n",
    "    'Notes': pl.String\n",
    "}\n",
    "\n",
    "\n",
    "with open('isotopes.csv') as f:\n",
    "    while (line:=f.readline()):\n",
    "        if (line != '\\n') and ('NIST' not in line):\n",
    "            k, v = line.split(' = ')\n",
    "            data_dict[k].append(v.strip())"
   ]
  },
  {
   "cell_type": "code",
   "execution_count": null,
   "id": "9de636bd-d858-4a91-8055-284552fbdefb",
   "metadata": {},
   "outputs": [],
   "source": [
    "df_import = pl.DataFrame(data_dict)\n",
    "\n",
    "df = df_import.with_columns(\n",
    "    pl.col('Relative Atomic Mass').str.split(by='(').list.first(),\n",
    "    pl.col('Isotopic Composition').str.split(by='(').list.first()\n",
    ").cast(schema_dict, strict=False).drop(['Standard Atomic Weight', 'Notes'])"
   ]
  },
  {
   "cell_type": "code",
   "execution_count": null,
   "id": "e54cbd33-0120-4395-b1c6-48fdc2cfefc4",
   "metadata": {},
   "outputs": [],
   "source": [
    "df.write_parquet('isotopes.parquet')"
   ]
  }
 ],
 "metadata": {
  "language_info": {
   "name": "python",
   "pygments_lexer": "ipython3"
  }
 },
 "nbformat": 4,
 "nbformat_minor": 5
}
