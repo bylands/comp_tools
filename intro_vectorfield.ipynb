{
 "cells": [
  {
   "cell_type": "markdown",
   "id": "119c06dd-0f00-4a3e-9716-d82658753776",
   "metadata": {},
   "source": [
    "# Vector Fields\n",
    "Vector fields are an important concept in physics. Important examples are the gravitational field, electric and magnetic fields.\n",
    "\n",
    "In a vector field, a vector is attached to each point in space."
   ]
  },
  {
   "cell_type": "markdown",
   "id": "0bb68247-ef0c-4249-9cbb-638988df0a45",
   "metadata": {},
   "source": [
    "#### Imports"
   ]
  },
  {
   "cell_type": "code",
   "execution_count": null,
   "id": "d43296ab-1375-48ee-a2d4-7fa69f4ab8f0",
   "metadata": {},
   "outputs": [],
   "source": [
    "import numpy as np\n",
    "import matplotlib.pyplot as plt"
   ]
  },
  {
   "cell_type": "markdown",
   "id": "1d6414d3-49c1-4679-8710-4f7a25be7591",
   "metadata": {},
   "source": [
    "### Meshgrid\n",
    "A *meshgrid* defines the points in space where we want to visualize the vectors."
   ]
  },
  {
   "cell_type": "code",
   "execution_count": null,
   "id": "1352184e-7357-442d-b648-9de0c89b35bf",
   "metadata": {},
   "outputs": [],
   "source": [
    "# create 2D meshgrid\n",
    "x, y = np.meshgrid(np.linspace(-10, 10, 20), np.linspace(-10, 10, 20))\n",
    "\n",
    "# x contains the x coordinates of all 11x11 points, y contains the y coordinates"
   ]
  },
  {
   "cell_type": "markdown",
   "id": "a5c867b7-ddfb-49b1-9f50-33e1b29b5ec2",
   "metadata": {},
   "source": [
    "### Quiver Plot\n",
    "A quiver plot adds a vector to each point of a meshgrid."
   ]
  },
  {
   "cell_type": "code",
   "execution_count": null,
   "id": "b3289969-6562-4e81-8481-7514db34d607",
   "metadata": {},
   "outputs": [],
   "source": [
    "# uniform field in the positive x direction\n",
    "u = 1 # x component of vectors\n",
    "v = 0 # y component of vectors\n",
    "\n",
    "plt.quiver(x, y, u, v)\n",
    "plt.gca().set_aspect('equal')\n",
    "plt.xlabel('x')\n",
    "plt.ylabel('y')\n",
    "plt.show()"
   ]
  },
  {
   "cell_type": "code",
   "execution_count": null,
   "id": "9157f046-e3d8-423a-87b4-a6ddad1904fe",
   "metadata": {},
   "outputs": [],
   "source": [
    "# circular field\n",
    "r = np.sqrt(x**2 + y**2) # distance to origin\n",
    "\n",
    "# initialize u and v with zeros\n",
    "u = np.zeros_like(x, dtype=float)\n",
    "v = np.zeros_like(y, dtype=float)\n",
    "\n",
    "#create a mask for values with r > 2\n",
    "mask = r > 2\n",
    "\n",
    "#calculate vectors for masked points\n",
    "np.divide(y, r**2, out=u, where=mask) # x component of vector; ignore vectors wit r < 3\n",
    "np.divide(-x, r**2, out=v, where=mask) # y component of vector\n",
    "\n",
    "plt.quiver(x, y, u, v)\n",
    "plt.gca().set_aspect('equal')\n",
    "plt.xlabel('x')\n",
    "plt.ylabel('y')\n",
    "plt.show()"
   ]
  },
  {
   "cell_type": "markdown",
   "id": "3d0a39b1-7aac-4525-a914-bf5b24089195",
   "metadata": {},
   "source": [
    "### 3D Vector Fields\n",
    "Vector fields in 3D work in the same way, just with an extra dimension."
   ]
  },
  {
   "cell_type": "code",
   "execution_count": null,
   "id": "7d0bcfbe-814f-4b05-969d-2d404e558124",
   "metadata": {},
   "outputs": [],
   "source": [
    "# define 3D meshgrid\n",
    "x, y, z = np.meshgrid(np.linspace(-10, 10, 10), np.linspace(-10, 10, 10), np.linspace(-10, 10, 11))"
   ]
  },
  {
   "cell_type": "code",
   "execution_count": null,
   "id": "6a54565c-0a73-4c59-b8c8-30961586d0c8",
   "metadata": {},
   "outputs": [],
   "source": [
    "# define vectors\n",
    "u = x\n",
    "v = y\n",
    "w = z\n",
    "\n",
    "ax = plt.figure().add_subplot(projection='3d')\n",
    "\n",
    "ax.quiver(x, y, z, u, v, w, length=0.7, normalize=True) # normalize lengths, i.e. only direction relevant\n",
    "plt.show()"
   ]
  },
  {
   "cell_type": "code",
   "execution_count": null,
   "id": "25fb8512-0c58-473e-8a8b-fbff400a399a",
   "metadata": {},
   "outputs": [],
   "source": []
  }
 ],
 "metadata": {
  "language_info": {
   "name": "python",
   "pygments_lexer": "ipython3"
  }
 },
 "nbformat": 4,
 "nbformat_minor": 5
}
